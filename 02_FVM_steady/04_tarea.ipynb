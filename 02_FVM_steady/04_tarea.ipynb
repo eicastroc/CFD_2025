{
 "cells": [
  {
   "cell_type": "markdown",
   "metadata": {},
   "source": [
    "# Fluidinámica computacional (Sesión 02)"
   ]
  },
  {
   "cell_type": "markdown",
   "metadata": {},
   "source": [
    "\n",
    "<img src=\"figures/LogoCinvestav.png\" style=\"height:100px\" title=\"Cinvestav\">\n"
   ]
  },
  {
   "cell_type": "markdown",
   "metadata": {},
   "source": [
    "**CINVESTAV Unidad Saltillo**\n",
    "\n",
    "**Programa de Maestría en Ciencias en Ingeniería Metalúrgica**\n",
    "\n",
    "Dr. Edgar Ivan Castro Cedeño\n",
    "\n",
    "\n",
    "Enero - Junio 2025\n",
    "\n",
    "Contacto:\n",
    "[edgar.castro@cinvestav.mx](mailto:edgar.castro@cinvestav.mx)"
   ]
  },
  {
   "cell_type": "markdown",
   "metadata": {},
   "source": [
    "# Tarea"
   ]
  },
  {
   "cell_type": "markdown",
   "metadata": {},
   "source": [
    "## Problema 1"
   ]
  },
  {
   "cell_type": "markdown",
   "metadata": {},
   "source": [
    "**Adaptado de:** [[Patankar, 1980]](https://www.taylorfrancis.com/books/mono/10.1201/9781482234213/numerical-heat-transfer-fluid-flow-suhas-patankar) (prob. 3.3)"
   ]
  },
  {
   "cell_type": "markdown",
   "metadata": {},
   "source": [
    "Considere la ecuación de conducción de calor 1D en estado estacionario:\n",
    "\n",
    "$$\\frac{d }{d x} \\left( \\lambda \\frac{dT}{dx} \\right) + S = 0$$\n",
    "\n",
    "Asumiendo que el termino $S$ es constante, pero que $\\lambda$ depende de la posición $x$. Utilice un espacio entre nodos uniforme, de tal forma que\n",
    "\n",
    "$$\\Delta_x = (\\delta x)_e = (\\delta x)_w$$ \n",
    "\n",
    "Derive la discretización de la ecuación de conducción de calor, reescribiéndola como:\n",
    "\n",
    "$$\\lambda \\frac{d^2 T}{d x^2} + \\frac{d \\lambda}{d x} \\frac{d T}{d x} + S = 0$$"
   ]
  },
  {
   "cell_type": "markdown",
   "metadata": {},
   "source": [
    "Utilice las aproximaciones siguientes:\n",
    "\n",
    "$$\\lambda \\frac{d^2 T}{d x^2} = \\lambda_P \\frac{(T_E + T_W - 2 T_P)}{(\\Delta x)^2}$$\n",
    "\n",
    "$$\\frac{dT}{dx} = \\frac{(T_E - T_W)}{2 (\\Delta x)}$$\n",
    "\n",
    "con $d \\lambda / dx$ como una cantidad dada.\n",
    "\n",
    "Notando que $d \\lambda / dx$ puede ser positivo o negativo, encuentre las condiciones bajo las que los coeficientes $a_E$ o $a_W$ serian negativos, y violarían la regla 2."
   ]
  },
  {
   "cell_type": "markdown",
   "metadata": {},
   "source": [
    "<div class=\"alert alert-warning\">\n",
    "\n",
    "Note que la derivación mediante el método de volumen finito, presentada previamente, basada en el significado físico de los términos, no conlleva a la aparición de coeficientes negativos.\n",
    "\n",
    "</div>"
   ]
  },
  {
   "cell_type": "markdown",
   "metadata": {},
   "source": [
    "### Respuesta 1"
   ]
  },
  {
   "cell_type": "markdown",
   "metadata": {},
   "source": [
    "**El ejercicio se ha resuelto utilizando el método de diferencias finitas.**\n",
    "\n",
    "$$\\lambda \\frac{d^2 T}{d x^2} + \\frac{d \\lambda}{d x} \\frac{d T}{d x} + S = 0$$\n",
    "\n",
    "Sustituyendo las aproximaciones, la ecuación se reescribe:\n",
    "\n",
    "$$\\lambda_P \\frac{(T_E + T_W - 2 T_P)}{(\\Delta x)^2} + \\left( \\frac{d \\lambda}{d x} \\right) \\frac{(T_E - T_W)}{(2 \\Delta x)} + S = 0$$"
   ]
  },
  {
   "cell_type": "markdown",
   "metadata": {},
   "source": [
    "Expandiendo, y agrupando términos se obtiene una ecuación algebraica que puede resolverse con un método numérico\n",
    "\n",
    "$$\\frac{\\lambda_P}{(\\Delta x)^2} T_E + \\frac{\\lambda_P}{(\\Delta x)^2} T_W - \\frac{2\\lambda_P}{(\\Delta x)^2} T_P + \\left( \\frac{1}{2 \\Delta x} \\frac{d \\lambda}{d x} \\right) T_E - \\left( \\frac{1}{2 \\Delta x} \\frac{d \\lambda}{d x} \\right) T_W + \\bar{S} = 0$$\n",
    "\n"
   ]
  },
  {
   "cell_type": "markdown",
   "metadata": {},
   "source": [
    "<div class=\"alert alert-success\">\n",
    "\n",
    "$$\\left[ \\frac{2 \\lambda_p}{(\\Delta x)^2}\\right] T_P = \\left[ \\frac{\\lambda_P}{(\\Delta x)^2} +  \\frac{1}{2 \\Delta x} \\frac{d \\lambda}{d x} \\right] T_E + \\left[ \\frac{\\lambda_P}{(\\Delta x)^2} -  \\frac{1}{2 \\Delta x} \\frac{d \\lambda}{d x} \\right] T_W + \\bar{S}$$\n",
    "\n",
    "</div>"
   ]
  },
  {
   "cell_type": "markdown",
   "metadata": {},
   "source": [
    "Realizando cambio de notación en los coeficientes:\n",
    "\n",
    "$$a_P T_P = a_E T_E + a_w T_W + b$$"
   ]
  },
  {
   "cell_type": "markdown",
   "metadata": {},
   "source": [
    "<details>\n",
    "<summary><b>Nomenclatura</b></summary>\n",
    "\n",
    "<div class=\"alert alert-info\">\n",
    "\n",
    "\n",
    "$$a_P = \\frac{2 \\lambda_p}{(\\Delta x)^2}$$\n",
    "\n",
    "$$a_E = \\frac{\\lambda_P}{(\\Delta x)^2} +  \\frac{1}{2 \\Delta x} \\frac{d \\lambda}{d x}$$\n",
    "\n",
    "$$a_W = \\frac{\\lambda_P}{(\\Delta x)^2} -  \\frac{1}{2 \\Delta x} \\frac{d \\lambda}{d x}$$\n",
    "\n",
    "$$b = \\bar{S}$$\n",
    "\n",
    "</div>\n",
    "\n",
    "</details>"
   ]
  },
  {
   "cell_type": "markdown",
   "metadata": {},
   "source": [
    "## Problema 2"
   ]
  },
  {
   "cell_type": "markdown",
   "metadata": {},
   "source": [
    "**Adaptado de:** [[Patankar, 1980]](https://www.taylorfrancis.com/books/mono/10.1201/9781482234213/numerical-heat-transfer-fluid-flow-suhas-patankar) (prob. 3.4)"
   ]
  },
  {
   "cell_type": "markdown",
   "metadata": {},
   "source": [
    "En un sistema de coordenadas cilíndricas axi-simétrico, el problema de conducción de calor 1D en estado estacionario esta gobernado por la ecuación:\n",
    "\n",
    "$$-\\mathbf{\\nabla \\cdot q} + S = 0$$\n",
    "\n",
    "$$\\frac{1}{r} \\frac{d}{dr} \\left( \\lambda r \\frac{dT}{dr} \\right) + S = 0$$\n",
    "\n",
    "Donde $r$ es la coordenada radial."
   ]
  },
  {
   "cell_type": "markdown",
   "metadata": {},
   "source": [
    "Siguiendo el procedimiento mostrado arriba, derive la discretización de la ecuación para esta situación. \n",
    "\n",
    "Apóyese en el esquema de la Figura debajo, que muestra la discretización espacial en la direccion radial en coordenadas cilíndricas.\n",
    "\n",
    "Interprete los coeficientes de la ecuación discretizada en términos físicos."
   ]
  },
  {
   "cell_type": "markdown",
   "metadata": {},
   "source": [
    "<center>\n",
    "\n",
    "<img src=\"figures/images/discretization1DStencil_Cylindrical_py.png\" style=\"width:400px\" title=\"Discretización 1D\">\n",
    "\n",
    "***Figura P2.1. Esquema de discretización espacial en coordenadas cilíndricas 1D, en la dirección radial.***\n",
    "\n",
    "</center>"
   ]
  },
  {
   "cell_type": "markdown",
   "metadata": {},
   "source": [
    "### Respuesta 2"
   ]
  },
  {
   "cell_type": "markdown",
   "metadata": {},
   "source": [
    "Utilizando notación vectorial, la ecuación planteada es la misma que se planteo en el primer ejemplo de aplicación del método.\n",
    "\n",
    " $$-\\mathbf{\\nabla \\cdot q} + S = 0$$\n",
    "\n",
    "Que de forma discretizada se escribe:\n",
    "\n",
    " $$-\\sum_{f=e, w}  \\mathbf{q_f \\cdot A_f} + \\bar{S} V = 0$$\n",
    " \n",
    " $$-\\mathbf{q_e \\cdot A_e} - \\mathbf{q_w \\cdot A_w} + \\bar{S}  V = 0$$\n",
    "\n",
    " $$\\left( \\lambda \\mathbf{\\nabla} T \\right)_e \\mathbf{\\cdot A_e} + \\left( \\lambda \\mathbf{\\nabla} T \\right)_w \\mathbf{\\cdot A_w} + \\bar{S} V = 0$$"
   ]
  },
  {
   "cell_type": "markdown",
   "metadata": {},
   "source": [
    "<details>\n",
    "<summary><b>Operador Nabla</b></summary>\n",
    "\n",
    "<div class=\"alert alert-info\">\n",
    "\n",
    "**Operador Nabla, $\\nabla$:**\n",
    "\n",
    "En coordenadas cilíndricas, el operador $\\nabla$ (gradiente) en la dirección radial esta dado por:\n",
    "\t\n",
    "$$\\mathbf{\\nabla} = \\frac{\\partial}{\\partial r} \\, \\mathbf{e_r}$$\n",
    "\t\n",
    "donde $\\mathbf{e_r}$ es un vector unitario en la dirección del eje r.\n",
    "\n",
    "</div>\n",
    "\n",
    "</details>"
   ]
  },
  {
   "cell_type": "markdown",
   "metadata": {},
   "source": [
    "<details>\n",
    "<summary><b>Vectores de Area</b></summary>\n",
    "\n",
    "<div class=\"alert alert-info\">\n",
    "\n",
    "**Vectores de area de caras entre celdas adyacentes, $\\mathbf{A_f}$:**\n",
    "\n",
    "Los vectores del área de las caras entre celdas adyacentes están dados por:\n",
    "\t\n",
    "$$\\mathbf{A}_e = A_e \\, (\\mathbf{e_r})$$\n",
    "\t\n",
    "$$\\mathbf{A}_w = A_w \\, (-\\mathbf{e_r})$$\n",
    "\n",
    "Y la magnitud del área de las caras $A_e$ y $A_w$ esta dada por:\n",
    "\t\n",
    "$$A_e = r_e \\Delta \\theta$$\n",
    "\t\n",
    "$$A_w = r_w \\Delta \\theta$$\n",
    "\n",
    "\n",
    "donde $\\mathbf{e_r}$ es un vector unitario en la direccion del eje r, y $\\Delta \\theta$ es el angulo del arco. \n",
    "\n",
    "Para un cilindro completo $\\Delta \\theta = 2 \\pi$.\n",
    "\n",
    "</div>\n",
    "</details>"
   ]
  },
  {
   "cell_type": "markdown",
   "metadata": {},
   "source": [
    "<details>\n",
    "<summary><b>Gradientes de temperatura</b></summary>\n",
    "\n",
    "<div class=\"alert alert-info\">\n",
    "\n",
    "**Escritura de los gradientes de temperatura:**\n",
    "\n",
    "De forma general, al considerar perfiles lineales de temperatura, los gradientes se aproximan como:\n",
    "\n",
    "$$\n",
    "\\left(\\frac{dT}{dr}\\right)_f \\approx \\left. \\frac{\\Delta T}{\\Delta r}\\right|_f\n",
    "$$\n",
    "\n",
    "Tomando como referencia la Figura P2.1 (reproducida debajo), se tiene que los vectores de área apuntan en dirección hacia afuera del volumen de control.\n",
    "\n",
    "<center>\n",
    "<img src=\"figures/images/discretization1DStencil_Cylindrical_py.png\" style=\"width:400px\" title=\"Discretización 1D\">\n",
    "</center>\n",
    "\n",
    "**Se utiliza la misma convención para especificar la dirección de los gradientes, entonces:**\n",
    "\n",
    "El gradiente en la cara oeste se escribe:\n",
    "\n",
    "$$\n",
    "\\left(\\frac{dT}{dx}\\right)_w \\approx \\frac{T_W - T_P}{\\overline{PW}} = \\frac{T_W - T_P}{-(d_r)_w}\n",
    "$$\n",
    "\n",
    "$$\n",
    "\\overline{PW} < 0\n",
    "$$\n",
    "\n",
    "El gradiente en la cara este se escribe:\n",
    "\n",
    "$$\n",
    "\\left(\\frac{dT}{dx}\\right)_e \\approx \\frac{T_E - T_P}{\\overline{PE}} = \\frac{T_E - T_P}{+(d_r)_e}\n",
    "$$\n",
    "\n",
    "$$\n",
    "\\overline{PE} > 0\n",
    "$$\n",
    "\n",
    "</div>\n",
    "</details>"
   ]
  },
  {
   "cell_type": "markdown",
   "metadata": {},
   "source": [
    "Reescribiendo la ecuación en notación escalar:\n",
    "\n",
    " $$\\left( \\lambda \\mathbf{\\nabla} T \\right)_e \\mathbf{\\cdot A_e} + \\left( \\lambda \\mathbf{\\nabla} T \\right)_w \\mathbf{\\cdot A_w} + \\bar{S}  V = 0$$\n",
    "\n",
    " $$\\lambda_e A_e \\left( \\frac{dT}{dr} \\right)_e - \\lambda_w A_w \\left( \\frac{dT}{dr} \\right)_w + \\bar{S}  V$$"
   ]
  },
  {
   "cell_type": "markdown",
   "metadata": {},
   "source": [
    "Sustituyendo el perfil lineal de temperatura, y linealizándo el termino fuente:\n",
    "\n",
    "$$\\lambda_e A_e \\frac{(T_E - T_P)}{(\\delta r)_e} + \\lambda_w A_w \\frac{(T_W - T_P)}{(\\delta r)_w} + (S_C V + S_P T_P  V)= 0$$"
   ]
  },
  {
   "cell_type": "markdown",
   "metadata": {},
   "source": [
    "Expandiendo, y agrupando términos se obtiene una ecuación algebraica que puede resolverse con un método numérico\n",
    "\n",
    "$$\\frac{\\lambda_e A_e}{(\\delta r)_e} (T_E - T_P) + \\frac{\\lambda_w A_w}{(\\delta r)_w} (T_W - T_P) + S_C V + S_P T_P V = 0$$\n",
    "\n",
    "$$\\frac{\\lambda_e A_e}{(\\delta r)_e} T_E - \\frac{\\lambda_e A_e}{(\\delta x)_e} T_P -  \\frac{\\lambda_w A_w}{(\\delta r)_w} T_P + \\frac{\\lambda_w A_w}{(\\delta r)_w} T_W + S_C V + S_P T_P V = 0$$"
   ]
  },
  {
   "cell_type": "markdown",
   "metadata": {},
   "source": [
    "<div class=\"alert alert-success\">\n",
    "\n",
    "\n",
    "$$\\left(\\frac{\\lambda_e A_e}{(\\delta r)_e} + \\frac{\\lambda_w A_w}{(\\delta r)_w} - S_P V \\right) T_P = \\frac{\\lambda_e A_e}{(\\delta r)_e} T_E + \\frac{\\lambda_w A_w}{(\\delta r)_w} T_W + S_C V$$\n",
    "\n",
    "</div>"
   ]
  },
  {
   "cell_type": "markdown",
   "metadata": {},
   "source": [
    "Realizando cambio de notación en los coeficientes:\n",
    "\n",
    "$$(a_E + a_W - S_P V) T_P = a_E T_E + a_W T_W + b$$\n",
    "\n",
    "$$a_P T_P = a_E T_E + a_W T_W + b$$"
   ]
  },
  {
   "cell_type": "markdown",
   "metadata": {},
   "source": [
    "<details>\n",
    "<summary><b>Nomenclatura</b></summary>\n",
    "\n",
    "<div class=\"alert alert-info\">\n",
    "\n",
    "\n",
    "$$a_P = (a_E + a_W - S_P V)$$\n",
    "\n",
    "$$a_E = \\frac{\\lambda_e A_e}{(\\delta r)_e}$$\n",
    "\n",
    "$$a_W = \\frac{\\lambda_w A_w}{(\\delta r)_w}$$\n",
    "\n",
    "$$b = S_C  V$$\n",
    "\n",
    "</div>\n",
    "\n",
    "</details>"
   ]
  },
  {
   "cell_type": "markdown",
   "metadata": {},
   "source": [
    "## Problema 3"
   ]
  },
  {
   "cell_type": "markdown",
   "metadata": {},
   "source": [
    "**Adaptado de:** [[Patankar, 1980]](https://www.taylorfrancis.com/books/mono/10.1201/9781482234213/numerical-heat-transfer-fluid-flow-suhas-patankar) (prob. 4.7)"
   ]
  },
  {
   "cell_type": "markdown",
   "metadata": {},
   "source": [
    "En un problema combinado de transferencia de calor por conducción y por radiación, el termino fuente esta dado por:\n",
    "\n",
    "$$S = a \\left( T_0^4 - T^4 \\right)$$\n",
    "\n",
    "donde $a$ y $T_0$ son constantes, y $a>0$."
   ]
  },
  {
   "cell_type": "markdown",
   "metadata": {},
   "source": [
    "Escriba una linealización apropiada para este termino fuente."
   ]
  },
  {
   "cell_type": "markdown",
   "metadata": {},
   "source": [
    "### Respuesta 3"
   ]
  },
  {
   "cell_type": "markdown",
   "metadata": {},
   "source": [
    "La ecuación a linealizar es: \n",
    "\n",
    "$$S = a \\left( T_0^4 - T^4 \\right)$$\n",
    "\n",
    "Considerando la expansión de la expresión del termino fuente mediante series de Taylor:\n",
    "\n",
    "\n",
    "$$S = S^* + \\left( \\frac{dS}{dT} \\right)^* \\left( T_P - T_P^* \\right)$$\n",
    "\n",
    "se obtienen los términos:\n",
    "\n",
    "$$S^* = a T_0^4 - a {T_P^*}^4$$\n",
    "\n",
    "$$\\left( \\frac{dS}{dT} \\right)^* = -4 a {T_P^*}^3$$"
   ]
  },
  {
   "cell_type": "markdown",
   "metadata": {},
   "source": [
    "Sustituyendo valores y expandiendo: \n",
    "\n",
    "$$S = \\underbrace{a T_0^4 - a {T_P^*}^4}_{S^*} \\underbrace{- 4 a {T_P^*}^3}_{\\left(\\frac{dS}{dT}\\right)^*} \\left( T_P - T_P^* \\right)$$\n",
    "\n",
    "$$S = a T_0^4 - a {T_P^*}^4 + 4 a {T_P^*}^4 - 4 a {T_P^*}^3 T_P$$"
   ]
  },
  {
   "cell_type": "markdown",
   "metadata": {},
   "source": [
    "## Problema 4"
   ]
  },
  {
   "cell_type": "markdown",
   "metadata": {},
   "source": [
    "**Adaptado de:** [[Patankar, 1980]](https://www.taylorfrancis.com/books/mono/10.1201/9781482234213/numerical-heat-transfer-fluid-flow-suhas-patankar) (prob. 4.8)"
   ]
  },
  {
   "cell_type": "markdown",
   "metadata": {},
   "source": [
    "El término fuente para la variable dependiente $\\phi$ esta dado por\n",
    "\n",
    "$$S = A - B |\\phi| \\phi$$\n",
    "\n",
    "donde $A>0$ y $B>0$, son constantes."
   ]
  },
  {
   "cell_type": "markdown",
   "metadata": {},
   "source": [
    "Comente las alternativas propuestas debajo para la linealización del termino fuente, para que tenga la forma $S_C + S_P \\phi_P$.\n",
    "\n",
    "Notese que $\\phi_P^*$ denota el valor en la iteración previa."
   ]
  },
  {
   "cell_type": "markdown",
   "metadata": {},
   "source": [
    "$$\\begin{matrix*}[l]\n",
    "(a) & S_C = A - B |\\phi_P^*| \\phi_P^* & , & S_P = 0 \\\\\n",
    "(b) & S_C = A & , & S_P = -B|\\phi_P^*| \\\\\n",
    "(c) & S_C = A + B |\\phi_P^*| \\phi_P^* & , & S_P = -2B|\\phi_P^*| \\\\\n",
    "(d) & S_C = A + 9B |\\phi_P^*| \\phi_P^* & , & S_P = -10B|\\phi_P^*|\n",
    "\\end{matrix*}$$"
   ]
  }
 ],
 "metadata": {
  "kernelspec": {
   "display_name": "Julia 1.10.6",
   "language": "julia",
   "name": "julia-1.10"
  },
  "language_info": {
   "file_extension": ".jl",
   "mimetype": "application/julia",
   "name": "julia",
   "version": "1.10.6"
  }
 },
 "nbformat": 4,
 "nbformat_minor": 2
}
