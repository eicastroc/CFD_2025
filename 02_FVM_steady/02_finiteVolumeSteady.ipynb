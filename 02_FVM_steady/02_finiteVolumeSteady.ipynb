{
 "cells": [
  {
   "cell_type": "markdown",
   "metadata": {},
   "source": [
    "# Fluidinámica computacional (Sesión 02)"
   ]
  },
  {
   "cell_type": "markdown",
   "metadata": {},
   "source": [
    "\n",
    "<img src=\"figures/LogoCinvestav.png\" style=\"width:330px;height:100px\" title=\"Cinvestav\">\n"
   ]
  },
  {
   "cell_type": "markdown",
   "metadata": {},
   "source": [
    "**CINVESTAV Unidad Saltillo**\n",
    "\n",
    "**Programa de Maestría en Ciencias en Ingeniería Metalúrgica**\n",
    "\n",
    "Dr. Edgar Ivan Castro Cedeño\n",
    "\n",
    "\n",
    "Enero - Junio 2025\n",
    "\n",
    "Contacto:\n",
    "[edgar.castro@cinvestav.mx](mailto:edgar.castro@cinvestav.mx)"
   ]
  },
  {
   "cell_type": "markdown",
   "metadata": {},
   "source": [
    "# Método del Volumen de Control"
   ]
  },
  {
   "cell_type": "markdown",
   "metadata": {},
   "source": [
    "**También llamado, Método del Volumen Finito.**"
   ]
  },
  {
   "cell_type": "markdown",
   "metadata": {},
   "source": [
    "## Discretización Espacial"
   ]
  },
  {
   "cell_type": "markdown",
   "metadata": {},
   "source": [
    "La ecuación planteada es en estado estacionario, por lo que unicamente se requiere plantear la discretización espacial.\n",
    "\n",
    "Debajo se muestra un esquema de la discretización espacial en coordenadas cartesianas en 1D.\n"
   ]
  },
  {
   "cell_type": "markdown",
   "metadata": {},
   "source": [
    "<center>\n",
    "\n",
    "<img src=\"figures/images/discretization1DStencil_py.png\" style=\"width:400px\" title=\"Discretización 1D\">\n",
    "\n",
    "***Figura 01. Esquema de discretización espacial en coordenadas cartesianas 1D.***\n",
    "\n",
    "</center>"
   ]
  },
  {
   "cell_type": "markdown",
   "metadata": {},
   "source": [
    "<details>\n",
    "<summary><b>Pie de Figura</b></summary>\n",
    "\n",
    "<div class=\"alert alert-info\">\n",
    "\n",
    "El esquema presenta tres nodos de celda posicionados sobre el eje x, $W$, $P$, y $E$. Cada uno representa una posición geométrica dentro de un volumen de control individual; esto es, en el esquema se muestran los nodos de tres volúmenes de control.\n",
    "\t\n",
    "La distancia entre los nodos $P$ y $W$, y los nodos $P$ y $E$, esta dada por  $(\\delta x)_w$, y $(\\delta x)_e$, respectivamente.\n",
    "\n",
    "Los nodos de superficie, $w$ y $e$, indican las posiciones de las interfaces entre el volumen de control $P$, y sus volúmenes de control vecinos.\n",
    "\t\n",
    "El área de las superficies de las interfaces esta dada por $A_w$, y $A_e$, respectivamente. Las flechas rojas representan vectores normales a la superficie de las caras entre celdas adyacentes.\n",
    "\t\n",
    "- La distancia entre los nodos de superficie $w$ y $e$, esta data por $\\Delta x$.\n",
    "\t\n",
    "- La posición de los nodos de superficie $w$ y $e$, no necesariamente es a media distancia entre los nodos de celda correspondientes.\n",
    "\t\n",
    "Para el caso de celdas ortogonales, el volumen de la celda $P$ esta dado por, $V_p = \\Delta x \\Delta y \\Delta z$.\n",
    "\t\n",
    "- En el caso de geometría 1D, el área de la interfaces entre dos volúmenes de control se puede considerar de superficie unitaria, i.e., $A_e = A_w = \\Delta y$ $\\Delta z = 1$.\n",
    "\n",
    "</div>\n",
    "\n",
    "</details>"
   ]
  },
  {
   "cell_type": "markdown",
   "metadata": {},
   "source": [
    "## Selección de funciones de interpolación"
   ]
  },
  {
   "cell_type": "markdown",
   "metadata": {},
   "source": [
    "Se deben seleccionar funciones de interpolación, por ejemplo:\n",
    "\n",
    "- Constante por segmentos.\n",
    "\n",
    "- Lineal por segmentos."
   ]
  },
  {
   "cell_type": "markdown",
   "metadata": {},
   "source": [
    "<center>\n",
    "\n",
    "<img src=\"figures/images/interpolationFunctions_py.png\" style=\"width:400px\" title=\"Funciones de interpolación\">\n",
    "\n",
    "***Figura 02. Ejemplos de funciones de interpolación.***\n",
    "\n",
    "</center>"
   ]
  },
  {
   "cell_type": "markdown",
   "metadata": {},
   "source": [
    "<details>\n",
    "<summary><b>Pie de Figura</b></summary>\n",
    "\n",
    "<div class=\"alert alert-info\">\n",
    "\n",
    "Sobre el eje horizontal, se muestran:\n",
    "\n",
    "- Tres nodos de celda $W$, $P$ y $E$.\n",
    "\t\n",
    "- Dos nodos de superficie, $w$ y $e$, indicando la posicion de las caras entre celdas adyacentes a la celda $P$.\n",
    "\t\n",
    "Sobre el eje vertical, se muestran:\n",
    "\t\n",
    "- La superficies de las caras adyacentes entre nodos, $A_w$ y $A_e$.\n",
    "\t\n",
    "- Los valores discretos de temperatura,  $T_W$, $T_P$ y $T_E$, en la posicion de los nodos de celda respectivos, $W$, $P$ y $N$.\n",
    "\t\n",
    "- Los perfiles de temperatura interpolados de dos maneras: constante por segmentos, y lineal por segmentos.\n",
    "\n",
    "</div>\n",
    "\n",
    "</details>"
   ]
  },
  {
   "cell_type": "markdown",
   "metadata": {},
   "source": [
    "## Integración exacta de la ecuación diferencial"
   ]
  },
  {
   "cell_type": "markdown",
   "metadata": {},
   "source": [
    "**Se asumen los perfiles de distintos campos utilizando las funciones de interpolación seleccionadas**"
   ]
  },
  {
   "cell_type": "markdown",
   "metadata": {},
   "source": [
    "### Integración de la ecuación"
   ]
  },
  {
   "cell_type": "markdown",
   "metadata": {},
   "source": [
    "La ecuación que describe el fenómeno es:\n",
    "\n",
    "$$-\\mathbf{\\nabla \\cdot q} + S = 0$$"
   ]
  },
  {
   "cell_type": "markdown",
   "metadata": {},
   "source": [
    "Se inicia el proceso de discretización de la ecuación, considerando la integración de la ecuación en el volumen de control $P$:\n",
    "\n",
    "$$-\\iiint_{V} \\left( \\mathbf{\\nabla \\cdot q} \\right) dV + \\iiint_{V} S dV= 0$$"
   ]
  },
  {
   "cell_type": "markdown",
   "metadata": {},
   "source": [
    "Aplicando el [teorema de divergencia de Gauss](https://doc.cfd.direct/notes/cfd-general-principles/conservation-of-mass#x17-220004), se obtiene:\n",
    "\n",
    "$$-\\iint_{A}  \\mathbf{q \\cdot} d\\mathbf{A} + \\iiint_{V} S dV = 0$$"
   ]
  },
  {
   "cell_type": "markdown",
   "metadata": {},
   "source": [
    "<div class=\"alert alert-success\">\n",
    "\n",
    "**¡La ecuación integral es exacta!**\n",
    "\n",
    "Es importante notar que la ecuacion integral es exacta. Representa un balance de energía en donde: \n",
    "\n",
    "- El primer término del lado izquierdo corresponde a las entradas y salidas de calor.\n",
    "\n",
    "- El segundo término de lado izquierdo corresponde a la generación de calor.\n",
    "\n",
    "- El término nulo del lado izquierdo corresponde a la acumulación de calor.\n",
    "\n",
    "</div>"
   ]
  },
  {
   "cell_type": "markdown",
   "metadata": {},
   "source": [
    "### Integración utilizando funciones de interpolación seleccionadas"
   ]
  },
  {
   "cell_type": "markdown",
   "metadata": {},
   "source": [
    "Se efectúa la integración espacial, asumiendo que el perfil de temperatura entre los nodos es lineal, y que el perfil del termino fuente es constante en el volumen de control:\n",
    "\n",
    "$$-\\sum_{f=e, w}  \\mathbf{q_f \\cdot A_f} + \\bar{S} V = 0$$\n",
    "\n",
    "$$-\\mathbf{q_e \\cdot A_e} - \\mathbf{q_w \\cdot A_w} + \\bar{S} V = 0$$\n"
   ]
  },
  {
   "cell_type": "markdown",
   "metadata": {},
   "source": [
    "Sustituyendo en la ecuación integrada el vector de flujo de calor, se obtiene:\n",
    "\n",
    "$$\\left( \\lambda \\mathbf{\\nabla} T \\right)_e \\mathbf{\\cdot A_e} +\n",
    "\\left( \\lambda \\mathbf{\\nabla} T \\right)_w \\mathbf{\\cdot A_w} + \n",
    "\\bar{S} V = 0$$"
   ]
  },
  {
   "cell_type": "markdown",
   "metadata": {},
   "source": [
    "Escribiendo los gradientes y vectores de área en coordenadas cartesianas, se tiene:\n",
    "\n",
    "$$\n",
    "\\lambda_e A_e \\left( \\frac{dT}{dx} \\right)_e -\n",
    "\\lambda_w A_w \\left( \\frac{dT}{dx} \\right)_w + \\bar{S} V = 0\n",
    "$$"
   ]
  },
  {
   "cell_type": "markdown",
   "metadata": {
    "vscode": {
     "languageId": "julia"
    }
   },
   "source": [
    "<details>\n",
    "<summary><b>Operador Nabla</b></summary>\n",
    "\n",
    "<div class=\"alert alert-info\">\n",
    "\n",
    "**Operador Nabla, $\\nabla$:**\n",
    "\n",
    "En coordenadas cartesianas, el operador $\\nabla$ (gradiente) para el eje x esta dado por:\n",
    "\t\n",
    "$$\\mathbf{\\nabla} = \\frac{\\partial}{\\partial x} \\mathbf{i}$$\n",
    "\t\n",
    "donde $i$ es un vector unitario en la dirección del eje x.\n",
    "\n",
    "</div>\n",
    "\n",
    "</details>"
   ]
  },
  {
   "cell_type": "markdown",
   "metadata": {},
   "source": [
    "<details>\n",
    "<summary><b>Vectores de Area</b></summary>\n",
    "\n",
    "<div class=\"alert alert-info\">\n",
    "\n",
    "**Vectores de area de caras entre celdas adyacentes, $\\mathbf{A_f}$:**\n",
    "\n",
    "Los vectores del área de las caras entre celdas adyacentes están dados por:\n",
    "\t\n",
    "$$\\mathbf{A_e} = A_e \\, (\\mathbf{i})$$\n",
    "\n",
    "$$\\mathbf{A_w} = A_w \\, (-\\mathbf{i})$$\n",
    "\n",
    "donde $\\mathbf{i}$ es un vector unitario en la dirección del eje x.\n",
    "\n",
    "</div>\n",
    "</details>"
   ]
  },
  {
   "cell_type": "markdown",
   "metadata": {},
   "source": [
    "<details>\n",
    "<summary><b>Gradientes de temperatura</b></summary>\n",
    "\n",
    "<div class=\"alert alert-info\">\n",
    "\n",
    "**Escritura de los gradientes de temperatura:**\n",
    "\n",
    "De forma general, al considerar perfiles lineales de temperatura, los gradientes se aproximan como:\n",
    "\n",
    "$$\n",
    "\\left(\\frac{dT}{dx}\\right)_f \\approx \\left. \\frac{\\Delta T}{\\Delta x}\\right|_f\n",
    "$$\n",
    "\n",
    "Tomando como referencia la Figura 01 (reproducida debajo), se tiene que los vectores de área apuntan en dirección hacia afuera del volumen de control.\n",
    "\n",
    "<center>\n",
    "<img src=\"figures/images/discretization1DStencil_py.png\" style=\"width:400px\" title=\"Discretización 1D\">\n",
    "</center>\n",
    "\n",
    "**Se utiliza la misma convención para especificar la dirección de los gradientes, entonces:**\n",
    "\n",
    "El gradiente en la cara oeste se escribe:\n",
    "\n",
    "$$\n",
    "\\left(\\frac{dT}{dx}\\right)_w \\approx \\frac{T_W - T_P}{\\overline{PW}} = \\frac{T_W - T_P}{-(d_x)_w}\n",
    "$$\n",
    "\n",
    "$$\n",
    "\\overline{PW} < 0\n",
    "$$\n",
    "\n",
    "El gradiente en la cara este se escribe:\n",
    "\n",
    "$$\n",
    "\\left(\\frac{dT}{dx}\\right)_e \\approx \\frac{T_E - T_P}{\\overline{PE}} = \\frac{T_E - T_P}{+(d_x)_e}\n",
    "$$\n",
    "\n",
    "$$\n",
    "\\overline{PE} > 0\n",
    "$$\n",
    "\n",
    "</div>\n",
    "</details>"
   ]
  },
  {
   "cell_type": "markdown",
   "metadata": {},
   "source": [
    "### Rescritura de la ecuación asumiendo un perfil de temperatura lineal"
   ]
  },
  {
   "cell_type": "markdown",
   "metadata": {},
   "source": [
    "$$\\lambda_e A_e \\frac{(T_E - T_P)}{(\\delta x)_e} + \\lambda_w A_w \\frac{(T_W - T_P)}{(\\delta x)_w} + \\bar{S} V = 0$$"
   ]
  },
  {
   "cell_type": "markdown",
   "metadata": {},
   "source": [
    "<div class=\"alert alert-danger\">\n",
    "\n",
    "**¡La ecuación discretizada no es exacta!**\n",
    "\n",
    "Es importante notar que la ecuacion discretizada no es exacta debido a la aproximación hecha al asumir que $T$ varia de forma lineal entre los nodos.\n",
    "\n",
    "</div>"
   ]
  },
  {
   "cell_type": "markdown",
   "metadata": {},
   "source": [
    "## Obtención de ecuaciones algebraicas para cada volumen de control"
   ]
  },
  {
   "cell_type": "markdown",
   "metadata": {},
   "source": [
    "### Ecuación básica"
   ]
  },
  {
   "cell_type": "markdown",
   "metadata": {},
   "source": [
    "**Sin tratamiento particular del término fuente.**"
   ]
  },
  {
   "cell_type": "markdown",
   "metadata": {},
   "source": [
    "La ecuación discretizada, se reescribe agrupando términos:\n",
    "\n",
    "$$\n",
    "\\lambda_e A_e \\frac{(T_E - T_P)}{(\\delta x)_e} + \\lambda_w A_w \\frac{(T_W - T_P)}{(\\delta x)_w} + \\bar{S} V = 0\n",
    "$$"
   ]
  },
  {
   "cell_type": "markdown",
   "metadata": {},
   "source": [
    "<details>\n",
    "<summary><b>Derivación</b></summary>\n",
    "\n",
    "<div class=\"alert alert-success\">\n",
    "\n",
    "**Demostración de la obtención de la ecuación algebraica**\n",
    "\n",
    "La ecuación discretizada inicial es de la forma:\n",
    "\n",
    "$$\\frac{\\lambda_e A_e}{(\\delta x)_e} (T_E - T_P) + \\frac{\\lambda_w A_w}{(\\delta x)_w} (T_W - T_P) + \\bar{S} V = 0$$\n",
    " \n",
    "Expandiendo, y agrupando términos en la ecuación discretizada:\n",
    "\n",
    "$$\\frac{\\lambda_e A_e}{(\\delta x)_e} T_E - \\frac{\\lambda_e A_e}{(\\delta x)_e} T_P -  \\frac{\\lambda_w A_w}{(\\delta x)_w} T_P + \\frac{\\lambda_w A_w}{(\\delta x)_w} T_W + \\bar{S} V = 0$$\n",
    "\n",
    "$$\\left(\\frac{\\lambda_e A_e}{(\\delta x)_e} + \\frac{\\lambda_w A_w}{(\\delta x)_w}\\right) T_P = \\frac{\\lambda_e A_e}{(\\delta x)_e} T_E + \\frac{\\lambda_w A_w}{(\\delta x)_w} T_W + \\bar{S} V$$\n",
    "\n",
    "Realizando cambio de notación en los coeficientes:\n",
    "\n",
    "$$(a_E + a_W) T_P = a_E T_E + a_W T_W + b$$\n",
    "\n",
    "$$a_P T_P = a_E T_E + a_W T_W + b$$\n",
    "\n",
    "</div>\n",
    "</details>"
   ]
  },
  {
   "cell_type": "markdown",
   "metadata": {},
   "source": [
    "\n",
    "$$\n",
    "a_P T_P = a_E T_E + a_W T_W + b\n",
    "$$"
   ]
  },
  {
   "cell_type": "markdown",
   "metadata": {},
   "source": [
    "<details>\n",
    "<summary><b>Nomenclatura</b></summary>\n",
    "\n",
    "<div class=\"alert alert-info\">\n",
    "\n",
    "$$a_E = \\frac{\\lambda_e A_e}{(\\delta x)_e}$$\n",
    "\n",
    "$$a_W = \\frac{\\lambda_w A_w}{(\\delta x)_w}$$\n",
    "\n",
    "$$a_P = a_E + a_W$$\n",
    "\n",
    "$$b = \\bar{S} V$$\n",
    "\n",
    "</div>\n",
    "\n",
    "</details>"
   ]
  },
  {
   "cell_type": "markdown",
   "metadata": {},
   "source": [
    "#### Observaciones"
   ]
  },
  {
   "cell_type": "markdown",
   "metadata": {},
   "source": [
    "1. Forma estándar de la ecuación algebraica: \n",
    "\n",
    "$$a_P T_P = \\sum_N a_{N} T_{N} + b$$\n",
    "\n",
    "2. El gradiente de temperatura se evaluó empleando un perfil lineal de $T(x)$ entre los centroides de los volúmenes de control, pero se pueden seleccionar otras funciones.\n",
    "\n",
    "$$\\frac{dT}{dx} = \\frac{T_N - T_P}{(\\delta_x)}$$\n",
    "\n",
    "3. El termino fuente $S$ se evaluó usando un perfil constante sobre cada volumen de control. \n",
    "\n",
    "$$\\int_{V} S dV = \\bar{S} V$$\n",
    "\n",
    "4. Asimismo, es necesario interpolar la conductividad térmica en las caras de los volúmenes de control, $\\lambda_w$ y $\\lambda_e$.  No se utiliza un perfil líneal de $\\lambda_x$.\n",
    "\n",
    "$$\\lambda_e = f\\left(\\lambda_P, \\lambda_E, (\\delta x)_e \\right)$$\n",
    "\n",
    "$$\\lambda_w = f\\left(\\lambda_P, \\lambda_W, (\\delta x)_w \\right)$$\n",
    "\n",
    "5. Se enfatiza la posibilidad de usar distintos perfiles para cada termino de una ecuación diferencial.\n",
    "\n",
    "6. Los criterios de selección de perfiles son:\n",
    "\n",
    "    - Obtener un comportamiento físicamente realista\n",
    "    - Conservación del balance global."
   ]
  },
  {
   "cell_type": "markdown",
   "metadata": {},
   "source": [
    "### Tratamiento del término fuente"
   ]
  },
  {
   "cell_type": "markdown",
   "metadata": {},
   "source": [
    "**En esta sección se muestra la linealización del termino fuente, y su escritura en la ecuación discretizada.**\n",
    "\n",
    "En una sección posterior se discuten estrategias y buenas practicas para la linealización del termino fuente."
   ]
  },
  {
   "cell_type": "markdown",
   "metadata": {},
   "source": [
    "Linealización del término fuente:\n",
    "\n",
    "$$\\bar{S} = S_C + S_P T_P$$"
   ]
  },
  {
   "cell_type": "markdown",
   "metadata": {},
   "source": [
    "<details>\n",
    "<summary><b>Nomenclatura</b></summary>\n",
    "\n",
    "<div class=\"alert alert-info\">\n",
    "\n",
    "**$S_C$**: Ordenada al origen (Termino constante).\n",
    "\n",
    "**$S_P$**: Pendiente (equivalente a $\\frac{dS}{dT}$)\n",
    "\n",
    "</div>\n",
    "\n",
    "</details>"
   ]
  },
  {
   "cell_type": "markdown",
   "metadata": {},
   "source": [
    "Considerando la linealización del termino fuente, se deben modificar los coeficientes de la ecuación algebraica:\n",
    "\n",
    "$$\n",
    "\\lambda_e A_e \\frac{(T_E - T_P)}{(\\delta x)_e} + \\lambda_w A_w \\frac{(T_W - T_P)}{(\\delta x)_w} + \\bar{S} V = 0\n",
    "$$\n",
    "\n",
    "$$\n",
    "\\lambda_e A_e \\frac{(T_E - T_P)}{(\\delta x)_e} + \\lambda_w A_w \\frac{(T_W - T_P)}{(\\delta x)_w} + \\left(S_C + S_P T_P\\right) V = 0\n",
    "$$\n"
   ]
  },
  {
   "cell_type": "markdown",
   "metadata": {},
   "source": [
    "<details>\n",
    "<summary><b>Derivación</b></summary>\n",
    "\n",
    "<div class=\"alert alert-success\">\n",
    "\n",
    " **Demostración de obtención de la ecuación algebraica con termino fuente linealizado**\n",
    "\n",
    "La ecuación discretizada inicial es de la forma:\n",
    "\n",
    "$$\\frac{\\lambda_e A_e}{(\\delta x)_e} (T_E - T_P) + \\frac{\\lambda_w A_w}{(\\delta x)_w} (T_W - T_P) + \\bar{S}  V = 0$$\n",
    " \n",
    "Sustituyendo el termino fuente linealizado, se obtiene:\n",
    "\n",
    "$$\\frac{\\lambda_e A_e}{(\\delta x)_e} (T_E - T_P) + \\frac{\\lambda_w A_w}{(\\delta x)_w} (T_W - T_P) + (S_C  V + S_P T_P   V)= 0$$\n",
    "\n",
    "Expandiendo, y agrupando términos en le ecuación discretizada:\n",
    "\n",
    "$$\\frac{\\lambda_e A_e}{(\\delta x)_e} T_E - \\frac{\\lambda_e A_e}{(\\delta x)_e} T_P -  \\frac{\\lambda_w A_w}{(\\delta x)_w} T_P + \\frac{\\lambda_w A_w}{(\\delta x)_w} T_W + S_C  V + S_P T_P  V = 0$$\n",
    "\n",
    "$$\\left(\\frac{\\lambda_e A_e}{(\\delta x)_e} + \\frac{\\lambda_w A_w}{(\\delta x)_w} - S_P  V \\right) T_P = \\frac{\\lambda_e A_e}{(\\delta x)_e} T_E + \\frac{\\lambda_w A_w}{(\\delta x)_w} T_W + S_C  V$$\n",
    "\n",
    "Realizando cambio de notación en los coeficientes:\n",
    "\n",
    "$$(a_E + a_W - S_P  V) T_P = a_E T_E + a_W T_W + b$$\n",
    "\n",
    "$$a_P T_P = a_E T_E + a_W T_W + b$$\n",
    "\n",
    "</div>\n",
    "</details>"
   ]
  },
  {
   "cell_type": "markdown",
   "metadata": {},
   "source": [
    "\n",
    "$$\n",
    "a_P T_P = a_E T_E + a_W T_W + b\n",
    "$$"
   ]
  },
  {
   "cell_type": "markdown",
   "metadata": {},
   "source": [
    "<details>\n",
    "<summary><b>Nomenclatura</b></summary>\n",
    "\n",
    "<div class=\"alert alert-info\">\n",
    "\n",
    "$$a_E = \\frac{\\lambda_e A_e}{(\\delta x)_e}$$\n",
    "\n",
    "$$a_W = \\frac{\\lambda_w A_w}{(\\delta x)_w}$$\n",
    "\n",
    "$$a_p = a_E + a_W - S_P  V$$\n",
    "\n",
    "$$b = S_C  V$$\n",
    "\n",
    "</div>\n",
    "\n",
    "</details>"
   ]
  },
  {
   "cell_type": "markdown",
   "metadata": {},
   "source": [
    "## Condiciones a la frontera"
   ]
  },
  {
   "cell_type": "markdown",
   "metadata": {},
   "source": [
    "Considerando el volumen de control en la frontera que se muestra en la Figura debajo:"
   ]
  },
  {
   "cell_type": "markdown",
   "metadata": {},
   "source": [
    "<center>\n",
    "\n",
    "<img src=\"figures/images/discretization1DStencil_Boundary_py.png\" style=\"width:400px\" title=\"Discretización frontera\">\n",
    "\n",
    "***Figura 03. Discretización espacial del volumen de control en la frontera, en coordenadas cartesianas 1D.***\n",
    "\n",
    "</center>"
   ]
  },
  {
   "cell_type": "markdown",
   "metadata": {},
   "source": [
    "<details>\n",
    "<summary><b>Pie de Figura</b></summary>\n",
    "\n",
    "<div class=\"alert alert-info\">\n",
    "\n",
    "El esquema presenta dos nodos de celda posicionados sobre el eje x, $P$ y $E$. Cada uno representa una posicion geometrica dentro de un volumen de control individual; i.e., en el esquema se muestan los nodos de dos volumenes de control.\n",
    "\t\n",
    "El nodo $P$ corresponde a la celda del volumen de control en la frontera del dominio computacional.\n",
    "\t\n",
    "Los nodos de superficie, $b$ y $e$, indican a las posiciones de la frontera del dominio de calculo, y de la cara adyacente entre los volumenes de control $P$ y $E$, respectivamente.\n",
    "\t\n",
    "La distancia entre los nodos $b$ y $P$, y los nodos $P$ y $E$, esta dada por  $(\\delta x)_b$, y $(\\delta x)_e$, respectivamente.\n",
    "\t\n",
    "\t\n",
    "Las superficies estan dadas por $A_b$, y $A_e$, respectivamente. Las flechas rojas representan vectores normales a la superficie de las caras.\n",
    "\t\n",
    "- La distancia entre los nodos de superficie $b$ y $e$, esta data por $\\Delta x$.\n",
    "\t\n",
    "- La posicion del nodo de superficie $e$, no necesariamente esta a media distancia entre los nodos de celda correspondientes.\n",
    "\n",
    "</div>\n",
    "\n",
    "</details>"
   ]
  },
  {
   "cell_type": "markdown",
   "metadata": {},
   "source": [
    "La ecuación integrada sobre el volúmen de control en la frontera se escribe:\n",
    "\n",
    "$$-\\sum_{\\mathbf{f=e, b}}  \\mathbf{q_f \\cdot A_f} + \\bar{S} V = 0$$\n",
    "\n",
    "$$-\\mathbf{q_b \\cdot A_b} - \\mathbf{q_e \\cdot A_e} + \\bar{S}  V = 0$$"
   ]
  },
  {
   "cell_type": "markdown",
   "metadata": {},
   "source": [
    "Sustituyendo en el flujo de calor en frontera, $\\mathbf{q_b \\cdot A_b}$, el vector de flujo de calor, y asumiendo que el perfil de temperatura entre $b$ y $P$ es lineal, se obtiene:"
   ]
  },
  {
   "cell_type": "markdown",
   "metadata": {},
   "source": [
    "$$-\\mathbf{q_b \\cdot A_b} = \n",
    "\\left( \\lambda_b \\mathbf{\\nabla} T_b \\right) \\mathbf{\\cdot A_b}$$\n",
    "\n",
    "$$-\\mathbf{q_b \\cdot A_b} = \n",
    "\\left(\\lambda_b \\frac{(T_b - T_P)}{-(\\delta x)_b}\\right) (-A_b)$$\n",
    "\n",
    "$$-\\mathbf{q_b \\cdot A_b} = \n",
    "\\lambda_b A_b \\frac{(T_b - T_P)}{(\\delta x)_b}$$"
   ]
  },
  {
   "cell_type": "markdown",
   "metadata": {},
   "source": [
    "Dependiendo del tipo de condición a la frontera, se especifica: \n",
    "\n",
    "- El valor de temperatura en la frontera, $T_b$.\n",
    "\n",
    "- El flujo de calor en la frontera, $\\mathbf{q_b \\cdot A_b}$."
   ]
  },
  {
   "cell_type": "markdown",
   "metadata": {},
   "source": [
    "<details>\n",
    "<summary><b>Operador Nabla</b></summary>\n",
    "\n",
    "<div class=\"alert alert-info\">\n",
    "\n",
    "**Operador Nabla, $\\nabla$:**\n",
    "\n",
    "En coordenadas cartesianas, el operador $\\nabla$ (gradiente) para el eje x esta dado por:\n",
    "\t\n",
    "$$\\mathbf{\\nabla} = \\frac{\\partial}{\\partial x} \\mathbf{i}$$\n",
    "\t\n",
    "donde $i$ es un vector unitario en la dirección del eje x.\n",
    "\n",
    "</div>\n",
    "\n",
    "</details>"
   ]
  },
  {
   "cell_type": "markdown",
   "metadata": {},
   "source": [
    "<details>\n",
    "<summary><b>Vectores de Area</b></summary>\n",
    "\n",
    "<div class=\"alert alert-info\">\n",
    "\n",
    "**Vectores de area de caras entre celdas adyacentes, $\\mathbf{A_f}$:**\n",
    "\n",
    "Los vectores del área de las caras entre celdas adyacentes están dados por:\n",
    "\t\n",
    "$$\\mathbf{A_e} = A_e \\, (\\mathbf{i})$$\n",
    "\n",
    "$$\\mathbf{A_w} = A_w \\, (-\\mathbf{i})$$\n",
    "\n",
    "donde $\\mathbf{i}$ es un vector unitario en la dirección del eje x.\n",
    "\n",
    "</div>\n",
    "</details>"
   ]
  },
  {
   "cell_type": "markdown",
   "metadata": {},
   "source": [
    "<details>\n",
    "<summary><b>Gradientes de temperatura</b></summary>\n",
    "\n",
    "<div class=\"alert alert-info\">\n",
    "\n",
    "**Escritura de los gradientes de temperatura:**\n",
    "\n",
    "De forma general, al considerar perfiles lineales de temperatura, los gradientes se aproximan como:\n",
    "\n",
    "$$\n",
    "\\left(\\frac{dT}{dx}\\right)_f \\approx \\left. \\frac{\\Delta T}{\\Delta x}\\right|_f\n",
    "$$\n",
    "\n",
    "Tomando como referencia la Figura 03 (reproducida debajo), se tiene que los vectores de área apuntan en dirección hacia afuera del volumen de control.\n",
    "\n",
    "<center>\n",
    "<img src=\"figures/images/discretization1DStencil_Boundary_py.png\" style=\"width:400px\" title=\"Discretización frontera\">\n",
    "</center>\n",
    "\n",
    "**Se utiliza la misma convención para especificar la dirección de los gradientes, entonces:**\n",
    "\n",
    "El gradiente en la cara de la frontera se escribe:\n",
    "\n",
    "$$\n",
    "\\left(\\frac{dT}{dx}\\right)_v \\approx \\frac{T_b - T_P}{\\overline{Pb}} = \\frac{T_b - T_P}{-(d_x)_b}\n",
    "$$\n",
    "\n",
    "$$\n",
    "\\overline{Pb} < 0\n",
    "$$\n",
    "\n",
    "El gradiente en la cara este se escribe:\n",
    "\n",
    "$$\n",
    "\\left(\\frac{dT}{dx}\\right)_e \\approx \\frac{T_E - T_P}{\\overline{PE}} = \\frac{T_E - T_P}{+(d_x)_e}\n",
    "$$\n",
    "\n",
    "$$\n",
    "\\overline{PE} > 0\n",
    "$$\n",
    "\n",
    "</div>\n",
    "</details>"
   ]
  },
  {
   "cell_type": "markdown",
   "metadata": {},
   "source": [
    "### Condición tipo Dirichlet"
   ]
  },
  {
   "cell_type": "markdown",
   "metadata": {},
   "source": [
    "En la condición de frontera de tipo Dirichlet se impone la temperatura en la frontera; i.e., la condición a la frontera esta dada por:\n",
    "\n",
    "$$T_b = T_{bound}$$\n",
    "\n",
    "donde $T_{bound}$ es una temperatura constante."
   ]
  },
  {
   "cell_type": "markdown",
   "metadata": {},
   "source": [
    "De tal forma que el flujo de calor en la frontera esta dado por:\n",
    "\n",
    "$$-\\mathbf{q_b \\cdot} \\mathbf{A}_b = \n",
    "\\lambda_b A_b \\frac{(T_{bound} - T_P)}{(\\delta x)_b}$$"
   ]
  },
  {
   "cell_type": "markdown",
   "metadata": {},
   "source": [
    "Y la ecuacion discretizada en la frontera esta dada por:\n",
    "\n",
    "$$\n",
    "\\frac{\\lambda_b A_b}{(\\delta x)_b} (T_{bound} - T_P) + \\frac{\\lambda_e A_e}{(\\delta x)_e} (T_E - T_P) + (S_C V + S_P T_P  V) = 0\n",
    "$$\n",
    "\n"
   ]
  },
  {
   "cell_type": "markdown",
   "metadata": {},
   "source": [
    "<details>\n",
    "<summary><b>Derivación</b></summary>\n",
    "\n",
    "<div class=\"alert alert-success\">\n",
    "\n",
    "**Demostración de obtención de ecuación para condición a la frontera tipo Dirichlet**\n",
    "\n",
    " Considerando la ecuacion discretizada en el volumen de control en la frontera:\n",
    "\n",
    " $$-\\sum_{f=e, b}  \\mathbf{q_f \\cdot A_f} + \\bar{S} V = 0$$\n",
    "\n",
    "\n",
    " $$-\\mathbf{q_b \\cdot A_b} - \\mathbf{q_e \\cdot A_e} + \\bar{S} V = 0$$\n",
    "\n",
    " Y reescribiéndola con notación escalar:\n",
    "\n",
    " $$\\frac{\\lambda_b A_b}{(\\delta x)_b} (T_{bound} - T_P) + \\frac{\\lambda_e A_e}{(\\delta x)_e} (T_E - T_P) + (S_C V + S_P T_P  V) = 0$$\n",
    "\n",
    " Expandiendo, y agrupando términos:\n",
    "\n",
    "$$-\\frac{\\lambda_b A_b}{(\\delta x)_b} T_P + \\frac{\\lambda_b A_b}{(\\delta x)_b} T_{bound} + \\frac{\\lambda_e A_e}{(\\delta x)_e} T_E - \\frac{\\lambda_e A_e}{(\\delta x)_e} T_P + S_C V + S_P V T_P = 0$$\n",
    "\n",
    " $$\\left(\\frac{\\lambda_e A_e}{(\\delta x)_e} + \\frac{\\lambda_b A_b}{(\\delta x)_b} - S_P V \\right) T_P = \\frac{\\lambda_e A_e}{(\\delta x)_e} T_E + \\frac{\\lambda_b A_b}{(\\delta x)_b} T_{bound} + S_C V$$\n",
    "\n",
    " Realizando un cambio de notación en los coeficientes:\n",
    "\n",
    " $$\\left( a_E + a_B - S_P V \\right) T_P = a_E T_E + \\left(a_B T_{bound} + S_C V \\right)$$\n",
    "\n",
    " $$a_P T_P = a_E T_E + b$$\n",
    "\n",
    "</div>\n",
    "</details>"
   ]
  },
  {
   "cell_type": "markdown",
   "metadata": {},
   "source": [
    "$$a_P T_P = a_E T_E + b$$"
   ]
  },
  {
   "cell_type": "markdown",
   "metadata": {},
   "source": [
    "<details>\n",
    "<summary><b>Nomenclatura</b></summary>\n",
    "\n",
    "<div class=\"alert alert-info\">\n",
    "\n",
    "$$a_E = \\frac{\\lambda_e A_e}{(\\delta x)_e}$$\n",
    "\n",
    "$$a_B = \\frac{\\lambda_b A_b}{(\\delta x)_b}$$\n",
    "\n",
    "$$a_P = a_E + a_B - S_P V$$\n",
    "\n",
    "$$b = a_B T_{bound} + S_C V$$\n",
    "\n",
    "</div>\n",
    "\n",
    "</details>"
   ]
  },
  {
   "cell_type": "markdown",
   "metadata": {},
   "source": [
    "### Condición tipo Neumann"
   ]
  },
  {
   "cell_type": "markdown",
   "metadata": {},
   "source": [
    "En la condición de frontera de tipo Neumann se da el gradiente de $T$ en la dirección normal a la frontera:\n",
    "\n",
    "$$-\\left( \\lambda \\mathbf{\\nabla} T\\right)_b \\mathbf{\\cdot i} = q_{bound}$$"
   ]
  },
  {
   "cell_type": "markdown",
   "metadata": {},
   "source": [
    "Que es equivalente a especificar el flujo de calor en la frontera:\n",
    "\n",
    "$$-\\mathbf{q_b \\cdot A_b} = q_{bound} A_b$$"
   ]
  },
  {
   "cell_type": "markdown",
   "metadata": {},
   "source": [
    "Este termino se puede incluir directamente en la ecuación discretizada. De tal forma que la ecuación discretizada en la frontera esta dada por:\n",
    "\n",
    "$$\n",
    "q_{bound} A_b + \\frac{\\lambda_e A_e}{(\\delta x)_e} (T_E - T_P) + (S_C V + S_P T_P  V) = 0\n",
    "$$\n",
    "\n"
   ]
  },
  {
   "cell_type": "markdown",
   "metadata": {},
   "source": [
    "<details>\n",
    "<summary><b>Derivación</b></summary>\n",
    "\n",
    "<div class=\"alert alert-success\">\n",
    "\n",
    "**Demostración de obtención de ecuación para condición a la frontera tipo Neumann**\n",
    "\n",
    "\n",
    " Considerando la ecuación discretizada en el volumen de control en la frontera:\n",
    "\n",
    " $$-\\sum_{f=e, b}  \\mathbf{q_f \\cdot A_f} + \\bar{S} V = 0$$\n",
    "\n",
    "\n",
    " $$-\\mathbf{q_b \\cdot A_b} - \\mathbf{q_e \\cdot A_e} + \\bar{S} V = 0$$\n",
    "\n",
    " Y reescribiéndola con notación escalar:\n",
    "\n",
    "$$q_{bound} A_b + \\frac{\\lambda_e A_e}{(\\delta x)_e} (T_E - T_P) + (S_C V + S_P T_P  V) = 0$$\n",
    "\n",
    " Expandiendo, y agrupando términos:\n",
    "\n",
    " $$q_{bound} A_b + \\frac{\\lambda_e A_e}{(\\delta x)_e} T_E - \\frac{\\lambda_e A_e}{(\\delta x)_e} T_P + S_C V + S_P V T_P = 0$$\n",
    "\n",
    " $$\\left(\\frac{\\lambda_e A_e}{(\\delta x)_e} - S_P V \\right) T_P = \\frac{\\lambda_e A_e}{(\\delta x)_e} T_E + q_{bound} A_b + S_C V$$\n",
    "\n",
    " Realizando un cambio de notación en los coeficientes:\n",
    "\n",
    "$$\\left( a_E - S_P V\\right) T_P = a_E T_E + \\left(q_{bound} A_b + S_C V\\right)$$\n",
    "\n",
    " $$a_P T_P = a_E T_E + b$$\n",
    "\n",
    "</div>\n",
    "</details>"
   ]
  },
  {
   "cell_type": "markdown",
   "metadata": {},
   "source": [
    "\n",
    "\n",
    "$$a_P T_P = a_E T_E + b$$"
   ]
  },
  {
   "cell_type": "markdown",
   "metadata": {},
   "source": [
    "<details>\n",
    "<summary><b>Nomenclatura</b></summary>\n",
    "\n",
    "<div class=\"alert alert-info\">\n",
    "\n",
    "$$a_E = \\frac{\\lambda_e A_e}{(\\delta x)_e}$$\n",
    "\n",
    "$$a_B = q_{bound} A_b$$\n",
    "\n",
    "$$a_P = a_E - S_P V$$\n",
    "\n",
    "$$b = a_B + S_C V$$\n",
    "\n",
    "</div>\n",
    "\n",
    "</details>"
   ]
  },
  {
   "cell_type": "markdown",
   "metadata": {},
   "source": [
    "<details>\n",
    "<summary><b>Temperatura en la frontera</b></summary>\n",
    "\n",
    "<div class=\"alert alert-info\">\n",
    "\n",
    "**Cálculo de temperatura en la frontera**\n",
    "\n",
    "Una vez que se ha calculado $T_P$, la temperatura en la frontera, $T_b$, se calcula mediante la siguiente ecuación:\n",
    "\t\n",
    "$$T_b = \\frac{q_{bound} + \\left( \\frac{\\lambda_b}{ (\\delta x)_b}\\right) T_P} \n",
    "{\\left( \\frac{\\lambda_b}{(\\delta x)_b}\\right)}$$\n",
    "\n",
    "</div>\n",
    "</summary>"
   ]
  },
  {
   "cell_type": "markdown",
   "metadata": {},
   "source": [
    "### Condición tipo Cauchy"
   ]
  },
  {
   "cell_type": "markdown",
   "metadata": {},
   "source": [
    "En la condición de frontera de tipo Cauchy el gradiente de temperatura en la dirección normal a la frontera es una función de la temperatura.\n",
    "\n",
    "$$-\\left( \\lambda \\mathbf{\\nabla} T\\right)_b \\mathbf{\\cdot i} = \n",
    "h_b \\left( T_{\\infty} - T \\right)$$"
   ]
  },
  {
   "cell_type": "markdown",
   "metadata": {},
   "source": [
    "Que es equivalente a especificar el flujo de calor en la frontera como una función de la temperatura:\n",
    "\n",
    "$$-\\mathbf{q_b \\cdot A_b} = h_b A_b \\left( T_{\\infty} - T_b \\right)$$\n",
    "\n",
    "$$-\\mathbf{q_b \\cdot A_b} = \n",
    " \\lambda_b A_b \\frac{(T_b - T_P)}{(\\delta x)_b}$$"
   ]
  },
  {
   "cell_type": "markdown",
   "metadata": {},
   "source": [
    "Combinando ambas ecuaciones, se puede eliminar $T_b$ de le ecuación de flujo de calor por convección en la frontera.\n",
    "\n",
    "Se obtiene una ecuación que expresa el flujo de calor en función de la temperatura lejos de la frontera, $T_{\\infty}$, la temperatura de la celda en la frontera, $T_P$, y una resistencia térmica equivalente, $R_{eq}$:\n",
    "\n",
    "$$-\\mathbf{q_b \\cdot A_b} = R_{eq} A_b \\left(T_{\\infty} - T_P \\right)$$"
   ]
  },
  {
   "cell_type": "markdown",
   "metadata": {},
   "source": [
    "Este termino se puede incluir directamente en la ecuación discretizada. De tal forma que la ecuación discretizada en la frontera esta dada por:\n",
    "\n",
    "$$\n",
    "R_{eq} A_b \\left(T_{\\infty} - T_P \\right) + \\frac{\\lambda_e A_e}{(\\delta x)_e} (T_E - T_P) + (S_C V + S_P T_P  V) = 0\n",
    "$$"
   ]
  },
  {
   "cell_type": "markdown",
   "metadata": {},
   "source": [
    "<details>\n",
    "<summary><b>Derivación</b></summary>\n",
    "\n",
    "<div class=\"alert alert-success\">\n",
    "\n",
    "**Demostración de obtención de ecuación para condición a la frontera tipo Cauchy**\n",
    "\n",
    "\n",
    " Considerando la ecuacion discretizada en el volumen de control en la frontera:\n",
    "\n",
    " $$-\\sum_{f=e, b}  \\mathbf{q_f \\cdot A_f} + \\bar{S} V = 0$$\n",
    "\n",
    "\n",
    " $$-\\mathbf{q_b \\cdot A_b} - \\mathbf{q_e \\cdot A_e} + \\bar{S} V = 0$$\n",
    "\n",
    " Y rescribiendola con notacion escalar:\n",
    "\n",
    " $$R_{eq} A_b \\left(T_{\\infty} - T_P \\right) + \\frac{\\lambda_e A_e}{(\\delta x)_e} (T_E - T_P) + (S_C V + S_P T_P  V) = 0$$\n",
    "\n",
    " Expandiendo, y agrupando terminos\n",
    "\n",
    " $$R_{eq} A_b T_{\\infty} - R_{eq} A_b T_P + \\frac{\\lambda_e A_e}{(\\delta x)_e} T_E - \\frac{\\lambda_e A_e}{(\\delta x)_e} T_P + S_C V + S_P V T_P = 0$$\n",
    "\n",
    " $$\\left( \\frac{\\lambda_e A_e}{(\\delta x)_e} + R_{eq} A_b - S_P V \\right) T_P = \\frac{\\lambda_e A_e}{(\\delta x)_e} T_E + R_{eq} A_b T_{\\infty} + S_C V$$\n",
    "\n",
    " Realizando un cambio de notacion en los coeficientes:\n",
    "\n",
    " $$\\left(a_E + a_B - S_P V \\right) T_P = a_E T_E + \\left( a_B T_{\\infty} + S_C V\\right)$$\n",
    "\n",
    " $$a_P T_P = a_E T_E + b$$\n",
    "\n",
    "</div>\n",
    "</details>"
   ]
  },
  {
   "cell_type": "markdown",
   "metadata": {},
   "source": [
    "$$a_P T_P = a_E T_E + b$$"
   ]
  },
  {
   "cell_type": "markdown",
   "metadata": {},
   "source": [
    "<details>\n",
    "<summary><b>Nomenclatura</b></summary>\n",
    "\n",
    "<div class=\"alert alert-info\">\n",
    "\n",
    "$$a_E = \\frac{\\lambda_e A_e}{(\\delta x)_e}$$\n",
    "\n",
    "$$a_B = R_{eq} A_b$$\n",
    "\n",
    "$$a_P = a_E + a_B - S_P V$$\n",
    "\n",
    "$$b = a_B T_{\\infty} + S_C V$$\n",
    "\n",
    "$$R_{eq} = \\frac{h_b \\left( \\lambda_b / (\\delta x)_b \\right)} {h_b + \\left( \\lambda_b / (\\delta x)_b \\right)}$$\n",
    "\n",
    "</div>\n",
    "\n",
    "</details>"
   ]
  },
  {
   "cell_type": "markdown",
   "metadata": {},
   "source": [
    "<details>\n",
    "<summary><b>Temperatura en la frontera</b></summary>\n",
    "\n",
    "<div class=\"alert alert-info\">\n",
    "\n",
    "**Cálculo de temperatura en la frontera**\n",
    "\n",
    "Igualando las dos ecuaciones de flujo de calor en la frontera, se tiene:\n",
    "\t\n",
    "$$\\lambda_b A_b \\frac{(T_b - T_P)}{(\\delta x)_b} = \n",
    "\th_b A_b \\left( T_{\\infty} - T_b \\right)$$\n",
    "\t\n",
    "Que permite expresar $T_b$, como:\n",
    "\t\n",
    "$$T_b = \\frac{h_b T_{\\infty} + \\left( \\frac{\\lambda_b}{(\\delta x)_b}\\right) T_P}\n",
    "\t{h_b + \\left( \\frac{\\lambda_b}{(\\delta x)_b} \\right)}$$\n",
    "\n",
    "</div>\n",
    "</details>"
   ]
  },
  {
   "cell_type": "markdown",
   "metadata": {},
   "source": [
    "# Utilización de un método numérico para resolver el sistema de ecuaciones discretizadas"
   ]
  },
  {
   "cell_type": "markdown",
   "metadata": {},
   "source": [
    "Para ilustrar la obtencion de un sistema de ecuaciones lineales a partir de las ecuaciones discretizadas se considera un dominio 1D en coordenadas cartesianas, con una discretización espacial de cinco (5) celdas."
   ]
  },
  {
   "cell_type": "markdown",
   "metadata": {},
   "source": [
    "<center>\n",
    "\n",
    "<img src=\"figures/images/fvDiscretizationFiveCells_py.png\" style=\"width:400px\" title=\"Discretización de cinco celdas\">\n",
    "\n",
    "***Figura 04. Discretización espacial de cinco volúmenes de control, en coordenadas cartesianas 1D.***\n",
    "\n",
    "</center>"
   ]
  },
  {
   "cell_type": "markdown",
   "metadata": {},
   "source": [
    "## Escritura de ecuaciones algebraicas"
   ]
  },
  {
   "cell_type": "markdown",
   "metadata": {},
   "source": [
    "De forma general, la ecuacion discretizada para las celdas internas (celdas 2, 3 y 4), se escribe:\n",
    "\n",
    "$$a_P T_P = a_E T_E + a_W T_W + b$$"
   ]
  },
  {
   "cell_type": "markdown",
   "metadata": {},
   "source": [
    "<details>\n",
    "<summary><b>Ecuaciones de cada celda</b></summary>\n",
    "\n",
    "<div class=\"alert alert-success\">\n",
    "\n",
    "$$\\left. a_{P}\\right|_2 T_{2} = \\left. a_{E}\\right|_2 T_3 + \\left. a_{W}\\right|_2 T_1 + b_{2}$$\n",
    "\n",
    "$$\\left. a_{P}\\right|_3 T_{3} = \\left. a_{E}\\right|_3 T_4 + \\left. a_{W}\\right|_3 T_2 + b_{3}$$\n",
    "\n",
    "$$\\left. a_{P}\\right|_4 T_{4} = \\left. a_{E}\\right|_5 T_5 + \\left. a_{W}\\right|_4 T_3 + b_{4}$$\n",
    "\n",
    "</div>\n",
    "</details>"
   ]
  },
  {
   "cell_type": "markdown",
   "metadata": {},
   "source": [
    "Para la celda en la frontera \"oeste\" (celda 1), la ecuacion se escribe:\n",
    "\n",
    "$$a_P T_P = a_E T_E + b$$"
   ]
  },
  {
   "cell_type": "markdown",
   "metadata": {},
   "source": [
    "<details>\n",
    "<summary><b>Ecuación de frontera oeste</b></summary>\n",
    "\n",
    "<div class=\"alert alert-success\">\n",
    "\n",
    "$$\\left. a_{P}\\right|_1 T_{1} = \\left. a_{E}\\right|_1 T_2 + b_{1}$$\n",
    "\n",
    "</div>\n",
    "</details>"
   ]
  },
  {
   "cell_type": "markdown",
   "metadata": {},
   "source": [
    "y para la celda en la frontera \"este' (celda 5), se escribe:\n",
    "\n",
    "$$a_P T_P = a_W T_W + b$$"
   ]
  },
  {
   "cell_type": "markdown",
   "metadata": {},
   "source": [
    "<details>\n",
    "<summary><b>Ecuación de frontera este</b></summary>\n",
    "<div class=\"alert alert-success\">\n",
    "\n",
    "$$\\left. a_{P}\\right|_5 T_{5} = \\left. a_{W}\\right|_5 T_4 + b_{5}$$\n",
    "\n",
    "</div>\n",
    "</details>"
   ]
  },
  {
   "cell_type": "markdown",
   "metadata": {},
   "source": [
    "## Escritura de la matriz"
   ]
  },
  {
   "cell_type": "markdown",
   "metadata": {},
   "source": [
    "Reordenando las ecuaciones algebraicas de forma que la variable dependiente $T$ quede del lado izquierdo de la igualdad se obtienen ecuaciones que se pueden expresar en forma de sistema de ecuaciones lineales:"
   ]
  },
  {
   "cell_type": "markdown",
   "metadata": {},
   "source": [
    "- En las celdas internas:\n",
    "\n",
    "$$-a_W T_W + a_P T_P - a_E T_E = b$$"
   ]
  },
  {
   "cell_type": "markdown",
   "metadata": {},
   "source": [
    "- En las celdas en las fronteras:\n",
    "\n",
    "$$a_P T_P - a_E T_E = b$$\n",
    "\n",
    "$$-a_W T_W + a_P T_P = b$$"
   ]
  },
  {
   "cell_type": "markdown",
   "metadata": {},
   "source": [
    "El sistema de ecuaciones lineales resultante, expresado en forma matricial tiene forma de una matriz tri-diagonal."
   ]
  },
  {
   "cell_type": "markdown",
   "metadata": {},
   "source": [
    "$$\\begin{bmatrix}\n",
    "\\left. a_{P}\\right|_1 & -\\left.a_{E}\\right|_1 & 0 & 0 & 0\\\\\n",
    "-\\left.a_{W}\\right|_2 & \\left. a_{P}\\right|_2 & -\\left.a_{E}\\right|_2 & 0 & 0\\\\\n",
    "0 & -\\left.a_{W}\\right|_3 & \\left. a_{P}\\right|_3 & -\\left.a_{E}\\right|_3 & 0 \\\\\n",
    "0 & 0 & -\\left.a_{W}\\right|_4 & \\left. a_{P}\\right|_4 & -\\left.a_{E}\\right|_4\\\\\n",
    "0 & 0 & 0 & -\\left.a_{W}\\right|_5 & \\left. a_{P}\\right|_5 \\\\\n",
    "\\end{bmatrix}\n",
    "\\begin{bmatrix}\n",
    "T_1 \\\\ T_2 \\\\ T_3 \\\\ T_4 \\\\ T_5\n",
    "\\end{bmatrix}\n",
    "=\n",
    "\\begin{bmatrix}\n",
    "b_1 \\\\ b_2 \\\\ b_3 \\\\ b_4 \\\\ b_5\n",
    "\\end{bmatrix}$$"
   ]
  },
  {
   "cell_type": "markdown",
   "metadata": {},
   "source": [
    "**El sistema de ecuaciones lineales se resuelve utilizando el método numérico de su preferencia.**"
   ]
  },
  {
   "cell_type": "markdown",
   "metadata": {},
   "source": [
    "### Observaciones"
   ]
  },
  {
   "cell_type": "markdown",
   "metadata": {},
   "source": [
    "1. Se hace énfasis en que para las celdas a la frontera la construcción de los coeficientes $\\left.a_{P}\\right|_i$ y $b_i$ es diferente al de las celdas internas. \n",
    "\t\n",
    "\t\n",
    "2. También se hace énfasis en carácter conservativo del método de volumen finito y en el significado físico de los coeficientes $a_E$ y $a_W$. \n",
    "\n",
    "    Con un cambio de notación, en el que el subíndice en los coeficientes $a_P$ se sustituye por el indice de la celda, y en el que los subíndices en los coeficientes $a_E$ y $a_W$ se sustituyen con los indices de celdas colindantes a la cara; se observa que la resistencia al flujo de calor en una cara entre dos celdas debe ser la misma al aproximarse por la derecha o por la izquierda de la interfaces.\n",
    "\t\n",
    "$$\\begin{bmatrix} a_{1,1} & -a_{1,2} & 0 & 0 & 0\\\\ -a_{2,1} & a_{2,2} & -a_{2,3} & 0 & 0\\\\ 0 & -a_{3,2} & a_{3,3} & -a_{3,4} & 0 \\\\ 0 & 0 & -a_{3,4} & a_{4,4} & -a_{4,5} \\\\ 0 & 0 & 0 & -a_{5,4} & a_{5,5} \\\\ \\end{bmatrix} \\begin{bmatrix} T_1 \\\\ T_2 \\\\ T_3 \\\\ T_4 \\\\ T_5 \\end{bmatrix} = \\begin{bmatrix} b_1 \\\\ b_2 \\\\ b_3 \\\\ b_4 \\\\ b_5 \\end{bmatrix}$$\n",
    "\t\n",
    "\t\n",
    "3. En una sección posterior se discute acerca de la interpolación de la conductividad térmica en las caras entre celdas adyacentes.\n",
    "\n",
    "    Esto permite, por ejemplo, considerar que la conductividad térmica del material es dependiente de la temperatura, $\\lambda=\\lambda(T)$."
   ]
  },
  {
   "cell_type": "markdown",
   "metadata": {},
   "source": [
    "## Cuatro reglas básicas para asegurar criterios de estabilidad"
   ]
  },
  {
   "cell_type": "markdown",
   "metadata": {},
   "source": [
    "### 1. Consistencia de densidad de flujo en las caras de los volúmenes de control"
   ]
  },
  {
   "cell_type": "markdown",
   "metadata": {},
   "source": [
    "En la cara que es común a dos volúmenes de control adyacentes, se debe procurar tener un solo valor de densidad de flujo. \n",
    "\n",
    "En la ecuación de conducción de calor, esto se logra considerando funciones de interpolación que permitan obtener el mismo valor de temperatura en la cara entre celdas adyacentes, independientemente de lado de la cara por el que se estime la temperatura."
   ]
  },
  {
   "cell_type": "markdown",
   "metadata": {},
   "source": [
    "<center>\n",
    "\n",
    "<img src=\"figures/images/flowConsistency_py.png\" style=\"width:400px\" title=\"Discretización de cinco celdas\">\n",
    "\n",
    "***Figura 05. Estimación de la temperatura en la cara, $T_e$, con distintas funciones de interpolación.***\n",
    "\n",
    "</center>"
   ]
  },
  {
   "cell_type": "markdown",
   "metadata": {},
   "source": [
    "<details>\n",
    "<summary><b>Pie de Figura</b></summary>\n",
    "\n",
    "<div class=\"alert alert-info\">\n",
    "\n",
    "El esquema presenta perfiles de temperatura dado por funciones de interpolación lineales y cuadráticos.\n",
    "\t\n",
    "- Con un perfil lineal esta garantizado que la condición de consistencia de densidad de flujo se satisface.\n",
    "\n",
    "    Esto es, el valor $T_e$ en la superficie de la cara común $A_e$ es el mismo al aproximarse a la coordenada $e$ por la izquierda o por la derecha.\n",
    "\t\n",
    "- Con un perfil cuadrático no esta garantizado que la condición de consistencia de densidad de flujo se satisface.\n",
    " \n",
    "    Esto es, el valor $T_e$ en la superficie de la cara común $A_e$ no es el mismo al aproximarse a la coordenada $e$ por la izquierda o por la derecha.\n",
    "\n",
    "</div>\n",
    "\n",
    "</details>"
   ]
  },
  {
   "cell_type": "markdown",
   "metadata": {},
   "source": [
    "### 2. Coeficientes positivos"
   ]
  },
  {
   "cell_type": "markdown",
   "metadata": {},
   "source": [
    "Un incremento en la magnitud de un nodo debe resultar en un incremento en la magnitud de un nodo vecino. \n",
    "\n",
    "Por ejemplo, un incremento en $T_E$ debe producir un incremento en $T_P$, por lo que los coeficientes $a_E$ y $a_P$ deben tener el mismo signo.\n",
    "\n",
    "$$a_P T_P = a_E T_E + a_W T_W + b$$\n",
    "\n",
    "Si se escoge que los coeficientes sean positivos, entonces:\n",
    "\n",
    "**TODOS LOS COEFICIENTES**, $a_E$, $a_W$ y $a_P$, **DEBERÁN SER POSITIVOS**."
   ]
  },
  {
   "cell_type": "markdown",
   "metadata": {},
   "source": [
    "### 3. Linealización del término fuente, asegurando que la pendiente sea negativa."
   ]
  },
  {
   "cell_type": "markdown",
   "metadata": {},
   "source": [
    "El término fuente linealizado se escribe:\n",
    "\n",
    "$$\\bar{S} = S_C + S_P T_P$$"
   ]
  },
  {
   "cell_type": "markdown",
   "metadata": {},
   "source": [
    "El término $a_P$ se construye de forma general como:\n",
    "\n",
    "$$a_P = \\sum a_n - S_P V$$\n",
    "\n",
    "$$S_P \\le 0$$"
   ]
  },
  {
   "cell_type": "markdown",
   "metadata": {},
   "source": [
    "La pendiente $S_P$ del termino fuente debe ser negativa o cero para asegurar que $a_P$ también lo sea, y cumpla con la Regla 2.\n",
    "\n"
   ]
  },
  {
   "cell_type": "markdown",
   "metadata": {},
   "source": [
    "### 4. Suma de los coeficientes de los nodos vecinos"
   ]
  },
  {
   "cell_type": "markdown",
   "metadata": {},
   "source": [
    "En el ejemplo proporcionado, la solución de la ecuación diferencial con el método de volumen finito es una distribución de temperatura $T(x)$. \n",
    "\n",
    "Se considera que la distribución mas una constante, $T(x) + C$, también debe satisfacer la ecuación diferencial, si y solo si:\n",
    "\n",
    "$$a_P = \\sum a_{n}$$"
   ]
  },
  {
   "cell_type": "markdown",
   "metadata": {},
   "source": [
    "Esta regla es aplicable cuando la linealización del término fuente es de la forma:\n",
    "\n",
    "$$\\bar{S} = S_C + S_P T_P$$\n",
    "\n",
    "$$S_P = 0$$"
   ]
  },
  {
   "cell_type": "markdown",
   "metadata": {},
   "source": []
  }
 ],
 "metadata": {
  "kernelspec": {
   "display_name": "Julia 1.10.6",
   "language": "julia",
   "name": "julia-1.10"
  },
  "language_info": {
   "file_extension": ".jl",
   "mimetype": "application/julia",
   "name": "julia",
   "version": "1.10.6"
  }
 },
 "nbformat": 4,
 "nbformat_minor": 2
}
