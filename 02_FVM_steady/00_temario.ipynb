{
 "cells": [
  {
   "cell_type": "markdown",
   "metadata": {},
   "source": [
    "# Fluidinámica computacional (Sesión 02)"
   ]
  },
  {
   "cell_type": "markdown",
   "metadata": {},
   "source": [
    "\n",
    "<img src=\"figures/LogoCinvestav.png\" style=\"width:330px;height:100px\" title=\"Cinvestav\">\n"
   ]
  },
  {
   "cell_type": "markdown",
   "metadata": {},
   "source": [
    "**CINVESTAV Unidad Saltillo**\n",
    "\n",
    "**Programa de Maestría en Ciencias en Ingeniería Metalúrgica**\n",
    "\n",
    "Dr. Edgar Ivan Castro Cedeño\n",
    "\n",
    "\n",
    "Enero - Junio 2025\n",
    "\n",
    "Contacto:\n",
    "[edgar.castro@cinvestav.mx](mailto:edgar.castro@cinvestav.mx)"
   ]
  },
  {
   "cell_type": "markdown",
   "metadata": {},
   "source": [
    "# Contenido de la sesión"
   ]
  },
  {
   "cell_type": "markdown",
   "metadata": {},
   "source": [
    "**En este modulo se muestra como un primer ejemplo, la aplicacion del metodo de volumen finito a la ecuacion de conduccion de calor en coordenadas cartesianas 1D, en régimen estacionario.**"
   ]
  },
  {
   "cell_type": "markdown",
   "metadata": {},
   "source": [
    "---"
   ]
  },
  {
   "cell_type": "markdown",
   "metadata": {},
   "source": [
    "**Planteamiento del problema**\n",
    "\n",
    "- Dominio computacional: 1D, 2D, 3D.\n",
    "\n",
    "- Ecuacion(es) diferencial(es) gobernadora(s).\n",
    "\n",
    "- Condiciones iniciales y a la frontera.\n",
    "\n",
    "- Propiedades termofisicas.\n",
    "\n",
    "- Solucion de la ecuación."
   ]
  },
  {
   "cell_type": "markdown",
   "metadata": {},
   "source": [
    "---"
   ]
  },
  {
   "cell_type": "markdown",
   "metadata": {},
   "source": [
    "**Método del volumen de control (volumen finito)**\n",
    "\n",
    "- Discretizacion espacial.\n",
    "\n",
    "- Seleccion de funciones de interpolacion.\n",
    "\n",
    "- Integracion exacta de la ecuacion diferencial.\n",
    "\n",
    "- Obtencion de ecuaciones algebraica para cada volumen de control.\n",
    "\n",
    "- Condiciones a la frontera.\n",
    "\n",
    "**Utilizacion de un metodo numerico para resolver el sistema de ecuaciones discretizadas**\n",
    "\n",
    "- Escritura de ecuaciones algebraicas.\n",
    "\n",
    "- Escritura de la matriz.\n",
    "\n",
    "- Cuatro reglas básicas para asegurar criterios de estabilidad.\n",
    "\n"
   ]
  },
  {
   "cell_type": "markdown",
   "metadata": {},
   "source": [
    "---"
   ]
  },
  {
   "cell_type": "markdown",
   "metadata": {},
   "source": [
    "**Detalles adicionales**\n",
    "\n",
    "- Interpolacion de la conductividad termica en las caras.\n",
    "\n",
    "- Linealizacion del termino fuente."
   ]
  },
  {
   "cell_type": "markdown",
   "metadata": {},
   "source": [
    "---"
   ]
  },
  {
   "cell_type": "markdown",
   "metadata": {},
   "source": [
    "**Tarea**\n",
    "\n",
    "- Problema 1\n",
    "\n",
    "- Problema 2\n",
    "\n",
    "- Problema 3\n",
    "\n",
    "- Problema 4"
   ]
  },
  {
   "cell_type": "markdown",
   "metadata": {},
   "source": [
    "---"
   ]
  },
  {
   "cell_type": "markdown",
   "metadata": {},
   "source": []
  }
 ],
 "metadata": {
  "kernelspec": {
   "display_name": "Julia 1.10.6",
   "language": "julia",
   "name": "julia-1.10"
  },
  "language_info": {
   "file_extension": ".jl",
   "mimetype": "application/julia",
   "name": "julia",
   "version": "1.10.6"
  }
 },
 "nbformat": 4,
 "nbformat_minor": 2
}
