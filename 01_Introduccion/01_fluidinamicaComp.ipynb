{
 "cells": [
  {
   "cell_type": "markdown",
   "metadata": {},
   "source": [
    "# Fluidinámica computacional (Sesión 01)"
   ]
  },
  {
   "cell_type": "markdown",
   "metadata": {},
   "source": [
    "\n",
    "<img src=\"figures/LogoCinvestav.png\" style=\"height:100px\" title=\"Cinvestav\">\n"
   ]
  },
  {
   "cell_type": "markdown",
   "metadata": {},
   "source": [
    "**CINVESTAV Unidad Saltillo**\n",
    "\n",
    "**Programa de Maestría en Ciencias en Ingeniería Metalúrgica**\n",
    "\n",
    "Dr. Edgar Ivan Castro Cedeño\n",
    "\n",
    "\n",
    "Enero - Junio 2025\n",
    "\n",
    "Contacto:\n",
    "[edgar.castro@cinvestav.mx](mailto:edgar.castro@cinvestav.mx)"
   ]
  },
  {
   "cell_type": "markdown",
   "metadata": {},
   "source": [
    "# Generalidades de fluidinámica computacional"
   ]
  },
  {
   "cell_type": "markdown",
   "metadata": {},
   "source": [
    "## ¿Qué es?"
   ]
  },
  {
   "cell_type": "markdown",
   "metadata": {},
   "source": [
    "Métodos numéricos para la resolución de ecuaciones diferenciales de conservación"
   ]
  },
  {
   "cell_type": "markdown",
   "metadata": {},
   "source": [
    "## ¿Para qué sirve?"
   ]
  },
  {
   "cell_type": "markdown",
   "metadata": {},
   "source": [
    "Modelos más realistas del procesamiento de metales y materiales"
   ]
  },
  {
   "cell_type": "markdown",
   "metadata": {},
   "source": [
    "## ¿Qué debo saber para acreditar este curso?"
   ]
  },
  {
   "cell_type": "markdown",
   "metadata": {},
   "source": [
    "- Planteamiento de modelos matemáticos basados en la resolución numérica de ecuaciones de conservación.\n",
    "\n",
    "- Entender los prinpcios del método del volumen de control para resolver ecuaciones diferenciales parciales.\n",
    "\n",
    "- Principios de programación y/o utilización de software de fluidinámica computacional."
   ]
  },
  {
   "cell_type": "markdown",
   "metadata": {},
   "source": [
    "---"
   ]
  },
  {
   "cell_type": "markdown",
   "metadata": {},
   "source": [
    "# Alternativas para la solución de ecuaciones diferenciales"
   ]
  },
  {
   "cell_type": "markdown",
   "metadata": {},
   "source": [
    "**1. Software con licencia comercial**\n",
    "\n",
    "Ejemplos: [Ansys Fluent](https://www.ansys.com/products/fluids/ansys-fluent), [PHOENICS](https://www.cham.co.uk/phoenics.php), [Simcenter StarCCM+](https://plm.sw.siemens.com/en-US/simcenter/fluids-thermal-simulation/star-ccm/), [Comsol Multiphysics](https://www.comsol.com/), etc.\n",
    "\n",
    "<div class=\"alert alert-success\">\n",
    "\tTratamiento de geometrías complejas, modelos semi-empíricos, post-procesamiento, Interfaz Grafica (GUI), soporte técnico, documentación.\n",
    "</div>\n",
    "\n",
    "\n",
    "<div class=\"alert alert-danger\">\n",
    "\tCosto de licencia, actualizaciones.\n",
    "</div>"
   ]
  },
  {
   "cell_type": "markdown",
   "metadata": {},
   "source": [
    "**2. Software de código abierto (open source)**\n",
    "\n",
    "Ejemplos: [ESI OpenFoam](https://www.openfoam.com/), [Foundation OpenFoam](https://openfoam.org/), [FEniCSx](https://fenicsproject.org/), [code saturne](https://www.code-saturne.org/cms/web/), [Ferrite.jl](https://ferrite-fem.github.io/Ferrite.jl/stable/), [Trixi.jl](https://github.com/trixi-framework), etc.\n",
    "\n",
    "<div class=\"alert alert-success\">\n",
    "\tSin costo de licencia, actualizaciones.\n",
    "</div>\n",
    "\n",
    "<div class=\"alert alert-danger\">\n",
    "\tCurva de aprendizaje, GUI, documentación.\n",
    "</div>"
   ]
  },
  {
   "cell_type": "markdown",
   "metadata": {},
   "source": [
    "**3. Desarrollo de software propio**\n",
    "\n",
    "<div class=\"alert alert-success\">\n",
    "\tSoftware propio, adaptado a requerimientos específicos.\n",
    "</div>\n",
    "\n",
    "\n",
    "<div class=\"alert alert-danger\">\n",
    "\tCosto de desarrollo (tiempo y dinero)\n",
    "</div>"
   ]
  },
  {
   "cell_type": "markdown",
   "metadata": {},
   "source": [
    "---"
   ]
  },
  {
   "cell_type": "markdown",
   "metadata": {},
   "source": [
    "# Principios de modelación matemática"
   ]
  },
  {
   "cell_type": "markdown",
   "metadata": {},
   "source": [
    "Los fenómenos de transporte de masa, cantidad de movimiento (momentum), y energía se describen mediante la solución de ecuaciones diferenciales de conservación respectivas."
   ]
  },
  {
   "cell_type": "markdown",
   "metadata": {},
   "source": [
    "En muchos casos de interés práctico, las ecuaciones diferenciales simplificadas no describen apropiadamente los fenómenos, por lo que deben resolverse ecuaciones no simplificadas: por ejemplo que incluyan propiedades variables, dominios complejos en 2D o 3D, condiciones de frontera no lineales, turbulencia, etc.\n",
    "\n",
    "Estas soluciones sólo se pueden obtener mediante métodos numéricos. Por ejemplo, diferencias finitas, elemento finito, volumen de control, etc."
   ]
  },
  {
   "cell_type": "markdown",
   "metadata": {},
   "source": [
    "<div class=\"alert alert-info\">\n",
    "\n",
    "**Al modelar matemáticamente uno o varios fenómenos, se deben considerar dos aspectos:**\n",
    "\n",
    "1. La obtención de la ecuación diferencial apropiada para representar el fenómeno, así como las propiedades reales de los materiales, las condiciones iniciales y a la frontera del dominio computacional. Por ejemplo, decidir si el problema puede considerarse en 2D o debe ser 3D.\n",
    "\t\n",
    "2. La solución correcta de la ecuación diferencial planteada. Esta etapa implica que la solución sea independiente de la discretización escogida en el espacio y en el tiempo. Es decir, se debe escoger una malla y tamaño de paso temporal óptimos.\n",
    "</div>"
   ]
  },
  {
   "cell_type": "markdown",
   "metadata": {},
   "source": [
    "---"
   ]
  },
  {
   "cell_type": "markdown",
   "metadata": {},
   "source": [
    "# Métodos numéricos"
   ]
  },
  {
   "cell_type": "markdown",
   "metadata": {},
   "source": [
    "## Mallado"
   ]
  },
  {
   "cell_type": "markdown",
   "metadata": {},
   "source": [
    "El **dominio de cálculo** es **discretizado** en el espacio mediante una ténica de **mallado**."
   ]
  },
  {
   "cell_type": "markdown",
   "metadata": {},
   "source": [
    "### Constituyentes de la malla:\n",
    "\n",
    "- La **unidad fundamental** en una malla es la **celda** (también llamada elemento).\n",
    "    - Cada celda esta delimitada por **caras**.\n",
    "        - Las caras están delimitadas por **vértices**.\n",
    "- La malla contiene **nodos**.\n",
    "    - un nodo es la localización en la cuál se almacenan las variables.\n",
    "    - los nodos pueden ser centroides de celdas, o vértices."
   ]
  },
  {
   "cell_type": "markdown",
   "metadata": {},
   "source": [
    "<center>\n",
    "\n",
    "<img src=\"figures/images/meshStructured_py.png\" style=\"width:400px\" title=\"Mallado estructurado\">\n",
    "\n",
    "***Figura 01. Mallado estructurado.***\n",
    "\n",
    "</center>"
   ]
  },
  {
   "cell_type": "markdown",
   "metadata": {},
   "source": [
    "<center>\n",
    "\n",
    "<img src=\"figures/images/meshUnstructured_py.png\" style=\"width:400px\" title=\"Mallado no estructurado\">\n",
    "\n",
    "***Figura 02. Mallado no estructurado.***\n",
    "\n",
    "</center>\n"
   ]
  },
  {
   "cell_type": "markdown",
   "metadata": {},
   "source": [
    "### Geometría de las celdas"
   ]
  },
  {
   "cell_type": "markdown",
   "metadata": {},
   "source": [
    "La construcción de mallas se puede realizar utilizando una variedad de forma de celdas, como se ilustra en la ***Figura 03***.\n",
    "\n",
    "- Los mallados estructurados (***Figura 01***) generalmente utilizan cuadriláteros o hexaedros.\n",
    "\n",
    "- Los mallados no estructurados (***Figura 02***), de manera general, no tienen restricción respecto a la forma de las celdas."
   ]
  },
  {
   "cell_type": "markdown",
   "metadata": {},
   "source": [
    "<center>\n",
    "\n",
    "<img src=\"figures/images/cellShapes.png\" style=\"width:400px\" title=\"geometria de celdas\">\n",
    "\n",
    "***Figura 03. Geometría de celdas*** a) triangular,\n",
    "b) tetraedro, \n",
    "c) cuadrilátera, \n",
    "d) hexaedro,\n",
    "e) prisma,\n",
    "f) piramidal.\n",
    "\n",
    "</center>\n",
    "\n",
    "Imagen tomada de: [[Murthy, 2002]](https://engineering.purdue.edu/~scalo/menu/teaching/me608/ME608_Notes_Murthy.pdf)"
   ]
  },
  {
   "cell_type": "markdown",
   "metadata": {},
   "source": [
    "## Esquemas numéricos para la solución de ecuaciones diferenciales"
   ]
  },
  {
   "cell_type": "markdown",
   "metadata": {},
   "source": [
    "### Esquemas basado en nodos en los vértices\n",
    "\n"
   ]
  },
  {
   "cell_type": "markdown",
   "metadata": {},
   "source": [
    "Son métodos numéricos en los que la información se almacena en los nodos de los vértices.\n",
    "\n",
    "<div class=\"alert alert-info\">\n",
    "\n",
    "**Ejemplos:**\n",
    "\n",
    "Método de diferencias finitas, Método del elemento finito, Método de Lattice Boltzmann.\n",
    "</div>"
   ]
  },
  {
   "cell_type": "markdown",
   "metadata": {},
   "source": [
    "<center>\n",
    "\n",
    "<img src=\"figures/images/discretizationFiniteDifferences_py.png\" style=\"width:400px\" title=\"discretizacion diferencias finitas\">\n",
    "\n",
    "***Figura 04. Malla 1D para un esquema basado en nodos en los vértices***\n",
    "\n",
    "</center>"
   ]
  },
  {
   "cell_type": "markdown",
   "metadata": {},
   "source": [
    "### Esquemas basados en nodos en las celdas"
   ]
  },
  {
   "cell_type": "markdown",
   "metadata": {},
   "source": [
    "Son métodos numéricos en los que la información se almacena en nodos que están asociados a un celdas que tienen un volumen determinado.\n",
    "\n",
    "Cada volumen de control o celda está delimitada por caras, que tienen un área asociada a cada una de ellas.\n",
    "\n",
    "<div class=\"alert alert-info\">\n",
    "\n",
    "**Ejemplo:**\n",
    "\n",
    "método del volumen de control (volumen finito).\n",
    "</div>"
   ]
  },
  {
   "cell_type": "markdown",
   "metadata": {},
   "source": [
    "<center>\n",
    "\n",
    "<img src=\"figures/images/discretizationFiniteVolume_py.png\" style=\"width:400px\" title=\"discretizacion volumen de control\">\n",
    "\n",
    "***Figura 05. Malla 1D para un esquema basado en nodos en las celdas***\n",
    "\n",
    "</center>"
   ]
  },
  {
   "cell_type": "markdown",
   "metadata": {},
   "source": [
    "## Métodos de discretización"
   ]
  },
  {
   "cell_type": "markdown",
   "metadata": {},
   "source": [
    "Existen una variedad de métodos disponibles para efectuar la discretización de las ecuaciones de transporte.\n",
    "\n",
    "A continuación se discuten brevemente tres métodos populares, tomando como ejemplo de aplicación la ecuación de transporte 1D cartesiana de un escalar en estado estacionario, con coeficiente de difusión constante, y un termino fuente."
   ]
  },
  {
   "cell_type": "markdown",
   "metadata": {},
   "source": [
    "$$\\Gamma \\frac{d^2 \\phi}{dx^2} + S_{\\phi} = 0$$"
   ]
  },
  {
   "cell_type": "markdown",
   "metadata": {},
   "source": [
    "### Diferencias finitas"
   ]
  },
  {
   "cell_type": "markdown",
   "metadata": {},
   "source": [
    "En el método de diferencias finitas, las derivadas en las ecuaciones diferenciales que gobiernan el fenómeno son aproximadas numéricamente utilizando series de Taylor truncadas."
   ]
  },
  {
   "cell_type": "markdown",
   "metadata": {},
   "source": [
    "#### Metodología general:"
   ]
  },
  {
   "cell_type": "markdown",
   "metadata": {},
   "source": [
    "Refiriéndose al mallado mostrado en la ***Figura 04*** (reproducida debajo), que consta de tres nodos dispuestos a una distancia $\\Delta x$ entre nodos, se escriben las series de Taylor truncadas para aproximar los valores de $\\phi_1$ y $\\phi_3$:"
   ]
  },
  {
   "cell_type": "markdown",
   "metadata": {},
   "source": [
    "<center>\n",
    "<img src=\"figures/images/discretizationFiniteDifferences_py.png\" style=\"width:400px\" title=\"discretizacion diferencias finitas\">\n",
    "</center>"
   ]
  },
  {
   "cell_type": "markdown",
   "metadata": {},
   "source": [
    "$$\\phi_1 = \\phi_2 - \\Delta x \\left( \\frac{d \\phi}{dx} \\right)_2 \n",
    "+ \\frac{(\\Delta x)^2}{2} \\left( \\frac{d^2 \\phi}{dx^2} \\right)_2 + O\\left((\\Delta x)^3 \\right)$$\n",
    "\n",
    "$$\n",
    "\\phi_3 = \\phi_2 + \\Delta x \\left( \\frac{d \\phi}{dx} \\right)_2 \n",
    "+ \\frac{(\\Delta x)^2}{2} \\left( \\frac{d^2 \\phi}{dx^2} \\right)_2 + O\\left((\\Delta x)^3 \\right)$$"
   ]
  },
  {
   "cell_type": "markdown",
   "metadata": {},
   "source": [
    "La aproximación para la primera derivada, considerando un esquema de diferencias centrales, se obtiene substrayendo las series de Taylor truncadas:\n",
    "\n",
    "$$\n",
    "\\left( \\frac{d \\phi}{d x} \\right)_2 = \\frac{\\phi_3 - \\phi_1}{2 \\Delta x} + O\\left( (\\Delta x)^2 \\right)\n",
    "$$\n",
    "\n",
    "Y la aproximación para la segunda derivada se obtiene adicionando las series de Taylor truncadas:\n",
    "\n",
    "$$\n",
    "\\left( \\frac{d^2 \\phi}{dx^2} \\right)_2 = \\frac{\\phi_1 + \\phi_3 - 2 \\phi_2}{(\\Delta x)^2} + O\\left( (\\Delta x)^2 \\right)\n",
    "$$"
   ]
  },
  {
   "cell_type": "markdown",
   "metadata": {},
   "source": [
    "#### Aplicación a la ecuación gobernadora:"
   ]
  },
  {
   "cell_type": "markdown",
   "metadata": {},
   "source": [
    "\n",
    "\n",
    "Al incluir el coeficiente de difusión,  descartar los términos $O\\left( (\\Delta x)^2 \\right)$, y evaluar el termino fuente en el nodo 2, la ecuación de transporte se escribe:\n",
    "\n",
    "$$\n",
    "\\Gamma \\frac{\\phi_1 + \\phi_3 - 2 \\phi_2}{(\\Delta x)^2} + S_{\\phi,2} = 0\n",
    "$$\n",
    "\n",
    "Reacomodando términos, se obtiene la ecuación discretizada:\n",
    "\n",
    "$$\n",
    "\\frac{2 \\Gamma}{(\\Delta x)^2} \\phi_2 = \\frac{\\Gamma}{(\\Delta x)^2} \\phi_1 + \\frac{\\Gamma}{(\\Delta x)^2} \\phi_3 + S_{\\phi,2}\n",
    "$$"
   ]
  },
  {
   "cell_type": "markdown",
   "metadata": {},
   "source": [
    "#### Comentarios"
   ]
  },
  {
   "cell_type": "markdown",
   "metadata": {},
   "source": [
    "<div class=\"alert alert-success\">\n",
    "\n",
    "El proceso de discretización de las ecuaciones es directo.\n",
    "\n",
    "</div>"
   ]
  },
  {
   "cell_type": "markdown",
   "metadata": {},
   "source": [
    "<div class=\"alert alert-warning\">\n",
    "\n",
    "En casos simples, las ecuaciones pueden parecer similares a las obtenidas por otros métodos, pero esto no esta garantizado para casos complejos, por ejemplo, en mallas no estructuradas.\n",
    "\n",
    "</div>"
   ]
  },
  {
   "cell_type": "markdown",
   "metadata": {},
   "source": [
    "<div class=\"alert alert-danger\">\n",
    "\n",
    "El método de diferencias finitas no utiliza el principio de conservación durante la obtención de las ecuaciones discretizadas.\n",
    "\t\n",
    "\n",
    "\n",
    "</div>"
   ]
  },
  {
   "cell_type": "markdown",
   "metadata": {},
   "source": [
    "### Elemento finito"
   ]
  },
  {
   "cell_type": "markdown",
   "metadata": {},
   "source": [
    "Existen distintas variantes del método del elemento finito, a continuación se discute brevemente la variante de Galerkin."
   ]
  },
  {
   "cell_type": "markdown",
   "metadata": {},
   "source": [
    "#### Metodología general"
   ]
  },
  {
   "cell_type": "markdown",
   "metadata": {},
   "source": [
    "El método utiliza una aproximación, $\\bar{\\phi}$, de la variable $\\phi$; de tal forma que:  \n",
    "\n",
    "$$\\bar{\\phi} \\approx \\phi$$"
   ]
  },
  {
   "cell_type": "markdown",
   "metadata": {},
   "source": [
    "Dado que $\\bar{\\phi}$ es una aproximación, no se satisface la ecuación gobernadora, por lo que se considera un residual, $R$, del lado derecho de la ecuación:\n",
    "\n",
    "$$\n",
    "\\Gamma\\frac{d^2 \\bar{\\phi}}{dx^2} + S_{\\phi} = R\n",
    "$$"
   ]
  },
  {
   "cell_type": "markdown",
   "metadata": {},
   "source": [
    "Se desea encontrar $\\bar{\\phi}$, de tal forma que:\n",
    "\n",
    "$$\n",
    "\\int_{dominio} WR\\,dx = 0\n",
    "$$\n",
    "\n",
    "donde $W$ es una función de ponderación en el dominio de calculo. El método requiere entonces, que el residual ponderado se vuelva cero."
   ]
  },
  {
   "cell_type": "markdown",
   "metadata": {},
   "source": [
    "Para generar un sistema de ecuaciones discretizadas se considera una familia de funciones de ponderación, $W_i, \\, i=1,2,...,N$, donde $N$ es el numero de vértices en la malla.\n",
    "\n",
    "$$\n",
    "\\int_{dominio} W_iR\\,dx = 0, \\quad i=1, 2, ..., N\n",
    "$$"
   ]
  },
  {
   "cell_type": "markdown",
   "metadata": {},
   "source": [
    "**Detalles adicionales**:\n",
    "\n",
    "- Las funciones de ponderación, $W_i$, son típicamente locales, es decir, son diferentes de cero en el elemento $i$, y cero en el resto del dominio de calculo.\n",
    "- Se debe de asumir una función de forma para representar $\\bar{\\phi}$, es decir la función de interpolación para la variación de $\\bar{\\phi}$ entre elementos.\n",
    "- En el método de Galerkin, la función de ponderación y la función de forma son las mismas."
   ]
  },
  {
   "cell_type": "markdown",
   "metadata": {},
   "source": [
    "#### Aplicación a la ecuación gobernadora\n",
    "\n"
   ]
  },
  {
   "cell_type": "markdown",
   "metadata": {},
   "source": [
    "Al realizar la integración de la ecuación\n",
    "\n",
    "$$\\int_{dominio} W_iR\\,dx = 0$$\n",
    "\n",
    "se obtiene un sistema de ecuaciones algebraicas discretizadas que permiten calcular los valores de $\\phi$ en los elementos (nodos) del dominio de calculo."
   ]
  },
  {
   "cell_type": "markdown",
   "metadata": {},
   "source": [
    "#### Comentarios"
   ]
  },
  {
   "cell_type": "markdown",
   "metadata": {},
   "source": [
    "<div class=\"alert alert-success\">\n",
    "\n",
    "El método ha probado ser bastante flexible. Es el estándar para cálculos de mécanica de cuerpos sólidos.\n",
    "\n",
    "</div>"
   ]
  },
  {
   "cell_type": "markdown",
   "metadata": {},
   "source": [
    "<div class=\"alert alert-warning\">\n",
    "\n",
    "Selección de funciones de ponderación.\n",
    "\n",
    "</div>"
   ]
  },
  {
   "cell_type": "markdown",
   "metadata": {},
   "source": [
    "<div class=\"alert alert-danger\">\n",
    "\n",
    "Dado que la variante de Galerkin del método del elemento finito solo requiere que el residual sea cero en un sentido ponderado, el principio de conservación no se respeta en su forma original.\n",
    "\t\n",
    "</div>"
   ]
  },
  {
   "cell_type": "markdown",
   "metadata": {},
   "source": [
    "### Volumen finito"
   ]
  },
  {
   "cell_type": "markdown",
   "metadata": {},
   "source": [
    "El método del volumen finito (también llamado método del volumen de control) divide el dominio de calculo en un numero finito de celdas (o volúmenes de control), en los que se aplica el principio de conservación."
   ]
  },
  {
   "cell_type": "markdown",
   "metadata": {},
   "source": [
    "#### Metodología general"
   ]
  },
  {
   "cell_type": "markdown",
   "metadata": {},
   "source": [
    "Se considera el mallado mostrado en la ***Figura 05*** (reproducida debajo), que consta de tres celdas. En los centroides de las celdas,  $W$, $P$, y $E$, se almacenan valores discretos del escalar $\\phi$ . "
   ]
  },
  {
   "cell_type": "markdown",
   "metadata": {},
   "source": [
    "<center>\n",
    "<img src=\"figures/images/discretizationFiniteVolume_py.png\" style=\"width:400px\" title=\"discretizacion volumen finito\">\n",
    "</center>"
   ]
  },
  {
   "cell_type": "markdown",
   "metadata": {},
   "source": [
    "En el método se aplica el principio de conservación al evaluar el balance del flujo de la variable $\\phi$ a través de las caras entre celdas adyacentes. Las caras adyacentes de la celda $P$ con las celda vecinas se denotan con $w$ y $e$, respectivamente."
   ]
  },
  {
   "cell_type": "markdown",
   "metadata": {},
   "source": [
    "#### Aplicación a la ecuación gobernadora"
   ]
  },
  {
   "cell_type": "markdown",
   "metadata": {},
   "source": [
    "La ecuación gobernadora se escribe de la siguiente forma:\n",
    "\n",
    "$$\n",
    "\\frac{d}{dx} \\left( \\Gamma \\frac{d \\phi}{dx} \\right) + S_{\\phi} = 0\n",
    "$$"
   ]
  },
  {
   "cell_type": "markdown",
   "metadata": {},
   "source": [
    "Se lleva a cabo la integración de la ecuación en la celda $P$:\n",
    "\n",
    "$$\n",
    "\\int_{w}^{e} \\frac{d}{dx} \\left( \\Gamma \\frac{d \\phi}{dx} \\right) dx + \\int_{w}^{e} S_{\\phi} dx = 0\n",
    "$$\n",
    "\n",
    "$$\n",
    "\\left( \\Gamma \\frac{d \\phi}{dx} \\right)_e - \\left( \\Gamma \\frac{d \\phi}{dx} \\right)_w +  \\int_{w}^{e} S_{\\phi} dx = 0\n",
    "$$"
   ]
  },
  {
   "cell_type": "markdown",
   "metadata": {},
   "source": [
    "Se aproxima la ecuación al seleccionar una función de interpolación para la variación de $\\phi$ entre centroides. Si se considera una variación lineal de $\\phi$ entre las celdas, y que el valor promedio del termino fuente en el volumen de control, se obtiene:\n",
    "\n",
    "$$\n",
    "\\frac{\\Gamma_e \\left(\\phi_E - \\phi_P \\right)}{\\left( \\delta x\\right)_e} - \\frac{\\Gamma_w \\left(\\phi_W - \\phi_P \\right)}{\\left( \\delta x\\right)_w} + \\bar{S_{\\phi}} \\Delta x = 0\n",
    "$$"
   ]
  },
  {
   "cell_type": "markdown",
   "metadata": {},
   "source": [
    "<div class=\"alert alert-success\">\n",
    "\n",
    "El proceso de obtención de las ecuaciones discretizadas comienza con la utilización del principio de conservación en el volumen de control.\n",
    "\t\n",
    "Consecuentemente, el método garantiza la conservación de la cantidad transportada en cada celda, independientemente del tamaño de malla. \n",
    "\n",
    "</div>"
   ]
  },
  {
   "cell_type": "markdown",
   "metadata": {},
   "source": [
    "<div class=\"alert alert-warning\">\n",
    "\n",
    "En mallados complejos, es necesario considerar funciones apropiadas para la interpolación de flujos en las caras.\n",
    "\n",
    "</div>"
   ]
  },
  {
   "cell_type": "markdown",
   "metadata": {},
   "source": [
    "<div class=\"alert alert-danger\">\n",
    "\n",
    "\n",
    "\t\n",
    "</div>"
   ]
  },
  {
   "cell_type": "markdown",
   "metadata": {},
   "source": []
  }
 ],
 "metadata": {
  "kernelspec": {
   "display_name": "Julia 1.10.6",
   "language": "julia",
   "name": "julia-1.10"
  },
  "language_info": {
   "file_extension": ".jl",
   "mimetype": "application/julia",
   "name": "julia",
   "version": "1.10.6"
  }
 },
 "nbformat": 4,
 "nbformat_minor": 2
}
