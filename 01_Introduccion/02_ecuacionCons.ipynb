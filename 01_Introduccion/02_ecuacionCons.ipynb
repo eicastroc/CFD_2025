{
 "cells": [
  {
   "cell_type": "markdown",
   "metadata": {},
   "source": [
    "# Fluidinámica computacional (Sesión 01)"
   ]
  },
  {
   "cell_type": "markdown",
   "metadata": {},
   "source": [
    "\n",
    "<img src=\"figures/LogoCinvestav.png\" style=\"width:330px;height:100px\" title=\"Cinvestav\">\n"
   ]
  },
  {
   "cell_type": "markdown",
   "metadata": {},
   "source": [
    "**CINVESTAV Unidad Saltillo**\n",
    "\n",
    "**Programa de Maestría en Ciencias en Ingeniería Metalúrgica**\n",
    "\n",
    "Dr. Edgar Ivan Castro Cedeño\n",
    "\n",
    "\n",
    "Enero - Junio 2025\n",
    "\n",
    "Contacto:\n",
    "[edgar.castro@cinvestav.mx](mailto:edgar.castro@cinvestav.mx)"
   ]
  },
  {
   "cell_type": "markdown",
   "metadata": {},
   "source": [
    "# Ecuación general de conservación"
   ]
  },
  {
   "cell_type": "markdown",
   "metadata": {},
   "source": [
    "## Balances de materia y energía"
   ]
  },
  {
   "cell_type": "markdown",
   "metadata": {},
   "source": [
    "\n",
    "$$\n",
    "\\underbrace{\\mathbf{Acumulación}}_{\\mathbf{transitorio}} = \\underbrace{(\\mathbf{Entradas} - \\mathbf{Salidas})}_{\\mathbf{advectivo\\,y\\,difusivo}} + \\underbrace{(\\mathbf{Generación} - \\mathbf{Consumo})}_{\\mathbf{fuente}}\n",
    "$$"
   ]
  },
  {
   "cell_type": "markdown",
   "metadata": {},
   "source": [
    "## Ecuación de conservación"
   ]
  },
  {
   "cell_type": "markdown",
   "metadata": {},
   "source": [
    "**Diferentes notaciones para la misma ecuación:**\n",
    "\n",
    "$$\n",
    "\\underbrace{\\frac{\\partial}{\\partial t} \\left( \\rho \\phi \\right)}_{\\mathbf{transitorio}} + \\underbrace{\\mathbf{div} \\left(\\rho \\mathbf{u} \\phi \\right)}_{\\mathbf{advectivo}} = \\underbrace{\\mathbf{div} \\left(\\Gamma \\, \\mathbf{grad} \\, \\phi \\right)}_{\\mathbf{difusivo}} + \\underbrace{S_{\\phi}}_{\\mathbf{fuente}}\n",
    "$$\n",
    "\n",
    "$$\n",
    "\\underbrace{\\frac{\\partial}{\\partial t} \\left( \\rho \\phi \\right)}_{\\mathbf{transitorio}} + \\underbrace{\\mathbf{\\nabla \\cdot} \\left( \\rho \\mathbf{u} \\phi \\right)}_{\\mathbf{advectivo}} = \\underbrace{\\mathbf{\\nabla \\cdot} \\left( \\Gamma \\mathbf{\\nabla} \\phi \\right)}_{\\mathbf{difusivo}} + \\underbrace{S_{\\phi}}_{\\mathbf{fuente}}\n",
    "$$\n",
    "\n",
    "$$\n",
    "\\underbrace{\\frac{\\partial}{\\partial t} \\left( \\rho \\phi \\right)}_{\\mathbf{transitorio}} + \\underbrace{\\frac{\\partial}{\\partial x_i} \\left(\\rho u_i \\phi\\right)}_{\\mathbf{advectivo}} = \\underbrace{\\frac{\\partial}{\\partial x_i} \\left(\\Gamma \\frac{\\partial \\phi}{\\partial x_i}\\right)}_{\\mathbf{difusivo}} + \\underbrace{S_{\\phi}}_{\\mathbf{fuente}}\n",
    "$$"
   ]
  },
  {
   "cell_type": "markdown",
   "metadata": {},
   "source": [
    "<center>\n",
    "\n",
    "<img src=\"figures/images/ecuacionConservacion.png\" style=\"width:400px\" title=\"Mallado estructurado\">\n",
    "\n",
    "***Figura 01. Representación de la ecuación de conservación.***\n",
    "\n",
    "</center>"
   ]
  },
  {
   "cell_type": "markdown",
   "metadata": {},
   "source": [
    "### Ejercicio:"
   ]
  },
  {
   "cell_type": "markdown",
   "metadata": {},
   "source": [
    "\n",
    "El operador nabla, $\\nabla$, es un operador diferencial vectorial.\n",
    "\n",
    "Cuando se aplica a un campo, este puede actuar de tres formas diferentes:\n",
    "\n",
    "- Gradiente: $\\mathbf{grad}\\,\\mathbf{f} = \\nabla \\mathbf{f}$\n",
    "\n",
    "- Divergencia: $\\mathbf{div}\\,\\mathbf{u} = \\nabla \\cdot \\mathbf{u}$\n",
    "\n",
    "- Rotacional: $\\mathbf{curl}\\,\\mathbf{u} = \\nabla \\times \\mathbf{u}$\n",
    "\n",
    "¿Cúales son la dimensiones, en unidades SI, del operador nabla, $\\nabla$?"
   ]
  },
  {
   "cell_type": "markdown",
   "metadata": {},
   "source": [
    "<details>\n",
    "<summary><b>Respuesta</b></summary>\n",
    "\n",
    "<div class=\"alert alert-success\">\n",
    "\n",
    "El operador nabla tiene dimensiones 1/longitud. \n",
    "\n",
    "En unidades SI esto es $\\left[\\mathbf{m^{-1}}\\right]$.\n",
    "\n",
    "En un sistema de coordenadas cartesianas, el operador nabla esta dado por:\n",
    "\n",
    "$$\\mathbf{\\nabla} = \\begin{pmatrix} \\frac{\\partial}{\\partial x} & \\frac{\\partial}{\\partial y} & \\frac{\\partial}{\\partial z} \\end{pmatrix}$$\n",
    "\n",
    "</div>\n",
    "</details>"
   ]
  },
  {
   "cell_type": "markdown",
   "metadata": {},
   "source": [
    "# Ejemplos de ecuaciones de conservación"
   ]
  },
  {
   "cell_type": "markdown",
   "metadata": {},
   "source": [
    "## Ecuación de continuidad"
   ]
  },
  {
   "cell_type": "markdown",
   "metadata": {},
   "source": [
    "Diferentes notaciones para la misma ecuación:\n",
    "\n",
    "$$\n",
    "\\underbrace{\\frac{\\partial \\rho}{\\partial t}}_{\\mathrm{transitorio}} + \\underbrace{\\mathbf{\\nabla \\cdot} \\left( \\rho \\mathbf{u} \\right)}_{\\mathrm{advectivo}} = 0\n",
    "$$\n",
    "\n",
    "$$\n",
    "\\frac{\\partial \\rho}{\\partial t} + \\frac{\\partial}{\\partial x} \\left(\\rho u_x\\right) + \\frac{\\partial}{\\partial y} \\left(\\rho u_y\\right) + \\frac{\\partial}{\\partial z} \\left(\\rho u_z\\right) = 0\n",
    "$$"
   ]
  },
  {
   "cell_type": "markdown",
   "metadata": {},
   "source": [
    "<details>\n",
    "<summary><b>Nomenclatura</b></summary>\n",
    "\n",
    "<div class=\"alert alert-info\">\n",
    "\n",
    "**$t$**: tiempo, en $[\\mathrm{s}]$.\n",
    "\n",
    "**$\\rho$**: densidad, en $[\\mathrm{kg.m^{-3}}]$.\n",
    "\t\n",
    "**$u$**: vector de velocidad, $\\mathbf{u} = \\begin{pmatrix} u_x & u_y & u_z \\end{pmatrix}$, en $[\\mathrm{m.s^{-1}}]$.\n",
    "</div>\n",
    "\n",
    "</details>"
   ]
  },
  {
   "cell_type": "markdown",
   "metadata": {},
   "source": [
    "### Ejercicio:"
   ]
  },
  {
   "cell_type": "markdown",
   "metadata": {},
   "source": [
    "La ecuación de conservación para fluidos incompresibles tiene la forma: \n",
    "\n",
    "$$\\mathbf{\\nabla \\cdot u} = 0$$\n",
    "\n",
    "¿Cuales son las implicaciones de esta simplificación?"
   ]
  },
  {
   "cell_type": "markdown",
   "metadata": {},
   "source": [
    "<details>\n",
    "<summary><b>Respuesta</b></summary>\n",
    "\n",
    "<div class=\"alert alert-success\">\n",
    "Con la condición de incompresibilidad se considera que la densidad del fluido es constante, de tal forma que la ecuación de conservación de masa se puede reescribir como:\n",
    "\n",
    "$$\n",
    "\\cancel{\\frac{\\partial \\rho}{\\partial t}} + \\mathbf{\\nabla \\cdot} \\left( \\rho \\mathbf{u} \\right) = 0\n",
    "$$\n",
    "\n",
    "$$\n",
    " \\cancel{\\frac{\\partial \\rho}{\\partial t}} + \\rho \\left( \\mathbf{\\nabla \\cdot u} \\right) + \\cancel{\\left( \\mathbf{\\nabla} \\rho \\right) \\mathbf{\\cdot u}} = 0\n",
    "$$\n",
    "\n",
    "$$\n",
    " \\mathbf{\\nabla \\cdot u} = 0\n",
    "$$\n",
    "</div>\n",
    "</details>"
   ]
  },
  {
   "cell_type": "markdown",
   "metadata": {},
   "source": [
    "## Conservación de especies químicas"
   ]
  },
  {
   "cell_type": "markdown",
   "metadata": {},
   "source": [
    "$$\n",
    "\\underbrace{\\frac{\\partial}{\\partial t} \\left(\\rho Y_i\\right)}_{\\mathrm{transitorio}} + \\underbrace{\\mathbf{\\nabla \\cdot} \\left(\\rho \\mathbf{u} Y_i \\right)}_{\\mathrm{advectivo}} = \\underbrace{\\mathbf{\\nabla \\cdot} \\left( \\rho D_i \\mathbf{\\nabla} Y_i \\right)}_{\\mathrm{difusivo}} + \\underbrace{R_i}_{\\mathrm{fuente}}\n",
    "$$"
   ]
  },
  {
   "cell_type": "markdown",
   "metadata": {},
   "source": [
    "<details>\n",
    "<summary><b>Nomenclatura</b></summary>\n",
    "\n",
    "<div class=\"alert alert-info\">\n",
    "\n",
    "**$t$**: tiempo, en $[\\mathrm{s}]$.\n",
    "\n",
    "**$\\rho$**: densidad, en $[\\mathrm{kg.m^{-3}}]$.\n",
    "\n",
    "**$Y_i$:** Fracción másica de la especie $i$, escalar adimensional [0, 1].\n",
    "\n",
    "**$u$**: vector de velocidad, $\\mathbf{u} = \\begin{pmatrix} u_x & u_y & u_z \\end{pmatrix}$, en $[\\mathrm{m.s^{-1}}]$.\n",
    "\n",
    "**$D_i$:** Coeficiente de difusion de la especie $i$, en $[\\mathrm{m^2.s^{-1}}]$.\n",
    "\n",
    "**$R_i$:** Tasa de reacción de la especie $i$, en $[\\mathrm{kg.m^{-3}.s^{-1}}]$.\n",
    "\n",
    "</div>\n",
    "\n",
    "</details>"
   ]
  },
  {
   "cell_type": "markdown",
   "metadata": {},
   "source": [
    "## Conservación de calor (régimen estacionario)"
   ]
  },
  {
   "cell_type": "markdown",
   "metadata": {},
   "source": [
    "$$\n",
    "\\underbrace{\\mathbf{\\nabla \\cdot} \\left(\\rho \\mathbf{u} h \\right)}_{\\mathrm{advectivo}} = \\underbrace{\\mathbf{\\nabla \\cdot} \\left(\\lambda \\mathbf{\\nabla} T \\right)}_{\\mathrm{difusivo}} + \\underbrace{S_h}_{\\mathrm{fuente}}\n",
    "$$"
   ]
  },
  {
   "cell_type": "markdown",
   "metadata": {},
   "source": [
    "Si se considera que la capacidad calorífica, $c$, es constante, entonces: $$h=cT$$\n",
    "\n",
    "y la ecuación se puede reescribir como:\n",
    "\n",
    "```math\n",
    "\\mathbf{\\nabla \\cdot} \\left(\\rho \\mathbf{u} T \\right) = \\mathbf{\\nabla \\cdot} \\left( \\frac{\\lambda}{c} \\mathbf{\\nabla} T \\right) + \\frac{S_h}{c}\n",
    "```"
   ]
  },
  {
   "cell_type": "markdown",
   "metadata": {},
   "source": [
    "<details>\n",
    "<summary><b>Nomenclatura</b></summary>\n",
    "\n",
    "<div class=\"alert alert-info\">\n",
    "\n",
    "**$\\rho$**: densidad, en $[\\mathrm{kg.m^{-3}}]$.\n",
    "\n",
    "**$u$**: vector de velocidad, $\\mathbf{u} = \\begin{pmatrix}u_x & u_y & u_z\\end{pmatrix}$, en $[\\mathrm{m.s^{-1}}]$.\n",
    "\n",
    "**$h$:** Entalpía especifica, en $[\\mathrm{J.kg^{-1}}]$.\n",
    "\n",
    "**$\\lambda$:** Conductividad térmica, en $[\\mathrm{W.m^{-1}.K^{-1}}]$.\n",
    "\n",
    "**$T$:**: Temperatura, en $[\\mathrm{K}]$.\n",
    "\n",
    "**$S_h$:** Termino fuente, en $[\\mathrm{J.m^{-3}.s^{-1}}]$.\n",
    "\n",
    "**$c$:**: capacidad calorífica específica, en $[\\mathrm{J.kg^{-1}.K^{-1}}]$.\n",
    "\n",
    "</div>\n",
    "\n",
    "</details>"
   ]
  },
  {
   "cell_type": "markdown",
   "metadata": {},
   "source": [
    "## Conservación de cantidad de movimiento (componente en la dirección x)"
   ]
  },
  {
   "cell_type": "markdown",
   "metadata": {},
   "source": [
    "**Sinónimos**: cantidad de movimiento, momento lineal, ímpetu o momentum.\n",
    "\n",
    "```math\n",
    "\\underbrace{\\frac{\\partial}{\\partial t}\\left(\\rho u_x\\right)}_{\\mathrm{transitorio}} + \\underbrace{\\mathbf{\\nabla \\cdot} \\left( \\rho \\mathbf{u} u_x\\right)}_{\\mathrm{advectivo}} = \\underbrace{\\mathbf{\\nabla \\cdot} \\left(\\mu \\mathbf{\\nabla} u_x\\right)- \\frac{\\partial p}{\\partial x} + V_x}_{\\mathrm{difusivo}} + \\underbrace{B_x}_{\\mathrm{fuente}}\n",
    "```"
   ]
  },
  {
   "cell_type": "markdown",
   "metadata": {},
   "source": [
    "<details>\n",
    "<summary><b>Nomenclatura</b></summary>\n",
    "\n",
    "<div class=\"alert alert-info\">\n",
    "\n",
    "**$t$**: tiempo, en $[\\mathrm{s}]$.\n",
    "\n",
    "**$\\rho$**: densidad, en $[\\mathrm{kg.m^{-3}}]$.\n",
    "\n",
    "**$u$**: vector de velocidad, $\\mathbf{u} = \\begin{pmatrix}\n",
    "\tu_x & u_y & u_z\n",
    "\t\\end{pmatrix}$, en $[\\mathrm{m.s^{-1}}]$.\n",
    "\n",
    "**$\\mu$**: viscosidad dinámica, en $[\\mathrm{Pa.s}]$ (**SI:** $[\\mathrm{kg.m^{-1}.s^{-1}}]$).\n",
    "\n",
    "**$p$**: presión, en $[\\mathrm{Pa}]$ (**SI:** $[\\mathrm{kg.m^{-1}.s^{-2}}]$).\n",
    "\n",
    "**$V_x$:** Términos viscosos adicionales, en $[\\mathrm{N.m^{-3}}]$ (**SI:** $[\\mathrm{kg.m^{-2}.s^{-2}}]$).\n",
    "\t\n",
    "**$B_x$:** fuerza por unidad de volumen en la direccion $x$, en $[\\mathrm{N.m^{-3}}]$ (**SI:** $[\\mathrm{kg.m^{-2}.s^{-2}}]$).\n",
    "\n",
    "</div>\n",
    "\n",
    "</details>"
   ]
  },
  {
   "cell_type": "markdown",
   "metadata": {},
   "source": [
    "## Conservación de energía cinética turbulenta"
   ]
  },
  {
   "cell_type": "markdown",
   "metadata": {},
   "source": [
    "```math\n",
    "\\underbrace{\\frac{\\partial}{\\partial t} \\left(\\rho k \\right)}_{\\mathrm{transitorio}} + \\underbrace{\\mathbf{\\nabla \\cdot} \\left(\\rho \\mathbf{u} k \\right)}_{\\mathrm{advectivo}} = \\underbrace{\\mathbf{\\nabla \\cdot} \\left(\\Gamma_k \\mathbf{\\nabla} k \\right)}_{\\mathrm{difusivo}} + \\underbrace{\\rho G - \\rho \\varepsilon}_{\\mathrm{fuente}}\n",
    "```"
   ]
  },
  {
   "cell_type": "markdown",
   "metadata": {},
   "source": [
    "<details>\n",
    "<summary><b>Nomenclatura</b></summary>\n",
    "\n",
    "<div class=\"alert alert-info\">\n",
    "\n",
    "**$t$**: tiempo, en $[\\mathrm{s}]$.\n",
    "\n",
    "**$\\rho$**: densidad, en $[\\mathrm{kg.m^{-3}}]$.\n",
    "\n",
    "**$u$**: vector de velocidad, $\\mathbf{u} = \\begin{pmatrix}\n",
    "\tu_x & u_y & u_z\n",
    "\t\\end{pmatrix}$, en $[\\mathrm{m.s^{-1}}]$.\n",
    "\n",
    "**$k$:** energía cinética turbulenta especifica, en $[\\mathrm{J.kg^{-1}}]$ (**SI:** $[\\mathrm{m^2.s^{-2}}]$).\n",
    "\n",
    "**$\\Gamma_k$**: viscosidad turbulenta, en $[\\mathrm{kg.m^{-1}.s^{-1}}]$.\n",
    "\n",
    "**$G$:** tasa especifica de generación de la energía turbulenta cinética, en $[\\mathrm{J.kg^{-1}.s^{-1}}]$ (**SI:** $[\\mathrm{m^2.s^{-3}}]$)\n",
    "\n",
    "**$\\varepsilon$:** tasa especifica de disipación de la energía cinética turbulenta, , en $[\\mathrm{J.kg^{-1}.s^{-1}}]$ (**SI:** $[\\mathrm{m^2.s^{-3}}]$)\n",
    "\n",
    "</div>\n",
    "\n",
    "</details>"
   ]
  },
  {
   "cell_type": "markdown",
   "metadata": {},
   "source": [
    "<div class=\"alert alert-info\">\n",
    "\n",
    "**Definición de la Energía Turbulenta Cinética Específica**\n",
    "\n",
    "La energía turbulenta cinética especifica, $k$, está definida como la mitad de la suma de las varianzas de los componentes fluctuantes de la velocidad:\n",
    "\t\n",
    "$$k=\\frac{1}{2} \\left(\\overline{(u_x')^2} + \\overline{(u_y')^2} + \\overline{(u_z')^2} \\right)$$\n",
    "\n",
    "</div>"
   ]
  },
  {
   "cell_type": "markdown",
   "metadata": {},
   "source": []
  }
 ],
 "metadata": {
  "language_info": {
   "name": "python"
  }
 },
 "nbformat": 4,
 "nbformat_minor": 2
}
