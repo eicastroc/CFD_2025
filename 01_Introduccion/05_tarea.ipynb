{
 "cells": [
  {
   "cell_type": "markdown",
   "metadata": {},
   "source": [
    "# Fluidinámica computacional (Sesión 01)"
   ]
  },
  {
   "cell_type": "markdown",
   "metadata": {},
   "source": [
    "\n",
    "<img src=\"figures/LogoCinvestav.png\" style=\"width:330px;height:100px\" title=\"Cinvestav\">\n"
   ]
  },
  {
   "cell_type": "markdown",
   "metadata": {},
   "source": [
    "**CINVESTAV Unidad Saltillo**\n",
    "\n",
    "**Programa de Maestría en Ciencias en Ingeniería Metalúrgica**\n",
    "\n",
    "Dr. Edgar Ivan Castro Cedeño\n",
    "\n",
    "\n",
    "Enero - Junio 2025\n",
    "\n",
    "Contacto:\n",
    "[edgar.castro@cinvestav.mx](mailto:edgar.castro@cinvestav.mx)"
   ]
  },
  {
   "cell_type": "markdown",
   "metadata": {},
   "source": [
    "# Tarea"
   ]
  },
  {
   "cell_type": "markdown",
   "metadata": {},
   "source": [
    "## Problema 1"
   ]
  },
  {
   "cell_type": "markdown",
   "metadata": {},
   "source": [
    "Calcule lo que se le pide debajo:"
   ]
  },
  {
   "cell_type": "markdown",
   "metadata": {},
   "source": [
    "**1.** Transpuesta de un vector fila\n",
    "\n",
    "$$\n",
    "\\mathbf{a} = \\begin{pmatrix} 1 & 2 & 3 \\end{pmatrix}\n",
    "$$"
   ]
  },
  {
   "cell_type": "markdown",
   "metadata": {},
   "source": [
    "<details>\n",
    "<summary><b>Respuesta</b></summary>\n",
    "\n",
    "<div class=\"alert alert-success\">\n",
    "\n",
    "```math\n",
    "\\mathbf{a}^T = \\begin{pmatrix} 1 \\\\ 2 \\\\ 3 \\end{pmatrix}\n",
    "```\n",
    "\t\n",
    "</div>\n",
    "\n",
    "</details>"
   ]
  },
  {
   "cell_type": "markdown",
   "metadata": {},
   "source": [
    "**2.** Transpuesta de un vector columna\n",
    "\n",
    "```math\n",
    "\\mathbf{b} = \\begin{pmatrix} 45 \\\\ 44 \\\\ 35 \\end{pmatrix}\n",
    "```\n",
    "\n"
   ]
  },
  {
   "cell_type": "markdown",
   "metadata": {},
   "source": [
    "<details>\n",
    "<summary><b>Respuesta</b></summary>\n",
    "\n",
    "<div class=\"alert alert-success\">\n",
    "\n",
    "```math\n",
    "\\mathbf{b}^T = \\begin{pmatrix} 45 & 55 & 35 \\end{pmatrix}\n",
    "```\n",
    "\t\n",
    "</div>\n",
    "\n",
    "</details>"
   ]
  },
  {
   "cell_type": "markdown",
   "metadata": {},
   "source": [
    "**3.** Transpuesta de un tensor simétrico\n",
    "\n",
    "```math\n",
    "\\mathbf{A} = \n",
    "\\begin{pmatrix}\n",
    "1 & 6 & 5 \\\\\n",
    "6 & 2 & 4 \\\\\n",
    "5 & 4 & 3\n",
    "\\end{pmatrix}\n",
    "```"
   ]
  },
  {
   "cell_type": "markdown",
   "metadata": {},
   "source": [
    "<details>\n",
    "<summary><b>Respuesta</b></summary>\n",
    "\n",
    "<div class=\"alert alert-success\">\n",
    "\n",
    "```math\n",
    "\\mathbf{A}^T = \n",
    "\\begin{pmatrix}\n",
    "1 & 6 & 5 \\\\\n",
    "6 & 2 & 4 \\\\\n",
    "5 & 4 & 3\n",
    "\\end{pmatrix}\n",
    "```\n",
    "\t\n",
    "</div>\n",
    "\n",
    "</details>"
   ]
  },
  {
   "cell_type": "markdown",
   "metadata": {},
   "source": [
    "**4.** Transpuesta de un tensor anti-simétrico\n",
    "\n",
    "```math\n",
    "\\mathbf{B} = \n",
    "\\begin{pmatrix}\n",
    "1 & 6 & 5 \\\\\n",
    "-6 & 2 & 4 \\\\\n",
    "-5 & -4 & 3\n",
    "\\end{pmatrix}\n",
    "```"
   ]
  },
  {
   "cell_type": "markdown",
   "metadata": {},
   "source": [
    "<details>\n",
    "<summary><b>Respuesta</b></summary>\n",
    "\n",
    "<div class=\"alert alert-success\">\n",
    "\n",
    "```math\n",
    "\\mathbf{A}^T = \n",
    "\\begin{pmatrix}\n",
    "1 & -6 & -5 \\\\\n",
    "6 & 2 & -4 \\\\\n",
    "5 & 4 & 3\n",
    "\\end{pmatrix}\n",
    "```\n",
    "\t\n",
    "</div>\n",
    "\n",
    "</details>"
   ]
  },
  {
   "cell_type": "markdown",
   "metadata": {},
   "source": [
    "## Problema 2"
   ]
  },
  {
   "cell_type": "markdown",
   "metadata": {},
   "source": [
    "Calcule las operaciones tensoriales que se le piden, utilizando el escalar, el vector y el tensor especificados debajo."
   ]
  },
  {
   "cell_type": "markdown",
   "metadata": {},
   "source": [
    "```math\n",
    "s = 1\n",
    "```\n",
    "\n",
    "```math\n",
    "\\mathbf{v} = \\begin{pmatrix} 1 & 2   \\end{pmatrix}\n",
    "```\n",
    "\n",
    "```math\n",
    "\\mathbf{T} = \n",
    "\\begin{pmatrix}\n",
    "1 & 3  \\\\\n",
    "3 & 2 \\\\\n",
    "\\end{pmatrix}\n",
    "```"
   ]
  },
  {
   "cell_type": "markdown",
   "metadata": {},
   "source": [
    "**1.** Producto de un escalar y un vector\n",
    "\n"
   ]
  },
  {
   "cell_type": "markdown",
   "metadata": {},
   "source": [
    "```math\n",
    "s \\mathbf{v}\n",
    "```"
   ]
  },
  {
   "cell_type": "markdown",
   "metadata": {},
   "source": [
    "<details>\n",
    "<summary><b>Respuesta</b></summary>\n",
    "\n",
    "<div class=\"alert alert-success\">\n",
    "\n",
    "```math\n",
    "s \\mathbf{v} = 1 \\, . \\, \\begin{pmatrix} 1 & 2 \\end{pmatrix}\n",
    "```\n",
    "\n",
    "```math\n",
    "s \\mathbf{v} =  \\begin{pmatrix} 1 & 2 \\end{pmatrix}\n",
    "```\n",
    "\t\n",
    "</div>\n",
    "\n",
    "</details>"
   ]
  },
  {
   "cell_type": "markdown",
   "metadata": {},
   "source": [
    "**2.** Producto interior de dos vectores\n",
    "\n",
    "```math\n",
    "\\mathbf{v \\cdot v}\n",
    "```"
   ]
  },
  {
   "cell_type": "markdown",
   "metadata": {},
   "source": [
    "<details>\n",
    "<summary><b>Respuesta</b></summary>\n",
    "\n",
    "<div class=\"alert alert-success\">\n",
    "\n",
    "```math\n",
    "\\mathbf{v \\cdot v} =\n",
    "\\begin{pmatrix} 1 & 2 \\end{pmatrix}\n",
    "\\cdot\n",
    "\\begin{pmatrix} 1 & 2 \\end{pmatrix}\n",
    "```\n",
    "\n",
    "```math\n",
    "\\mathbf{v \\cdot v} = 1*1 + 2*2 = 5\n",
    "```\n",
    "\t\n",
    "</div>\n",
    "\n",
    "</details>"
   ]
  },
  {
   "cell_type": "markdown",
   "metadata": {},
   "source": [
    "**3. Producto cruz de dos vectores**"
   ]
  },
  {
   "cell_type": "markdown",
   "metadata": {},
   "source": [
    "```math\n",
    "\\mathbf{v \\times (-v)}\n",
    "```"
   ]
  },
  {
   "cell_type": "markdown",
   "metadata": {},
   "source": [
    "<details>\n",
    "<summary><b>Respuesta</b></summary>\n",
    "\n",
    "<div class=\"alert alert-success\">\n",
    "\n",
    "   ```math\n",
    "\\mathbf{v \\times (-v)} = \n",
    "\\begin{vmatrix}\n",
    "\\mathbf{i} & \\mathbf{j} & \\mathbf{k} \\\\\n",
    "1 & 2 & 0 \\\\ \n",
    "-1 & -2 & 0\n",
    "\\end{vmatrix}\n",
    "=\n",
    "\\begin{vmatrix} 2 & 0 \\\\ -2 & 0 \\end{vmatrix} \\mathbf{i} -\n",
    "\\begin{vmatrix} 1 & 0 \\\\ -1 & 0 \\end{vmatrix} \\mathbf{j} +\n",
    "\\begin{vmatrix} 1 & 2 \\\\ -1 & -2 \\end{vmatrix} \\mathbf{k}\n",
    "```\n",
    "\n",
    "```math\n",
    "\\mathbf{v \\times (-v)} = \\begin{pmatrix} 0 & 0 & 0 \\end{pmatrix}\n",
    "```\n",
    "\t\n",
    "</div>\n",
    "\n",
    "</details>"
   ]
  },
  {
   "cell_type": "markdown",
   "metadata": {},
   "source": [
    "**4.** Producto diádico de dos vectores"
   ]
  },
  {
   "cell_type": "markdown",
   "metadata": {},
   "source": [
    "```math\n",
    "\\mathbf{v \\otimes v}\n",
    "```"
   ]
  },
  {
   "cell_type": "markdown",
   "metadata": {},
   "source": [
    "<details>\n",
    "<summary><b>Respuesta</b></summary>\n",
    "\n",
    "<div class=\"alert alert-success\">\n",
    "\n",
    "```math\n",
    "\\mathbf{v \\otimes v} = \n",
    "\\begin{pmatrix} 1 \\\\ 2 \\end{pmatrix}\n",
    "\\otimes\n",
    "\\begin{pmatrix} 1 & 2 \\end{pmatrix}\n",
    "```\n",
    "\n",
    "```math\n",
    "\\mathbf{v \\otimes v} = \n",
    "\\begin{pmatrix} \n",
    "1 & 2 \\\\ \n",
    "2 & 4 \\\\\n",
    "\\end{pmatrix}\n",
    "\n",
    "```\n",
    "\t\n",
    "</div>\n",
    "\n",
    "</details>"
   ]
  },
  {
   "cell_type": "markdown",
   "metadata": {},
   "source": [
    "**5.** Producto interior de un vector y un tensor"
   ]
  },
  {
   "cell_type": "markdown",
   "metadata": {},
   "source": [
    "```math\n",
    "\\mathbf{v \\cdot T}\n",
    "```"
   ]
  },
  {
   "cell_type": "markdown",
   "metadata": {},
   "source": [
    "<details>\n",
    "<summary><b>Respuesta</b></summary>\n",
    "\n",
    "<div class=\"alert alert-success\">\n",
    "\n",
    "```math\n",
    "\\mathbf{v \\cdot T} = \n",
    "\\begin{pmatrix} 1 & 2 \\end{pmatrix}\n",
    "\\cdot\n",
    "\\begin{pmatrix} 1 & 3 \\\\ 3 & 2 \\end{pmatrix}\n",
    "```\n",
    "\n",
    "```math\n",
    "\\mathbf{v \\cdot T} = \n",
    "\\begin{pmatrix} 1*1 + 2*3 \\\\ 1*3 + 2*2 \\end{pmatrix}\n",
    "=\n",
    "\\begin{pmatrix} 7 \\\\ 7 \\end{pmatrix}\n",
    "```\n",
    "\t\n",
    "</div>\n",
    "\n",
    "</details>"
   ]
  },
  {
   "cell_type": "markdown",
   "metadata": {},
   "source": [
    "**6.** Producto interior de dos tensores"
   ]
  },
  {
   "cell_type": "markdown",
   "metadata": {},
   "source": [
    "```math\n",
    "\\mathbf{T \\cdot T}\n",
    "```"
   ]
  },
  {
   "cell_type": "markdown",
   "metadata": {},
   "source": [
    "<details>\n",
    "<summary><b>Respuesta</b></summary>\n",
    "\n",
    "<div class=\"alert alert-success\">\n",
    "\n",
    "```math\n",
    "\\mathbf{T \\cdot T} = \n",
    "\\begin{pmatrix} 1 & 3 \\\\ 3 & 2 \\end{pmatrix}\n",
    "\\cdot\n",
    "\\begin{pmatrix} 1 & 3 \\\\ 3 & 2 \\end{pmatrix}\n",
    "```\n",
    "\n",
    "\n",
    "```math\n",
    "\\mathbf{T \\cdot T} = \n",
    "\\begin{pmatrix} 10 & 9 \\\\ 9 & 11 \\end{pmatrix}\n",
    "```\n",
    "\n",
    "Cálculo de componentes:\n",
    "\n",
    "```math\n",
    "Y_{11} = T_{11} T_{11} + T_{12} T_{21}\n",
    "=\n",
    "1*1 + 3*3 = 10\n",
    "```\n",
    "\n",
    "```math\n",
    "Y_{12} = T_{11} T_{12} + T_{12} T_{22}\n",
    "=\n",
    "1*3 + 3*2 = 9\n",
    "```\n",
    "\n",
    "```math\n",
    "Y_{21} = T_{21} T_{11} + T_{22} T_{21}\n",
    "=\n",
    "3*1 + 2*3 = 9\n",
    "```\n",
    "\n",
    "```math\n",
    "Y_{22} = T_{21} T_{12} + T_{22} T_{22}\n",
    "=\n",
    "3*3 + 2*2\n",
    "= 11\n",
    "```\n",
    "\n",
    "</div>\n",
    "\n",
    "</details>"
   ]
  },
  {
   "cell_type": "markdown",
   "metadata": {},
   "source": [
    "**7.** Doble producto interior de dos tensores"
   ]
  },
  {
   "cell_type": "markdown",
   "metadata": {},
   "source": [
    "```math\n",
    "\\mathbf{T : T}\n",
    "```"
   ]
  },
  {
   "cell_type": "markdown",
   "metadata": {},
   "source": [
    "<details>\n",
    "<summary><b>Respuesta</b></summary>\n",
    "\n",
    "<div class=\"alert alert-success\">\n",
    "\n",
    "```math\n",
    "\\mathbf{T \\cdot T} = \n",
    "\\begin{pmatrix} 1 & 3 \\\\ 3 & 2 \\end{pmatrix}\n",
    ":\n",
    "\\begin{pmatrix} 1 & 3 \\\\ 3 & 2 \\end{pmatrix}\n",
    "```\n",
    "\n",
    "```math\n",
    "\\mathbf{T : T} = \n",
    "1 * 1 + 3 * 3 +\n",
    "3 * 3 + 2 * 2 = 21\n",
    "```\n",
    "\n",
    "Recuerde que la operación consiste en una multiplicación elemento a elemento entre los dos tensores, seguido de una operación de colección (suma de los resultantes).\n",
    "\n",
    "\n",
    "</div>\n",
    "\n",
    "</details>"
   ]
  },
  {
   "cell_type": "markdown",
   "metadata": {},
   "source": [
    "**8.** Traza de un tensor"
   ]
  },
  {
   "cell_type": "markdown",
   "metadata": {},
   "source": [
    "```math\n",
    "\\mathrm{tr} (\\mathbf{T})\n",
    "```"
   ]
  },
  {
   "cell_type": "markdown",
   "metadata": {},
   "source": [
    "<details>\n",
    "<summary><b>Respuesta</b></summary>\n",
    "\n",
    "<div class=\"alert alert-success\">\n",
    "\n",
    "```math\n",
    "\\mathrm{tr}(\\mathbf{T}) = \\mathrm{tr}\n",
    "\\begin{pmatrix} 1 & 3 \\\\ 3 & 2 \\end{pmatrix}\n",
    "```\n",
    "\n",
    "```math\n",
    "\\mathrm{tr}(\\mathbf{T}) = 1 * 2 = 2\n",
    "```\n",
    "\n",
    "\n",
    "</div>\n",
    "\n",
    "</details>"
   ]
  },
  {
   "cell_type": "markdown",
   "metadata": {},
   "source": [
    "**9.** Descomposición de un tensor en sus componenetes simétrica y antisimétrica"
   ]
  },
  {
   "cell_type": "markdown",
   "metadata": {},
   "source": [
    "```math\n",
    "\\mathbf{T} = \\mathrm{sym} (\\mathbf{T}) + \\mathrm{skw} (\\mathbf{T})\n",
    "```"
   ]
  },
  {
   "cell_type": "markdown",
   "metadata": {},
   "source": [
    "<details>\n",
    "<summary><b>Respuesta</b></summary>\n",
    "\n",
    "<div class=\"alert alert-success\">\n",
    "\n",
    "\n",
    "```math\n",
    "\\mathbf{T} = \n",
    "\\underbrace{\\frac{1}{2} \\left(\\mathbf{T + T^T}\\right)}_{\\mathrm{sym}(\\mathbf{T})}\n",
    "+\n",
    "\\underbrace{\\frac{1}{2} \\left(\\mathbf{T - T^T}\\right)}_{\\mathrm{skw}(\\mathbf{T})}\n",
    "```\n",
    "\n",
    "```math\n",
    "\\mathbf{T} = \n",
    "\\begin{pmatrix} 1 & 3 \\\\ 3 & 2 \\end{pmatrix}\n",
    "```\n",
    "\n",
    "```math\n",
    "\\mathbf{T^T} = \n",
    "\\begin{pmatrix} 1 & 3 \\\\ 3 & 2 \\end{pmatrix}\n",
    "```\n",
    "\n",
    "--- \n",
    "\n",
    "```math\n",
    "\\mathrm{sym}(\\mathbf{T}) = \n",
    "\\frac{1}{2}\n",
    "\\left(\n",
    "\\begin{pmatrix} 1 & 3 \\\\ 3 & 2 \\end{pmatrix}\n",
    "+\n",
    "\\begin{pmatrix} 1 & 3 \\\\ 3 & 2 \\end{pmatrix}\n",
    "\\right)\n",
    "=\n",
    "\\frac{1}{2}\n",
    "\\begin{pmatrix} 2 & 6 \\\\ 6 & 4 \\end{pmatrix}\n",
    "```\n",
    "\n",
    "```math\n",
    "\\mathrm{sym}(\\mathbf{T})\n",
    "=\n",
    "\\begin{pmatrix} 1 & 3 \\\\ 3 & 2 \\end{pmatrix}\n",
    "```\n",
    "\n",
    "---\n",
    "\n",
    "```math\n",
    "\\mathrm{skw}(\\mathbf{T}) = \n",
    "\\frac{1}{2}\n",
    "\\left(\n",
    "\\begin{pmatrix} 1 & 3 \\\\ 3 & 2 \\end{pmatrix}\n",
    "-\n",
    "\\begin{pmatrix} 1 & 3 \\\\ 3 & 2 \\end{pmatrix}\n",
    "\\right)\n",
    "=\n",
    "\\frac{1}{2}\n",
    "\\begin{pmatrix} 0 & 0 \\\\ 0 & 0 \\end{pmatrix}\n",
    "```\n",
    "\n",
    "```math\n",
    "\\mathrm{skw}(\\mathbf{T})\n",
    "=\n",
    "\\begin{pmatrix} 0 & 0 \\\\ 0 & 0 \\end{pmatrix}\n",
    "```\n",
    "\n",
    "</div>\n",
    "\n",
    "</details>"
   ]
  },
  {
   "cell_type": "markdown",
   "metadata": {},
   "source": [
    "**10.** Descomposición de un tensor en sus componentes desviadora y esférica"
   ]
  },
  {
   "cell_type": "markdown",
   "metadata": {},
   "source": [
    "```math\n",
    "\\mathbf{T} = \\mathrm{dev} (\\mathbf{T}) + \\mathrm{sph} (\\mathbf{T})\n",
    "```\n",
    "\n",
    "```math\n",
    "\\mathbf{T} = \n",
    "\\begin{pmatrix}\n",
    "1 & 6 & 5 \\\\ \n",
    "6 & 2 & 4 \\\\\n",
    "5 & 4 & 3\n",
    "\\end{pmatrix}\n",
    "```"
   ]
  },
  {
   "cell_type": "markdown",
   "metadata": {},
   "source": [
    "<details>\n",
    "<summary><b>Respuesta</b></summary>\n",
    "\n",
    "<div class=\"alert alert-success\">\n",
    "\n",
    "\n",
    "```math\n",
    "\\mathbf{T} = \n",
    "\\underbrace{\\mathbf{T} - \\frac{1}{3} \\left(\\mathrm{tr}\\left(\\mathbf{T}\\right) \\right) \\mathbf{I}}_{\\mathrm{dev}\\left(\\mathbf{T}\\right)} \n",
    "+ \n",
    "\\underbrace{\\frac{1}{3} \\left(\\mathrm{tr}\\left(\\mathbf{T}\\right) \\right) \\mathbf{I}}_{\\mathrm{sph}\\left(\\mathbf{T}\\right)} \n",
    "```\n",
    "\n",
    "```math\n",
    "\\mathbf{T} = \n",
    "\\begin{pmatrix}\n",
    "1 & 6 & 5 \\\\ \n",
    "6 & 2 & 4 \\\\\n",
    "5 & 4 & 3\n",
    "\\end{pmatrix}\n",
    "```\n",
    "\n",
    "```math\n",
    "\\mathrm{tr}(\\mathbf{T}) = 6\n",
    "```\n",
    "\n",
    "```math\n",
    "\\mathbf{I} = \n",
    "\\begin{pmatrix} 1 & 0 & 0\\\\ 0 & 1 &0 \\\\ 0 & 0 & 1 \\end{pmatrix}\n",
    "```\n",
    "\n",
    "--- \n",
    "\n",
    "```math\n",
    "\\mathrm{dev}\\left(\\mathbf{T}\\right) = \n",
    "\\begin{pmatrix}\n",
    "1 & 6 & 5 \\\\ \n",
    "6 & 2 & 4 \\\\\n",
    "5 & 4 & 3\n",
    "\\end{pmatrix}\n",
    "-\n",
    "\\begin{pmatrix} 2 & 0 & 0 \\\\ 0 & 2 & 0 \\\\ 0 & 0 & 2 \\end{pmatrix}\n",
    "```\n",
    "\n",
    "```math\n",
    "\\mathrm{dev}\\left(\\mathbf{T}\\right) = \n",
    "\\begin{pmatrix}\n",
    "-1 & 6 & 5 \\\\ \n",
    "6 & 0 & 4 \\\\\n",
    "5 & 4 & 1\n",
    "\\end{pmatrix}\n",
    "```\n",
    "\n",
    "---\n",
    "\n",
    "```math\n",
    "\\mathrm{sph}\\left(\\mathbf{T}\\right) = \n",
    "\\frac{6}{3} \n",
    "\\begin{pmatrix} 1 & 0 & 0 \\\\ 0 & 1 & 0 \\\\ 0 & 0 & 1 \\end{pmatrix}\n",
    "```\n",
    "\n",
    "```math\n",
    "\\mathrm{sph}\\left(\\mathbf{T}\\right)\n",
    "=\n",
    "\\begin{pmatrix} 2 & 0 & 0 \\\\ 0 & 2 & 0 \\\\ 0 & 0 & 2 \\end{pmatrix}\n",
    "```\n",
    "\n",
    "</div>\n",
    "\n",
    "</details>"
   ]
  },
  {
   "cell_type": "markdown",
   "metadata": {},
   "source": [
    "## Problema 3"
   ]
  },
  {
   "cell_type": "markdown",
   "metadata": {},
   "source": [
    "La ecuación de conservación de cantidad de movimiento, para un material homogéneo e incompresible esta dada por:\n",
    "\n",
    "\n",
    "```math\n",
    "\\frac{\\partial \\mathbf{u}}{\\partial t} + \\mathbf{\\nabla \\cdot} (\\mathbf{u u}) = \\mathbf{\\nabla \\cdot} (\\nu \\mathbf{\\nabla u}) - \\frac{1}{\\rho} \\mathbf{\\nabla} p \n",
    "```"
   ]
  },
  {
   "cell_type": "markdown",
   "metadata": {},
   "source": [
    "Escriba la ecuación en términos de sus componentes en un sistema de coordenadas cartesiano $(x, y, z)$.\n",
    "\n",
    "Puede utilizar el resumen de álgebra tensorial que se provee en el Notebook previo."
   ]
  },
  {
   "cell_type": "markdown",
   "metadata": {},
   "source": [
    "### Respuesta 3"
   ]
  },
  {
   "cell_type": "markdown",
   "metadata": {},
   "source": [
    "Para escribir la ecuación en términos de sus componentes en un sistema de coordenadas cartesiano se deben desarrollar cada uno de los términos en la ecuación."
   ]
  },
  {
   "cell_type": "markdown",
   "metadata": {},
   "source": [
    "#### Término transitorio"
   ]
  },
  {
   "cell_type": "markdown",
   "metadata": {},
   "source": [
    "```math\n",
    "\\frac{\\partial \\mathbf{u}}{\\partial t} =\n",
    "\\begin{pmatrix}\n",
    "\\frac{\\partial u_x}{\\partial t} \\\\ \\\\\n",
    "\\frac{\\partial u_y}{\\partial t} \\\\ \\\\\n",
    "\\frac{\\partial u_z}{\\partial t}\n",
    "\\end{pmatrix}\n",
    "```"
   ]
  },
  {
   "cell_type": "markdown",
   "metadata": {},
   "source": [
    "#### Término advectivo"
   ]
  },
  {
   "cell_type": "markdown",
   "metadata": {},
   "source": [
    "```math\n",
    "\\mathbf{\\nabla \\cdot (u u)} = \n",
    "\\begin{pmatrix}\n",
    "\\frac{\\partial}{\\partial x} (u_x u_x) + \\frac{\\partial}{\\partial y} (u_y u_x) + \\frac{\\partial}{\\partial z} (u_z u_x) \\\\\n",
    "\\frac{\\partial}{\\partial x} (u_x u_y) + \\frac{\\partial}{\\partial y} (u_y u_y) + \\frac{\\partial}{\\partial z} (u_z u_y) \\\\\n",
    "\\frac{\\partial}{\\partial x} (u_x u_z) + \\frac{\\partial}{\\partial y} (u_y u_z) + \\frac{\\partial}{\\partial z} (u_z u_z)\n",
    "\\end{pmatrix}\n",
    "```"
   ]
  },
  {
   "cell_type": "markdown",
   "metadata": {},
   "source": [
    "Expandiendo y agrupando términos:\n",
    "\n",
    "```math\n",
    "\\mathbf{\\nabla \\cdot (u u)} = \n",
    "\\begin{pmatrix}\n",
    "u_x \\cancel{\\left(\\frac{\\partial u_x}{\\partial x} + \\frac{\\partial u_y}{\\partial y} + \\frac{\\partial u_z}{\\partial z} \\right)} + u_x \\frac{\\partial u_x}{\\partial x} + u_y \\frac{\\partial u_x}{\\partial y} + u_z \\frac{\\partial u_x}{\\partial z} \\\\\n",
    "u_y \\cancel{\\left(\\frac{\\partial u_x}{\\partial x} + \\frac{\\partial u_y}{\\partial y} + \\frac{\\partial u_z}{\\partial z} \\right)} + u_x \\frac{\\partial u_y}{\\partial x} + u_y \\frac{\\partial u_y}{\\partial y} + u_z \\frac{\\partial u_z}{\\partial z} \\\\\n",
    "u_z \\cancel{\\left(\\frac{\\partial u_x}{\\partial x} + \\frac{\\partial u_y}{\\partial y} + \\frac{\\partial u_z}{\\partial z} \\right)} + u_x \\frac{\\partial u_z}{\\partial x} + u_y \\frac{\\partial u_z}{\\partial y} + u_z \\frac{\\partial u_z}{\\partial z} \\\\\n",
    "\\end{pmatrix}\n",
    "```"
   ]
  },
  {
   "cell_type": "markdown",
   "metadata": {},
   "source": [
    "Finalmente:\n",
    "\n",
    "```math\n",
    "\\mathbf{\\nabla \\cdot (u u)} = \n",
    "\\begin{pmatrix}\n",
    "u_x \\frac{\\partial u_x}{\\partial x} + u_y \\frac{\\partial u_x}{\\partial y} + u_z \\frac{\\partial u_x}{\\partial z} \\\\ \\\\\n",
    "u_x \\frac{\\partial u_y}{\\partial x} + u_y \\frac{\\partial u_y}{\\partial y} + u_z \\frac{\\partial u_z}{\\partial z} \\\\ \\\\\n",
    "u_x \\frac{\\partial u_z}{\\partial x} + u_y \\frac{\\partial u_z}{\\partial y} + u_z \\frac{\\partial u_z}{\\partial z}\n",
    "\\end{pmatrix}\n",
    "```"
   ]
  },
  {
   "cell_type": "markdown",
   "metadata": {},
   "source": [
    "#### Término viscoso"
   ]
  },
  {
   "cell_type": "markdown",
   "metadata": {},
   "source": [
    "```math\n",
    "\\mathbf{\\nabla \\cdot (\\nu \\nabla u)} = \n",
    "\\begin{pmatrix}\n",
    "\\frac{\\partial}{\\partial x} (\\nu \\frac{\\partial u_x}{\\partial x}) + \\frac{\\partial}{\\partial y} (\\nu \\frac{\\partial u_x}{\\partial y}) + \\frac{\\partial}{\\partial z} (\\nu \\frac{\\partial u_x}{\\partial z}) \\\\ \\\\\n",
    "\\frac{\\partial}{\\partial x} (\\nu \\frac{\\partial u_y}{\\partial x}) + \\frac{\\partial}{\\partial y} (\\nu \\frac{\\partial u_y}{\\partial y}) + \\frac{\\partial}{\\partial z} (\\nu \\frac{\\partial u_y}{\\partial z}) \\\\ \\\\\n",
    "\\frac{\\partial}{\\partial x} (\\nu \\frac{\\partial u_z}{\\partial x}) + \\frac{\\partial}{\\partial y} (\\nu \\frac{\\partial u_z}{\\partial y}) + \\frac{\\partial}{\\partial z} (\\nu \\frac{\\partial u_z}{\\partial z})\n",
    "\\end{pmatrix}\n",
    "```"
   ]
  },
  {
   "cell_type": "markdown",
   "metadata": {},
   "source": [
    "#### Término de gradiente de presión"
   ]
  },
  {
   "cell_type": "markdown",
   "metadata": {},
   "source": [
    "```math\n",
    "\\frac{1}{\\rho} \\mathbf{\\nabla} p =\n",
    "\\frac{1}{\\rho}\n",
    "\\begin{pmatrix}\n",
    "\\frac{\\partial p}{\\partial x} \\\\ \\\\\n",
    "\\frac{\\partial p}{\\partial y} \\\\ \\\\\n",
    "\\frac{\\partial p}{\\partial z}\n",
    "\\end{pmatrix}\n",
    "```"
   ]
  },
  {
   "cell_type": "markdown",
   "metadata": {},
   "source": [
    "Una vez que los términos han sido desarrolados, se pueden escribir las ecuaciones para cada una de las componentes."
   ]
  },
  {
   "cell_type": "markdown",
   "metadata": {},
   "source": [
    "#### Escritura con notación vectorial (expandida)"
   ]
  },
  {
   "cell_type": "markdown",
   "metadata": {},
   "source": [
    "```math\n",
    "\\frac{\\partial \\mathbf{u}}{\\partial t} + \\mathbf{\\nabla \\cdot} (\\mathbf{u u}) = \\mathbf{\\nabla \\cdot} (\\nu \\mathbf{\\nabla u}) - \\frac{1}{\\rho} \\mathbf{\\nabla} p \n",
    "```"
   ]
  },
  {
   "cell_type": "markdown",
   "metadata": {},
   "source": [
    "```math\n",
    "\\underbrace{\n",
    "\\begin{pmatrix}\n",
    "\\frac{\\partial u_x}{\\partial t} \\\\ \\\\\n",
    "\\frac{\\partial u_y}{\\partial t} \\\\ \\\\\n",
    "\\frac{\\partial u_z}{\\partial t}\n",
    "\\end{pmatrix}\n",
    "}_{\\frac{\\partial \\mathbf{u}}{\\partial t}}\n",
    "+\n",
    "\\underbrace{\n",
    "\\begin{pmatrix}\n",
    "u_x \\frac{\\partial u_x}{\\partial x} + u_y \\frac{\\partial u_x}{\\partial y} + u_z \\frac{\\partial u_x}{\\partial z} \\\\ \\\\\n",
    "u_x \\frac{\\partial u_y}{\\partial x} + u_y \\frac{\\partial u_y}{\\partial y} + u_z \\frac{\\partial u_z}{\\partial z} \\\\ \\\\\n",
    "u_x \\frac{\\partial u_z}{\\partial x} + u_y \\frac{\\partial u_z}{\\partial y} + u_z \\frac{\\partial u_z}{\\partial z}\n",
    "\\end{pmatrix}\n",
    "}_{\\mathbf{\\nabla \\cdot} (\\mathbf{u u})}\n",
    "=\n",
    "\\underbrace{\n",
    "\\begin{pmatrix}\n",
    "\\frac{\\partial}{\\partial x} (\\nu \\frac{\\partial u_x}{\\partial x}) + \\frac{\\partial}{\\partial y} (\\nu \\frac{\\partial u_x}{\\partial y}) + \\frac{\\partial}{\\partial z} (\\nu \\frac{\\partial u_x}{\\partial z}) \\\\ \\\\\n",
    "\\frac{\\partial}{\\partial x} (\\nu \\frac{\\partial u_y}{\\partial x}) + \\frac{\\partial}{\\partial y} (\\nu \\frac{\\partial u_y}{\\partial y}) + \\frac{\\partial}{\\partial z} (\\nu \\frac{\\partial u_y}{\\partial z}) \\\\ \\\\\n",
    "\\frac{\\partial}{\\partial x} (\\nu \\frac{\\partial u_z}{\\partial x}) + \\frac{\\partial}{\\partial y} (\\nu \\frac{\\partial u_z}{\\partial y}) + \\frac{\\partial}{\\partial z} (\\nu \\frac{\\partial u_z}{\\partial z})\n",
    "\\end{pmatrix}\n",
    "}_{\\mathbf{\\nabla \\cdot} (\\nu \\mathbf{\\nabla u})}\n",
    "-\n",
    "\\underbrace{\n",
    "\\frac{1}{\\rho}\n",
    "\\begin{pmatrix}\n",
    "\\frac{\\partial p}{\\partial x} \\\\ \\\\\n",
    "\\frac{\\partial p}{\\partial y} \\\\ \\\\\n",
    "\\frac{\\partial p}{\\partial z}\n",
    "\\end{pmatrix}\n",
    "}_{\\frac{1}{\\rho} \\mathbf{\\nabla} p}\n",
    "```"
   ]
  },
  {
   "cell_type": "markdown",
   "metadata": {},
   "source": [
    "#### Componentes de la ecuación"
   ]
  },
  {
   "cell_type": "markdown",
   "metadata": {},
   "source": [
    "**Componente $x$:**\n",
    "\n",
    "```math\n",
    "\\frac{\\partial u_x}{\\partial t}\n",
    "+ u_x \\frac{\\partial u_x}{\\partial x} + u_y \\frac{\\partial u_x}{\\partial y} + u_z \\frac{\\partial u_x}{\\partial z} \n",
    "=\n",
    "\\frac{\\partial}{\\partial x} \\left(\\nu \\frac{\\partial u_x}{\\partial x}\\right) + \\frac{\\partial}{\\partial y} \\left(\\nu \\frac{\\partial u_x}{\\partial y}\\right) + \\frac{\\partial}{\\partial z} \\left(\\nu \\frac{\\partial u_x}{\\partial z}\\right)\n",
    "- \\frac{1}{\\rho} \\frac{\\partial p}{\\partial x}\n",
    "```"
   ]
  },
  {
   "cell_type": "markdown",
   "metadata": {},
   "source": [
    "**Componente $y$:**\n",
    "\n",
    "```math\n",
    "\\frac{\\partial u_y}{\\partial t}\n",
    "+ u_x \\frac{\\partial u_y}{\\partial x} + u_y \\frac{\\partial u_y}{\\partial y} + u_z \\frac{\\partial u_y}{\\partial z} \n",
    "=\n",
    "\\frac{\\partial}{\\partial x} \\left(\\nu \\frac{\\partial u_y}{\\partial x}\\right) + \\frac{\\partial}{\\partial y} \\left(\\nu \\frac{\\partial u_y}{\\partial y}\\right) + \\frac{\\partial}{\\partial z} \\left(\\nu \\frac{\\partial u_y}{\\partial z}\\right)\n",
    "- \\frac{1}{\\rho} \\frac{\\partial p}{\\partial y}\n",
    "```"
   ]
  },
  {
   "cell_type": "markdown",
   "metadata": {},
   "source": [
    "**Componente $z$:**\n",
    "\n",
    "```math\n",
    "\\frac{\\partial u_z}{\\partial t}\n",
    "+ u_x \\frac{\\partial u_z}{\\partial x} + u_y \\frac{\\partial u_z}{\\partial y} + u_z \\frac{\\partial u_z}{\\partial z} \n",
    "=\n",
    "\\frac{\\partial}{\\partial x} \\left(\\nu \\frac{\\partial u_z}{\\partial x}\\right) + \\frac{\\partial}{\\partial y} \\left(\\nu \\frac{\\partial u_z}{\\partial y}\\right) + \\frac{\\partial}{\\partial z} \\left(\\nu \\frac{\\partial u_z}{\\partial z}\\right)\n",
    "- \\frac{1}{\\rho} \\frac{\\partial p}{\\partial z}\n",
    "```"
   ]
  },
  {
   "cell_type": "markdown",
   "metadata": {},
   "source": []
  }
 ],
 "metadata": {
  "language_info": {
   "name": "python"
  }
 },
 "nbformat": 4,
 "nbformat_minor": 2
}
