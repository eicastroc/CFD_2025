{
 "cells": [
  {
   "cell_type": "markdown",
   "metadata": {},
   "source": [
    "# Fluidinámica computacional (Sesión 01)"
   ]
  },
  {
   "cell_type": "markdown",
   "metadata": {},
   "source": [
    "<img src=\"figures/LogoCinvestav.png\" style=\"width:330px;height:100px\" title=\"Cinvestav\">"
   ]
  },
  {
   "cell_type": "markdown",
   "metadata": {},
   "source": [
    "**CINVESTAV Unidad Saltillo**\n",
    "\n",
    "**Programa de Maestría en Ciencias en Ingeniería Metalúrgica**\n",
    "\n",
    "Dr. Edgar Ivan Castro Cedeño\n",
    "\n",
    "\n",
    "Enero - Junio 2025\n",
    "\n",
    "Contacto:\n",
    "[edgar.castro@cinvestav.mx](mailto:edgar.castro@cinvestav.mx)"
   ]
  },
  {
   "cell_type": "markdown",
   "metadata": {},
   "source": [
    "# Resumen de Álgebra Tensorial"
   ]
  },
  {
   "cell_type": "markdown",
   "metadata": {},
   "source": [
    "Debajo se hace un resumen de álgebra tensorial aplicado, con coordenadas cartesianas $(x, y, z)$, utilizando la siguiente notación: \n",
    "\n",
    "- escalar $s$ \n",
    "\n",
    "- vectores $\\mathbf{a}$, $\\mathbf{b}$ \n",
    "\n",
    "- tensores $\\mathbf{T}$, $\\mathbf{S}$, $\\mathbf{Y}$.\n",
    "\n",
    "La mayoría de los ejemplos han sido adaptados a partir de: [CFD Direct](https://doc.cfd.direct/notes/cfd-general-principles/summary-of-tensor-algebra)"
   ]
  },
  {
   "cell_type": "markdown",
   "metadata": {},
   "source": [
    "# Transpuestas"
   ]
  },
  {
   "cell_type": "markdown",
   "metadata": {},
   "source": [
    "## Transpuesta de un vector"
   ]
  },
  {
   "cell_type": "markdown",
   "metadata": {},
   "source": [
    "Para un vector fila, $\\mathbf{a}$; la transpuesta, $\\mathbf{a^T}$ es un vector columna.\n",
    "\n",
    "$$\n",
    "\\mathbf{a} = \\begin{pmatrix} a_x & a_y & a_z \\end{pmatrix}\n",
    "$$\n",
    "\n",
    "$$\n",
    "\\mathbf{a^T} = \\begin{pmatrix} a_x \\\\ a_y \\\\ a_z \\end{pmatrix}\n",
    "$$"
   ]
  },
  {
   "cell_type": "markdown",
   "metadata": {},
   "source": [
    "Para un vector columna, $\\mathbf{b}$; la transpuesta, $\\mathbf{b^T}$ es un vector fila.\n",
    "\n",
    "$$\n",
    "\\mathbf{b} = \\begin{pmatrix} b_x \\\\ b_y \\\\ b_z \\end{pmatrix}\n",
    "$$\n",
    "\n",
    "$$\n",
    "\\mathbf{b^T} = \\begin{pmatrix} b_x & b_y & b_z \\end{pmatrix}\n",
    "$$"
   ]
  },
  {
   "cell_type": "markdown",
   "metadata": {},
   "source": [
    "## Transpuesta de un tensor"
   ]
  },
  {
   "cell_type": "markdown",
   "metadata": {},
   "source": [
    "En un tensor, la transpuesta se obtiene al intercambiar la posicion de los terminos localizados fuera de la diagonal de la matriz que representa el tensor (de segundo orden).\n",
    "\n",
    "$$\n",
    "\\mathbf{T} = \n",
    "\\begin{pmatrix}\n",
    "T_{xx} & T_{xy} & T_{xz} \\\\\n",
    "T_{yx} & T_{yy} & T_{yz} \\\\\n",
    "T_{zx} & T_{zy} & T_{zz}\n",
    "\\end{pmatrix}\n",
    "$$\n",
    "\n",
    "$$\n",
    "\\mathbf{T^T} = \n",
    "\\begin{pmatrix}\n",
    "T_{xx} & T_{yx} & T_{zx} \\\\\n",
    "T_{xy} & T_{yy} & T_{zy} \\\\\n",
    "T_{xz} & T_{yz} & T_{zz}\n",
    "\\end{pmatrix}\n",
    "$$"
   ]
  },
  {
   "cell_type": "markdown",
   "metadata": {},
   "source": [
    "# Productos"
   ]
  },
  {
   "cell_type": "markdown",
   "metadata": {},
   "source": [
    "## Producto interior de dos vectores"
   ]
  },
  {
   "cell_type": "markdown",
   "metadata": {},
   "source": [
    "**El resultado es un escalar.**\n",
    "\n",
    "También conocido como producto escalar, o producto punto de dos vectores. \n",
    "\n",
    "$$\n",
    "s = \\mathbf{a \\cdot b}\n",
    "$$\n",
    "\n",
    "$$\n",
    "s =  a_x b_x + a_y b_y + a_z b_z\n",
    "$$"
   ]
  },
  {
   "cell_type": "markdown",
   "metadata": {},
   "source": [
    "<details>\n",
    "<summary><b>Nomenclatura</b></summary>\n",
    "\n",
    "<div class=\"alert alert-info\">\n",
    "\n",
    "$$\n",
    "\\mathbf{a} = \\begin{pmatrix} a_x & a_y & a_z \\end{pmatrix}\n",
    "$$\n",
    "\n",
    "$$\n",
    "\\mathbf{b} = \\begin{pmatrix} b_x & b_y & b_z \\end{pmatrix}\n",
    "$$\n",
    "\n",
    "</div>\n",
    "\n",
    "</details>"
   ]
  },
  {
   "cell_type": "markdown",
   "metadata": {},
   "source": [
    "### Ejemplo de aplicación"
   ]
  },
  {
   "cell_type": "markdown",
   "metadata": {},
   "source": [
    "Ecuación de continuidad para un fluido incompresible\n",
    "\n",
    "$$\n",
    "\\mathbf{\\nabla \\cdot u} = 0\n",
    "$$\n",
    "\n",
    "$$\n",
    "\\frac{\\partial}{\\partial x} u_x + \\frac{\\partial}{\\partial y} u_y + \\frac{\\partial}{\\partial z} u_z = 0\n",
    "$$"
   ]
  },
  {
   "cell_type": "markdown",
   "metadata": {},
   "source": [
    "<details>\n",
    "<summary><b>Nomenclatura</b></summary>\n",
    "\n",
    "<div class=\"alert alert-info\">\n",
    "\n",
    "$$\n",
    "\\mathbf{\\nabla} = \\begin{pmatrix} \\frac{\\partial}{\\partial x} & \\frac{\\partial}{\\partial y} & \\frac{\\partial}{\\partial z} \\end{pmatrix}\n",
    "$$\n",
    "\t\n",
    "$$\n",
    "\\mathbf{u} = \\begin{pmatrix} u_x & u_y & u_z \\end{pmatrix}\n",
    "$$\n",
    "\n",
    "</div>\n",
    "\n",
    "</details>"
   ]
  },
  {
   "cell_type": "markdown",
   "metadata": {},
   "source": [
    "## Producto cruz de dos vectores"
   ]
  },
  {
   "cell_type": "markdown",
   "metadata": {},
   "source": [
    "**El resultado es un vector.**\n",
    "\n",
    "$$\n",
    "\\mathbf{a \\times b} = \\begin{pmatrix} a_y b_z - a_z b_y \\\\ a_z b_x - a_x b_z \\\\ a_x b_y - a_y b_x \\end{pmatrix}\n",
    "$$"
   ]
  },
  {
   "cell_type": "markdown",
   "metadata": {},
   "source": [
    "<details>\n",
    "<summary><b>Nomenclatura</b></summary>\n",
    "\n",
    "<div class=\"alert alert-info\">\n",
    "\n",
    "$$\n",
    "\\mathbf{a} = \\begin{pmatrix} a_x & a_y & a_z \\end{pmatrix} \n",
    "$$\n",
    "\t\n",
    "$$\n",
    "\\mathbf{b} = \\begin{pmatrix} b_x & b_y & b_z \\end{pmatrix} \n",
    "$$\n",
    "\n",
    "</div>\n",
    "\n",
    "</details>"
   ]
  },
  {
   "cell_type": "markdown",
   "metadata": {},
   "source": [
    "<div class=\"alert alert-success\">\n",
    "\n",
    "**Método del determinante simbólico**\n",
    "\n",
    "El producto cruz de dos vectores se puede representar mediante el desarrollo por la primera file de un determinante simbólico de orden 3.\n",
    "\n",
    "$$\n",
    "\\mathbf{a \\times b} = \n",
    "\\begin{vmatrix}\n",
    "\\mathbf{i} & \\mathbf{j} & \\mathbf{k} \\\\\n",
    "a_x & a_y & a_z \\\\ \n",
    "b_x & b_y & b_z\n",
    "\\end{vmatrix}\n",
    "=\n",
    "\\begin{vmatrix} a_y & a_z \\\\ b_y & b_z \\end{vmatrix} \\mathbf{i} -\n",
    "\\begin{vmatrix} a_x & a_z \\\\ b_x & b_z \\end{vmatrix} \\mathbf{j} +\n",
    "\\begin{vmatrix} a_x & a_y \\\\ b_x & b_y \\end{vmatrix} \\mathbf{k}\n",
    "$$\n",
    "\n",
    "$$\n",
    "\\mathbf{a \\times b} =\n",
    "\\left(a_y\\, b_z - b_y\\,a_z\\right) \\mathbf{i} -\n",
    "\\left(a_x\\, b_z - b_x\\,a_z\\right) \\mathbf{j} +\n",
    "\\left(a_x\\, b_y - b_x\\,a_y\\right) \\mathbf{k}\n",
    "$$\n",
    "\n",
    "$$\n",
    "\\mathbf{a \\times b} = \\begin{pmatrix} a_y b_z - a_z b_y \\\\ a_z b_x - a_x b_z \\\\ a_x b_y - a_y b_x \\end{pmatrix}\n",
    "$$\n",
    "\n",
    "</div>"
   ]
  },
  {
   "cell_type": "markdown",
   "metadata": {},
   "source": [
    "### Ejemplo de aplicación"
   ]
  },
  {
   "cell_type": "markdown",
   "metadata": {},
   "source": [
    "Vorticidad, que describe la tendencia de un fluido a rotar localmente.\n",
    "\n",
    "$$\n",
    "\\mathbf{\\omega = \\nabla \\times u}\n",
    "$$\n",
    "\n",
    "$$\n",
    "\\mathbf{ \\nabla \\times u} = \n",
    "\\begin{pmatrix} \n",
    "\\frac{\\partial u_z}{\\partial y} - \\frac{\\partial u_y}{\\partial z} \\\\ \\\\\n",
    "\\frac{\\partial u_x}{\\partial z} - \\frac{\\partial u_z}{\\partial x} \\\\ \\\\\n",
    "\\frac{\\partial u_y}{\\partial x} - \\frac{\\partial u_x}{\\partial y}\n",
    "\\end{pmatrix}\n",
    "$$"
   ]
  },
  {
   "cell_type": "markdown",
   "metadata": {},
   "source": [
    "<details>\n",
    "<summary><b>Nomenclatura</b></summary>\n",
    "\n",
    "<div class=\"alert alert-info\">\n",
    "\n",
    "$$\n",
    "\\mathbf{\\nabla} = \\begin{pmatrix} \\frac{\\partial}{\\partial x} & \\frac{\\partial}{\\partial y} & \\frac{\\partial}{\\partial z} \\end{pmatrix}\n",
    "$$\n",
    "\t\n",
    "$$\n",
    "\\mathbf{u} = \\begin{pmatrix} u_x & u_y & u_z \\end{pmatrix}\n",
    "$$\n",
    "\n",
    "</div>\n",
    "\n",
    "</details>"
   ]
  },
  {
   "cell_type": "markdown",
   "metadata": {},
   "source": [
    "## Producto diádico de dos vectores"
   ]
  },
  {
   "cell_type": "markdown",
   "metadata": {},
   "source": [
    "**El resultado es un tensor.**\n",
    "\n",
    "$$\n",
    "\\mathbf{T = a \\otimes b} = \\begin{pmatrix}\n",
    "a_x b_x & a_x b_y & a_x b_z \\\\\n",
    "a_y b_x & a_y b_y & a_y b_z \\\\\n",
    "a_z b_x & a_z b_y & a_z b_z\n",
    "\\end{pmatrix}\n",
    "$$\n",
    "\n",
    "También se puede expresar de forma compacta como: \n",
    "\n",
    "$$\\mathbf{T =  a b}$$ "
   ]
  },
  {
   "cell_type": "markdown",
   "metadata": {},
   "source": [
    "<details>\n",
    "<summary><b>Nomenclatura</b></summary>\n",
    "\n",
    "<div class=\"alert alert-info\">\n",
    "\n",
    "$$\n",
    "\\mathbf{a} = \\begin{pmatrix} a_x \\\\ a_y \\\\ a_z \\end{pmatrix}\n",
    "$$\n",
    "\n",
    "$$\n",
    "\\mathbf{b} = \\begin{pmatrix} b_x & b_y & b_z \\end{pmatrix}\n",
    "$$\n",
    "\n",
    "</div>\n",
    "\n",
    "</details>"
   ]
  },
  {
   "cell_type": "markdown",
   "metadata": {},
   "source": [
    "### Ejemplo de aplicación"
   ]
  },
  {
   "cell_type": "markdown",
   "metadata": {},
   "source": [
    "Ecuación de conservación de cantidad de movimiento, para un material homogéneo e incompresible.\n",
    "\n",
    "$$\n",
    "\\frac{\\partial \\mathbf{u}}{\\partial t} + \\mathbf{\\nabla \\cdot} (\\mathbf{u u}) = \\mathbf{\\nabla \\cdot} (\\nu \\mathbf{\\nabla u}) - \\frac{1}{\\rho} \\mathbf{\\nabla} p \n",
    "$$"
   ]
  },
  {
   "cell_type": "markdown",
   "metadata": {},
   "source": [
    "1. Dentro del termino advectivo se tiene el producto diádico de las velocidades: \n",
    "\n",
    "$$\n",
    "\\mathbf{u u} = \n",
    "\\begin{pmatrix}\n",
    "u_x u_x & u_x u_y & u_x u_z \\\\\n",
    "u_y u_x & u_y u_y & u_y u_z \\\\\n",
    "u_z u_x & u_z u_y & u_z u_z\n",
    "\\end{pmatrix}\n",
    "$$"
   ]
  },
  {
   "cell_type": "markdown",
   "metadata": {},
   "source": [
    "<details>\n",
    "<summary><b>Nomenclatura</b></summary>\n",
    "\n",
    "<div class=\"alert alert-info\">\n",
    "\n",
    "Para mantener una notación compacta se considera que $u$ se representa mediante un vector fila, y también mediante un vector columna sin necesidad de indicarlo explícitamente.\n",
    "\n",
    "$$\n",
    "\\mathbf{u} =\n",
    "\\begin{pmatrix} u_x & u_y & u_z \\end{pmatrix}\n",
    "= \n",
    "\\begin{pmatrix} u_x \\\\ u_y \\\\ u_z \\end{pmatrix}\n",
    "$$\n",
    "\n",
    "</div>\n",
    "\n",
    "</details>"
   ]
  },
  {
   "cell_type": "markdown",
   "metadata": {},
   "source": [
    "2. Dentro del termino difusivo se tiene el tensor de velocidad de deformación:\n",
    "\n",
    "$$\n",
    "\\mathbf{\\nabla u} = \n",
    "\\begin{pmatrix}\n",
    "\\frac{\\partial}{\\partial x} (u_x) & \\frac{\\partial}{\\partial x} (u_y) & \\frac{\\partial}{\\partial x} (u_z) \\\\\n",
    "\\frac{\\partial}{\\partial y} (u_x) & \\frac{\\partial}{\\partial y} (u_y) & \\frac{\\partial}{\\partial y} (u_z) \\\\\n",
    "\\frac{\\partial}{\\partial z} (u_x) & \\frac{\\partial}{\\partial z} (u_y) & \\frac{\\partial}{\\partial z} (u_z)\n",
    "\\end{pmatrix}\n",
    "$$"
   ]
  },
  {
   "cell_type": "markdown",
   "metadata": {},
   "source": [
    "<details>\n",
    "<summary><b>Nomenclatura</b></summary>\n",
    "\n",
    "<div class=\"alert alert-info\">\n",
    "\n",
    "$$\n",
    "\\mathbf{\\nabla} = \\begin{pmatrix} \\frac{\\partial}{\\partial x} \\\\ \\frac{\\partial}{\\partial y} \\\\ \\frac{\\partial}{\\partial z} \\end{pmatrix}\n",
    "$$\n",
    "\n",
    "$$\n",
    "\\mathbf{u} = \\begin{pmatrix} u_x & u_y & u_z \\end{pmatrix}\n",
    "$$\n",
    "\n",
    "</div>\n",
    "\n",
    "</details>"
   ]
  },
  {
   "cell_type": "markdown",
   "metadata": {},
   "source": [
    "## Producto interior de un vector y un tensor"
   ]
  },
  {
   "cell_type": "markdown",
   "metadata": {},
   "source": [
    "**El resultado es un vector.**\n",
    "\n",
    "$$\n",
    "\\mathbf{b = a \\cdot T} = \\begin{pmatrix}\n",
    "a_x T_{xx} + a_y T_{yx} + a_z T_{zx}\\\\\n",
    "a_x T_{xy} + a_y T_{yy} + a_z T_{zy}\\\\\n",
    "a_x T_{xz} + a_y T_{yz} + a_z T_{zz}\n",
    "\\end{pmatrix}\n",
    "$$"
   ]
  },
  {
   "cell_type": "markdown",
   "metadata": {},
   "source": [
    "<details>\n",
    "<summary><b>Nomenclatura</b></summary>\n",
    "\n",
    "<div class=\"alert alert-info\">\n",
    "\n",
    "$$\n",
    "\\mathbf{a} = \\begin{pmatrix} a_x & a_y & a_z \\end{pmatrix}\n",
    "$$\n",
    "\n",
    "$$\n",
    "\\mathbf{T} =\n",
    "\\begin{pmatrix} \n",
    "T_{xx} & T_{xy} & T_{xz} \\\\\n",
    "T_{yx} & T_{yy} & T_{yz} \\\\\n",
    "T_{zx} & T_{zy} & T_{zz} \\end{pmatrix}\n",
    "$$\n",
    "\n",
    "</div>\n",
    "\n",
    "</details>"
   ]
  },
  {
   "cell_type": "markdown",
   "metadata": {},
   "source": [
    "### Ejemplo de aplicación"
   ]
  },
  {
   "cell_type": "markdown",
   "metadata": {},
   "source": [
    "Ecuación de conservación de cantidad de movimiento, para un material homogéneo e incompresible\n",
    "\n",
    "\n",
    "$$\n",
    "\\frac{\\partial \\mathbf{u}}{\\partial t} + \\mathbf{\\nabla \\cdot} (\\mathbf{u u}) = \\mathbf{\\nabla \\cdot} (\\nu \\mathbf{\\nabla u}) - \\frac{1}{\\rho} \\mathbf{\\nabla} p \n",
    "$$"
   ]
  },
  {
   "cell_type": "markdown",
   "metadata": {},
   "source": [
    "1. Termino advectivo (en coordenadas cartesianas): \n",
    "\n",
    "$$\n",
    "\\mathbf{\\nabla \\cdot (u u)} = \n",
    "\\begin{pmatrix}\n",
    "\\frac{\\partial}{\\partial x} (u_x u_x) + \\frac{\\partial}{\\partial y} (u_y u_x) + \\frac{\\partial}{\\partial z} (u_z u_x)\\\\\n",
    "\\frac{\\partial}{\\partial x} (u_x u_y) + \\frac{\\partial}{\\partial y} (u_y u_y) + \\frac{\\partial}{\\partial z} (u_z u_y)\\\\\n",
    "\\frac{\\partial}{\\partial x} (u_x u_z) + \\frac{\\partial}{\\partial y} (u_y u_z) + \\frac{\\partial}{\\partial z} (u_z u_z)\n",
    "\\end{pmatrix}\n",
    "$$"
   ]
  },
  {
   "cell_type": "markdown",
   "metadata": {},
   "source": [
    "<details>\n",
    "<summary><b>Nomenclatura</b></summary>\n",
    "\n",
    "<div class=\"alert alert-info\">\n",
    "\n",
    "$$\n",
    "\\mathbf{\\nabla} = \\begin{pmatrix} \\frac{\\partial}{\\partial x} & \\frac{\\partial}{\\partial y} & \\frac{\\partial}{\\partial z} \\end{pmatrix}\n",
    "$$\n",
    "\n",
    "$$\n",
    "\\mathbf{u u} = \n",
    "\\begin{pmatrix}\n",
    "u_x u_x & u_x u_y & u_x u_z \\\\\n",
    "u_y u_x & u_y u_y & u_y u_z \\\\\n",
    "u_z u_x & u_z u_y & u_z u_z\n",
    "\\end{pmatrix}\n",
    "$$\n",
    "\n",
    "</div>\n",
    "\n",
    "</details>"
   ]
  },
  {
   "cell_type": "markdown",
   "metadata": {},
   "source": [
    "2. Termino difusivo (en coordenadas cartesianas):\n",
    "\n",
    "$$\n",
    "\\mathbf{\\nabla \\cdot} (\\nu \\mathbf{\\nabla u}) = \n",
    "\\begin{pmatrix}\n",
    "\\frac{\\partial}{\\partial x} (\\nu \\frac{\\partial u_x}{\\partial x}) + \\frac{\\partial}{\\partial y} (\\nu \\frac{\\partial u_x}{\\partial y}) + \\frac{\\partial}{\\partial z} (\\nu \\frac{\\partial u_x}{\\partial z}) \\\\\n",
    "\\frac{\\partial}{\\partial x} (\\nu \\frac{\\partial u_y}{\\partial x}) + \\frac{\\partial}{\\partial y} (\\nu \\frac{\\partial u_y}{\\partial y}) + \\frac{\\partial}{\\partial z} (\\nu \\frac{\\partial u_y}{\\partial z}) \\\\\n",
    "\\frac{\\partial}{\\partial x} (\\nu \\frac{\\partial u_z}{\\partial x}) + \\frac{\\partial}{\\partial y} (\\nu \\frac{\\partial u_z}{\\partial y}) + \\frac{\\partial}{\\partial z} (\\nu \\frac{\\partial u_z}{\\partial z})\n",
    "\\end{pmatrix}\n",
    "$$"
   ]
  },
  {
   "cell_type": "markdown",
   "metadata": {},
   "source": [
    "<details>\n",
    "<summary><b>Nomenclatura</b></summary>\n",
    "\n",
    "<div class=\"alert alert-info\">\n",
    "\n",
    "$$\n",
    "\\mathbf{\\nabla} = \\begin{pmatrix} \\frac{\\partial}{\\partial x} & \\frac{\\partial}{\\partial y} & \\frac{\\partial}{\\partial z} \\end{pmatrix}\n",
    "$$\n",
    "\n",
    "$$\n",
    "\\nu \\mathbf{\\nabla u} = \n",
    "\\begin{pmatrix}\n",
    "\\nu \\frac{\\partial u_x}{\\partial x} & \\nu \\frac{\\partial u_y}{\\partial x} & \\nu \\frac{\\partial u_z}{\\partial x} \\\\\n",
    "\\nu \\frac{\\partial u_x}{\\partial y} & \\nu \\frac{\\partial u_y}{\\partial y} & \\nu \\frac{\\partial u_y}{\\partial x} \\\\\n",
    "\\nu \\frac{\\partial u_x}{\\partial z} & \\nu \\frac{\\partial u_y}{\\partial z} & \\nu \\frac{\\partial u_z}{\\partial z}\n",
    "\\end{pmatrix}\n",
    "$$\n",
    "\n",
    "</div>\n",
    "\n",
    "</details>"
   ]
  },
  {
   "cell_type": "markdown",
   "metadata": {},
   "source": [
    "## Producto interior de dos tensores"
   ]
  },
  {
   "cell_type": "markdown",
   "metadata": {},
   "source": [
    "**El resultado es un tensor.**\n",
    "\n",
    "$$\n",
    "\\mathbf{Y = T \\cdot S} = \\begin{pmatrix} Y_{xx} & Y_{xy} & Y_{xz} \\\\ Y_{yx} & Y_{yy} & Y_{yz} \\\\ Y_{zx} & Y_{zy} & Y_{zz} \\end{pmatrix}\n",
    "$$\n",
    "\n",
    "las componentes están dadas por la fórmula general:\n",
    "\n",
    "$$\n",
    "Y_{ij} = T_{ix} S_{xj} + T_{iy} S_{yj} + T_{iz} S_{zj}\n",
    "$$\n",
    "\n",
    "$$\n",
    "\\left( i,j = x, y, z\\right)\n",
    "$$"
   ]
  },
  {
   "cell_type": "markdown",
   "metadata": {},
   "source": [
    "<details>\n",
    "<summary><b>Ver componentes</b></summary>\n",
    "\n",
    "<div class=\"alert alert-info\">\n",
    "\n",
    "$$\n",
    "Y_{xx} = T_{xx} S_{xx} + T_{xy} S_{yx} + T_{xz} S_{zx}\n",
    "$$\n",
    "\n",
    "$$\n",
    "Y_{xy} = T_{xx} S_{xy} + T_{xy} S_{yy} + T_{xz} S_{zy}\n",
    "$$\n",
    "\n",
    "$$\n",
    "Y_{xz} = T_{xx} S_{xz} + T_{ix} S_{yz} + T_{xz} S_{zz}\n",
    "$$\n",
    "\n",
    "$$\n",
    "Y_{yx} = T_{yx} S_{xx} + T_{yy} S_{yx} + T_{yz} S_{zx}\n",
    "$$\n",
    "\n",
    "$$\n",
    "Y_{yy} = T_{yx} S_{xy} + T_{yy} S_{yy} + T_{yz} S_{zy}\n",
    "$$\n",
    "\n",
    "$$\n",
    "Y_{yz} = T_{yx} S_{xz} + T_{yy} S_{yz} + T_{yz} S_{zz}\n",
    "$$\n",
    "\n",
    "$$\n",
    "Y_{zx} = T_{zx} S_{xx} + T_{zy} S_{yx} + T_{zz} S_{zx}\n",
    "$$\n",
    "\n",
    "$$\n",
    "Y_{zy} = T_{zx} S_{xy} + T_{zy} S_{yy} + T_{zz} S_{zy}\n",
    "$$\n",
    "\n",
    "$$\n",
    "Y_{zz} = T_{zx} S_{xz} + T_{zy} S_{yz} + T_{zz} S_{zz}\n",
    "$$\n",
    "\n",
    "</div>\n",
    "\n",
    "</details>"
   ]
  },
  {
   "cell_type": "markdown",
   "metadata": {},
   "source": [
    "<details>\n",
    "<summary><b>Nomenclatura</b></summary>\n",
    "\n",
    "<div class=\"alert alert-info\">\n",
    "\n",
    "$$\n",
    "\\mathbf{T} = \n",
    "\\begin{pmatrix} \n",
    "T_{xx} & T_{xy} & T_{xz} \\\\\n",
    "T_{yx} & T_{yy} & T_{yz} \\\\\n",
    "T_{zx} & T_{zy} & T_{zz} \\end{pmatrix}\n",
    "$$\n",
    "\n",
    "$$\n",
    "\\mathbf{S} = \n",
    "\\begin{pmatrix} \n",
    "S_{xx} & S_{xy} & S_{xz} \\\\\n",
    "S_{yx} & S_{yy} & S_{yz} \\\\\n",
    "S_{zx} & S_{zy} & S_{zz} \\end{pmatrix}\n",
    "$$\n",
    "\n",
    "</div>\n",
    "\n",
    "</details>"
   ]
  },
  {
   "cell_type": "markdown",
   "metadata": {},
   "source": [
    "## Doble producto interior de dos tensores"
   ]
  },
  {
   "cell_type": "markdown",
   "metadata": {},
   "source": [
    "**El resultado es un escalar.**\n",
    "\n",
    "$$\n",
    "s = \\mathbf{T : S}\n",
    "$$\n",
    "\n",
    "$$\n",
    "\\mathbf{T : S} =\n",
    "T_{xx} S_{xx} + T_{xy} S_{xy} + T_{xz} S_{xz} +\n",
    "T_{yx} S_{yx} + T_{yy} S_{yy} + T_{yz} S_{yz} +\n",
    "T_{zx} S_{zx} + T_{zy} S_{zy} + T_{zz} S_{zz}\n",
    "$$"
   ]
  },
  {
   "cell_type": "markdown",
   "metadata": {},
   "source": [
    "Observese que la operación consiste en una multiplicación elemento a elemento entre los dos tensores, seguido de una operación de colección (suma de los resultantes)."
   ]
  },
  {
   "cell_type": "markdown",
   "metadata": {},
   "source": [
    "<details>\n",
    "<summary><b>Nomenclatura</b></summary>\n",
    "\n",
    "<div class=\"alert alert-info\">\n",
    "\n",
    "$$\n",
    "\\mathbf{T} = \n",
    "\\begin{pmatrix} \n",
    "T_{xx} & T_{xy} & T_{xz} \\\\\n",
    "T_{yx} & T_{yy} & T_{yz} \\\\\n",
    "T_{zx} & T_{zy} & T_{zz} \\end{pmatrix}\n",
    "$$\n",
    "\n",
    "$$\n",
    "\\mathbf{S} = \n",
    "\\begin{pmatrix} \n",
    "S_{xx} & S_{xy} & S_{xz} \\\\\n",
    "S_{yx} & S_{yy} & S_{yz} \\\\\n",
    "S_{zx} & S_{zy} & S_{zz} \\end{pmatrix}\n",
    "$$\n",
    "\n",
    "</div>\n",
    "\n",
    "</details>"
   ]
  },
  {
   "cell_type": "markdown",
   "metadata": {},
   "source": [
    "# Otras operaciones tensoriales"
   ]
  },
  {
   "cell_type": "markdown",
   "metadata": {},
   "source": [
    "## Traza de un tensor"
   ]
  },
  {
   "cell_type": "markdown",
   "metadata": {},
   "source": [
    "**El resultado es un escalar.**\n",
    "\n",
    "$$\n",
    "\\mathrm{tr}(\\mathbf{T}) = T_{xx} + T_{yy} + T_{zz}\n",
    "$$\n",
    "\n",
    "El resultado es la suma de los términos en la diagonal de la matriz que representa al tensor."
   ]
  },
  {
   "cell_type": "markdown",
   "metadata": {},
   "source": [
    "<details>\n",
    "<summary><b>Nomenclatura</b></summary>\n",
    "\n",
    "<div class=\"alert alert-info\">\n",
    "\n",
    "$$\n",
    "\\mathbf{T} = \n",
    "\\begin{pmatrix} \n",
    "T_{xx} & T_{xy} & T_{xz} \\\\\n",
    "T_{yx} & T_{yy} & T_{yz} \\\\\n",
    "T_{zx} & T_{zy} & T_{zz} \\end{pmatrix}\n",
    "$$\n",
    "\n",
    "</div>\n",
    "\n",
    "</details>"
   ]
  },
  {
   "cell_type": "markdown",
   "metadata": {},
   "source": [
    "### Ejemplo de aplicación"
   ]
  },
  {
   "cell_type": "markdown",
   "metadata": {},
   "source": [
    "**Divergencia de la velocidad.**\n",
    "\n",
    "$$\n",
    "\\mathbf{\\nabla \\cdot u} = \\frac{\\partial u_x}{\\partial x} + \\frac{\\partial u_y}{\\partial y} + \\frac{\\partial u_z}{\\partial z}\n",
    "$$\n",
    "\n",
    "$$\n",
    "\\mathrm{tr}(\\mathbf{\\nabla u}) = \\frac{\\partial u_x}{\\partial x} + \\frac{\\partial u_y}{\\partial y} + \\frac{\\partial u_z}{\\partial z}\n",
    "$$"
   ]
  },
  {
   "cell_type": "markdown",
   "metadata": {},
   "source": [
    "<details>\n",
    "<summary><b>Nomenclatura</b></summary>\n",
    "\n",
    "<div class=\"alert alert-info\">\n",
    "\n",
    "$$\n",
    "\\mathbf{\\nabla u} = \n",
    "\\begin{pmatrix}\n",
    "\\frac{\\partial}{\\partial x} (u_x) & \\frac{\\partial}{\\partial x} (u_y) & \\frac{\\partial}{\\partial x} (u_z) \\\\\n",
    "\\frac{\\partial}{\\partial y} (u_x) & \\frac{\\partial}{\\partial y} (u_y) & \\frac{\\partial}{\\partial y} (u_z) \\\\\n",
    "\\frac{\\partial}{\\partial z} (u_x) & \\frac{\\partial}{\\partial z} (u_y) & \\frac{\\partial}{\\partial z} (u_z)\n",
    "\\end{pmatrix}\n",
    "$$\n",
    "\n",
    "$$\n",
    "\\mathbf{\\nabla} = \\begin{pmatrix} \\frac{\\partial}{\\partial x} \\\\ \\frac{\\partial}{\\partial y} \\\\ \\frac{\\partial}{\\partial z} \\end{pmatrix}\n",
    "$$\n",
    "\n",
    "$$\n",
    "\\mathbf{u} = \\begin{pmatrix} u_x & u_y & u_z \\end{pmatrix}\n",
    "$$\n",
    "\n",
    "</div>\n",
    "\n",
    "</details>"
   ]
  },
  {
   "cell_type": "markdown",
   "metadata": {},
   "source": [
    "## Tensor identidad"
   ]
  },
  {
   "cell_type": "markdown",
   "metadata": {},
   "source": [
    "El tensor identidad,  $\\mathbf{I}$, es un tensor unitario:\n",
    "\n",
    "\n",
    "$$\n",
    "\\mathbf{I} = \\begin{pmatrix}\n",
    "1 & 0 & 0 \\\\\n",
    "0 & 1 & 0 \\\\\n",
    "0 & 0 & 1\n",
    "\\end{pmatrix}\n",
    "$$\n",
    "\n",
    "de tal forma que: \n",
    "\n",
    "$$\\mathbf{T = I \\cdot T = T \\cdot I}$$"
   ]
  },
  {
   "cell_type": "markdown",
   "metadata": {},
   "source": [
    "### Ejemplo de aplicación"
   ]
  },
  {
   "cell_type": "markdown",
   "metadata": {},
   "source": [
    "Tensor de esfuerzos de Cauchy, $\\mathbf{\\sigma}$, en la ecuación general de conservación de cantidad de movimiento.\n",
    "\n",
    "$$\n",
    "\\frac{\\partial (\\rho \\mathbf{u})}{\\partial t} + \\mathbf{\\nabla \\cdot} (\\rho \\mathbf{u u}) = \\mathbf{\\nabla \\cdot \\sigma} + \\rho \\mathbf{b}\n",
    "$$\n",
    "\n",
    "$$\n",
    "\\mathbf{\\sigma} = \\mathbf{\\tau} - p \\mathbf{I}\n",
    "$$"
   ]
  },
  {
   "cell_type": "markdown",
   "metadata": {},
   "source": [
    "<details>\n",
    "<summary><b>Nomenclatura</b></summary>\n",
    "\n",
    "<div class=\"alert alert-info\">\n",
    "\n",
    "$$\n",
    "\\mathbf{\\sigma} = \n",
    "\\begin{pmatrix}\n",
    "\\sigma_{xx} & \\tau_{xy} & \\tau_{xz} \\\\\n",
    "\\tau_{yx} & \\sigma_{yy} & \\tau_{yz} \\\\\n",
    "\\tau_{zx} & \\tau_{zy} & \\sigma_{zz}\n",
    "\\end{pmatrix}\n",
    "$$\n",
    "\n",
    "$$\n",
    "\\mathbf{\\tau} = \n",
    "\\begin{pmatrix}\n",
    "\\sigma_{xx} + p & \\tau_{xy} & \\tau_{xz} \\\\\n",
    "\\tau_{yx} & \\sigma_{yy} + p & \\tau_{yz} \\\\\n",
    "\\tau_{zx} & \\tau_{zy} & \\sigma_{zz} + p\n",
    "\\end{pmatrix}\n",
    "$$\n",
    "\n",
    "$$\n",
    "p\\mathbf{I} = \n",
    "\\begin{pmatrix}\n",
    "p & 0 & 0 \\\\\n",
    "0 & p & 0 \\\\\n",
    "0 & 0 & p\n",
    "\\end{pmatrix}\n",
    "$$\n",
    "\n",
    "Los esfuerzos normales están dados por: $\\sigma_{ii}$.\n",
    "\n",
    "Los esfuerzos cortantes por: $\\tau_{ij}$. \n",
    "\n",
    "con $i \\neq j$, $(i,j = x, y, z)$. \n",
    "\n",
    "</div>\n",
    "\n",
    "</details>"
   ]
  },
  {
   "cell_type": "markdown",
   "metadata": {},
   "source": [
    "## Decomposición"
   ]
  },
  {
   "cell_type": "markdown",
   "metadata": {},
   "source": [
    "## Descomposición de un tensor en sus componentes simétrica y antisimétrica"
   ]
  },
  {
   "cell_type": "markdown",
   "metadata": {},
   "source": [
    "**El resultado es una suma de dos tensores.**"
   ]
  },
  {
   "cell_type": "markdown",
   "metadata": {},
   "source": [
    "### Tensor simétrico"
   ]
  },
  {
   "cell_type": "markdown",
   "metadata": {},
   "source": [
    "Un tensor $\\mathbf{T}$ es simétrico cuando las componentes son simétricas con respecto a la diagonal.\n",
    "\n",
    "$$T_{xy} = T_{yx}$$ \n",
    "$$T_{xz}=T_{zx}$$ \n",
    "$$T_{yz}=T_{zy}$$\n",
    "\n",
    "Entonces, $\\mathbf{T}$ es simetrico si:\n",
    "\n",
    "$$\\mathbf{T = T^T}$$\n"
   ]
  },
  {
   "cell_type": "markdown",
   "metadata": {},
   "source": [
    "### Tensor antisimétrico"
   ]
  },
  {
   "cell_type": "markdown",
   "metadata": {},
   "source": [
    "Un tensor $\\mathbf{T}$ es antisimétrico cuando los componentes son antisimétricas con respecto a la diagonal.\n",
    "\n",
    "$$T_{xy} = -T_{yx}$$\n",
    "\n",
    "$$T_{xz}=-T_{zx}$$\n",
    "\n",
    "$$T_{yz}=-T_{zy}$$\n",
    "\n",
    "Entonces, $\\mathbf{T}$ es antisimétrico si:\n",
    "\n",
    "$$\\mathbf{T = -T^T}$$"
   ]
  },
  {
   "cell_type": "markdown",
   "metadata": {},
   "source": [
    "### Descomposición"
   ]
  },
  {
   "cell_type": "markdown",
   "metadata": {},
   "source": [
    "Un tensor se puede descomponer en la suma de sus componentes simétrica y antisimétrica mediante la siguientes operación:\n",
    "\n",
    "$$\n",
    "\\mathbf{T} = \\underbrace{\\frac{1}{2} \\left(\\mathbf{T + T^T}\\right)}_{simetrico} + \\underbrace{\\frac{1}{2} \\left(\\mathbf{T - T^T}\\right)}_{antisimetrico} = \\mathrm{sym}\\left(\\mathbf{T}\\right) + \\mathrm{skw}\\left(\\mathbf{T}\\right)\n",
    "$$"
   ]
  },
  {
   "cell_type": "markdown",
   "metadata": {},
   "source": [
    "### Ejemplo de aplicación"
   ]
  },
  {
   "cell_type": "markdown",
   "metadata": {},
   "source": [
    "Descomposición del tensor de gradiente de la velocidad $\\mathbf{\\nabla u}$, en la contribución del tensor de deformación $\\mathbf{D}$ y del tensor de rotación $\\mathbf{W}$.\n",
    "\n",
    "$$\n",
    "\\mathbf{\\nabla u} = \\mathbf{D + W} = \\mathrm{sym}\\left(\\mathbf{\\nabla u}\\right) + \\mathrm{skw}\\left(\\mathbf{\\nabla u}\\right)\n",
    "$$"
   ]
  },
  {
   "cell_type": "markdown",
   "metadata": {},
   "source": [
    "$$\n",
    "\\mathbf{D} = \n",
    "\\frac{1}{2} \\left( \\mathbf{\\nabla u } + \\mathbf{(\\nabla u)^T} \\right) =\n",
    "\\frac{1}{2}\n",
    "\\begin{pmatrix}\n",
    "\\left(\\frac{\\partial u_x}{\\partial x} + \\frac{\\partial u_x}{\\partial x}\\right) & \\left( \\frac{\\partial u_y}{\\partial x} + \\frac{\\partial u_x}{\\partial y} \\right) & \\left( \\frac{\\partial u_z}{\\partial x} + \\frac{\\partial u_x}{\\partial z} \\right) \\\\\n",
    "\\left( \\frac{\\partial u_y}{\\partial x} + \\frac{\\partial u_x}{\\partial y} \\right) &  \\left(\\frac{\\partial u_y}{\\partial y} + \\frac{\\partial u_y}{\\partial y}\\right) & \\left( \\frac{\\partial u_z}{\\partial y} + \\frac{\\partial u_y}{\\partial z} \\right) \\\\\n",
    "\\left( \\frac{\\partial u_z}{\\partial x} + \\frac{\\partial u_x}{\\partial z} \\right) & \\left( \\frac{\\partial u_z}{\\partial y} + \\frac{\\partial u_y}{\\partial z} \\right) &  \\left(\\frac{\\partial u_z}{\\partial z} + \\frac{\\partial u_z}{\\partial z}\\right)\n",
    "\\end{pmatrix}\n",
    "$$"
   ]
  },
  {
   "cell_type": "markdown",
   "metadata": {},
   "source": [
    "$$\n",
    "\\mathbf{W} = \n",
    "\\frac{1}{2} \\left( \\mathbf{\\nabla u } - \\mathbf{(\\nabla u)^T} \\right) =\n",
    "\\frac{1}{2}\n",
    "\\begin{pmatrix}\n",
    "0 & \\left( \\frac{\\partial u_y}{\\partial x} - \\frac{\\partial u_x}{\\partial y} \\right) & \\left( \\frac{\\partial u_z}{\\partial x} - \\frac{\\partial u_x}{\\partial z} \\right) \\\\\n",
    "-\\left( \\frac{\\partial u_y}{\\partial x} - \\frac{\\partial u_x}{\\partial y} \\right) &  0 & \\left( \\frac{\\partial u_z}{\\partial y} - \\frac{\\partial u_y}{\\partial z} \\right) \\\\\n",
    "-\\left( \\frac{\\partial u_z}{\\partial x} - \\frac{\\partial u_x}{\\partial z} \\right) & -\\left( \\frac{\\partial u_z}{\\partial y} - \\frac{\\partial u_y}{\\partial z} \\right) &  0 \n",
    "\\end{pmatrix}\n",
    "$$"
   ]
  },
  {
   "cell_type": "markdown",
   "metadata": {},
   "source": [
    "<details>\n",
    "<summary><b>Nomenclatura</b></summary>\n",
    "\n",
    "<div class=\"alert alert-info\">\n",
    "\n",
    "$$\n",
    "\\mathbf{\\nabla u} = \n",
    "\\begin{pmatrix}\n",
    "\\frac{\\partial}{\\partial x} (u_x) & \\frac{\\partial}{\\partial x} (u_y) & \\frac{\\partial}{\\partial x} (u_z) \\\\\n",
    "\\frac{\\partial}{\\partial y} (u_x) & \\frac{\\partial}{\\partial y} (u_y) & \\frac{\\partial}{\\partial y} (u_z) \\\\\n",
    "\\frac{\\partial}{\\partial z} (u_x) & \\frac{\\partial}{\\partial z} (u_y) & \\frac{\\partial}{\\partial z} (u_z)\n",
    "\\end{pmatrix}\n",
    "$$\n",
    "\n",
    "$$\n",
    "\\mathbf{\\left(\\nabla u\\right)^T} = \n",
    "\\begin{pmatrix}\n",
    "\\frac{\\partial}{\\partial x} (u_x) & \\frac{\\partial}{\\partial y} (u_x) & \t\\frac{\\partial}{\\partial z} (u_x) \\\\\n",
    "\\frac{\\partial}{\\partial x} (u_y) & \\frac{\\partial}{\\partial y} (u_y) & \\frac{\\partial}{\\partial z} (u_y) \\\\\n",
    "\\frac{\\partial}{\\partial x} (u_z) & \\frac{\\partial}{\\partial y} (u_z) & \\frac{\\partial}{\\partial z} (u_z)\n",
    "\\end{pmatrix}\n",
    "$$\n",
    "\n",
    "</div>\n",
    "\n",
    "</details>"
   ]
  },
  {
   "cell_type": "markdown",
   "metadata": {},
   "source": [
    "## Descomposición de un tensor en sus componentes desviadora y esférica"
   ]
  },
  {
   "cell_type": "markdown",
   "metadata": {},
   "source": [
    "**El resultado es una suma de dos tensores.**"
   ]
  },
  {
   "cell_type": "markdown",
   "metadata": {},
   "source": [
    "$$\n",
    "\\mathbf{T} = \\underbrace{\\mathbf{T} - \\frac{1}{3} \\left(\\mathrm{tr}\\left(\\mathbf{T}\\right) \\right) \\mathbf{I}}_{desviadora} + \\underbrace{\\frac{1}{3} \\left(\\mathrm{tr}\\left(\\mathbf{T}\\right) \\right) \\mathbf{I}}_{esferica} = \\mathrm{dev}\\left(\\mathbf{T}\\right) + \\mathrm{sph}\\left(\\mathbf{T}\\right)\n",
    "$$"
   ]
  },
  {
   "cell_type": "markdown",
   "metadata": {},
   "source": [
    "La parte desviadora substrae el promedio de la traza de cada componente en la diagonal del tensor $\\mathbf{T}$; de tal forma \tque el tensor resultante no tenga traza, esto es:\n",
    "\n",
    "$$\\mathrm{tr}(\\mathrm{dev}(\\mathbf{T}))=0$$"
   ]
  },
  {
   "cell_type": "markdown",
   "metadata": {},
   "source": [
    "<details>\n",
    "<summary><b>Nomenclatura</b></summary>\n",
    "\n",
    "<div class=\"alert alert-info\">\n",
    "\n",
    "$$\n",
    "\\mathbf{T} = \n",
    "\\begin{pmatrix} \n",
    "T_{xx} & T_{xy} & T_{xz} \\\\\n",
    "T_{yx} & T_{yy} & T_{yz} \\\\\n",
    "T_{zx} & T_{zy} & T_{zz} \\end{pmatrix}\n",
    "$$\n",
    "\t\n",
    "$$\n",
    "\\mathbf{I} = \\begin{pmatrix}\n",
    "1 & 0 & 0 \\\\\n",
    "0 & 1 & 0 \\\\\n",
    "0 & 0 & 1\n",
    "\\end{pmatrix}\n",
    "$$\n",
    "\n",
    "</div>\n",
    "\n",
    "</details>"
   ]
  },
  {
   "cell_type": "markdown",
   "metadata": {},
   "source": [
    "### Ejemplo de aplicación"
   ]
  },
  {
   "cell_type": "markdown",
   "metadata": {},
   "source": [
    "Modelo de fluido de tipo Newtoniano para el tensor de esfuerzos cortantes.\n",
    "\n",
    "$$\n",
    "\\mathbf{\\tau} = 2 \\mu \\,\\, \\mathrm{dev}(\\mathbf{D})\n",
    "$$\n",
    "\n",
    "$$\n",
    "\\mathbf{\\tau} = 2 \\mu \\,\\, \\mathbf{D} - \\frac{2}{3} \\mu \\,\\, \\mathrm{tr}(\\mathbf{D})\\mathbf{I}\n",
    "$$\n",
    "\n",
    "$$\n",
    "\\mathbf{\\tau} = \\mu \\left( \\mathbf{\\nabla u} + \\mathbf{(\\nabla u)^T} \\right) - \\frac{2}{3} \\mu \\,\\, \\mathrm{tr}(\\mathbf{\\nabla u})\\mathbf{I}\n",
    "$$"
   ]
  },
  {
   "cell_type": "markdown",
   "metadata": {},
   "source": [
    "<details>\n",
    "<summary><b>Nomenclatura</b></summary>\n",
    "\n",
    "<div class=\"alert alert-info\">\n",
    "\n",
    "$$\n",
    "\\mathbf{D} = \n",
    "\\frac{1}{2} \\left( \\mathbf{\\nabla u } + \\mathbf{(\\nabla u)^T} \\right) \n",
    "$$\n",
    " \n",
    "$$\n",
    "\\mathrm{tr}(\\mathbf{D}) = \\mathrm{tr}(\\mathbf{\\nabla u}) = \\frac{\\partial u_x}{\\partial x} + \\frac{\\partial u_y}{\\partial y} + \\frac{\\partial u_z}{\\partial z} = \\mathbf{\\nabla \\cdot u}\n",
    "$$\n",
    "\n",
    "</div>\n",
    "\n",
    "</details>"
   ]
  },
  {
   "cell_type": "markdown",
   "metadata": {},
   "source": []
  }
 ],
 "metadata": {
  "kernelspec": {
   "display_name": "Julia 1.10.6",
   "language": "julia",
   "name": "julia-1.10"
  },
  "language_info": {
   "file_extension": ".jl",
   "mimetype": "application/julia",
   "name": "julia",
   "version": "1.10.6"
  }
 },
 "nbformat": 4,
 "nbformat_minor": 2
}
