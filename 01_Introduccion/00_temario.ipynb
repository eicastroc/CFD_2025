{
 "cells": [
  {
   "cell_type": "markdown",
   "metadata": {},
   "source": [
    "# Fluidinámica computacional (Sesión 01)"
   ]
  },
  {
   "cell_type": "markdown",
   "metadata": {},
   "source": [
    "<img src=\"figures/LogoCinvestav.png\" style=\"height:100px\" title=\"Cinvestav\">"
   ]
  },
  {
   "cell_type": "markdown",
   "metadata": {},
   "source": [
    "**CINVESTAV Unidad Saltillo**\n",
    "\n",
    "**Programa de Maestría en Ciencias en Ingeniería Metalúrgica**\n",
    "\n",
    "Dr. Edgar Ivan Castro Cedeño\n",
    "\n",
    "\n",
    "Enero - Junio 2025\n",
    "\n",
    "Contacto:\n",
    "[edgar.castro@cinvestav.mx](mailto:edgar.castro@cinvestav.mx)"
   ]
  },
  {
   "cell_type": "markdown",
   "metadata": {},
   "source": [
    "# Contenido de la sesión"
   ]
  },
  {
   "cell_type": "markdown",
   "metadata": {},
   "source": [
    "---\n",
    "\n",
    "**Generalidades de fluidinámica computacional.**\n",
    "\n",
    "**Alternativas para la solución de ecuaciones diferenciales.**\n",
    "\n",
    "**Principios de modelación matemática.**\n",
    "\n",
    "**Métodos numéricos.**\n",
    "\n",
    "- Mallado.\n",
    "- Esquemas numéricos para la solución de ecuaciones diferenciales.\n",
    "- Métodos de discretización.\n",
    "\n",
    "---\n",
    "\n",
    "**Ecuación general de conservación.**\n",
    "\n",
    "\n",
    "**Ejemplos de ecuaciones de conservación.**\n",
    "\n",
    "- Ecuación de continuidad.\n",
    "- Conservación de especies químicas.\n",
    "- Conservación de energía térmica (estado estacionario).\n",
    "- Conservación de la cantidad de movimiento (con algunas aproximaciones).\n",
    "- Conservación de energía cinética turbulenta.\n",
    "\n",
    "\n",
    "--- \n",
    "\n",
    "**Clasificación matemática de ecuaciones diferenciales parciales.**\n",
    "\n",
    "- Ecuación elíptica.\n",
    "- Ecuación parabólica.\n",
    "- Ecuación hiperbólica.\n",
    "- Implicaciones computacionales.\n",
    "\n",
    "**Condiciones de frontera.**\n",
    "\n",
    "- Dirichlet.\n",
    "- Neumann.\n",
    "- Cauchy.\n",
    "\n",
    "--- \n",
    "\n",
    "**Resumen de álgebra tensorial.**\n",
    "\n",
    "- Transpuestas.\n",
    "- Productos.\n",
    "- Otras operaciones tensoriales.\n",
    "\n",
    "**Tarea.**"
   ]
  },
  {
   "cell_type": "markdown",
   "metadata": {},
   "source": []
  }
 ],
 "metadata": {
  "kernelspec": {
   "display_name": "Julia 1.10.6",
   "language": "julia",
   "name": "julia-1.10"
  },
  "language_info": {
   "file_extension": ".jl",
   "mimetype": "application/julia",
   "name": "julia",
   "version": "1.10.6"
  }
 },
 "nbformat": 4,
 "nbformat_minor": 2
}
