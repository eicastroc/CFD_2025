{
 "cells": [
  {
   "cell_type": "markdown",
   "metadata": {},
   "source": [
    "# Fluidinámica computacional (Sesión 04)"
   ]
  },
  {
   "cell_type": "markdown",
   "metadata": {},
   "source": [
    "<img src=\"figures/LogoCinvestav.png\" style=\"width:330px;height:100px\" title=\"Cinvestav\">"
   ]
  },
  {
   "cell_type": "markdown",
   "metadata": {},
   "source": [
    "**CINVESTAV Unidad Saltillo**\n",
    "\n",
    "**Programa de Maestría en Ciencias en Ingeniería Metalúrgica**\n",
    "\n",
    "Dr. Edgar Ivan Castro Cedeño\n",
    "\n",
    "\n",
    "Enero - Junio 2025\n",
    "\n",
    "Contacto:\n",
    "[edgar.castro@cinvestav.mx](mailto:edgar.castro@cinvestav.mx)"
   ]
  },
  {
   "cell_type": "markdown",
   "metadata": {},
   "source": [
    "# a)"
   ]
  },
  {
   "cell_type": "markdown",
   "metadata": {},
   "source": [
    "**Homogeneice el tratamiento dimensional del problema de tal forma que el tratamiento sea consistente con las unidades del Sistema Internacional (SI).**"
   ]
  },
  {
   "cell_type": "markdown",
   "metadata": {},
   "source": [
    "\n",
    " <center>\n",
    "\n",
    "| Símbolo   | Nombre      | Cantidad   |\n",
    "| :---:     |    :---     | :---       |\n",
    "| $\\mathrm{s}$       | segundo     | tiempo     |\n",
    "| $\\mathrm{m}$       | metro       | longitud   |\n",
    "| $\\mathrm{kg}$      | kilogramo   | masa       |\n",
    "| $\\mathrm{A}$       | Amperio     | corriente eléctrica |\n",
    "| $\\mathrm{K}$       | Kelvin      | temperatura termodinámica |\n",
    "| $\\mathrm{mol}$     | mol         | cantidad de substancia |\n",
    "| $\\mathrm{cd}$      | candela     | intensidad luminosa |\n",
    "\n",
    "</center>"
   ]
  },
  {
   "cell_type": "markdown",
   "metadata": {},
   "source": [
    "## Tratamiento de la temperatura"
   ]
  },
  {
   "cell_type": "markdown",
   "metadata": {},
   "source": [
    "En el problema planteado, para que exista consistencia de unidades con respecto al SI, la temperatura se debe expresar en Kelvin en lugar de grados Celcius.\n",
    "\n",
    "Recordando que la ecuación de conversión entre grados Celcius y Kelvin esta dado por:\n",
    "\n",
    "$$T[\\mathrm{K}] = T[\\mathrm{^\\circ C}] + 273.15$$\n",
    "\n",
    "Entonces, las condiciones iniciales y de frontera, que inicialmente están planteadas en grados Celcius se deben de transformar a Kelvin utilizando la expresión de arriba."
   ]
  },
  {
   "cell_type": "markdown",
   "metadata": {},
   "source": [
    "```math\n",
    "T_{0} = 773.15 \\, [\\mathrm{K}]\n",
    "``` \n",
    "\n",
    "```math\n",
    "T_{\\infty, L} = 293.15\\, [\\mathrm{K}]\n",
    "```\n",
    "\n",
    "```math\n",
    "T_{\\infty, R} = 333.15\\, [\\mathrm{K}]\n",
    "```"
   ]
  },
  {
   "cell_type": "markdown",
   "metadata": {},
   "source": [
    "## Tratamiento de la longitud"
   ]
  },
  {
   "cell_type": "markdown",
   "metadata": {},
   "source": [
    "De igual forma, la longitud se debe de expresar en metros, en lugar de centímetros:\n",
    "\n",
    "$$L[\\mathrm{m}] = 100 \\times L[\\mathrm{cm}]$$"
   ]
  },
  {
   "cell_type": "markdown",
   "metadata": {},
   "source": [
    "```math\n",
    "L = 0.05 \\, \\mathrm{[m]}\n",
    "```"
   ]
  },
  {
   "cell_type": "markdown",
   "metadata": {},
   "source": [
    "# b)"
   ]
  },
  {
   "cell_type": "markdown",
   "metadata": {},
   "source": [
    "**Represente esquemáticamente el dominio computacional.**"
   ]
  },
  {
   "cell_type": "markdown",
   "metadata": {},
   "source": [
    "Se reconoce que se puede considerar que la temperatura es unicamente función de la posición a lo largo del espesor y del tiempo, $T(x, t)$, ya que las otras dimensiones de la placa son mucho mayores.\n",
    "\n",
    "Por lo tanto, como se muestra en las figuras b-01 y b-02, **el dominio de calculo es una recta que representa el espesor total de la placa**.\n",
    "\n",
    "Se considera que la placa se enfría de forma no simétrica ya que los chorros de nitrógeno que impactan cada cara están a temperaturas distintas entre si."
   ]
  },
  {
   "cell_type": "markdown",
   "metadata": {},
   "source": [
    "<center>\n",
    "\n",
    "<img src=\"figures/images/simplification1DGeometry.png\" style=\"width:400px\" title=\"Discretización 1D\">\n",
    "\n",
    "***Figura b.01. Esquema de discretización espacial en coordenadas cartesianas 1D.***\n",
    "\n",
    "</center>"
   ]
  },
  {
   "cell_type": "markdown",
   "metadata": {},
   "source": [
    "<center>\n",
    "\n",
    "<img src=\"figures/images/calculationDomain_py.png\" style=\"width:400px\" title=\"Discretización 1D\">\n",
    "\n",
    "***Figura b.02. Esquema de discretización espacial en coordenadas cartesianas 1D.***\n",
    "\n",
    "</center>"
   ]
  },
  {
   "cell_type": "markdown",
   "metadata": {},
   "source": [
    "# c)"
   ]
  },
  {
   "cell_type": "markdown",
   "metadata": {},
   "source": [
    "**Escriba la ecuación diferencial gobernadora de la distribución de temperatura.**"
   ]
  },
  {
   "cell_type": "markdown",
   "metadata": {},
   "source": [
    "El problema planteado esta gobernado por la ecuación de conducción de calor en estado transitorio:"
   ]
  },
  {
   "cell_type": "markdown",
   "metadata": {},
   "source": [
    "```math\n",
    "\\rho c \\frac{\\partial T}{\\partial t} = \\mathbf{\\nabla \\cdot} \\left( \\lambda \\mathbf{\\nabla} T \\right) + S\n",
    "```"
   ]
  },
  {
   "cell_type": "markdown",
   "metadata": {},
   "source": [
    "$$\\rho c \\frac{\\partial T}{\\partial t} = \\frac{\\partial}{\\partial x} \\left(  \\lambda \\frac{\\partial T}{\\partial x}\\right) + S$$"
   ]
  },
  {
   "cell_type": "markdown",
   "metadata": {},
   "source": [
    "# d)"
   ]
  },
  {
   "cell_type": "markdown",
   "metadata": {},
   "source": [
    "**Escriba las condiciones iniciales y a la frontera.**"
   ]
  },
  {
   "cell_type": "markdown",
   "metadata": {},
   "source": [
    "## Condiciones iniciales"
   ]
  },
  {
   "cell_type": "markdown",
   "metadata": {},
   "source": [
    "$$t=0, \\quad 0 \\le x \\le 0.05\\,[\\mathrm{m}], \\quad T = 773.15 \\,[\\mathrm{K}]$$"
   ]
  },
  {
   "cell_type": "markdown",
   "metadata": {},
   "source": [
    "## Condiciones a la frontera"
   ]
  },
  {
   "cell_type": "markdown",
   "metadata": {},
   "source": [
    "### Frontera izquierda (oeste)"
   ]
  },
  {
   "cell_type": "markdown",
   "metadata": {},
   "source": [
    "$$t \\ge 0, \\quad x = 0, \\quad h = 500 \\, [\\mathrm{W.m^{-2}.K^{-1}}] \\quad T_{\\infty} = 293.15 \\, [\\mathrm{K}]$$"
   ]
  },
  {
   "cell_type": "markdown",
   "metadata": {},
   "source": [
    "### Frontera derecha (este)"
   ]
  },
  {
   "cell_type": "markdown",
   "metadata": {},
   "source": [
    "$$t \\ge 0, \\quad x = 0.05\\,[\\mathrm{m}], \\quad h = 500 \\, [\\mathrm{W.m^{-2}.K^{-1}}] \\quad T_{\\infty} = 333.15 \\, [\\mathrm{K}]$$"
   ]
  },
  {
   "cell_type": "markdown",
   "metadata": {},
   "source": []
  }
 ],
 "metadata": {
  "language_info": {
   "name": "python"
  }
 },
 "nbformat": 4,
 "nbformat_minor": 2
}
