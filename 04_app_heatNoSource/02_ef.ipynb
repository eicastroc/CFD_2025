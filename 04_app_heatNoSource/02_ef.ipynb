{
 "cells": [
  {
   "cell_type": "markdown",
   "metadata": {},
   "source": [
    "# Fluidinámica computacional (Sesión 04)"
   ]
  },
  {
   "cell_type": "markdown",
   "metadata": {},
   "source": [
    "<img src=\"figures/LogoCinvestav.png\" style=\"width:330px;height:100px\" title=\"Cinvestav\">"
   ]
  },
  {
   "cell_type": "markdown",
   "metadata": {},
   "source": [
    "**CINVESTAV Unidad Saltillo**\n",
    "\n",
    "**Programa de Maestría en Ciencias en Ingeniería Metalúrgica**\n",
    "\n",
    "Dr. Edgar Ivan Castro Cedeño\n",
    "\n",
    "\n",
    "Enero - Junio 2025\n",
    "\n",
    "Contacto:\n",
    "[edgar.castro@cinvestav.mx](mailto:edgar.castro@cinvestav.mx)"
   ]
  },
  {
   "cell_type": "markdown",
   "metadata": {
    "vscode": {
     "languageId": "plaintext"
    }
   },
   "source": [
    "# e)"
   ]
  },
  {
   "cell_type": "markdown",
   "metadata": {},
   "source": [
    "**Usando la practica de discretización en la que los nodos de celda se localizan en el centroide de la celda, y considerando un tamaño uniforme de volumen de control,**\n",
    "\n",
    "$$\n",
    "\\Delta x = 0.5 \\, [\\mathrm{cm}]\n",
    "$$\n",
    "\n",
    "**dibuje la malla correspondiente.**"
   ]
  },
  {
   "cell_type": "markdown",
   "metadata": {},
   "source": [
    "<center>\n",
    "\n",
    "<img src=\"figures/images/calculationDomain_py.png\" style=\"width:600px\" title=\"Discretización 1D\">\n",
    "\n",
    "***Figura e.01. Esquema de discretización espacial en coordenadas cartesianas 1D.***\n",
    "\n",
    "</center>"
   ]
  },
  {
   "cell_type": "markdown",
   "metadata": {},
   "source": [
    "<center>\n",
    "\n",
    "<img src=\"figures/images/calculationDomainDiscretization_py.png\" style=\"width:600px\" title=\"Discretización 1D\">\n",
    "\n",
    "***Figura e.02. Esquema de discretización espacial en coordenadas cartesianas 1D.***\n",
    "\n",
    "</center>"
   ]
  },
  {
   "cell_type": "markdown",
   "metadata": {},
   "source": [
    "# f)"
   ]
  },
  {
   "cell_type": "markdown",
   "metadata": {},
   "source": [
    "Haga el planteamiento del sistema de ecuaciones algebraicas simultaneas que resultan del método implícito."
   ]
  },
  {
   "cell_type": "markdown",
   "metadata": {},
   "source": [
    "## Volúmenes de control internos"
   ]
  },
  {
   "cell_type": "markdown",
   "metadata": {},
   "source": [
    "$$\n",
    "a_P T_P = a_E T_E + A_W T_W + b\n",
    "$$"
   ]
  },
  {
   "cell_type": "markdown",
   "metadata": {},
   "source": [
    "<details>\n",
    "<summary><b>Nomenclatura</b></summary>\n",
    "\n",
    "<div class=\"alert alert-info\">\n",
    "\n",
    "$$a_P^0 =  \\frac{\\rho c V}{\\Delta t}$$\n",
    "\n",
    "$$a_E = \\frac{\\lambda_e A_e}{(dx)_e}$$\n",
    "\n",
    "$$a_W = \\frac{\\lambda_w A_w}{(dx)_w}$$\n",
    "\n",
    "$$a_P = a_P^0 + a_E + a_W - S_P  V$$\n",
    "\n",
    "$$b = a_P^0 T_P^0 +  S_C  V $$\n",
    "\n",
    "</div>\n",
    "\n",
    "</details>"
   ]
  },
  {
   "cell_type": "markdown",
   "metadata": {},
   "source": [
    "## Volúmen de control en la frontera izquierda (oeste)"
   ]
  },
  {
   "cell_type": "markdown",
   "metadata": {},
   "source": [
    "$$\n",
    "a_P T_P = a_E T_E + b\n",
    "$$"
   ]
  },
  {
   "cell_type": "markdown",
   "metadata": {},
   "source": [
    "<details>\n",
    "<summary><b>Nomenclatura</b></summary>\n",
    "\n",
    "<div class=\"alert alert-info\">\n",
    "\n",
    "$$a_P^0 = \\frac{\\rho c V}{\\Delta t}$$\n",
    "\n",
    "$$a_E = \\frac{\\lambda_e A_e}{(\\delta x)_e}$$\n",
    "\n",
    "$$a_B =  R_{eq,} A_b T_{\\infty, L} $$\n",
    "\n",
    "$$a_P = a_P^0 +  a_E +  R_{eq} A_b -  S_P V$$\n",
    "\n",
    "$$\n",
    "b = a_P^0 T_P^0\n",
    "+ a_B\n",
    "+  S_C V\n",
    "$$\n",
    "\n",
    "$$R_{eq} = \\frac{h \\left( \\lambda_b / (\\delta x)_b \\right)} {h + \\left( \\lambda_b / (\\delta x)_b \\right)}$$\n",
    "\n",
    "</div>\n",
    "\n",
    "</details>"
   ]
  },
  {
   "cell_type": "markdown",
   "metadata": {},
   "source": [
    "## Volúmen de control en la frontera derecha (este)"
   ]
  },
  {
   "cell_type": "markdown",
   "metadata": {},
   "source": [
    "$$\n",
    "a_P T_P = a_W T_W + b\n",
    "$$"
   ]
  },
  {
   "cell_type": "markdown",
   "metadata": {},
   "source": [
    "<details>\n",
    "<summary><b>Nomenclatura</b></summary>\n",
    "\n",
    "<div class=\"alert alert-info\">\n",
    "\n",
    "$$a_P^0 = \\frac{\\rho c V}{\\Delta t}$$\n",
    "\n",
    "$$a_W = \\frac{\\lambda_w A_w}{(\\delta x)_w}$$\n",
    "\n",
    "$$a_B =  R_{eq,} A_b T_{\\infty, R} $$\n",
    "\n",
    "$$a_P = a_P^0 +  a_W +  R_{eq} A_b -  S_P V$$\n",
    "\n",
    "$$\n",
    "b = a_P^0 T_P^0\n",
    "+ a_B\n",
    "+  S_C V\n",
    "$$\n",
    "\n",
    "$$R_{eq} = \\frac{h \\left( \\lambda_b / (\\delta x)_b \\right)} {h + \\left( \\lambda_b / (\\delta x)_b \\right)}$$\n",
    "\n",
    "</div>\n",
    "\n",
    "</details>"
   ]
  },
  {
   "cell_type": "markdown",
   "metadata": {},
   "source": []
  }
 ],
 "metadata": {
  "language_info": {
   "name": "python"
  }
 },
 "nbformat": 4,
 "nbformat_minor": 2
}
