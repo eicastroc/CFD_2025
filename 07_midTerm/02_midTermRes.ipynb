{
 "cells": [
  {
   "cell_type": "markdown",
   "metadata": {},
   "source": [
    "# Fluidinámica computacional (Sesión 07)"
   ]
  },
  {
   "cell_type": "markdown",
   "metadata": {},
   "source": [
    "<img src=\"figures/LogoCinvestav.png\" style=\"width:330px;height:100px\" title=\"Cinvestav\">"
   ]
  },
  {
   "cell_type": "markdown",
   "metadata": {},
   "source": [
    "**CINVESTAV Unidad Saltillo**\n",
    "\n",
    "**Programa de Maestría en Ciencias en Ingeniería Metalúrgica**\n",
    "\n",
    "Dr. Edgar Ivan Castro Cedeño\n",
    "\n",
    "\n",
    "Enero - Junio 2025\n",
    "\n",
    "Contacto:\n",
    "[edgar.castro@cinvestav.mx](mailto:edgar.castro@cinvestav.mx)"
   ]
  },
  {
   "cell_type": "markdown",
   "metadata": {},
   "source": [
    "# 1. Generalidad de ecuaciones de convervación y algebra tensorial"
   ]
  },
  {
   "cell_type": "markdown",
   "metadata": {},
   "source": [
    "## 1.1 Ecuaciones de conservación"
   ]
  },
  {
   "cell_type": "markdown",
   "metadata": {},
   "source": [
    "De forma general, un balance de materia o de energía se puede expresar como:"
   ]
  },
  {
   "cell_type": "markdown",
   "metadata": {},
   "source": [
    "\n",
    "$$\n",
    "\\mathbf{Acumulación} = (\\mathbf{Entradas} - \\mathbf{Salidas})+ (\\mathbf{Generación} - \\mathbf{Consumo})\n",
    "$$"
   ]
  },
  {
   "cell_type": "markdown",
   "metadata": {},
   "source": [
    "Y una ecuación general de conservación para el campo $\\phi$, se puede expresar como:"
   ]
  },
  {
   "cell_type": "markdown",
   "metadata": {},
   "source": [
    "$$\n",
    "\\underbrace{\\frac{\\partial}{\\partial t} \\left( \\rho \\phi \\right)}_{\\mathbf{transitorio}} + \\underbrace{\\mathbf{\\nabla \\cdot} \\left( \\rho \\mathbf{u} \\phi \\right)}_{\\mathbf{advectivo}} = \\underbrace{\\mathbf{\\nabla \\cdot} \\left( \\Gamma \\mathbf{\\nabla} \\phi \\right)}_{\\mathbf{difusivo}} + \\underbrace{S_{\\phi}}_{\\mathbf{fuente}}\n",
    "$$"
   ]
  },
  {
   "cell_type": "markdown",
   "metadata": {},
   "source": [
    "**- 1) Indique de qué manera están relacionados el balance de materia/energía y la ecuación general de conservación. Es decir, cuál es el significado físico de cada uno de los términos en la ecuación general de conservación escrita arriba, y cómo se relacionan con los conceptos de “Acumulación, Entradas, Salidas, y Generación” en un balance.** "
   ]
  },
  {
   "cell_type": "markdown",
   "metadata": {},
   "source": [
    "<details>\n",
    "<summary><b>Respuesta</b></summary>\n",
    "\n",
    "<div class=\"alert alert-success\">\n",
    "\n",
    "\n",
    "$$\n",
    "\\underbrace{\\mathbf{Acumulación}}_{\\mathbf{transitorio}} = \\underbrace{(\\mathbf{Entradas} - \\mathbf{Salidas})}_{\\mathbf{advectivo\\,y\\,difusivo}} + \\underbrace{(\\mathbf{Generación} - \\mathbf{Consumo})}_{\\mathbf{fuente}}\n",
    "$$\n",
    "\n",
    "\n",
    "$$\n",
    "\\underbrace{\\frac{\\partial}{\\partial t} \\left( \\rho \\phi \\right)}_{\\mathbf{acumulación}}\n",
    "+ \\underbrace{\\mathbf{\\nabla \\cdot} \\left( \\rho \\mathbf{u} \\phi \\right) - \\mathbf{\\nabla \\cdot} \\left( \\Gamma \\mathbf{\\nabla} \\phi \\right)}_{\\mathbf{entradas - salidas}} \n",
    "= \\underbrace{S_{\\phi}}_{\\mathbf{generación - consumo}}\n",
    "$$\n",
    "\n",
    "</div>\n",
    "</details>"
   ]
  },
  {
   "cell_type": "markdown",
   "metadata": {},
   "source": [
    "**- 2) Tomando como base el balance de materia/energía y la ecuación general de consrevación mostrada arriba, escriba el balance y la ecuación de conservación correspondientes para el régimen estacionario.**"
   ]
  },
  {
   "cell_type": "markdown",
   "metadata": {},
   "source": [
    "<details>\n",
    "<summary><b>Respuesta</b></summary>\n",
    "\n",
    "<div class=\"alert alert-success\">\n",
    "\n",
    "$$\n",
    "\\cancel{\\underbrace{\\frac{\\partial}{\\partial t} \\left( \\rho \\phi \\right)}_{\\mathbf{transitorio}}} + \\underbrace{\\mathbf{\\nabla \\cdot} \\left( \\rho \\mathbf{u} \\phi \\right)}_{\\mathbf{advectivo}} = \\underbrace{\\mathbf{\\nabla \\cdot} \\left( \\Gamma \\mathbf{\\nabla} \\phi \\right)}_{\\mathbf{difusivo}} + \\underbrace{S_{\\phi}}_{\\mathbf{fuente}}\n",
    "$$\n",
    "\n",
    "$$\n",
    "\\underbrace{\\mathbf{\\nabla \\cdot} \\left( \\rho \\mathbf{u} \\phi \\right)}_{\\mathbf{advectivo}} - \\underbrace{\\mathbf{\\nabla \\cdot} \\left( \\Gamma \\mathbf{\\nabla} \\phi \\right)}_{\\mathbf{difusivo}} = \\underbrace{S_{\\phi}}_{\\mathbf{fuente}}\n",
    "$$\n",
    "\n",
    "</div>\n",
    "</details>"
   ]
  },
  {
   "cell_type": "markdown",
   "metadata": {},
   "source": [
    "---"
   ]
  },
  {
   "cell_type": "markdown",
   "metadata": {},
   "source": [
    "## 1.2 Algebra tensorial"
   ]
  },
  {
   "cell_type": "markdown",
   "metadata": {},
   "source": [
    "El operador nabla es un operador diferencial vectorial que se puede escribir en coordenadas cartesianas $\\begin{bmatrix}\\hat{x} & \\hat{y} & \\hat{z}\\end{bmatrix}$ como:"
   ]
  },
  {
   "cell_type": "markdown",
   "metadata": {},
   "source": [
    "$$\n",
    "\\mathbf{\\nabla}=\\left[\\begin{array}{ccc}\n",
    "\\frac{\\partial}{\\partial x} & \\frac{\\partial}{\\partial y} & \\frac{\\partial}{\\partial z}\\end{array}\\right]\n",
    "$$"
   ]
  },
  {
   "cell_type": "markdown",
   "metadata": {},
   "source": [
    "La velocidad es un campo vectorial que describe el cambio de posición de un objeto con respecto al tiempo, y que en coordenadas cartesianas $\\begin{bmatrix}\\hat{x} & \\hat{y} & \\hat{z}\\end{bmatrix}$ se escribe como:"
   ]
  },
  {
   "cell_type": "markdown",
   "metadata": {},
   "source": [
    "$$\n",
    "\\mathbf{u}=\\left[\\begin{array}{ccc}\n",
    "u_{x} & u_{y} & u_{z}\\end{array}\\right]\n",
    "$$"
   ]
  },
  {
   "cell_type": "markdown",
   "metadata": {},
   "source": [
    "La ecuación de conservación para un fluido incompresible se escribe:"
   ]
  },
  {
   "cell_type": "markdown",
   "metadata": {},
   "source": [
    "$$\n",
    "\\mathbf{\\nabla \\cdot u}=0\n",
    "$$"
   ]
  },
  {
   "cell_type": "markdown",
   "metadata": {},
   "source": [
    "**3. Reescriba la ecuación de conservación para un fluido incompresible, efectuando explícitamente la operación indicada en la ecuación.**"
   ]
  },
  {
   "cell_type": "markdown",
   "metadata": {},
   "source": [
    "<details>\n",
    "<summary><b>Respuesta</b></summary>\n",
    "\n",
    "<div class=\"alert alert-success\">\n",
    "\n",
    "$$\n",
    "\\mathbf{\\nabla \\cdot u} = \n",
    "\\begin{pmatrix}\\frac{\\partial}{\\partial x} \\\\ \\frac{\\partial}{\\partial y} \\\\ \\frac{\\partial}{\\partial z}\\end{pmatrix}\n",
    "\\cdot\n",
    "\\begin{pmatrix} u_x \\\\ u_y \\\\ u_z \\end{pmatrix}\n",
    "$$\n",
    "\n",
    "$$\n",
    "\\mathbf{\\nabla \\cdot u} = \n",
    "\\frac{\\partial u_x}{\\partial x} + \\frac{\\partial u_y}{\\partial y} + \\frac{\\partial u_z}{\\partial z} = 0\n",
    "$$\n",
    "\n",
    "</div>\n",
    "</details>"
   ]
  },
  {
   "cell_type": "markdown",
   "metadata": {},
   "source": [
    "---"
   ]
  },
  {
   "cell_type": "markdown",
   "metadata": {},
   "source": [
    "La ley de Fourier, establece que el flujo de transferencia de calor por el mecanismo de conducción es proporcional al gradiente de temperatura en la dirección del flujo de calor."
   ]
  },
  {
   "cell_type": "markdown",
   "metadata": {},
   "source": [
    "$$\n",
    "\\mathbf{q}=-\\lambda\\,\\mathbf{\\nabla}T\n",
    "$$"
   ]
  },
  {
   "cell_type": "markdown",
   "metadata": {},
   "source": [
    "**4. ¿Qué propiedad termofísica representa la constante de proporcionalidad en la Ley de Fourier?**"
   ]
  },
  {
   "cell_type": "markdown",
   "metadata": {},
   "source": [
    "<details>\n",
    "<summary><b>Respuesta</b></summary>\n",
    "\n",
    "<div class=\"alert alert-success\">\n",
    "\n",
    "Conductividad térmica\n",
    "\n",
    "$$\n",
    "\\lambda \\left[\\mathrm{W.m^{-1}.K^{-1}}\\right]\n",
    "$$\n",
    "\n",
    "</div>\n",
    "</details>"
   ]
  },
  {
   "cell_type": "markdown",
   "metadata": {},
   "source": [
    "**5. Indique si el flujo de calor y el gradiente de temperatura son cantidades escalares o vectoriales. Desarrolle el término que expresa el gradiente de temperatura.**"
   ]
  },
  {
   "cell_type": "markdown",
   "metadata": {},
   "source": [
    "<details>\n",
    "<summary><b>Respuesta</b></summary>\n",
    "\n",
    "<div class=\"alert alert-success\">\n",
    "\n",
    "Ambos son cantidades vectoriales\n",
    "\n",
    "$$\n",
    "\\mathbf{q} = - \\lambda \\mathbf{\\nabla} T\n",
    "$$\n",
    "\n",
    "$$\n",
    "\\mathbf{q} = - \\lambda \\begin{bmatrix} \\frac{\\partial T}{\\partial x} & \\frac{\\partial T}{\\partial y } & \\frac{\\partial T}{\\partial z} \\end{bmatrix}\n",
    "$$\n",
    "\n",
    "</div>\n",
    "</details>"
   ]
  },
  {
   "cell_type": "markdown",
   "metadata": {},
   "source": [
    "# 2. Generalidades del método del volumen de control"
   ]
  },
  {
   "cell_type": "markdown",
   "metadata": {},
   "source": [
    "**1. Complete el esquema del arreglo de celdas mostrado en la Figura debajo, utilizando la notación de brújula.**\n",
    "\n",
    "- **Identifique la celda P y sus celdas vecinas [N,S,E,W]. Agregue al esquema líneas indicando las distancias entre el centroide de la celda P y los centroides de las celdas vecinas, $\\left[(\\delta_{x})_{n},(\\delta_{x})_{s},(\\delta_{x})_{e},(\\delta_{x})_{w}\\right]$.**\n",
    "\n",
    "- **También identifique las caras $\\left[A_{n},A_{s},A_{e},A_{w}\\right]$ adyacentes a la celda P, e indique por medio de una flecha la dirección del vector asociado a cada una de las caras.**"
   ]
  },
  {
   "cell_type": "markdown",
   "metadata": {},
   "source": [
    "<center>\n",
    "\n",
    "<img src=\"figures/images/compassAlone.png\" style=\"width:300px\" title=\"Mallado estructurado\">\n",
    "\n",
    "***Figura 01. Esquema del arreglo de celdas en el método del volumen de control.***\n",
    "\n",
    "</center>"
   ]
  },
  {
   "cell_type": "markdown",
   "metadata": {},
   "source": [
    "<details>\n",
    "<summary><b>Respuesta</b></summary>\n",
    "\n",
    "<div class=\"alert alert-success\">\n",
    "\n",
    "<center>\n",
    "\n",
    "<img src=\"figures/images/compassWithDistancesBetweenCentroids.png\" style=\"width:300px\" title=\"Mallado estructurado\">\n",
    "\n",
    "\n",
    "\n",
    "</center>\n",
    "\n",
    "\n",
    "<center>\n",
    "\n",
    "<img src=\"figures/images/compassWithAreaVectors.png\" style=\"width:300px\" title=\"Mallado estructurado\">\n",
    "\n",
    "\n",
    "\n",
    "</center>\n",
    "\n",
    "\n",
    "\n",
    "</div>\n",
    "</details>"
   ]
  },
  {
   "cell_type": "markdown",
   "metadata": {},
   "source": [
    "**2. ¿Por qué razón se considera que el método de volumen de control es un método conservativo?**"
   ]
  },
  {
   "cell_type": "markdown",
   "metadata": {},
   "source": [
    "<details>\n",
    "<summary><b>Respuesta</b></summary>\n",
    "\n",
    "<div class=\"alert alert-success\">\n",
    "\n",
    "Desde su formulación, el método del volumen de control propone evaluar los flujos a través de celdas adyacentes.\n",
    "\n",
    "Todo lo que sale de una celda a través de una de sus caras entra por la misma cara a la celda adyancente.\n",
    "\n",
    "\n",
    "</div>\n",
    "</details>"
   ]
  },
  {
   "cell_type": "markdown",
   "metadata": {},
   "source": [
    "---"
   ]
  },
  {
   "cell_type": "markdown",
   "metadata": {},
   "source": [
    "La estrategia recomendada pra la linealización de un término fuente:\n",
    "\n",
    "$$\n",
    "S = S_C + S_P \\phi\n",
    "$$\n",
    "\n",
    "es mediante la utilización de series de Taylor:\n",
    "\n",
    "$$\n",
    "S = S^* + \\left(\\frac{dS}{d \\phi}\\right) \\left( \\phi - \\phi^*\\right)\n",
    "$$"
   ]
  },
  {
   "cell_type": "markdown",
   "metadata": {},
   "source": [
    "**3. Efectúe la linealización del término fuente presentado debajo. Indique cuáles serían los valores de los coeficientes Sc y Sp.**"
   ]
  },
  {
   "cell_type": "markdown",
   "metadata": {},
   "source": [
    "$$\n",
    "S = A - \\ln \\left( \\phi \\right)\n",
    "$$"
   ]
  },
  {
   "cell_type": "markdown",
   "metadata": {},
   "source": [
    "<details>\n",
    "<summary><b>Respuesta</b></summary>\n",
    "\n",
    "<div class=\"alert alert-success\">\n",
    "\n",
    "Término fuente:\n",
    "\n",
    "$$\n",
    "S = A - \\ln \\left( \\phi \\right)\n",
    "$$\n",
    "\n",
    "Tratamiento con series de Taylor:\n",
    "\n",
    "$$\n",
    "S = \\underbrace{A - \\ln \\left(S^*\\right)}_{S*} \\underbrace{- \\frac{1}{\\phi^*}}_{\\left(\\frac{d S}{d \\phi}\\right)^*}\n",
    "$$\n",
    "\n",
    "Agrupando términos:\n",
    "\n",
    "$$\n",
    "S = \\underbrace{A + 1 - \\ln \\left(\\phi^*\\right)}_{S_C} \\underbrace{-\\frac{1}{\\phi^*}}_{S_P} \\phi\n",
    "$$\n",
    "\n",
    "$$\n",
    "S_C = A + 1 - \\ln \\left(\\phi^*\\right)\n",
    "$$\n",
    "\n",
    "$$\n",
    "S_P = - \\frac{1}{\\phi^*}\n",
    "$$\n",
    "\n",
    "</div>\n",
    "\n",
    "</details>"
   ]
  },
  {
   "cell_type": "markdown",
   "metadata": {},
   "source": [
    "# 3. Construcción de matriz de coeficientes"
   ]
  },
  {
   "cell_type": "markdown",
   "metadata": {},
   "source": [
    "Como parte del modelado del transporte del campo $\\phi$ en un comple code de tubería utilizando el método del volumen de control, se ha realizado el mallado mostrado en la figura debajo."
   ]
  },
  {
   "cell_type": "markdown",
   "metadata": {},
   "source": [
    "<center>\n",
    "\n",
    "<img src=\"figures/images/bendMesh.png\" style=\"width:300px\" title=\"Mallado estructurado\">\n",
    "\n",
    "***Figura 02. Esquema del arreglo de celdas en el método del volumen de control.***\n",
    "\n",
    "</center>"
   ]
  },
  {
   "cell_type": "markdown",
   "metadata": {},
   "source": [
    "**1. Considerando una formulación implícita, y la conectividad entre celdas especificada en la Figura arriba, complete la matriz de coeficientes para el sistema de ecuaciones correspondiente.**"
   ]
  },
  {
   "cell_type": "markdown",
   "metadata": {},
   "source": [
    "$$\n",
    "\\begin{bmatrix}a_{1,1}\\\\\n",
    " & a_{2,2}\\\\\n",
    " &  & a_{3,3}\\\\\n",
    " &  &  & a_{4,4}\\\\\n",
    " &  &  &  & a_{5,5}\\\\\n",
    " &  &  &  &  & a_{6,6}\\\\\n",
    " &  &  &  &  &  & a_{7,7}\\\\\n",
    " &  &  &  &  &  &  & a_{8,8}\n",
    "\\end{bmatrix}\\begin{bmatrix}\\phi_{1}\\\\\n",
    "\\phi_{2}\\\\\n",
    "\\phi_{3}\\\\\n",
    "\\phi_{4}\\\\\n",
    "\\phi_{5}\\\\\n",
    "\\phi_{6}\\\\\n",
    "\\phi_{7}\\\\\n",
    "\\phi_{8}\n",
    "\\end{bmatrix}=\\begin{bmatrix}b_{1}\\\\\n",
    "b_{2}\\\\\n",
    "b_{3}\\\\\n",
    "b_{4}\\\\\n",
    "b_{5}\\\\\n",
    "b_{6}\\\\\n",
    "b_{7}\\\\\n",
    "b_{8}\n",
    "\\end{bmatrix}\n",
    "$$"
   ]
  },
  {
   "cell_type": "markdown",
   "metadata": {},
   "source": [
    "<details>\n",
    "<summary><b>Tip!</b></summary>\n",
    "\n",
    "<div class=\"alert alert-info\">\n",
    "\n",
    "- Los coeficientes $a_{i,i}$ corresponden a coeficientes del tipo $a_P$\n",
    "- Para los coeficientes $a_{i,j}$:\n",
    "    - $i$ corresponde a la celda \"propietaria\".\n",
    "    - $j$ corresponde a la celda \"vecina\".\n",
    "\n",
    "</div>\n",
    "\n",
    "</details>"
   ]
  },
  {
   "cell_type": "markdown",
   "metadata": {},
   "source": [
    "<details>\n",
    "<summary><b>Respuesta</b></summary>\n",
    "\n",
    "<div class=\"alert alert-success\">\n",
    "\n",
    "$$\n",
    "\\begin{bmatrix}a_{1,1} & a_{1,2} &  0 & a_{1,4} &  0 &  0 &  0 &  0 \\\\\n",
    "a_{2,1} & a_{2,2} & a_{2,3} & 0 & a_{2,5} &  0 &  0 &  0 \\\\\n",
    "0 & a_{3,2} & a_{3,3} & 0 & 0 & a_{3,6} &  0 &  0 \\\\\n",
    "a_{4,1} & 0 & 0 & a_{4,4} & a_{4,5} & 0 & -a_{4,7} &  0 \\\\\n",
    "0 & a_{5,2} & 0 & a_{5,4} & a_{5,5} & a_{5,6} & 0 & a_{5,8}\\\\\n",
    "0 & 0 & a_{6,3} & 0 & a_{6,5} & a_{6,6}&  0 &  0 \\\\\n",
    "0 & 0 & 0 & a_{7,4} & 0 & 0 & a_{7,7} & a_{7,8}\\\\\n",
    "0 & 0 & 0 & 0 & a_{8,5} & 0 & a_{8,7} & a_{8,8}\n",
    "\\end{bmatrix}\\begin{bmatrix}\\phi_{1}\\\\\n",
    "\\phi_{2}\\\\\n",
    "\\phi_{3}\\\\\n",
    "\\phi_{4}\\\\\n",
    "\\phi_{5}\\\\\n",
    "\\phi_{6}\\\\\n",
    "\\phi_{7}\\\\\n",
    "\\phi_{8}\n",
    "\\end{bmatrix}=\\begin{bmatrix}b_{1}\\\\\n",
    "b_{2}\\\\\n",
    "b_{3}\\\\\n",
    "b_{4}\\\\\n",
    "b_{5}\\\\\n",
    "b_{6}\\\\\n",
    "b_{7}\\\\\n",
    "b_{8}\n",
    "\\end{bmatrix}\n",
    "$$\n",
    "\n",
    "</div>\n",
    "\n",
    "</details>"
   ]
  },
  {
   "cell_type": "markdown",
   "metadata": {},
   "source": [
    "---"
   ]
  },
  {
   "cell_type": "markdown",
   "metadata": {},
   "source": [
    "De forma general, la ecuación de discretizada para conducción de calor en régimen transitorio se escribe:"
   ]
  },
  {
   "cell_type": "markdown",
   "metadata": {},
   "source": [
    "$$\n",
    "a_P T_P = \\sum_n a_N T_N + b\n",
    "$$"
   ]
  },
  {
   "cell_type": "markdown",
   "metadata": {},
   "source": [
    "Y la nomenclatura de coeficientes queda:"
   ]
  },
  {
   "cell_type": "markdown",
   "metadata": {},
   "source": [
    "<div class=\"alert alert-info\">\n",
    "\n",
    "$$a_P^0 =  \\frac{\\rho c V}{\\Delta t}$$\n",
    "\n",
    "$$a_N = \\frac{\\lambda_n A_n}{(dx)_n}$$\n",
    "\n",
    "$$a_P = a_P^0 + \\sum_N a_N - S_P  V$$\n",
    "\n",
    "$$b = a_P^0 T_P^0 +  S_C  V $$\n",
    "\n",
    "</div>\n"
   ]
  },
  {
   "cell_type": "markdown",
   "metadata": {},
   "source": [
    "**2. Si se hace una pequeña modificación a los coeficientes, el mismo sistema de ecuaciones discretizadas puede ser utilizado para describir la conducción de calor en régimen estacionario.**\n",
    "\n",
    "- **¿En qué consiste la modificación a los coeficientes que se requiere?**"
   ]
  },
  {
   "cell_type": "markdown",
   "metadata": {},
   "source": [
    "<details>\n",
    "<summary><b>Respuesta</b></summary>\n",
    "\n",
    "<div class=\"alert alert-success\">\n",
    "\n",
    "La modificación consiste en asignar un valor nulo a los coeficientes $a_P^0$:\n",
    "\n",
    "$$\n",
    "a_P^0 = 0\n",
    "$$\n",
    "\n",
    "El razonamiento físico es que el régimen estacionario se alcanza cuando el tiempo tiende a infinito,\n",
    "\n",
    "$$\n",
    "a_P^0 = \\frac{\\rho c V}{\\Delta t}\n",
    "$$\n",
    "\n",
    "$$\n",
    "a_P^0 = \\frac{\\rho c V}{(\\Delta t)_{\\rightarrow \\infty}} = 0\n",
    "$$\n",
    "\n",
    "\n",
    "\n",
    "</div>\n",
    "\n",
    "</details>"
   ]
  },
  {
   "cell_type": "markdown",
   "metadata": {},
   "source": []
  }
 ],
 "metadata": {
  "language_info": {
   "name": "python"
  }
 },
 "nbformat": 4,
 "nbformat_minor": 2
}
