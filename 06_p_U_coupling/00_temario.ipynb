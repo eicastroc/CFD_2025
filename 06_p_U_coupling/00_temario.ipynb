{
 "cells": [
  {
   "cell_type": "markdown",
   "metadata": {},
   "source": [
    "# Fluidinámica computacional (Sesión 06)"
   ]
  },
  {
   "cell_type": "markdown",
   "metadata": {},
   "source": [
    "<img src=\"figures/LogoCinvestav.png\" style=\"width:330px;height:100px\" title=\"Cinvestav\">"
   ]
  },
  {
   "cell_type": "markdown",
   "metadata": {},
   "source": [
    "**CINVESTAV Unidad Saltillo**\n",
    "\n",
    "**Programa de Maestría en Ciencias en Ingeniería Metalúrgica**\n",
    "\n",
    "Dr. Edgar Ivan Castro Cedeño\n",
    "\n",
    "\n",
    "Enero - Junio 2025\n",
    "\n",
    "Contacto:\n",
    "[edgar.castro@cinvestav.mx](mailto:edgar.castro@cinvestav.mx)"
   ]
  },
  {
   "cell_type": "markdown",
   "metadata": {},
   "source": [
    "# Contenido de la sesión"
   ]
  },
  {
   "cell_type": "markdown",
   "metadata": {},
   "source": [
    "---\n",
    "\n",
    "**Ecuaciones para flujo incompresible.**\n",
    "\n",
    "- Ecuación de conservación de masa.\n",
    "- Ecuación de conservación de cantidad de movimiento.\n",
    "\n",
    "**Ecuación de presión.**\n",
    "\n",
    "- Obtención de la ecuación de presión.\n",
    "\n",
    "---\n",
    "\n",
    "**Sistema de ecuaciones para flujo incompresible.**\n",
    "- Ecuaciones para flujo incompresible.\n",
    "- Discretización de ecuaciones.\n",
    "- Solución segregada.\n",
    "- Fundamentos de un método iterativo.\n",
    "\n",
    "--- \n",
    "\n",
    "**Acoplamiento presión - velocidad.**\n",
    "\n",
    "- Fundamentos.\n",
    "- Algoritmo SIMPLE.\n",
    "- Algoritmo PISO.\n",
    "- Algoritmo PIMPLE.\n",
    "- Esquemas \"Fully Coupled\".\n",
    "\n",
    "---"
   ]
  },
  {
   "cell_type": "markdown",
   "metadata": {},
   "source": []
  }
 ],
 "metadata": {
  "language_info": {
   "name": "python"
  }
 },
 "nbformat": 4,
 "nbformat_minor": 2
}
