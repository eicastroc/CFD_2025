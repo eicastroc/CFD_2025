{
 "cells": [
  {
   "cell_type": "markdown",
   "metadata": {},
   "source": [
    "# Fluidinámica computacional (Sesión 06)"
   ]
  },
  {
   "cell_type": "markdown",
   "metadata": {},
   "source": [
    "<img src=\"figures/LogoCinvestav.png\" style=\"width:330px;height:100px\" title=\"Cinvestav\">"
   ]
  },
  {
   "cell_type": "markdown",
   "metadata": {},
   "source": [
    "**CINVESTAV Unidad Saltillo**\n",
    "\n",
    "**Programa de Maestría en Ciencias en Ingeniería Metalúrgica**\n",
    "\n",
    "Dr. Edgar Ivan Castro Cedeño\n",
    "\n",
    "\n",
    "Enero - Junio 2025\n",
    "\n",
    "Contacto:\n",
    "[edgar.castro@cinvestav.mx](mailto:edgar.castro@cinvestav.mx)"
   ]
  },
  {
   "cell_type": "markdown",
   "metadata": {},
   "source": [
    "# Sistema de ecuaciones para flujo incompresible"
   ]
  },
  {
   "cell_type": "markdown",
   "metadata": {},
   "source": [
    "## Ecuaciones para flujo incompresible"
   ]
  },
  {
   "cell_type": "markdown",
   "metadata": {},
   "source": [
    "Se tiene un sistema de dos ecuaciones que describen flujo incompresible ($rho$ constante), considerando que $\\nu$ y $\\mathbf{b}$ son constantes y uniformes. "
   ]
  },
  {
   "cell_type": "markdown",
   "metadata": {},
   "source": [
    "**Conservación de cantidad de movimiento** (resolver para $\\mathbf{u}$):\n",
    "\n",
    "$$\n",
    "\\frac{\\partial \\mathbf{u}}{\\partial t} + \\mathbf{\\nabla \\cdot} (\\mathbf{u u}) = \\mathbf{\\nabla \\cdot} (\\nu \\mathbf{\\nabla u}) - \\frac{1}{\\rho} \\mathbf{\\nabla} p + \\frac{1}{\\rho} \\mathbf{b}\n",
    "$$"
   ]
  },
  {
   "cell_type": "markdown",
   "metadata": {},
   "source": [
    "\n",
    "\n",
    "**Conservación de masa** (resolver para $p$):\n",
    "\n",
    "$$\n",
    "\\mathbf{\\nabla \\cdot u} = 0 \\quad \\rightarrow \\quad \\frac{1}{\\rho} \\mathbf{\\nabla^2}p + \\mathbf{\\nabla \\cdot} \\left[\\mathbf{\\nabla \\cdot} (\\mathbf{u u})\\right] = 0\n",
    "$$"
   ]
  },
  {
   "cell_type": "markdown",
   "metadata": {},
   "source": [
    "<details>\n",
    "<summary><b>Nomenclatura</b></summary>\n",
    "\n",
    "<div class=\"alert alert-info\">\n",
    "\n",
    "**$t$**: tiempo, en $[\\mathrm{s}]$.\n",
    "\n",
    "**$\\mathbf{u}$**: vector de velocidad, $\\mathbf{u} = \\begin{pmatrix}\n",
    "\tu_x & u_y & u_z\n",
    "\t\\end{pmatrix}$, en $[\\mathrm{m.s^{-1}}]$.\n",
    "\n",
    "**$\\nu$**: viscosidad cinemática, en $[\\mathrm{m^{2}.s}]$.\n",
    "\n",
    "**$p$**: presión, en $[\\mathrm{Pa}]$ (**SI:** $[\\mathrm{kg.m^{-1}.s^{-2}}]$).\n",
    "\n",
    "**$\\rho$**: densidad, en $[\\mathrm{kg.m^{-3}}]$\n",
    "\t\n",
    "**$\\mathbf{b}$:** Término fuente, $\\mathbf{b} = \\begin{pmatrix} b_x & b_y & b_z \\end{pmatrix}$, en $[\\mathrm{N.m^{-3}}]$ (**SI:** $[\\mathrm{kg.m^{-2}.s^{-2}}]$).\n",
    "\n",
    "**$\\nabla:$** Operador nabla, $\\nabla = \\begin{pmatrix} \\frac{\\partial}{\\partial x} & \\frac{\\partial}{\\partial y} & \\frac{\\partial}{\\partial z} \\end{pmatrix}$, en $[\\mathrm{m^{-1}}]$.\n",
    "\n",
    "</div>\n",
    "\n",
    "</details>"
   ]
  },
  {
   "cell_type": "markdown",
   "metadata": {},
   "source": [
    "## Discretización de ecuaciones"
   ]
  },
  {
   "cell_type": "markdown",
   "metadata": {},
   "source": [
    "El proceso de discretización convierte las ecuaciones diferenciales parciales para campos de un medio continuo, i.e., $p$, $\\mathbf{u}$, en un conjunto de ecuaciones lineales para campos discretos.\n",
    "\n",
    "Cuando se utiliza el método del volumen de control para la discretización de las ecuaciones gobernadoras del fenómeno, se obtienen ecuaciones lineales para cada volumen de control, que tienen la siguiente forma general:"
   ]
  },
  {
   "cell_type": "markdown",
   "metadata": {},
   "source": [
    "$$\n",
    "\\underbrace{a_{i,i} \\phi_{i}}_{\\mathrm{celda\\, i}} + \\underbrace{\\sum a_{i,j} \\phi_{j}}_{\\mathrm{vecinos\\, j}} = b_{i}\n",
    "$$"
   ]
  },
  {
   "cell_type": "markdown",
   "metadata": {},
   "source": [
    "en dónde $a_{i,i}$, $a_{i,j}$, y $b_{i}$ son coeficientes que corresponden a los índices de las celdas $i,j$.\n",
    "\n",
    "El sistema de ecuaciones lineales para el dominio de cálculo se puede escribir como una ecuación matricial de forma general:"
   ]
  },
  {
   "cell_type": "markdown",
   "metadata": {},
   "source": [
    "$$\n",
    "\\begin{bmatrix}\n",
    "\\mathbf{a_{1,1}} & a_{1,2} & a_{1,3} & \\cdots & a_{1,n} \\\\\n",
    "a_{2,1} & \\mathbf{a_{2,2}} & a_{2,3} & \\cdots & a_{2,n} \\\\\n",
    "a_{3,1} & a_{3,2} & \\mathbf{a_{3,3}} & \\cdots & a_{3,n} \\\\\n",
    "\\vdots & \\vdots & \\vdots & \\mathbf{\\ddots} & \\vdots \\\\\n",
    "a_{n,1} & a_{n,2} & a_{n,3} & \\cdots & \\mathbf{a_{n,n}}\n",
    "\\end{bmatrix}\n",
    "\n",
    "\\begin{bmatrix}\n",
    "\\phi_1 \\\\ \\phi_2 \\\\ \\phi_3 \\\\ \\vdots \\\\ \\phi_n\n",
    "\\end{bmatrix}\n",
    "\n",
    "=\n",
    "\n",
    "\\begin{bmatrix}\n",
    "b_1 \\\\ b_2 \\\\ b_3 \\\\ \\vdots \\\\ b_n\n",
    "\\end{bmatrix}\n",
    "$$"
   ]
  },
  {
   "cell_type": "markdown",
   "metadata": {},
   "source": [
    "## Solución segregada"
   ]
  },
  {
   "cell_type": "markdown",
   "metadata": {},
   "source": [
    "Se tiene un sistema de dos ecuaciones que contienen ambos campos, $p$, $\\mathbf{u}$\n",
    "\n",
    "En una solución segregada, cada ecuación se discretiza de forma separada para obtener matrices individuales para cada variable, i.e. $[\\mathbf{u}], [p]$."
   ]
  },
  {
   "cell_type": "markdown",
   "metadata": {},
   "source": [
    "### Ecuación de cantidad de movimiento"
   ]
  },
  {
   "cell_type": "markdown",
   "metadata": {},
   "source": [
    "La variable para la que se resuelve esta ecuación es el campo de velocidades, $\\mathbf{u}$"
   ]
  },
  {
   "cell_type": "markdown",
   "metadata": {},
   "source": [
    "$$\n",
    "\\frac{\\partial \\mathbf{u}}{\\partial t} + \\mathbf{\\nabla \\cdot} (\\mathbf{u u}) = \\mathbf{\\nabla \\cdot} (\\nu \\mathbf{\\nabla u}) - \\frac{1}{\\rho} \\mathbf{\\nabla} p + \\frac{1}{\\rho} \\mathbf{b}\n",
    "$$"
   ]
  },
  {
   "cell_type": "markdown",
   "metadata": {},
   "source": [
    "$$\n",
    "\\mathbf{A \\cdot u} = \\mathbf{b}\n",
    "$$"
   ]
  },
  {
   "cell_type": "markdown",
   "metadata": {},
   "source": [
    "$$\n",
    "\n",
    "\\begin{matrix*}[c]\n",
    "\n",
    "\\begin{bmatrix}\n",
    "\\square & * & & * \\\\\n",
    "* & \\square & * & \\\\\n",
    " & * & \\square & * \\\\\n",
    "* & & * & \\square\n",
    "\\end{bmatrix}\n",
    "\\begin{bmatrix}\n",
    "\\\\ u_x \\\\ \\\\\n",
    "\\end{bmatrix}\n",
    "=\n",
    "\\begin{bmatrix}\n",
    "* \\\\ * \\\\ * \\\\ *\n",
    "\\end{bmatrix}\n",
    "\n",
    "&\n",
    "&\n",
    "&\n",
    "\n",
    "\\begin{bmatrix}\n",
    "\\square & * & & * \\\\\n",
    "* & \\square & * & \\\\\n",
    " & * & \\square & * \\\\\n",
    "* & & * & \\square\n",
    "\\end{bmatrix}\n",
    "\\begin{bmatrix}\n",
    "\\\\ u_y \\\\ \\\\\n",
    "\\end{bmatrix}\n",
    "=\n",
    "\\begin{bmatrix}\n",
    "* \\\\ * \\\\ * \\\\ *\n",
    "\\end{bmatrix}\n",
    "\n",
    "&\n",
    "&\n",
    "&\n",
    "\n",
    "\\begin{bmatrix}\n",
    "\\square & * & & * \\\\\n",
    "* & \\square & * & \\\\\n",
    " & * & \\square & * \\\\\n",
    "* & & * & \\square\n",
    "\\end{bmatrix}\n",
    "\n",
    "\\begin{bmatrix}\n",
    "\\\\ u_z \\\\ \\\\\n",
    "\\end{bmatrix}\n",
    "=\n",
    "\\begin{bmatrix}\n",
    "* \\\\ * \\\\ * \\\\ *\n",
    "\\end{bmatrix}\n",
    "\n",
    "\\end{matrix*}\n",
    "$$"
   ]
  },
  {
   "cell_type": "markdown",
   "metadata": {},
   "source": [
    "### Ecuación de presión"
   ]
  },
  {
   "cell_type": "markdown",
   "metadata": {},
   "source": [
    "La variable para la que se resuelve esta ecuación es el campo de presiones, $p$."
   ]
  },
  {
   "cell_type": "markdown",
   "metadata": {},
   "source": [
    "```math\n",
    "\\mathbf{\\nabla \\cdot u} = 0 \\quad \\rightarrow \\quad \\frac{1}{\\rho} \\mathbf{\\nabla^2}p + \\mathbf{\\nabla \\cdot} \\left[\\mathbf{\\nabla \\cdot} (\\mathbf{u u})\\right] = 0\n",
    "```"
   ]
  },
  {
   "cell_type": "markdown",
   "metadata": {},
   "source": [
    "```math\n",
    "\\mathbf{A \\cdot p} = \\mathbf{b}\n",
    "```"
   ]
  },
  {
   "cell_type": "markdown",
   "metadata": {},
   "source": [
    "```math\n",
    "\\begin{matrix*}[c]\n",
    "\n",
    "\\begin{bmatrix}\n",
    "\\square & * & & * \\\\\n",
    "* & \\square & * & \\\\\n",
    " & * & \\square & * \\\\\n",
    "* & & * & \\square\n",
    "\\end{bmatrix}\n",
    "\\begin{bmatrix}\n",
    "\\\\ p \\\\ \\\\\n",
    "\\end{bmatrix}\n",
    "=\n",
    "\\begin{bmatrix}\n",
    "* \\\\ * \\\\ * \\\\ *\n",
    "\\end{bmatrix}\n",
    "\n",
    "\\end{matrix*}\n",
    "```"
   ]
  },
  {
   "cell_type": "markdown",
   "metadata": {},
   "source": [
    "### Solución del sistema de ecuaciones"
   ]
  },
  {
   "cell_type": "markdown",
   "metadata": {},
   "source": [
    "Las ecuaciones matriciales se resuelven mediante una secuencia iterativa, en la que cada ecuación para una variable, \n",
    "\n",
    "<center>\n",
    "\n",
    "**e.g.**, $[u_x]$, incorpora los valores de la iteración previa para las otras variables, e.g. $[u_y], [u_z], [p]$.\n",
    "\n",
    "</center>"
   ]
  },
  {
   "cell_type": "markdown",
   "metadata": {},
   "source": [
    "## Fundamentos de un método iterativo"
   ]
  },
  {
   "cell_type": "markdown",
   "metadata": {},
   "source": [
    "**1.** Al inicio de un paso de tiempo, el valor actual de la velocidad, $\\mathbf{u}$, se guarda como la velocidad del paso de tiempo previo, $\\mathbf{u^0}$, para la discretización del término transitorio, $\\frac{\\partial \\mathbf{u}}{\\partial t}$ en la ecuación de cantidad de movimiento."
   ]
  },
  {
   "cell_type": "markdown",
   "metadata": {},
   "source": [
    "<div class=\"alert alert-info\">\n",
    "\n",
    "**Discretización del término advectivo**\n",
    "\n",
    "El término advectivo, $\\mathbf{\\nabla \\cdot} (\\mathbf{u u})$ se discretiza tratando una $\\mathbf{u}$ como flujo en la superficie de las caras entre la celda $i$ y sus celdas vecinas, $\\phi_f$, y otra $\\mathbf{u}$ como candidad transportada por advección:\n",
    "\n",
    "$$\n",
    "\\mathbf{\\nabla \\cdot} (\\mathbf{u u}) = \\lim_{\\Delta V \\rightarrow 0} \\frac{1}{\\Delta V} \\int_S \\left(d\\mathbf{S} \\cdot \\mathbf{uu}\\right)\n",
    "$$\n",
    "\n",
    "$$\n",
    "\\rightarrow \\quad \\frac{1}{V} \\sum_f \\underbrace{\\mathbf{S_f}\\cdot \\mathbf{u_f}}_{\\phi_f} \\mathbf{u_f}\n",
    "\\quad \\rightarrow \\quad \\frac{1}{V} \\sum_f \\phi_f \\mathbf{u_f}\n",
    "$$\n",
    "\n",
    "</div>"
   ]
  },
  {
   "cell_type": "markdown",
   "metadata": {},
   "source": [
    "**2.** Se resuelve de forma segregada la velocidad, $\\mathbf{u}$, en la ecuación de cantidad de movimiento. "
   ]
  },
  {
   "cell_type": "markdown",
   "metadata": {},
   "source": [
    "$$\n",
    "\\mathbf{A \\cdot u} = \\mathbf{b}\n",
    "$$"
   ]
  },
  {
   "cell_type": "markdown",
   "metadata": {},
   "source": [
    "\n",
    "$$\n",
    "\\begin{matrix}\n",
    "\n",
    "\\begin{bmatrix}\n",
    "\\square & * & & * \\\\\n",
    "* & \\square & * & \\\\\n",
    " & * & \\square & * \\\\\n",
    "* & & * & \\square\n",
    "\\end{bmatrix}\n",
    "\\begin{bmatrix}\n",
    "\\\\ u_x \\\\ \\\\\n",
    "\\end{bmatrix}\n",
    "=\n",
    "\\begin{bmatrix}\n",
    "* \\\\ * \\\\ * \\\\ *\n",
    "\\end{bmatrix}\n",
    "\n",
    "&\n",
    "\\rightarrow\n",
    "&\n",
    "\n",
    "\\begin{bmatrix}\n",
    "\\square & * & & * \\\\\n",
    "* & \\square & * & \\\\\n",
    " & * & \\square & * \\\\\n",
    "* & & * & \\square\n",
    "\\end{bmatrix}\n",
    "\\begin{bmatrix}\n",
    "\\\\ u_y \\\\ \\\\\n",
    "\\end{bmatrix}\n",
    "=\n",
    "\\begin{bmatrix}\n",
    "* \\\\ * \\\\ * \\\\ *\n",
    "\\end{bmatrix}\n",
    "\n",
    "&\n",
    "\\rightarrow\n",
    "&\n",
    "\n",
    "\\begin{bmatrix}\n",
    "\\square & * & & * \\\\\n",
    "* & \\square & * & \\\\\n",
    " & * & \\square & * \\\\\n",
    "* & & * & \\square\n",
    "\\end{bmatrix}\n",
    "\n",
    "\\begin{bmatrix}\n",
    "\\\\ u_z \\\\ \\\\\n",
    "\\end{bmatrix}\n",
    "=\n",
    "\\begin{bmatrix}\n",
    "* \\\\ * \\\\ * \\\\ *\n",
    "\\end{bmatrix}\n",
    "\n",
    "\\end{matrix}\n",
    "$$"
   ]
  },
  {
   "cell_type": "markdown",
   "metadata": {},
   "source": [
    "**3.** Se resuelve la presión, $p$, en la ecuación de presión, tras haber sustituido la nueva solución para la velocidad $\\mathbf{u}$."
   ]
  },
  {
   "cell_type": "markdown",
   "metadata": {},
   "source": [
    "$$\n",
    "\\mathbf{A \\cdot p}  = \\mathbf{b}\n",
    "$$"
   ]
  },
  {
   "cell_type": "markdown",
   "metadata": {},
   "source": [
    "$$\n",
    "\\begin{bmatrix}\n",
    "\\square & * & & * \\\\\n",
    "* & \\square & * & \\\\\n",
    " & * & \\square & * \\\\\n",
    "* & & * & \\square\n",
    "\\end{bmatrix}\n",
    "\\begin{bmatrix}\n",
    "\\\\ p \\\\ \\\\\n",
    "\\end{bmatrix}\n",
    "=\n",
    "\\begin{bmatrix}\n",
    "* \\\\ * \\\\ * \\\\ *\n",
    "\\end{bmatrix}\n",
    "$$"
   ]
  },
  {
   "cell_type": "markdown",
   "metadata": {},
   "source": [
    "**4.** La nueva solución de $p$ se utiliza para corregir los flujos en las caras, $\\phi_f$, de tal forma que se satisfaga la condición de conservación de masa:\n",
    "\n",
    "$$\n",
    "\\sum_f \\phi_f = 0\n",
    "$$\n",
    "\n",
    "i.e.,\n",
    "\n",
    "$$\n",
    "\\mathbf{\\nabla \\cdot u} = 0\n",
    "$$"
   ]
  },
  {
   "cell_type": "markdown",
   "metadata": {},
   "source": [
    "**5.** Antes de completar el paso en la solución, también se corrige la velocidad, $\\mathbf{u}$, a fin de reducir el error en la discretización del término $\\frac{\\partial \\mathbf{u}}{\\partial t}$. \n",
    "\n",
    "- Al iniciar un nuevo paso de tiempo, la velocidad corregida, $\\mathbf{u}$, será guardada como la velocidad del paso de tiempo previo, $\\mathbf{u^0}$."
   ]
  },
  {
   "cell_type": "markdown",
   "metadata": {},
   "source": []
  }
 ],
 "metadata": {
  "language_info": {
   "name": "python"
  }
 },
 "nbformat": 4,
 "nbformat_minor": 2
}
