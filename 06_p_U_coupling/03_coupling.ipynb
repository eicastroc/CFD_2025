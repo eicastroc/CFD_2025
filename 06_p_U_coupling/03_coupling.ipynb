{
 "cells": [
  {
   "cell_type": "markdown",
   "metadata": {},
   "source": [
    "# Fluidinámica computacional (Sesión 06)"
   ]
  },
  {
   "cell_type": "markdown",
   "metadata": {},
   "source": [
    "<img src=\"figures/LogoCinvestav.png\" style=\"width:330px;height:100px\" title=\"Cinvestav\">"
   ]
  },
  {
   "cell_type": "markdown",
   "metadata": {},
   "source": [
    "**CINVESTAV Unidad Saltillo**\n",
    "\n",
    "**Programa de Maestría en Ciencias en Ingeniería Metalúrgica**\n",
    "\n",
    "Dr. Edgar Ivan Castro Cedeño\n",
    "\n",
    "\n",
    "Enero - Junio 2025\n",
    "\n",
    "Contacto:\n",
    "[edgar.castro@cinvestav.mx](mailto:edgar.castro@cinvestav.mx)"
   ]
  },
  {
   "cell_type": "markdown",
   "metadata": {},
   "source": [
    "# Acoplamiento presión - velocidad"
   ]
  },
  {
   "cell_type": "markdown",
   "metadata": {},
   "source": [
    "## Fundamentos"
   ]
  },
  {
   "cell_type": "markdown",
   "metadata": {},
   "source": [
    "**Conservación de cantidad de movimiento** (resolver para $\\mathbf{u}$):\n",
    "\n",
    "```math\n",
    "\\frac{\\partial \\mathbf{u}}{\\partial t} + \\mathbf{\\nabla \\cdot} (\\mathbf{u u}) - \\mathbf{\\nabla \\cdot} (\\nu \\mathbf{\\nabla u}) - \\frac{1}{\\rho} \\mathbf{b}\n",
    "=\n",
    "- \\frac{1}{\\rho} \\mathbf{\\nabla} p\n",
    "```"
   ]
  },
  {
   "cell_type": "markdown",
   "metadata": {},
   "source": [
    "\n",
    "\n",
    "**Conservación de masa** (resolver para $p$):\n",
    "\n",
    "```math\n",
    "\\mathbf{\\nabla \\cdot u} = 0 \\quad \\rightarrow \\quad \\frac{1}{\\rho} \\mathbf{\\nabla^2}p + \\mathbf{\\nabla \\cdot} \\left[\\mathbf{\\nabla \\cdot} (\\mathbf{u u})\\right] = 0\n",
    "```"
   ]
  },
  {
   "cell_type": "markdown",
   "metadata": {},
   "source": [
    "<details>\n",
    "<summary><b>Nomenclatura</b></summary>\n",
    "\n",
    "<div class=\"alert alert-info\">\n",
    "\n",
    "**$t$**: tiempo, en $[\\mathrm{s}]$.\n",
    "\n",
    "**$\\mathbf{u}$**: vector de velocidad, $\\mathbf{u} = \\begin{pmatrix}\n",
    "\tu_x & u_y & u_z\n",
    "\t\\end{pmatrix}$, en $[\\mathrm{m.s^{-1}}]$.\n",
    "\n",
    "**$\\nu$**: viscosidad cinemática, en $[\\mathrm{m^{2}.s}]$.\n",
    "\n",
    "**$p$**: presión, en $[\\mathrm{Pa}]$ (**SI:** $[\\mathrm{kg.m^{-1}.s^{-2}}]$).\n",
    "\n",
    "**$\\rho$**: densidad, en $[\\mathrm{kg.m^{-3}}]$\n",
    "\t\n",
    "**$\\mathbf{b}$:** Término fuente, $\\mathbf{b} = \\begin{pmatrix} b_x & b_y & b_z \\end{pmatrix}$, en $[\\mathrm{N.m^{-3}}]$ (**SI:** $[\\mathrm{kg.m^{-2}.s^{-2}}]$).\n",
    "\n",
    "**$\\nabla:$** Operador nabla, $\\nabla = \\begin{pmatrix} \\frac{\\partial}{\\partial x} & \\frac{\\partial}{\\partial y} & \\frac{\\partial}{\\partial z} \\end{pmatrix}$, en $[\\mathrm{m^{-1}}]$.\n",
    "\n",
    "</div>\n",
    "\n",
    "</details>"
   ]
  },
  {
   "cell_type": "markdown",
   "metadata": {},
   "source": [
    "### Ecuación de cantidad de movimiento (sin término de presión)"
   ]
  },
  {
   "cell_type": "markdown",
   "metadata": {},
   "source": [
    "Los algoritmos utilizados para acoplar presión y velocidad, de una forma que se logre la convergencia numérica del sistema, utilizan la siguiente notación para describir términos en la ecuación de cantidad de movimiento (excluyendo el término $\\mathbf{\\nabla}p$)."
   ]
  },
  {
   "cell_type": "markdown",
   "metadata": {},
   "source": [
    "\n",
    "```math\n",
    "\\mathbf{A u} - \\mathbf{b}\n",
    "\\equiv\n",
    "\\frac{\\partial \\mathbf{u}}{\\partial t} + \\mathbf{\\nabla \\cdot} (\\mathbf{u u}) - \\mathbf{\\nabla \\cdot} (\\nu \\mathbf{\\nabla u}) - \\frac{1}{\\rho} \\mathbf{b}\n",
    "```"
   ]
  },
  {
   "cell_type": "markdown",
   "metadata": {},
   "source": [
    "<details>\n",
    "<summary><b>Descomposición</b></summary>\n",
    "\n",
    "<div class=\"alert alert-success\">\n",
    "\n",
    "```math\n",
    "\\underbrace{\n",
    "\\begin{bmatrix}\n",
    "\\square & * & & * \\\\ * & \\square & * & \\\\ & * & \\square & * \\\\ * & & * & \\square\n",
    "\\end{bmatrix}\n",
    "\\begin{bmatrix} \\\\ \\mathbf{u} \\\\ \\\\ \\end{bmatrix}\n",
    "}_{\\mathbf{A u}}\n",
    "-\n",
    "\\underbrace{\n",
    "\\begin{bmatrix} * \\\\ * \\\\ * \\\\ * \\end{bmatrix}\n",
    "}_{\\mathbf{b}}\n",
    "```\n",
    "\n",
    "</div>\n",
    "\n",
    "</details>"
   ]
  },
  {
   "cell_type": "markdown",
   "metadata": {},
   "source": [
    "```math\n",
    "A\\mathbf{u} - \\mathbf{H}(\\mathbf{u})\n",
    "\\equiv\n",
    "\\frac{\\partial \\mathbf{u}}{\\partial t} + \\mathbf{\\nabla \\cdot} (\\mathbf{u u}) - \\mathbf{\\nabla \\cdot} (\\nu \\mathbf{\\nabla u}) - \\frac{1}{\\rho} \\mathbf{b}\n",
    "```"
   ]
  },
  {
   "cell_type": "markdown",
   "metadata": {},
   "source": [
    "<details>\n",
    "<summary><b>Descomposición</b></summary>\n",
    "\n",
    "<div class=\"alert alert-success\">\n",
    "\n",
    "```math\n",
    "\n",
    "\t\\underbrace{\n",
    "\t\\begin{bmatrix}\n",
    "\t\\square &  & &  \\\\  & \\square &  & \\\\ &  & \\square &  \\\\  & &  & \\square\n",
    "\t\\end{bmatrix}\n",
    "\t\\begin{bmatrix} \\\\ \\mathbf{u} \\\\ \\\\ \\end{bmatrix}\n",
    "\t}_{A\\mathbf{u}}\n",
    "\t+\n",
    "\t\\underbrace{\n",
    "\t\\begin{bmatrix}\n",
    "\t & * & & * \\\\ * &  & * & \\\\ & * &  & * \\\\ * & & * & \n",
    "\t\\end{bmatrix}\n",
    "\t\\begin{bmatrix} \\\\ \\mathbf{u} \\\\ \\\\ \\end{bmatrix}\n",
    "\t-\n",
    "\t\\begin{bmatrix} * \\\\ * \\\\ * \\\\ * \\end{bmatrix}\n",
    "\t}_{-\\mathbf{H(u)}}\n",
    "```\n",
    "\n",
    "</div>\n",
    "\n",
    "</details>"
   ]
  },
  {
   "cell_type": "markdown",
   "metadata": {},
   "source": [
    "<details>\n",
    "<summary><b>Nomenclatura</b></summary>\n",
    "\n",
    "<div class=\"alert alert-info\">\n",
    "\n",
    "**$A \\mathbf{u}$**: término lineal de $\\mathbf{u}$.\n",
    "\n",
    "**$-\\mathbf{H(u)}$**: una función de $\\mathbf{u}$ y otras fuentes.\n",
    "\n",
    "</div>\n",
    "\n",
    "</details>"
   ]
  },
  {
   "cell_type": "markdown",
   "metadata": {},
   "source": [
    "### Corrección de momentum"
   ]
  },
  {
   "cell_type": "markdown",
   "metadata": {},
   "source": [
    "La ecuación de cantidad de movimiento se puede expresar en términos de la ecuación presentada arriba."
   ]
  },
  {
   "cell_type": "markdown",
   "metadata": {},
   "source": [
    "```math\n",
    "\\frac{\\partial \\mathbf{u}}{\\partial t} + \\mathbf{\\nabla \\cdot} (\\mathbf{u u}) - \\mathbf{\\nabla \\cdot} (\\nu \\mathbf{\\nabla u}) + \\frac{1}{\\rho} \\mathbf{b} = - \\frac{1}{\\rho} \\mathbf{\\nabla} p \n",
    "```"
   ]
  },
  {
   "cell_type": "markdown",
   "metadata": {},
   "source": [
    "```math\n",
    "A\\mathbf{u} - \\mathbf{H}(\\mathbf{u}) = - \\frac{1}{\\rho} \\mathbf{\\nabla} p\n",
    "```"
   ]
  },
  {
   "cell_type": "markdown",
   "metadata": {},
   "source": [
    "Reacomodando la ecuación, se obtiene una expresión que permite actualizar la velocidad $\\mathbf{u}$, tomando en cuenta los valores iterados de $\\mathbf{u}, p$."
   ]
  },
  {
   "cell_type": "markdown",
   "metadata": {},
   "source": [
    "```math\n",
    "\\mathbf{u} := \\frac{\\mathbf{H(u)}}{A} - \\frac{1}{\\rho} \\frac{1}{A} \\mathbf{\\nabla} p\n",
    "```"
   ]
  },
  {
   "cell_type": "markdown",
   "metadata": {},
   "source": [
    "### Corrección de flujo"
   ]
  },
  {
   "cell_type": "markdown",
   "metadata": {},
   "source": [
    "A partir de la ecuación de corrección de momentum se deriva una ecuación de corrección de flujo, al interpolar $\\mathbf{u}$ a las caras del volumen de control, y evaluando los flujos en las caras."
   ]
  },
  {
   "cell_type": "markdown",
   "metadata": {},
   "source": [
    "```math\n",
    "\\phi_f = \\mathbf{S}_f \\cdot \\mathbf{u}_f\n",
    "```"
   ]
  },
  {
   "cell_type": "markdown",
   "metadata": {},
   "source": [
    "```math\n",
    "\\phi_f := \\mathbf{S}_f \\cdot \\left(\\frac{\\mathbf{H(u)}}{A} \\right) - \\frac{1}{\\rho} \\left(\\frac{|\\mathbf{S}_f|}{A}\\right) \\mathbf{\\nabla_n} (p_f)\n",
    "```"
   ]
  },
  {
   "cell_type": "markdown",
   "metadata": {},
   "source": [
    "### Ecuación de presión"
   ]
  },
  {
   "cell_type": "markdown",
   "metadata": {},
   "source": [
    "Tras sustituir los flujos $\\phi_f$ en la ecuación de conservación discretizada, $\\mathbf{\\nabla \\cdot u} \\approx \\sum_f \\phi_f = 0$, se obtiene una expresión para la ecuación de presión discretizada, con coeficientes que contienen $A$ y $\\mathbf{H(u)}$."
   ]
  },
  {
   "cell_type": "markdown",
   "metadata": {},
   "source": [
    "```math\n",
    "\\frac{1}{\\rho} \\mathbf{\\nabla \\cdot} \\frac{1}{A} \\mathbf{\\nabla} p \\mathbf{\\nabla \\cdot}\\left[\\frac{\\mathbf{H}(\\mathbf{u})}{A}\\right]\n",
    "```"
   ]
  },
  {
   "cell_type": "markdown",
   "metadata": {},
   "source": [
    "<details>\n",
    "<summary><b>Derivación</b></summary>\n",
    "\n",
    "<div class=\"alert alert-success\">\n",
    "\n",
    "La ecuación de cantidad de movimiento\n",
    "```math\n",
    "A\\mathbf{u} - \\mathbf{H}(\\mathbf{u}) = - \\frac{1}{\\rho} \\mathbf{\\nabla} p\n",
    "```\n",
    "se reescribe como:\n",
    "```math\n",
    "\\mathbf{u} - \\left[\\frac{\\mathbf{H}(\\mathbf{u})}{A}\\right] = - \\frac{1}{\\rho} \\frac{1}{A} \\mathbf{\\nabla} p\n",
    "```\n",
    "Tomando la divergencia:\n",
    "```math\n",
    "\\cancel{\\mathbf{\\nabla \\cdot u}} - \\mathbf{\\nabla \\cdot}\\left[\\frac{\\mathbf{H}(\\mathbf{u})}{A}\\right] = - \\frac{1}{\\rho} \\mathbf{\\nabla \\cdot} \\frac{1}{A} \\mathbf{\\nabla} p\n",
    "```\n",
    "```math\n",
    "\\cancel{\\sum_f \\phi_f} - \\mathbf{\\nabla \\cdot}\\left[\\frac{\\mathbf{H}(\\mathbf{u})}{A}\\right] = - \\frac{1}{\\rho} \\mathbf{\\nabla \\cdot} \\frac{1}{A} \\mathbf{\\nabla} p\n",
    "```\n",
    "Reacomodando:\n",
    "```math\n",
    "\\frac{1}{\\rho} \\mathbf{\\nabla \\cdot} \\frac{1}{A} \\mathbf{\\nabla} p = \\mathbf{\\nabla \\cdot}\\left[\\frac{\\mathbf{H}(\\mathbf{u})}{A}\\right]\n",
    "```\n",
    "\n",
    "</div>\n",
    "\n",
    "</details>"
   ]
  },
  {
   "cell_type": "markdown",
   "metadata": {},
   "source": [
    "## Algoritmo SIMPLE"
   ]
  },
  {
   "cell_type": "markdown",
   "metadata": {},
   "source": [
    "**SIMPLE (Semi-Implicit Pressure Linking Equations, 1972)**\n",
    "\n",
    "1. Se construye una ecuación matricial usando los términos de la ecuación de momentum, excluyendo el término de presión, $\\nabla p$ **(Momentum matrix)**.\n",
    "\n",
    "2. Se relaja la ecuación matricial resultante con un factor $\\alpha_u$.\n",
    "\n",
    "3. La ecuación matricial relajada se iguala al término de presión, $\\nabla p$, y se resuelve para la velocidad, $\\mathbf{u}$ **(Momentum predictor)**.\n",
    "\n",
    "4. Se evalúan $A\\mathbf{u}$ y $\\mathbf{H(u)}$ a partir de $\\mathbf{Au-b}$ (la matriz de momentum). Se utilizan para construir la ecuación de presión, que se resuelve para $p$ **(Pressure equation)**.\n",
    "\n",
    "5. La nueva presión $p$ se utiliza para corregir los flujos en las caras $\\phi_f$, para lograr una mejor conservación de masa **(Flux corrector)**.\n",
    "\n",
    "6. Se relaja la presión con un factor $\\alpha_p$.\n",
    "\n",
    "7. Se corrige la velocidad $\\mathbf{u}$ previo a proceder con el siguiente paso de la solución **(Momentum corrector)**."
   ]
  },
  {
   "cell_type": "markdown",
   "metadata": {},
   "source": [
    "<center>\n",
    "\n",
    "<img src=\"figures/images/simpleMod.png\" style=\"width:400px\" title=\"Geometría 1D\">\n",
    "\n",
    "***Figura 01. Esquema del algoritmo SIMPLE.***\n",
    "\n",
    "</center>"
   ]
  },
  {
   "cell_type": "markdown",
   "metadata": {},
   "source": [
    "El término de presión expresando en la figura corresponde a una \"presión dinámica\", $\\hat{p} = p/\\rho$.\n",
    "\n",
    "Adaptado de: [[CFD Direct, 2023]](https://doc.cfd.direct/notes/cfd-general-principles/numerical-method)"
   ]
  },
  {
   "cell_type": "markdown",
   "metadata": {},
   "source": [
    "## Algoritmo PISO"
   ]
  },
  {
   "cell_type": "markdown",
   "metadata": {},
   "source": [
    "**PISO (Pressure Implicit with Splitting of Operators, 1986)**\n",
    "\n",
    "1. Se construye una ecuación matricial usando los términos de la ecuación de momentum, excluyendo el término de presión, $\\nabla p$ **(Momentum matrix)**.\n",
    "\n",
    "2. La ecuación matricial se iguala al término de presión, $\\nabla p$ **(Momentum predictor)**.\n",
    "\n",
    "4. Se evalúan $A\\mathbf{u}$ y $\\mathbf{H(u)}$ a partir de $\\mathbf{Au-b}$ (la matriz de momentum). Se utilizan para construir la ecuación de presión, que se resuelve para $p$ **(Pressure equation)**.\n",
    "\n",
    "5. La nueva presión $p$ se utiliza para corregir la velocidad, $\\mathbf{u}$ **(Momentum corrector)**.\n",
    "\n",
    "6. Se vuelve a corregir de nuevo la presión, y esto es seguido de una nueva corrección de momentum **(PISO loop)**.\n",
    "\n",
    "7. Se actualiza el término advectivo, i.e, los flujos en las caras $\\phi_f$ antes de pasar al paso de tiempo posterior **(Flux corrector)**."
   ]
  },
  {
   "cell_type": "markdown",
   "metadata": {},
   "source": [
    "<center>\n",
    "\n",
    "<img src=\"figures/images/pisoMod.png\" style=\"width:400px\" title=\"Geometría 1D\">\n",
    "\n",
    "***Figura 02. Esquema del algoritmo PISO.***\n",
    "\n",
    "</center>"
   ]
  },
  {
   "cell_type": "markdown",
   "metadata": {},
   "source": [
    "El término de presión expresando en la figura corresponde a una \"presión dinámica\", $\\hat{p} = p/\\rho$.\n",
    "\n",
    "Adaptado de: [[CFD Direct, 2023]](https://doc.cfd.direct/notes/cfd-general-principles/numerical-method)"
   ]
  },
  {
   "cell_type": "markdown",
   "metadata": {},
   "source": [
    "## Algoritmo PIMPLE (OpenFoam)"
   ]
  },
  {
   "cell_type": "markdown",
   "metadata": {},
   "source": [
    "**PIMPLE (PISO + SIMPLE, ~1996)**\n",
    "\n",
    "1. Se construye una ecuación matricial usando los términos de la ecuación de momentum, excluyendo el término de presión, $\\nabla p$ **(Momentum matrix)**.\n",
    "\n",
    "2. Se relaja la ecuación matricial resultante con un factor $\\alpha_u$.\n",
    "\n",
    "3. La ecuación matricial relajada se iguala al término de presión, $\\nabla p$, y se resuelve para la velocidad, $\\mathbf{u}$ **(Momentum predictor)**.\n",
    "\n",
    "4. Se evalúan $A\\mathbf{u}$ y $\\mathbf{H(u)}$ a partir de $\\mathbf{Au-b}$ (la matriz de momentum). Se utilizan para construir la ecuación de presión, que se resuelve para $p$ **(Pressure equation)**.\n",
    "\n",
    "5. La nueva presión $p$ se utiliza para corregir los flujos en las caras $\\phi_f$, para lograr una mejor conservación de masa **(Flux corrector)**.\n",
    "\n",
    "6. Se relaja la presión con un factor $\\alpha_p$.\n",
    "\n",
    "7. Se corrige la velocidad $\\mathbf{u}$ previo a proceder a proceder con una nueva correción de la velocidad **(Momentum corrector)**.\n",
    "\n",
    "8. Se vuelve a corregir la presión de nuevo, y esto es seguido de una nueva corrección de flujo ($\\phi_f$) y de momentum ($\\mathbf{u}$) **(PISO loop)**.\n",
    "\n",
    "9. Se lleva a cabo una nueva iteración del algoritmo dentro de un mismo paso de tiempo. Esto permite trabajar con coeficientes actualizados dentro del paso de tiempo **(PIMPLE loop)**.\n",
    "\n",
    "10. Los términos actualizados de presión, $p$, velocidad, $\\mathbf{u}$, y flujos en las caras, $\\phi_f$ seran utilizados para el paso de tiempo posterior."
   ]
  },
  {
   "cell_type": "markdown",
   "metadata": {},
   "source": [
    "<center>\n",
    "\n",
    "<img src=\"figures/images/pimpleMod.png\" style=\"width:400px\" title=\"Geometría 1D\">\n",
    "\n",
    "***Figura 03. Esquema del algoritmo PIMPLE.***\n",
    "\n",
    "</center>"
   ]
  },
  {
   "cell_type": "markdown",
   "metadata": {},
   "source": [
    "El término de presión expresando en la figura corresponde a una \"presión dinámica\", $\\hat{p} = p/\\rho$.\n",
    "\n",
    "Adaptado de: [[CFD Direct, 2023]](https://doc.cfd.direct/notes/cfd-general-principles/numerical-method)"
   ]
  },
  {
   "cell_type": "markdown",
   "metadata": {},
   "source": [
    "### Esquemas \"Fully Coupled\""
   ]
  },
  {
   "cell_type": "markdown",
   "metadata": {},
   "source": [
    "De forma general, este tipo de esquemas se basan en resolver en construir una matriz masiva, que incluye los campos $\\mathbf{u}$, $p$.\n",
    "\n",
    "- Al tener un sistema de ecuaciones mas grande, el requerimiento de memoria es mayor.\n",
    "\n",
    "- Se espera que la convergencia sea más rápida."
   ]
  },
  {
   "cell_type": "markdown",
   "metadata": {},
   "source": [
    "```math\n",
    "\\begin{bmatrix}\n",
    "\\square & * & & * \\\\\n",
    "* & \\square & * & \\\\\n",
    " & * & \\square & * \\\\\n",
    "* & & * & \\square\n",
    "\\end{bmatrix}\n",
    "\\begin{bmatrix}\n",
    "u_x \\\\ u_y \\\\ u_z\\\\ p \\\\\n",
    "\\end{bmatrix}\n",
    "=\n",
    "\\begin{bmatrix}\n",
    "* \\\\ * \\\\ * \\\\ *\n",
    "\\end{bmatrix}\n",
    "```"
   ]
  }
 ],
 "metadata": {
  "language_info": {
   "name": "python"
  }
 },
 "nbformat": 4,
 "nbformat_minor": 2
}
