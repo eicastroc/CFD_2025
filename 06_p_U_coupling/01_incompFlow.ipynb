{
 "cells": [
  {
   "cell_type": "markdown",
   "metadata": {},
   "source": [
    "# Fluidinámica computacional (Sesión 06)"
   ]
  },
  {
   "cell_type": "markdown",
   "metadata": {},
   "source": [
    "<img src=\"figures/LogoCinvestav.png\" style=\"width:330px;height:100px\" title=\"Cinvestav\">"
   ]
  },
  {
   "cell_type": "markdown",
   "metadata": {},
   "source": [
    "**CINVESTAV Unidad Saltillo**\n",
    "\n",
    "**Programa de Maestría en Ciencias en Ingeniería Metalúrgica**\n",
    "\n",
    "Dr. Edgar Ivan Castro Cedeño\n",
    "\n",
    "\n",
    "Enero - Junio 2025\n",
    "\n",
    "Contacto:\n",
    "[edgar.castro@cinvestav.mx](mailto:edgar.castro@cinvestav.mx)"
   ]
  },
  {
   "cell_type": "markdown",
   "metadata": {},
   "source": [
    "# Ecuaciones para flujo incompresible"
   ]
  },
  {
   "cell_type": "markdown",
   "metadata": {},
   "source": [
    "**Problemática:** La conservación de masa y cantidad de movimiento proveen dos ecuaciones (una escalar, una vectorial) para dos campos ($p, \\mathbf{u}$). Sin embargo, la conservación de masa no puede resolverse por si misma ya que provée una ecuación para el vector $\\mathbf{u}$, que tiene 3 componentes."
   ]
  },
  {
   "cell_type": "markdown",
   "metadata": {},
   "source": [
    "## Ecuación de conservación de masa"
   ]
  },
  {
   "cell_type": "markdown",
   "metadata": {},
   "source": [
    "$$\n",
    "\\mathbf{\\nabla \\cdot u} = 0\n",
    "$$\n",
    "\n",
    "$$\n",
    "\\frac{\\partial u_x}{\\partial x} + \\frac{\\partial u_y}{\\partial y}  + \\frac{\\partial u_z}{\\partial z} = 0\n",
    "$$"
   ]
  },
  {
   "cell_type": "markdown",
   "metadata": {},
   "source": [
    "## Ecuación de conservación de cantidad de movimiento"
   ]
  },
  {
   "cell_type": "markdown",
   "metadata": {},
   "source": [
    "$$\n",
    "\\frac{\\partial \\mathbf{u}}{\\partial t} + \\mathbf{\\nabla \\cdot} (\\mathbf{u u}) = \\mathbf{\\nabla \\cdot} (\\nu \\mathbf{\\nabla u}) - \\frac{1}{\\rho} \\mathbf{\\nabla} p + \\frac{1}{\\rho} \\mathbf{b}\n",
    "$$\n",
    "\n",
    "$$\n",
    "\\mathbf{M} =\n",
    "\\begin{pmatrix}\n",
    "M_x \\\\ M_y \\\\ M_z\n",
    "\\end{pmatrix}\n",
    "$$"
   ]
  },
  {
   "cell_type": "markdown",
   "metadata": {},
   "source": [
    "<details>\n",
    "<summary><b>Nomenclatura</b></summary>\n",
    "\n",
    "<div class=\"alert alert-info\">\n",
    "\n",
    "**$t$**: tiempo, en $[\\mathrm{s}]$.\n",
    "\n",
    "**$\\mathbf{u}$**: vector de velocidad, $\\mathbf{u} = \\begin{pmatrix}\n",
    "\tu_x & u_y & u_z\n",
    "\t\\end{pmatrix}$, en $[\\mathrm{m.s^{-1}}]$.\n",
    "\n",
    "**$\\nu$**: viscosidad cinemática, en $[\\mathrm{m^{2}.s}]$.\n",
    "\n",
    "**$p$**: presión, en $[\\mathrm{Pa}]$ (**SI:** $[\\mathrm{kg.m^{-1}.s^{-2}}]$).\n",
    "\n",
    "**$\\rho$**: densidad, en $[\\mathrm{kg.m^{-3}}]$\n",
    "\t\n",
    "**$\\mathbf{b}$:** Término fuente, $\\mathbf{b} = \\begin{pmatrix} b_x & b_y & b_z \\end{pmatrix}$, en $[\\mathrm{N.m^{-3}}]$ (**SI:** $[\\mathrm{kg.m^{-2}.s^{-2}}]$).\n",
    "\n",
    "**$\\nabla:$** Operador nabla, $\\nabla = \\begin{pmatrix} \\frac{\\partial}{\\partial x} & \\frac{\\partial}{\\partial y} & \\frac{\\partial}{\\partial z} \\end{pmatrix}$, en $[\\mathrm{m^{-1}}]$.\n",
    "\n",
    "</div>\n",
    "\n",
    "</details>"
   ]
  },
  {
   "cell_type": "markdown",
   "metadata": {},
   "source": [
    "Considerando viscosidad cinemática constante, se tiene:"
   ]
  },
  {
   "cell_type": "markdown",
   "metadata": {},
   "source": [
    "**Componente $x$ ($M_x$):**\n",
    "\n",
    "$$\n",
    "\\frac{\\partial u_x}{\\partial t}\n",
    "+ u_x \\frac{\\partial u_x}{\\partial x} + u_y \\frac{\\partial u_x}{\\partial y} + u_z \\frac{\\partial u_x}{\\partial z} \n",
    "=\n",
    "\\nu \\left( \\frac{\\partial^2 u_x}{\\partial x^2} + \\frac{\\partial^2 u_x}{\\partial y^2} + \\frac{\\partial^2 u_x}{\\partial z^2}\\right)\n",
    "- \\frac{1}{\\rho} \\frac{\\partial p}{\\partial x} + \\frac{1}{\\rho} b_x\n",
    "$$"
   ]
  },
  {
   "cell_type": "markdown",
   "metadata": {},
   "source": [
    "**Componente $y$ ($M_y$):**\n",
    "\n",
    "$$\n",
    "\\frac{\\partial u_y}{\\partial t}\n",
    "+ u_x \\frac{\\partial u_y}{\\partial x} + u_y \\frac{\\partial u_y}{\\partial y} + u_z \\frac{\\partial u_y}{\\partial z} \n",
    "=\n",
    "\\nu \\left( \\frac{\\partial^2 u_y}{\\partial x^2} + \\frac{\\partial^2 u_y}{\\partial y^2} + \\frac{\\partial^2 u_y}{\\partial z^2}\\right)\n",
    "- \\frac{1}{\\rho} \\frac{\\partial p}{\\partial y} + \\frac{1}{\\rho} b_y\n",
    "$$"
   ]
  },
  {
   "cell_type": "markdown",
   "metadata": {},
   "source": [
    "**Componente $z$ ($M_z$):**\n",
    "\n",
    "$$\n",
    "\\frac{\\partial u_z}{\\partial t}\n",
    "+ u_x \\frac{\\partial u_z}{\\partial x} + u_y \\frac{\\partial u_z}{\\partial y} + u_z \\frac{\\partial u_z}{\\partial z} \n",
    "=\n",
    "\\nu \\left( \\frac{\\partial^2 u_z}{\\partial x^2} + \\frac{\\partial^2 u_z}{\\partial y^2} + \\frac{\\partial^2 u_z}{\\partial z^2}\\right)\n",
    "- \\frac{1}{\\rho} \\frac{\\partial p}{\\partial z} + \\frac{1}{\\rho} b_z\n",
    "$$"
   ]
  },
  {
   "cell_type": "markdown",
   "metadata": {},
   "source": [
    "# Ecuación de presión"
   ]
  },
  {
   "cell_type": "markdown",
   "metadata": {},
   "source": [
    "Al tomar la divergencia de la ecuación de conservación cantidad de movimiento para flujo incompresible ($\\rho$ constante), y considerando que $\\nu$ y $\\mathbf{b}$ son constantes y uniformes, se obtiene una ecuación escalar, que contiene los campos $p$, $\\mathbf{u}$:"
   ]
  },
  {
   "cell_type": "markdown",
   "metadata": {},
   "source": [
    "$$\n",
    "\\mathbf{\\nabla \\cdot} \\left[\\frac{\\partial \\mathbf{u}}{\\partial t}\\right] + \\mathbf{\\nabla \\cdot} \\left[\\mathbf{\\nabla \\cdot} (\\mathbf{u u})\\right] = \\mathbf{\\nabla \\cdot} \\left[\\mathbf{\\nabla \\cdot} (\\nu \\mathbf{\\nabla u})\\right] - \\frac{1}{\\rho} \\mathbf{\\nabla \\cdot} \\left[\\mathbf{\\nabla} p \\right] +  \\underbrace{\\frac{1}{\\rho} \\cancel{ \\mathbf{\\nabla \\cdot b}}}_{\\frac{1}{\\rho} \\mathbf{\\nabla \\cdot b}=0}\n",
    "$$"
   ]
  },
  {
   "cell_type": "markdown",
   "metadata": {},
   "source": [
    "$$\n",
    "\\frac{1}{\\rho} \\mathbf{\\nabla^2}p + \\mathbf{\\nabla \\cdot} \\left[\\mathbf{\\nabla \\cdot} (\\mathbf{u u})\\right] = 0\n",
    "$$"
   ]
  },
  {
   "cell_type": "markdown",
   "metadata": {},
   "source": [
    "<details>\n",
    "<summary><b>Derivación</b></summary>\n",
    "\n",
    "<div class=\"alert alert-success\">\n",
    "\n",
    "**Demostración de la obtención de la ecuación algebraica**\n",
    "\n",
    "**La divergencia de la ecuación de conservación de cantidad de movimiento puede expresarse como:**\n",
    "\n",
    "$$\n",
    "\\mathbf{\\nabla \\cdot M} =\n",
    "\\begin{pmatrix}\n",
    "\\frac{\\partial}{\\partial x} \\\\ \n",
    "\\frac{\\partial}{\\partial y} \\\\ \n",
    "\\frac{\\partial}{\\partial z}\n",
    "\\end{pmatrix}\n",
    "\\cdot\n",
    "\\begin{pmatrix}\n",
    "M_x \\\\ M_y \\\\ M_z\n",
    "\\end{pmatrix}\n",
    "=\n",
    "\\frac{\\partial M_x}{\\partial x} + \\frac{\\partial M_y}{\\partial y} + \\frac{\\partial M_z}{\\partial z}\n",
    "$$\n",
    "\n",
    "---\n",
    "\n",
    "**Componente x:**\n",
    "\n",
    "$$\n",
    "\\underbrace{\\frac{\\partial}{\\partial x} \\left[\\frac{\\partial u_x}{\\partial t}\\right]}_{\\mathbf{\\nabla \\cdot} \\left[\\frac{\\partial \\mathbf{u}}{\\partial t}\\right]}\n",
    "+ \\underbrace{\\frac{\\partial}{\\partial x}\\left[u_x \\frac{\\partial u_x}{\\partial x}\\right] + \\frac{\\partial}{\\partial x}\\left[u_y \\frac{\\partial u_x}{\\partial y}\\right] + \\frac{\\partial}{\\partial x}\\left[u_z \\frac{\\partial u_x}{\\partial z}\\right]}_{\\mathbf{\\nabla \\cdot} \\left[\\mathbf{\\nabla \\cdot} (\\mathbf{u u})\\right]}\n",
    "=\n",
    "\\underbrace{\\nu \\frac{\\partial}{\\partial x}\\left( \\frac{\\partial^2 u_x}{\\partial x^2} + \\frac{\\partial^2 u_x}{\\partial y^2} + \\frac{\\partial^2 u_x}{\\partial z^2}\\right)}_{\\mathbf{\\nabla \\cdot} \\left[\\mathbf{\\nabla \\cdot} (\\nu \\mathbf{\\nabla u})\\right]}\n",
    "- \\underbrace{\\frac{1}{\\rho} \\frac{\\partial}{\\partial x}\\left[\\frac{\\partial p}{\\partial x}\\right]}_{\\frac{1}{\\rho} \\mathbf{\\nabla \\cdot} \\left[\\mathbf{\\nabla} p \\right]}\n",
    "$$\n",
    "\n",
    "Desarrollando ambos lados de la ecuación:\n",
    "\n",
    "- LHS:\n",
    "$$\n",
    " \\underbrace{\\frac{\\partial^2 u_x}{\\partial t \\partial x}}_{\\mathbf{\\nabla \\cdot} \\left[\\frac{\\partial \\mathbf{u}}{\\partial t}\\right]}\n",
    "+ \\underbrace{u_x \\left(\\frac{\\partial^2 u_x}{\\partial x^2}\\right) + \\left(\\frac{\\partial u_x}{\\partial x}\\right) \\left(\\frac{\\partial u_x}{\\partial x}\\right)    +    u_y \\left(\\frac{\\partial^2 u_x}{\\partial x \\partial y}\\right) + \\left(\\frac{\\partial u_y}{\\partial x}\\right) \\left(\\frac{\\partial u_x}{\\partial y}\\right)    +    u_z \\left(\\frac{\\partial^2 u_x}{\\partial x \\partial z}\\right) + \\left(\\frac{\\partial u_z}{\\partial x}\\right) \\left(\\frac{\\partial u_x}{\\partial z}\\right)}_{\\mathbf{\\nabla \\cdot} \\left[\\mathbf{\\nabla \\cdot} (\\mathbf{u u})\\right]}\n",
    "$$\n",
    "\n",
    "- RHS:\n",
    "$$\n",
    "\\underbrace{\\nu \\left( \\frac{\\partial^3 u_x}{\\partial x^3} + \\frac{\\partial^3 u_x}{\\partial x \\partial y^2} + \\frac{\\partial^3 u_x}{\\partial x \\partial z^2}\\right)}_{\\mathbf{\\nabla \\cdot} \\left[\\mathbf{\\nabla \\cdot} (\\nu \\mathbf{\\nabla u})\\right]}\n",
    "- \\underbrace{\\frac{1}{\\rho} \\frac{\\partial^2 p}{\\partial x^2}}_{\\frac{1}{\\rho} \\mathbf{\\nabla \\cdot} \\left[\\mathbf{\\nabla} p \\right]}\n",
    "$$\n",
    "\n",
    "---\n",
    "\n",
    "**Componente y:**\n",
    "\n",
    "$$\n",
    "\\underbrace{\\frac{\\partial}{\\partial y} \\left[\\frac{\\partial u_y}{\\partial t}\\right]}_{\\mathbf{\\nabla \\cdot} \\left[\\frac{\\partial \\mathbf{u}}{\\partial t}\\right]}\n",
    "+ \\underbrace{\\frac{\\partial}{\\partial y}\\left[u_x \\frac{\\partial u_y}{\\partial x}\\right] + \\frac{\\partial}{\\partial y}\\left[u_y \\frac{\\partial u_y}{\\partial y}\\right] + \\frac{\\partial}{\\partial y}\\left[u_z \\frac{\\partial u_y}{\\partial z}\\right]}_{\\mathbf{\\nabla \\cdot} \\left[\\mathbf{\\nabla \\cdot} (\\mathbf{u u})\\right]}\n",
    "=\n",
    "\\underbrace{\\nu \\frac{\\partial}{\\partial y}\\left( \\frac{\\partial^2 u_y}{\\partial x^2} + \\frac{\\partial^2 u_y}{\\partial y^2} + \\frac{\\partial^2 u_y}{\\partial z^2}\\right)}_{\\mathbf{\\nabla \\cdot} \\left[\\mathbf{\\nabla \\cdot} (\\nu \\mathbf{\\nabla u})\\right]}\n",
    "- \\underbrace{\\frac{1}{\\rho} \\frac{\\partial}{\\partial y}\\left[\\frac{\\partial p}{\\partial y}\\right]}_{\\frac{1}{\\rho} \\mathbf{\\nabla \\cdot} \\left[\\mathbf{\\nabla} p \\right]}\n",
    "$$\n",
    "\n",
    "Desarrollando ambos lados de la ecuación:\n",
    "\n",
    "- LHS:\n",
    "$$\n",
    "\\underbrace{\\frac{\\partial^2 u_y}{\\partial t \\partial y}}_{\\mathbf{\\nabla \\cdot} \\left[\\frac{\\partial \\mathbf{u}}{\\partial t}\\right]}\n",
    "+ \\underbrace{u_x \\left(\\frac{\\partial^2 u_y}{\\partial x \\partial y}\\right) + \\left(\\frac{\\partial u_x}{\\partial y}\\right) \\left(\\frac{\\partial u_y}{\\partial x}\\right)    +    u_y \\left(\\frac{\\partial^2 u_y}{\\partial y^2}\\right) + \\left(\\frac{\\partial u_y}{\\partial y}\\right) \\left(\\frac{\\partial u_y}{\\partial y}\\right)    +    u_z \\left(\\frac{\\partial^2 u_y}{\\partial y \\partial z}\\right) + \\left(\\frac{\\partial u_z}{\\partial y}\\right) \\left(\\frac{\\partial u_y}{\\partial z}\\right)}_{\\mathbf{\\nabla \\cdot} \\left[\\mathbf{\\nabla \\cdot} (\\mathbf{u u})\\right]}\n",
    "$$\n",
    "\n",
    "- RHS:\n",
    "$$\n",
    "\\underbrace{\\nu \\left( \\frac{\\partial^3 u_x}{\\partial x^2 \\partial y} + \\frac{\\partial^3 u_x}{\\partial y^3} + \\frac{\\partial^3 u_x}{\\partial y \\partial z^2}\\right)}_{\\mathbf{\\nabla \\cdot} \\left[\\mathbf{\\nabla \\cdot} (\\nu \\mathbf{\\nabla u})\\right]}\n",
    "- \\underbrace{\\frac{1}{\\rho} \\frac{\\partial^2 p}{\\partial y^2}}_{\\frac{1}{\\rho} \\mathbf{\\nabla \\cdot} \\left[\\mathbf{\\nabla} p \\right]}\n",
    "$$\n",
    "\n",
    "---\n",
    "\n",
    "**Componente z:**\n",
    "\n",
    "$$\n",
    "\\underbrace{\\frac{\\partial}{\\partial z} \\left[\\frac{\\partial u_z}{\\partial t}\\right]}_{\\mathbf{\\nabla \\cdot} \\left[\\frac{\\partial \\mathbf{u}}{\\partial t}\\right]}\n",
    "+ \\underbrace{\\frac{\\partial}{\\partial z}\\left[u_x \\frac{\\partial u_z}{\\partial x}\\right] + \\frac{\\partial}{\\partial z}\\left[u_y \\frac{\\partial u_z}{\\partial y}\\right] + \\frac{\\partial}{\\partial z}\\left[u_z \\frac{\\partial u_z}{\\partial z}\\right]}_{\\mathbf{\\nabla \\cdot} \\left[\\mathbf{\\nabla \\cdot} (\\mathbf{u u})\\right]}\n",
    "=\n",
    "\\underbrace{\\nu \\frac{\\partial}{\\partial z}\\left( \\frac{\\partial^2 u_z}{\\partial x^2} + \\frac{\\partial^2 u_z}{\\partial y^2} + \\frac{\\partial^2 u_z}{\\partial z^2}\\right)}_{\\mathbf{\\nabla \\cdot} \\left[\\mathbf{\\nabla \\cdot} (\\nu \\mathbf{\\nabla u})\\right]}\n",
    "- \\underbrace{\\frac{1}{\\rho} \\frac{\\partial}{\\partial z}\\left[\\frac{\\partial p}{\\partial z}\\right]}_{\\frac{1}{\\rho} \\mathbf{\\nabla \\cdot} \\left[\\mathbf{\\nabla} p \\right]}\n",
    "$$\n",
    "\n",
    "Desarrollando ambos lados de la ecuación:\n",
    "\n",
    "\n",
    "- LHS:\n",
    "$$\n",
    "\\underbrace{\\frac{\\partial^2 u_z}{\\partial t \\partial z}}_{\\mathbf{\\nabla \\cdot} \\left[\\frac{\\partial \\mathbf{u}}{\\partial t}\\right]}\n",
    "+ \\underbrace{u_x \\left(\\frac{\\partial^2 u_z}{\\partial x \\partial z}\\right) + \\left(\\frac{\\partial u_x}{\\partial z}\\right) \\left(\\frac{\\partial u_z}{\\partial x}\\right)    +    u_y \\left(\\frac{\\partial^2 u_z}{\\partial y \\partial z}\\right) + \\left(\\frac{\\partial u_y}{\\partial z}\\right) \\left(\\frac{\\partial u_z}{\\partial y}\\right)    +    u_z \\left(\\frac{\\partial^2 u_z}{\\partial z^2}\\right) + \\left(\\frac{\\partial u_z}{\\partial z}\\right) \\left(\\frac{\\partial u_z}{\\partial z}\\right)}_{\\mathbf{\\nabla \\cdot} \\left[\\mathbf{\\nabla \\cdot} (\\mathbf{u u})\\right]}\n",
    "$$\n",
    "- RHS:\n",
    "$$\n",
    "\\underbrace{\\nu \\left( \\frac{\\partial^3 u_x}{\\partial x^2 \\partial z} + \\frac{\\partial^3 u_x}{\\partial y^2 \\partial z} + \\frac{\\partial^3 u_x}{\\partial z^3}\\right)}_{\\mathbf{\\nabla \\cdot} \\left[\\mathbf{\\nabla \\cdot} (\\nu \\mathbf{\\nabla u})\\right]}\n",
    "- \\underbrace{\\frac{1}{\\rho} \\frac{\\partial^2 p}{\\partial z^2}}_{\\frac{1}{\\rho} \\mathbf{\\nabla \\cdot} \\left[\\mathbf{\\nabla} p \\right]}\n",
    "$$\n",
    "\n",
    "---\n",
    "\n",
    "**Agrupando términos del lado izquierdo (LHS):**\n",
    "\n",
    "$$\n",
    "\\begin{matrix*}[l]\n",
    "\n",
    "\\underbrace{\\frac{\\partial}{\\partial t} \\cancel{\\left( \\frac{\\partial u_x}{\\partial x} + \\frac{\\partial u_y}{\\partial y}  + \\frac{\\partial u_z}{\\partial z} \\right)} }_{\\mathbf{\\nabla \\cdot} \\left[\\frac{\\partial \\mathbf{u}}{\\partial t}\\right] = 0} \\\\\n",
    "\n",
    "+ \\underbrace{\\left(\\frac{\\partial u_x}{\\partial x}\\right)^2 + \\left(\\frac{\\partial u_y}{\\partial y}\\right)^2 + \\left(\\frac{\\partial u_z}{\\partial z}\\right)^2\n",
    "+    2 \\left(\\frac{\\partial u_x}{\\partial y}\\right) \\left(\\frac{\\partial u_y}{\\partial x} \\right)    +    2 \\left(\\frac{\\partial u_x}{\\partial z}\\right) \\left(\\frac{\\partial u_z}{\\partial x} \\right)    +    2 \\left(\\frac{\\partial u_y}{\\partial z}\\right) \\left(\\frac{\\partial u_z}{\\partial y} \\right)}_{\\mathbf{\\nabla \\cdot} \\left[\\mathbf{\\nabla \\cdot} (\\mathbf{u u})\\right] \\neq 0} \\\\\n",
    "\n",
    "+ \\underbrace{u_x \\frac{\\partial}{\\partial x} \\cancel{\\left( \\frac{\\partial u_x}{\\partial x} + \\frac{\\partial u_y}{\\partial y}  + \\frac{\\partial u_z}{\\partial z} \\right)}    +     u_y \\frac{\\partial}{\\partial y} \\cancel{\\left( \\frac{\\partial u_x}{\\partial x} + \\frac{\\partial u_y}{\\partial y}  + \\frac{\\partial u_z}{\\partial z} \\right)}    +     u_z \\frac{\\partial}{\\partial z} \\cancel{\\left( \\frac{\\partial u_x}{\\partial x} + \\frac{\\partial u_y}{\\partial y}  + \\frac{\\partial u_z}{\\partial z} \\right)}}_{=0}\n",
    "\n",
    "\\end{matrix*}\n",
    "$$\n",
    "\n",
    "**Agrupando términos del lado derecho (RHS):**\n",
    "\n",
    "$$\n",
    "\\begin{matrix*}[l]\n",
    "\n",
    "\\underbrace{\\nu \\left[ \\frac{\\partial^2}{\\partial x^2} \\cancel{\\left( \\frac{\\partial u_x}{\\partial x} + \\frac{\\partial u_y}{\\partial y}  + \\frac{\\partial u_z}{\\partial z} \\right)}    +    \\frac{\\partial^2}{\\partial y^2} \\cancel{\\left( \\frac{\\partial u_x}{\\partial x} + \\frac{\\partial u_y}{\\partial y}  + \\frac{\\partial u_z}{\\partial z} \\right)}    +    \\frac{\\partial^2}{\\partial z^2} \\cancel{\\left( \\frac{\\partial u_x}{\\partial x} + \\frac{\\partial u_y}{\\partial y}  + \\frac{\\partial u_z}{\\partial z} \\right)} \\right]}_{\\mathbf{\\nabla \\cdot} \\left[\\mathbf{\\nabla \\cdot} (\\nu \\mathbf{\\nabla u})\\right] = 0}\n",
    "\n",
    "- \\underbrace{\\frac{1}{\\rho} \\left( \\frac{\\partial^2 p}{\\partial x^2}    +    \\frac{\\partial^2 p}{\\partial y^2}    +    \\frac{\\partial^2 p}{\\partial z^2} \\right)}_{\\frac{1}{\\rho} \\mathbf{\\nabla \\cdot} \\left[\\mathbf{\\nabla} p \\right] \\neq 0} \\\\\n",
    "\n",
    "\\end{matrix*}\n",
    "$$\n",
    "\n",
    "---\n",
    "\n",
    "**Igualando ambos lados de la ecuación (LHS = RHS):**\n",
    "\n",
    "$$\n",
    "\\begin{matrix*}[l]\n",
    "\\underbrace{\\left(\\frac{\\partial u_x}{\\partial x}\\right)^2 + \\left(\\frac{\\partial u_y}{\\partial y}\\right)^2 + \\left(\\frac{\\partial u_z}{\\partial z}\\right)^2\n",
    "+    2 \\left(\\frac{\\partial u_x}{\\partial y}\\right) \\left(\\frac{\\partial u_y}{\\partial x} \\right)    +    2 \\left(\\frac{\\partial u_x}{\\partial z}\\right) \\left(\\frac{\\partial u_z}{\\partial x} \\right)    +    2 \\left(\\frac{\\partial u_y}{\\partial z}\\right) \\left(\\frac{\\partial u_z}{\\partial y} \\right)}_{\\mathbf{\\nabla \\cdot} \\left[\\mathbf{\\nabla \\cdot} (\\mathbf{u u})\\right] \\neq 0}\n",
    "=\n",
    "- \\underbrace{\\frac{1}{\\rho} \\left( \\frac{\\partial^2 p}{\\partial x^2}    +    \\frac{\\partial^2 p}{\\partial y^2}    +    \\frac{\\partial^2 p}{\\partial z^2} \\right)}_{\\frac{1}{\\rho} \\mathbf{\\nabla \\cdot} \\left[\\mathbf{\\nabla} p \\right] \\neq 0}\n",
    "\\end{matrix*}\n",
    "$$\n",
    "\n",
    "---\n",
    "\n",
    "**Reacomondando términos se obtiene:**\n",
    "\n",
    "$$\n",
    "\\frac{1}{\\rho} \\mathbf{\\nabla^2}p + \\mathbf{\\nabla \\cdot} \\left[\\mathbf{\\nabla \\cdot} (\\mathbf{u u})\\right] = 0\n",
    "$$\n",
    "\n",
    "</div>\n",
    "\n",
    "</details>"
   ]
  },
  {
   "cell_type": "markdown",
   "metadata": {},
   "source": []
  }
 ],
 "metadata": {
  "language_info": {
   "name": "python"
  }
 },
 "nbformat": 4,
 "nbformat_minor": 2
}
