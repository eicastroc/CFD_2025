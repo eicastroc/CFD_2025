{
 "cells": [
  {
   "cell_type": "markdown",
   "metadata": {},
   "source": [
    "# Fluidinámica computacional (Sesión 01)"
   ]
  },
  {
   "cell_type": "markdown",
   "metadata": {},
   "source": [
    "<img src=\"figures/LogoCinvestav.png\" style=\"height:100px\" title=\"Cinvestav\">"
   ]
  },
  {
   "cell_type": "markdown",
   "metadata": {},
   "source": [
    "**CINVESTAV Unidad Saltillo**\n",
    "\n",
    "**Programa de Maestría en Ciencias en Ingeniería Metalúrgica**\n",
    "\n",
    "Dr. Edgar Ivan Castro Cedeño\n",
    "\n",
    "\n",
    "Enero - Junio 2025\n",
    "\n",
    "Contacto:\n",
    "[edgar.castro@cinvestav.mx](mailto:edgar.castro@cinvestav.mx)"
   ]
  },
  {
   "cell_type": "markdown",
   "metadata": {},
   "source": [
    "# 3. Cálculo del campo de velocidades"
   ]
  },
  {
   "cell_type": "markdown",
   "metadata": {},
   "source": [
    "## 3.1 Instrucciones a ejecutar en la terminal"
   ]
  },
  {
   "cell_type": "markdown",
   "metadata": {},
   "source": [
    "<div style=\"background: lightgray\">\n",
    "\n",
    "```sh\n",
    "$ blockMesh\n",
    "$ checkMesh\n",
    "$ topoSet\n",
    "$ createPatch -overwrite\n",
    "$ pimpleFoam\n",
    "```\n",
    "\n",
    "</div>\n",
    "\n",
    "<center>\n",
    "\n",
    "***Bloque 01. Instrucciones para cálcular el campo de velocidades.***\n",
    "\n",
    "</center>"
   ]
  },
  {
   "cell_type": "markdown",
   "metadata": {},
   "source": [
    "**Los primeros cuatro comando en el bloque de instrucciones se utilizan para realizar operaciones relacionadas con la especificación de la geometría del dominio de cálculo:**\n",
    "\n",
    "- `blockMesh`: crear malla del dominio, de acuerdo a lo especificado en el archivo `blockMeshDict`.\n",
    "\n",
    "- `checkMesh`: evaluar la calidad del mallado (un mallado apropiado es fundamental para obtener buena convergencia de la solución).\n",
    "\n",
    "- `topoSet`: especificar las características topológicas de los parches de entrada (inlet) y salida (outlet) en el dominio, a partir de instrucciones especificadas en el archivo `topoSetDict`.\n",
    "\n",
    "- `createPatch`: aplicar los parches de entrada (inlet) y salida (outlet) en la malla del dominio, a partir de las instrucciones especificadas en el archivo `createPatchDict`."
   ]
  },
  {
   "cell_type": "markdown",
   "metadata": {},
   "source": [
    "Los archivos con la información de la malla que se ha creado y parchado al ejecutar las instrucciones arriba, se encuentran en el directorio `constant/polymesh`.\n",
    "\n",
    "Más información de mallado disponible en la [documentación](https://www.openfoam.com/documentation/user-guide/4-mesh-generation-and-conversion)."
   ]
  },
  {
   "cell_type": "markdown",
   "metadata": {},
   "source": [
    "**El último comando en el bloque de instrucciones se utiliza para ejecutar la aplicación `pimpleFoam`, con la cuál se obtendrá el campo de velocidades:**"
   ]
  },
  {
   "cell_type": "markdown",
   "metadata": {},
   "source": [
    "- `pimpleFoam` es un resolvedor para flujos incompresibles en régimen transitorio, que utiliza el algoritmo [PIMPLE](https://openfoamwiki.net/index.php/OpenFOAM_guide/The_PIMPLE_algorithm_in_OpenFOAM) para obtener una solución a la ecuación de Navier Stokes para un fluido incompresible. Este resolvedor permite considerar condiciones de flujo laminar o de flujo turbulento.\n",
    "\n",
    "- El resolvedor se ejecuta de acuerdo con las instrucciones especificadas en los archivos `controlDict`, `fvSchemes`, y `fvSolution`.\n",
    "\n",
    "- Los campos iniciales y condiciones a la frontera están contenidos en los archivos dentro del directorio `0`.\n",
    "\n",
    "- Las propiedades de transporte y especificaciones del modelo de turbulencia están contenidas dentro de los archivos `transportProperties` y `turbulenceProperties` respectivamente.\n",
    "\n"
   ]
  },
  {
   "cell_type": "markdown",
   "metadata": {},
   "source": [
    "## 3.2 Criterio para terminación del cálculo"
   ]
  },
  {
   "cell_type": "markdown",
   "metadata": {},
   "source": [
    "La manera de operar en este tutorial consiste en utilizar un resolvedor en régimen transitorio, y dejar correr la simulación suficiente tiempo como para obtener un campo de velocidades pseudo-estacionario.\n",
    "\n",
    "- Esto es, el comportamiento promedio del flujo es prácticamente constante. Pueden existir pequeñas fluctuaciones que \"desaparecen\" al efectuar el promedio de los campos.\n",
    "\n",
    "- Esto se verifica efectuando balances de masa y trazando perfiles de velocidad en el reactor.\n",
    "\n",
    "    - En el archivo `controlDict`, dentro del diccionario `functions` hay varios diccionarios que dan instrucciones al resolvedor para \"monitorear\" promedios del campo de velocidades, y evaluar flujos y perfiles de velocidad en la entrada y salida del reactor.\n",
    "\n",
    "    - Al correr el caso, los archivos con los resultados de \"monitoreo\" se guardan en el directorio `postProcessing`."
   ]
  },
  {
   "cell_type": "markdown",
   "metadata": {},
   "source": [
    "## 3.4 Post-procesamiento"
   ]
  },
  {
   "cell_type": "markdown",
   "metadata": {},
   "source": [
    "El postratamiento de los resultados obtenidos se lleva a cabo utilizando [paraFoam](https://www.openfoam.com/documentation/user-guide/7-post-processing/7.1-parafoam), que es un script que permite procesar resultados de OpenFoam con el software [ParaView](https://www.paraview.org/). \n",
    "\n",
    "Como se muestra en el listado debajo, para ejecutar este software se utiliza el comando paraFoam, y el signo &, indica a la terminal que el proceso se va a ejecutar en segundo plano."
   ]
  },
  {
   "cell_type": "markdown",
   "metadata": {},
   "source": [
    "<div style=\"background: lightgray\">\n",
    "\n",
    "```sh\n",
    "$ paraFoam -vtk &\n",
    "```\n",
    "\n",
    "</div>\n",
    "\n",
    "<center>\n",
    "\n",
    "***Bloque 02. Instrucciones para ejecutar software de postprocesamiento.***\n",
    "\n",
    "</center>"
   ]
  },
  {
   "cell_type": "markdown",
   "metadata": {},
   "source": [
    "En ocasiones, cuando se trabaja con el sistema operativo Windows, puede haber dificultades para visualizar los resultados, en estos casos se lleva a cabo una exportación de los resultados de `OpenFoam` al formato [VTK](https://vtk.org/), para que los resultados puedan directamente ser abiertos con el software [ParaView](https://www.paraview.org/). "
   ]
  },
  {
   "cell_type": "markdown",
   "metadata": {},
   "source": [
    "<div style=\"background: lightgray\">\n",
    "\n",
    "```sh\n",
    "$ foamToVTK\n",
    "```\n",
    "\n",
    "</div>\n",
    "\n",
    "<center>\n",
    "\n",
    "***Bloque 03. Instrucciones para exportar resultados en formato VTK.***\n",
    "\n",
    "</center>"
   ]
  },
  {
   "cell_type": "markdown",
   "metadata": {},
   "source": [
    "<center>\n",
    "\n",
    "<img src=\"figures/images/paraViewPimpleFoam2D.png\" style=\"width:600px\" title=\"Paraview\">\n",
    "\n",
    "***Figura 01. Ejemplo de post-procesamiento en Paraview***\n",
    "\n",
    "</center>"
   ]
  },
  {
   "cell_type": "markdown",
   "metadata": {},
   "source": []
  }
 ],
 "metadata": {
  "kernelspec": {
   "display_name": "Julia 1.10.6",
   "language": "julia",
   "name": "julia-1.10"
  },
  "language_info": {
   "file_extension": ".jl",
   "mimetype": "application/julia",
   "name": "julia",
   "version": "1.10.6"
  }
 },
 "nbformat": 4,
 "nbformat_minor": 2
}
