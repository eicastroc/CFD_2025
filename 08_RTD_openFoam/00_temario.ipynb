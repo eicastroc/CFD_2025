{
 "cells": [
  {
   "cell_type": "markdown",
   "metadata": {},
   "source": [
    "# Fluidinámica computacional (Sesión 01)"
   ]
  },
  {
   "cell_type": "markdown",
   "metadata": {},
   "source": [
    "<img src=\"figures/LogoCinvestav.png\" style=\"height:100px\" title=\"Cinvestav\">"
   ]
  },
  {
   "cell_type": "markdown",
   "metadata": {},
   "source": [
    "**CINVESTAV Unidad Saltillo**\n",
    "\n",
    "**Programa de Maestría en Ciencias en Ingeniería Metalúrgica**\n",
    "\n",
    "Dr. Edgar Ivan Castro Cedeño\n",
    "\n",
    "\n",
    "Enero - Junio 2025\n",
    "\n",
    "Contacto:\n",
    "[edgar.castro@cinvestav.mx](mailto:edgar.castro@cinvestav.mx)"
   ]
  },
  {
   "cell_type": "markdown",
   "metadata": {},
   "source": [
    "# Contenido de la sesión"
   ]
  },
  {
   "cell_type": "markdown",
   "metadata": {},
   "source": [
    "---\n",
    "\n",
    "**Teoría**\n",
    "\n",
    "- Distribución de tiempos de residencia.\n",
    "    \n",
    "- Sistemas de flujo continuo y análisis con trazadores\n",
    "\n",
    "---\n",
    "\n",
    "**Planteamiento del caso de estudio**\n",
    "\n",
    "- Planteamiento físico del problema.\n",
    "\n",
    "- Estructura de directorios de trabajo en OpenFoam.\n",
    "\n",
    "--- \n",
    "\n",
    "**Cálculo del campo de velocidades**\n",
    "\n",
    "- Preparación del cálculo.\n",
    "\n",
    "- Intrucciones para ejecutar el programa.\n",
    "\n",
    "- Criterio para la terminación del cálculo.\n",
    "\n",
    "- Post-procesamiento de resultados.\n",
    "\n",
    "--- \n",
    "\n",
    "**Cálculo del transporte de un escalar**\n",
    "\n",
    "- Preparación del cálculo.\n",
    "\n",
    "- Intrucciones para ejecutar el programa.\n",
    "\n",
    "- Criterio para la terminación del cálculo.\n",
    "\n",
    "- Post-procesamiento de resultados.\n",
    "\n",
    "--- \n",
    "\n",
    "**Tarea.**"
   ]
  },
  {
   "cell_type": "markdown",
   "metadata": {},
   "source": []
  }
 ],
 "metadata": {
  "kernelspec": {
   "display_name": "Julia 1.10.6",
   "language": "julia",
   "name": "julia-1.10"
  },
  "language_info": {
   "file_extension": ".jl",
   "mimetype": "application/julia",
   "name": "julia",
   "version": "1.10.6"
  }
 },
 "nbformat": 4,
 "nbformat_minor": 2
}
