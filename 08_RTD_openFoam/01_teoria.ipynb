{
 "cells": [
  {
   "cell_type": "markdown",
   "metadata": {},
   "source": [
    "# Fluidinámica computacional (Sesión 01)"
   ]
  },
  {
   "cell_type": "markdown",
   "metadata": {},
   "source": [
    "<img src=\"figures/LogoCinvestav.png\" style=\"height:100px\" title=\"Cinvestav\">"
   ]
  },
  {
   "cell_type": "markdown",
   "metadata": {},
   "source": [
    "**CINVESTAV Unidad Saltillo**\n",
    "\n",
    "**Programa de Maestría en Ciencias en Ingeniería Metalúrgica**\n",
    "\n",
    "Dr. Edgar Ivan Castro Cedeño\n",
    "\n",
    "\n",
    "Enero - Junio 2025\n",
    "\n",
    "Contacto:\n",
    "[edgar.castro@cinvestav.mx](mailto:edgar.castro@cinvestav.mx)"
   ]
  },
  {
   "cell_type": "markdown",
   "metadata": {},
   "source": [
    "# 1. Teoría"
   ]
  },
  {
   "cell_type": "markdown",
   "metadata": {},
   "source": [
    "## 1.1 Distribución de tiempos de residencia"
   ]
  },
  {
   "cell_type": "markdown",
   "metadata": {},
   "source": [
    "La distribución de tiempos de residencia (Residece Time Distribution: RTD, por sus siglas en inglés) es una función de distribución de probabilidad que proveé información acerca del tiempo que una especie utilizada como trazador reside dentro de una unidad de procesamiento, tal como puede ser un reactor metalúrgico. \n",
    "\n",
    "El análisis de la distribución de tiempos de residencia es de interés para casi todos los procesos reales, pues permite analizar las características de mezclado en un reactor en el que generalmente las condiciones exhiben una desviación con respecto a casos de reactores idealizados (por ejemplo, un reactor en flujo pistón o un reactor perfectamente agitado)."
   ]
  },
  {
   "cell_type": "markdown",
   "metadata": {},
   "source": [
    "## 1.2 Sistemas de flujo continuo y análisis con trazadores"
   ]
  },
  {
   "cell_type": "markdown",
   "metadata": {},
   "source": [
    "Cuando un fluido transita por un reactor en el que puede ocurre un proceso físico (e.g., separación de inclusiones) o químico (e.g, conversión de productos), es importante determinar el tiempo de residencia de los paquetes individuales de fluido en el sistema.\n",
    "\n",
    "La definición del tiempo de residencia promedio de un paquete de fluido en el sistema es:"
   ]
  },
  {
   "cell_type": "markdown",
   "metadata": {},
   "source": [
    "$$\n",
    "t_{r} = \\frac{\\bar{V}}{\\dot{v}}\n",
    "$$"
   ]
  },
  {
   "cell_type": "markdown",
   "metadata": {
    "vscode": {
     "languageId": "plaintext"
    }
   },
   "source": [
    "<details>\n",
    "<summary><b>Nomenclatura</b></summary>\n",
    "\n",
    "<div class=\"alert alert-info\">\n",
    "\n",
    "**$t_r$**: tiempo de residencia, en $[\\mathrm{s}]$.\n",
    "\n",
    "**$\\bar{V}$**: volumen de fluido en el reactor, en $[\\mathrm{m^{3}}]$.\n",
    "\n",
    "**$\\dot{v}$**: flujo volumétrico en el reactor, en $[\\mathrm{m^{3}.s^{-1}}]$.\n",
    "\n",
    "</div>\n",
    "\n",
    "</details>"
   ]
  },
  {
   "cell_type": "markdown",
   "metadata": {},
   "source": [
    "En procesos reales, algunos paquetes de fluido tendrán un tiempo de residencia mayor o menor en el sistema, es decir, una desviación con respecto al tiempo de residencia medio. Las desviaciones se cuantifican mediante una distribución de tiempos de residencia, que es una característica importante de un sistema, y que tiene influencia en el rendimiento del reactor.\n",
    "\n",
    "El tiempo de residencia en un reactor se puede determinar por medio de técnicas que consisten en la adición de un trazador (e.g., un colorante, una sustancia química, un material radioactivo) a la corriente en la entrada del reactor, al mismo tiempo que se efectúa una medición de concentración a la salida."
   ]
  },
  {
   "cell_type": "markdown",
   "metadata": {},
   "source": [
    "Dos métodos muy utilizados para llevar a cabo este tipo de estudios son:\n",
    "\n",
    "**1. Step input (Entrada en escalón)**:\n",
    "\n",
    "- Adición en continuo del trazador en la corriente de entrada.\n",
    "\n",
    "- La adición comienza en un momento bien definido.\n",
    "\n",
    "\n",
    "**2. Pulse input (entrada en pulso)**:\n",
    "\n",
    "- Adición discreta del trazador en un intervalo de tiempo corto y bien definido.\n",
    "\n",
    "- El intervalo de tiempo del pulso es “despreciable” respecto al tiempo de residencia medio en el reactor."
   ]
  },
  {
   "cell_type": "markdown",
   "metadata": {},
   "source": [
    "### 1.2.1 Adición continua de un trazador (curvas $F$ vs $\\theta$)"
   ]
  },
  {
   "cell_type": "markdown",
   "metadata": {},
   "source": [
    "Se considera el caso en el que el trazador fluye continuamente en un reactor. En un tiempo dado, $t=0$, comienza la adición en continuo del trazador a la entrada del reactor, a una tasa constante a lo largo de todo el experimento.\n",
    "\n",
    "De forma simulatanea, se monitorea la salida del reactor.\n",
    "\n",
    "Los datos del experimento permiten generar una gráfica de la concentración del trazador a la salida en función del tiempo. Con el objectivo de dar un tratamiento más generalizado, los resultados se pueden graficar en forma adimensional utilizando las variables:"
   ]
  },
  {
   "cell_type": "markdown",
   "metadata": {},
   "source": [
    "$$\n",
    "F=\\frac{c}{c_{i}} \\quad \\mathrm{concentración\\,adimensional}\n",
    "$$\n",
    "\n",
    "$$\n",
    "\\theta=\\frac{t}{t_{r}}\\quad \\mathrm{tiempo \\, adimensional}\n",
    "$$"
   ]
  },
  {
   "cell_type": "markdown",
   "metadata": {},
   "source": [
    "<details>\n",
    "<summary><b>Nomenclatura</b></summary>\n",
    "\n",
    "<div class=\"alert alert-info\">\n",
    "\n",
    "**$c$**: concentración del trazador a la salida, en $[\\mathrm{mol.m^{-3}}]$ o similar.\n",
    "\n",
    "**$c_i$**: concentrador del trazador en la entrada, en $[\\mathrm{mol.m^{-3}}]$ o similar.\n",
    "\n",
    "**$t$**: tiempo transcurrido en el experimento, en $[\\mathrm{s}]$.\n",
    "\n",
    "**$t_r$**: tiempo de residencia promedio en el reactor, en $[\\mathrm{s}]$.\n",
    "\n",
    "</div>\n",
    "\n",
    "</details>"
   ]
  },
  {
   "cell_type": "markdown",
   "metadata": {},
   "source": [
    "En una gráfica de $F$ vs $\\theta$, $F$ representa la concentración a la salida como una fracción de la concentración del trazador a la entrada, donde es inyectado de forma continua.\n",
    "\n",
    "En la Figura debajo se muestran las curvas resultantes para los casos idealizados: \n",
    "\n",
    "- reactor de flujo pistón.\n",
    "\n",
    "- reactor perfectamente agitado."
   ]
  },
  {
   "cell_type": "markdown",
   "metadata": {},
   "source": [
    "<center>\n",
    "\n",
    "<img src=\"figures/images/idealFCurves.png\" style=\"width:400px\" title=\"F vs theta\">\n",
    "\n",
    "***Figura 01. Curvas F para flujo en reactores idealizados.***\n",
    "\n",
    "</center>"
   ]
  },
  {
   "cell_type": "markdown",
   "metadata": {},
   "source": [
    "Las curvas $F$ vs $\\theta$ en reactores reales presentan desviaciones con respecto a los comportamientos idealizados.\n",
    "\n",
    "Su interpretación permite identificar la presencia de zonas de corto circuito y/o de zonas con volumen muerto (estagnantes) en el reactor. "
   ]
  },
  {
   "cell_type": "markdown",
   "metadata": {},
   "source": [
    "<div class=\"alert alert-warning\">\n",
    "\n",
    "En muchos casos, las técnicas de adición continua de un trazador no son la mejor alternativa para llevar a cabo una estimación de tiempos de residencia, por distintas razones, por ejemplo:\n",
    "\n",
    "- contaminación del producto por el efecto del trazador\n",
    "\n",
    "- costo del trazador\n",
    "\n",
    "</div>"
   ]
  },
  {
   "cell_type": "markdown",
   "metadata": {},
   "source": [
    "### 1.2.1 Adición instantanea de un trazador (curvas $C$ vs $\\theta$)"
   ]
  },
  {
   "cell_type": "markdown",
   "metadata": {},
   "source": [
    "Se considera el caso en que se introduce una cantidad $Q$ de trazador en un periodo de tiempo que es muy pequeño en comparación con el tiempo medio de residencia, $t_{r}$.\n",
    "\n",
    "Como en el caso previo, se monitorea la concentración del trazador en la salida, y se le da un tratamiento adimensional utilizando las variables:"
   ]
  },
  {
   "cell_type": "markdown",
   "metadata": {},
   "source": [
    "$$\n",
    "C=\\frac{c}{\\bar{c}} \\quad \\mathrm{concentración\\,adimensional}\n",
    "$$\n",
    "\n",
    "$$\n",
    "\\theta=\\frac{t}{t_{r}} \\quad \\mathrm{tiempo \\, adimensional}\n",
    "$$"
   ]
  },
  {
   "cell_type": "markdown",
   "metadata": {},
   "source": [
    "<details>\n",
    "<summary><b>Nomenclatura</b></summary>\n",
    "\n",
    "<div class=\"alert alert-info\">\n",
    "\n",
    "**$c$**: concentración del trazador a la salida, en $[\\mathrm{mol.m^{-3}}]$ o similar.\n",
    "\n",
    "**$\\bar c$**: concentrador media del trazador para el caso idealizado de reactor perfectamente agitado, en $[\\mathrm{mol.m^{-3}}]$ o similar.\n",
    "\n",
    "$$\n",
    "\\bar c = \\frac{c}{\\frac{Q}{\\bar V}}\n",
    "$$\n",
    "\n",
    "- **$Q$**: Cantidad de reactor inyectada, en $[\\mathrm{mol}]$ o similar.\n",
    "\n",
    "- **$\\bar V$**: Volumen de fluido en el reactor, en $[\\mathrm{m^3}]$.\n",
    "\n",
    "**$t$**: tiempo transcurrido en el experimento, en $[\\mathrm{s}]$.\n",
    "\n",
    "**$t_r$**: tiempo de residencia promedio en el reactor, en $[\\mathrm{s}]$.\n",
    "\n",
    "</div>\n",
    "\n",
    "</details>"
   ]
  },
  {
   "cell_type": "markdown",
   "metadata": {},
   "source": [
    "En una gráfica de $C$ contra $\\theta$, $C$ representa la concentración a la salida expresada como una fracción de la concentración media del trazador (calculada a partir del caso idealizado de un reactor perfectamente agitado). \n",
    "\n",
    "En la Figura debajo se muestran las curvas resultantes para los casos idealizados, de un reactor de flujo pistón, y de un reactor perfectamente agitado."
   ]
  },
  {
   "cell_type": "markdown",
   "metadata": {},
   "source": [
    "<center>\n",
    "\n",
    "<img src=\"figures/images/idealCCurves.png\" style=\"width:400px\" title=\"C vs theta\">\n",
    "\n",
    "***Figura 02. Curvas C para flujo en reactores idealizados.***\n",
    "\n",
    "</center>"
   ]
  },
  {
   "cell_type": "markdown",
   "metadata": {},
   "source": [
    "### 1.2.3 Balances de masa y relación entre la curva $F$ y la curva $C$"
   ]
  },
  {
   "cell_type": "markdown",
   "metadata": {},
   "source": [
    "Para derivar la relación existente entre la función $F$ y la función $C$ se considera el balance de masa para las condiciones del caso del reactor perfectamente agitado."
   ]
  },
  {
   "cell_type": "markdown",
   "metadata": {},
   "source": [
    "#### Balance de masa para la curva $F(\\theta)$ (reactor perfectamente agitado)"
   ]
  },
  {
   "cell_type": "markdown",
   "metadata": {},
   "source": [
    "$$\n",
    "\\underbrace{\\bar{V}\\frac{dc}{dt}}_{\\mathrm{acumulación}}=\\underbrace{\\dot{v}c_{i}}_{\\mathrm{entradas}}-\\underbrace{\\dot{v}c}_{\\mathrm{salidas}}\n",
    "$$"
   ]
  },
  {
   "cell_type": "markdown",
   "metadata": {},
   "source": [
    "<details>\n",
    "<summary><b>Nomenclatura</b></summary>\n",
    "\n",
    "<div class=\"alert alert-info\">\n",
    "\n",
    "**$\\bar{V}$**: volumen de fluido en el reactor, en $[\\mathrm{m^{3}}]$.\n",
    "\n",
    "**$\\dot{v}$**: flujo volumétrico en el reactor, en $[\\mathrm{m^{3}.s^{-1}}]$.\n",
    "\n",
    "**$c$**: concentración del trazador a la salida, en $[\\mathrm{mol.m^{-3}}]$ o similar.\n",
    "\n",
    "**$c_i$**: concentrador del trazador en la entrada, en $[\\mathrm{mol.m^{-3}}]$ o similar.\n",
    "\n",
    "**$t$**: tiempo, en $[\\mathrm{s}]$.\n",
    "\n",
    "\n",
    "</div>\n",
    "\n",
    "</details>"
   ]
  },
  {
   "cell_type": "markdown",
   "metadata": {},
   "source": [
    "Para obtener la ecuación diferencial adimensional, el primer paso es dividir la ecuación entre la concentración a la entrada del reactor, $c_{i}$, y el volumen de fluido en el reactor, $\\bar{V}$."
   ]
  },
  {
   "cell_type": "markdown",
   "metadata": {},
   "source": [
    "$$\n",
    "\\frac{1}{c_{i}}\\frac{dc}{dt}=\\frac{\\dot{v}}{\\bar{V}}\\left(1-\\frac{c}{c_{i}}\\right)\n",
    "$$"
   ]
  },
  {
   "cell_type": "markdown",
   "metadata": {},
   "source": [
    "<details>\n",
    "<summary><b>Nomenclatura</b></summary>\n",
    "\n",
    "<div class=\"alert alert-info\">\n",
    "\n",
    "**$\\bar{V}$**: volumen de fluido en el reactor, en $[\\mathrm{m^{3}}]$.\n",
    "\n",
    "**$\\dot{v}$**: flujo volumétrico en el reactor, en $[\\mathrm{m^{3}.s^{-1}}]$.\n",
    "\n",
    "**$c$**: concentración del trazador a la salida, en $[\\mathrm{mol.m^{-3}}]$ o similar.\n",
    "\n",
    "**$c_i$**: concentrador del trazador en la entrada, en $[\\mathrm{mol.m^{-3}}]$ o similar.\n",
    "\n",
    "**$t$**: tiempo, en $[\\mathrm{s}]$.\n",
    "\n",
    "\n",
    "</div>\n",
    "\n",
    "</details>"
   ]
  },
  {
   "cell_type": "markdown",
   "metadata": {},
   "source": [
    "Adimensionalizando y reacomodando términos, se obtiene:\n",
    "\n",
    "$$\n",
    "\\frac{dF}{d\\theta}=1-F\n",
    "$$"
   ]
  },
  {
   "cell_type": "markdown",
   "metadata": {},
   "source": [
    "<details>\n",
    "<summary><b>Nomenclatura</b></summary>\n",
    "\n",
    "<div class=\"alert alert-info\">\n",
    "\n",
    "```math\n",
    "F=\\frac{c}{c_{i}}\n",
    "```\n",
    "\n",
    "```math\n",
    "\\theta = \\frac{t}{t_r}\n",
    "```\n",
    "\n",
    "```math\n",
    "t_r = \\frac{\\bar V}{\\dot v}\n",
    "```\n",
    "\n",
    "</div>\n",
    "\n",
    "</details>"
   ]
  },
  {
   "cell_type": "markdown",
   "metadata": {},
   "source": [
    "La ecuación diferencial integrada se escribe:"
   ]
  },
  {
   "cell_type": "markdown",
   "metadata": {},
   "source": [
    "$$\n",
    "F(\\theta) = 1 - \\exp (-\\theta)\n",
    "$$"
   ]
  },
  {
   "cell_type": "markdown",
   "metadata": {},
   "source": [
    "<details>\n",
    "<summary><b>Integración de la ecuación</b></summary>\n",
    "\n",
    "<div class=\"alert alert-success\">\n",
    "\n",
    "La ecuación diferencial:\n",
    "\n",
    "$$\n",
    "\\frac{dF(\\theta)}{d\\theta}=1-F(\\theta)\n",
    "$$\n",
    "\n",
    "Que en forma alterna se escribe:\n",
    "\n",
    "\n",
    "$$\n",
    "\\frac{d}{d\\theta}(F(\\theta)) + F(\\theta) = 1\n",
    "$$\n",
    "\n",
    "Tiene la solución:\n",
    "\n",
    "$$\n",
    "F(\\theta) = C_1 \\exp(-\\theta) + 1\n",
    "$$\n",
    "\n",
    "Considerando la condición inicial: $F(0) = 0, se calcula el valor de la constante de integración:\n",
    "\n",
    "$$\n",
    "F(0) = C_1 \\exp(0) + 1 = 0\n",
    "$$\n",
    "\n",
    "$$\n",
    "\\therefore C_1 = -1\n",
    "$$\n",
    "\n",
    "Entonces, la función $F$ para un reactor perfectamente agitado se escribe como:\n",
    "\n",
    "$$\n",
    "F(\\theta) = 1 - \\exp(-\\theta)\n",
    "$$\n",
    "\n",
    "</div>\n",
    "\n",
    "</details>"
   ]
  },
  {
   "cell_type": "markdown",
   "metadata": {},
   "source": [
    "#### Balance de masa para la curva $C(\\theta)$ (reactor perfectamente agitado)"
   ]
  },
  {
   "cell_type": "markdown",
   "metadata": {},
   "source": [
    "$$\n",
    "\\underbrace{\\bar{V}\\frac{dc}{dt}}_{\\mathrm{acumulación}}=-\\underbrace{\\dot{v}c}_{\\mathrm{salidas}}\n",
    "$$"
   ]
  },
  {
   "cell_type": "markdown",
   "metadata": {},
   "source": [
    "<details>\n",
    "<summary><b>Nomenclatura</b></summary>\n",
    "\n",
    "<div class=\"alert alert-info\">\n",
    "\n",
    "**$\\bar{V}$**: volumen de fluido en el reactor, en $[\\mathrm{m^{3}}]$.\n",
    "\n",
    "**$\\dot{v}$**: flujo volumétrico en el reactor, en $[\\mathrm{m^{3}.s^{-1}}]$.\n",
    "\n",
    "**$c$**: concentración del trazador a la salida, en $[\\mathrm{mol.m^{-3}}]$ o similar.\n",
    "\n",
    "**$t$**: tiempo, en $[\\mathrm{s}]$.\n",
    "\n",
    "\n",
    "</div>\n",
    "\n",
    "</details>"
   ]
  },
  {
   "cell_type": "markdown",
   "metadata": {},
   "source": [
    "Por la forma en como está escrito el balance, la inyección en pulso de un trazador es equivalente a despreciar el término de entradas en el balance.\n",
    "\n",
    "Para obtener la ecuación diferencial adimensional, el primer paso es dividir la ecuación entre la concentración a la entrada del reactor, $c_{i}$, y el volumen de fluido en el reactor, $\\bar{V}$."
   ]
  },
  {
   "cell_type": "markdown",
   "metadata": {},
   "source": [
    "$$\n",
    "\\frac{1}{\\bar{c}} \\frac{dc}{dt} = -\\frac{\\dot{v}}{\\bar{V}} \\frac{c}{\\bar{c}}\n",
    "$$"
   ]
  },
  {
   "cell_type": "markdown",
   "metadata": {},
   "source": [
    "<details>\n",
    "<summary><b>Nomenclatura</b></summary>\n",
    "\n",
    "<div class=\"alert alert-info\">\n",
    "\n",
    "**$\\bar{V}$**: volumen de fluido en el reactor, en $[\\mathrm{m^{3}}]$.\n",
    "\n",
    "**$\\dot{v}$**: flujo volumétrico en el reactor, en $[\\mathrm{m^{3}.s^{-1}}]$.\n",
    "\n",
    "**$c$**: concentración del trazador a la salida, en $[\\mathrm{mol.m^{-3}}]$ o similar.\n",
    "\n",
    "**$\\bar{c}$**: concentración promedio del trazador para el caso idealizado de reactor perfectamete agitado, en $[\\mathrm{mol.m^{-3}}]$ o similar.\n",
    "\n",
    "$$\n",
    "\\bar{c} = \\frac{Q}{\\bar{V}}\n",
    "$$\n",
    "\n",
    "- **$Q$**: Cantidad de reactor inyectada, en $[\\mathrm{mol}]$ o similar.\n",
    "\n",
    "- **$\\bar V$**: Volumen de fluido en el reactor, en $[\\mathrm{m^3}]$.\n",
    "\n",
    "**$t$**: tiempo transcurrido en el experimento, en $[\\mathrm{s}]$.\n",
    "\n",
    "\n",
    "</div>\n",
    "\n",
    "</details>"
   ]
  },
  {
   "cell_type": "markdown",
   "metadata": {},
   "source": [
    "Adimensionalizando y reacomodando términos se tiene:"
   ]
  },
  {
   "cell_type": "markdown",
   "metadata": {},
   "source": [
    "$$\n",
    "\\frac{dC}{d\\theta} = -C\n",
    "$$"
   ]
  },
  {
   "cell_type": "markdown",
   "metadata": {},
   "source": [
    "<details>\n",
    "<summary><b>Nomenclatura</b></summary>\n",
    "\n",
    "<div class=\"alert alert-info\">\n",
    "\n",
    "$$\n",
    "C=\\frac{c}{\\bar{c}}\n",
    "$$\n",
    "\n",
    "$$\n",
    "\\theta = \\frac{t}{t_r}\n",
    "$$\n",
    "\n",
    "$$\n",
    "t_r = \\frac{\\bar V}{\\dot v}\n",
    "$$\n",
    "\n",
    "</div>\n",
    "\n",
    "</details>"
   ]
  },
  {
   "cell_type": "markdown",
   "metadata": {},
   "source": [
    "La ecuación diferencial integrada se escribe:"
   ]
  },
  {
   "cell_type": "markdown",
   "metadata": {},
   "source": [
    "$$\n",
    "C(\\theta) = \\exp(-\\theta)\n",
    "$$"
   ]
  },
  {
   "cell_type": "markdown",
   "metadata": {},
   "source": [
    "<details>\n",
    "<summary><b>Integración de la ecuación</b></summary>\n",
    "\n",
    "<div class=\"alert alert-success\">\n",
    "\n",
    "La ecuación diferencial:\n",
    "\n",
    "$$\n",
    "\\frac{dC(\\theta)}{d\\theta}=-C(\\theta)\n",
    "$$\n",
    "\n",
    "Que en forma alterna se escribe:\n",
    "\n",
    "\n",
    "$$\n",
    "\\frac{d}{d\\theta}(C(\\theta)) + C(\\theta) = 0\n",
    "$$\n",
    "\n",
    "Tiene la solución:\n",
    "\n",
    "$$\n",
    "C(\\theta) = C_1 \\exp(-\\theta)\n",
    "$$\n",
    "\n",
    "Considerando la condición inicial: $C(0) = 1, se calcula el valor de la constante de integración:\n",
    "\n",
    "$$\n",
    "C(0) = C_1 \\exp(0) = 1\n",
    "$$\n",
    "\n",
    "$$\n",
    "\\therefore C_1 = 1\n",
    "$$\n",
    "\n",
    "Entonces, la función $F$ para un reactor perfectamente agitado se escribe como:\n",
    "\n",
    "$$\n",
    "C(\\theta) = \\exp(-\\theta)\n",
    "$$\n",
    "\n",
    "</div>\n",
    "\n",
    "</details>"
   ]
  },
  {
   "cell_type": "markdown",
   "metadata": {},
   "source": [
    "#### Relación entra las curvas $F(\\theta)$ y $C(\\theta)$"
   ]
  },
  {
   "cell_type": "markdown",
   "metadata": {},
   "source": [
    "Para el caso del reactor perfectamente agitado se tienen las curvas:\n",
    "\n",
    "$$\n",
    "F(\\theta) = 1 - \\exp(-\\theta)\n",
    "$$\n",
    "\n",
    "$$\n",
    "C(\\theta) = \\exp(-\\theta)\n",
    "$$"
   ]
  },
  {
   "cell_type": "markdown",
   "metadata": {},
   "source": [
    "Se oberva que, matemáticamente, la función $C(\\theta)$  corresponde a la derivada de la función $F(\\theta)$, de tal forma que existe la relación:\n",
    "\n",
    "$$\n",
    "C(\\theta) = \\frac{d}{d\\theta} F(\\theta)\n",
    "$$"
   ]
  },
  {
   "cell_type": "markdown",
   "metadata": {},
   "source": [
    "**Esta observación es generalizable, y se puede verificar coniderando el caso del reactor en flujo pistón:**"
   ]
  },
  {
   "cell_type": "markdown",
   "metadata": {},
   "source": [
    "$$\n",
    "F(\\theta)=\\left\\{ \\begin{array}{ccc}\n",
    "0 & \\forall & \\theta<1\\\\\n",
    "1 & \\forall & \\theta\\geq1\n",
    "\\end{array}\\right.\n",
    "$$\n",
    "\n",
    "$$\n",
    "C(\\theta)=\\left\\{ \\begin{array}{ccc}\n",
    "+\\infty & \\forall & \\theta=1\\\\\n",
    "0 & \\forall & \\theta\\neq1\n",
    "\\end{array}\\right.\n",
    "$$"
   ]
  },
  {
   "cell_type": "markdown",
   "metadata": {},
   "source": [
    "<details>\n",
    "<summary><b>Comentario</b></summary>\n",
    "\n",
    "<div class=\"alert alert-success\">\n",
    "\n",
    "En el caso del reactor en flujo pistón:\n",
    "\n",
    "- **$F(\\theta)$** corresponde a una función Heaviside.\n",
    "\n",
    "- **$C(\\theta)$** corresponde a una función delta de Dirac.\n",
    "\n",
    "Por definición, la derivada de la función Heaviside es la función delta de Dirac.\n",
    "\n",
    "</div>\n",
    "\n",
    "</details>"
   ]
  },
  {
   "cell_type": "markdown",
   "metadata": {},
   "source": []
  }
 ],
 "metadata": {
  "kernelspec": {
   "display_name": "Julia 1.10.6",
   "language": "julia",
   "name": "julia-1.10"
  },
  "language_info": {
   "file_extension": ".jl",
   "mimetype": "application/julia",
   "name": "julia",
   "version": "1.10.6"
  }
 },
 "nbformat": 4,
 "nbformat_minor": 2
}
