{
 "cells": [
  {
   "cell_type": "markdown",
   "metadata": {},
   "source": [
    "# Fluidinámica computacional (Sesión 01)"
   ]
  },
  {
   "cell_type": "markdown",
   "metadata": {},
   "source": [
    "<img src=\"figures/LogoCinvestav.png\" style=\"height:100px\" title=\"Cinvestav\">"
   ]
  },
  {
   "cell_type": "markdown",
   "metadata": {},
   "source": [
    "**CINVESTAV Unidad Saltillo**\n",
    "\n",
    "**Programa de Maestría en Ciencias en Ingeniería Metalúrgica**\n",
    "\n",
    "Dr. Edgar Ivan Castro Cedeño\n",
    "\n",
    "\n",
    "Enero - Junio 2025\n",
    "\n",
    "Contacto:\n",
    "[edgar.castro@cinvestav.mx](mailto:edgar.castro@cinvestav.mx)"
   ]
  },
  {
   "cell_type": "markdown",
   "metadata": {},
   "source": [
    "# Tarea"
   ]
  },
  {
   "cell_type": "markdown",
   "metadata": {},
   "source": [
    "## 1. Curvas RTD"
   ]
  },
  {
   "cell_type": "markdown",
   "metadata": {},
   "source": [
    "Utilizando los resultados de simulación, trace las curvas $F$ vs $\\theta$, y $C$ vs $\\theta$ correspondientes.\n",
    "\n",
    "- Calcule las variables adimensionales requeridas, $\\theta$, $F$, y $C$.\n",
    "\n",
    "- Trace las curvas $F$ vs $\\theta$, y $C$ vs $\\theta$ correspondientes.\n",
    "\n",
    "- Comente sobre las curvas, comparando su comportamiento contra las curvas para flujo en reactores idealizados que se muestran debajo. "
   ]
  },
  {
   "cell_type": "markdown",
   "metadata": {},
   "source": [
    "<center>\n",
    "\n",
    "<img src=\"figures/images/idealFCurves.png\" style=\"width:400px\" title=\"F vs theta\">\n",
    "\n",
    "***Figura 01. Curvas F para flujo en reactores idealizados.***\n",
    "\n",
    "</center>"
   ]
  },
  {
   "cell_type": "markdown",
   "metadata": {},
   "source": [
    "<center>\n",
    "\n",
    "<img src=\"figures/images/idealCCurves.png\" style=\"width:400px\" title=\"C vs theta\">\n",
    "\n",
    "***Figura 02. Curvas C para flujo en reactores idealizados.***\n",
    "\n",
    "</center>"
   ]
  },
  {
   "cell_type": "markdown",
   "metadata": {},
   "source": [
    "## 2. Fracciones volumétricas de zonas en el reactor"
   ]
  },
  {
   "cell_type": "markdown",
   "metadata": {},
   "source": [
    "El análisis de curvas RTD permite realizar una evaluación global de la \"repartición\" de distintas zonas de flujo en el volumen del reactor\n",
    "\n",
    "$$\n",
    "V_{dp} + V_{m} + V_{d} = \\bar{V}\n",
    "$$\n"
   ]
  },
  {
   "cell_type": "markdown",
   "metadata": {},
   "source": [
    "<details>\n",
    "<summary><b>Nomenclatura</b></summary>\n",
    "\n",
    "<div class=\"alert alert-info\">\n",
    "\n",
    "**$V_{dp}$**: volumen de zona con flujo pistón disperso, en $[\\mathrm{m^3}]$.\n",
    "\n",
    "**$V_{m}$**: volumen de zona con flujo mixto, en $[\\mathrm{m^3}]$.\n",
    "\n",
    "**$V_{d}$**: volumen de zona con flujo muerto, en $[\\mathrm{m^3}]$.\n",
    "\n",
    "**$\\bar{V}$**: volumen total del reactor, en $[\\mathrm{m^3}]$.\n",
    "\n",
    "</div>\n",
    "\n",
    "</details>"
   ]
  },
  {
   "cell_type": "markdown",
   "metadata": {},
   "source": [
    "Utilizando las siguientes ecuaciones se puede estimar la contribución de cada una de las zonas:"
   ]
  },
  {
   "cell_type": "markdown",
   "metadata": {},
   "source": [
    "$$\n",
    "\\frac{V_{dp}}{\\bar{V}} = \\frac{\\theta_{min} + \\theta_{max}}{2}\n",
    "$$\n",
    "\n",
    "$$\n",
    "\\frac{V_d}{\\bar{V}} = 1 - \\left[\\sum_{\\theta=0}^{\\theta=2} C(\\theta)\\,\\Delta\\theta \\right] \\cdot \\bar{\\theta}\n",
    "$$\n",
    "\n",
    "$$\n",
    "\\frac{V_m}{V} = 1 - \\frac{V_{dp}}{V} - \\frac{V_{d}}{V}\n",
    "$$"
   ]
  },
  {
   "cell_type": "markdown",
   "metadata": {},
   "source": [
    "Para utilizar las ecuaciones presentadas arriba, se requiere tener conocimiento de la curva $C(\\theta)$ y de los tiempos característicos del reactor, que se muestran en la tabla debajo:"
   ]
  },
  {
   "cell_type": "markdown",
   "metadata": {},
   "source": [
    "<center>\n",
    "\n",
    "| nombre | definición |\n",
    "|--------|------------|\n",
    "| tiempo de residencia teórico | $t_r = \\frac{\\bar{V}}{\\dot{v}}$ |\n",
    "| tiempo de residencia (adimensional) | $\\theta = \\frac{t}{t_r}$ |\n",
    "| tiempo de residencia promedio (adimensional) | $\\bar{\\theta} = \\frac{\\int_0^{2\\theta} \\theta C(\\theta) d\\theta}{\\int_0^{2\\theta} C(\\theta) d\\theta}$ |\n",
    "| tiempo de residencia mínimo (adimensional) | $\\theta_{min}$ |\n",
    "| tiempo de residencia máximo (adimensional) | $\\theta_{max}$ |\n",
    "\n",
    "</center>"
   ]
  },
  {
   "cell_type": "markdown",
   "metadata": {},
   "source": [
    "Con los resultados del Análisis RTD de los resultados de simulación, estime la repartición de distintas zonas en el reactor."
   ]
  }
 ],
 "metadata": {
  "kernelspec": {
   "display_name": "Julia 1.10.6",
   "language": "julia",
   "name": "julia-1.10"
  },
  "language_info": {
   "file_extension": ".jl",
   "mimetype": "application/julia",
   "name": "julia",
   "version": "1.10.6"
  }
 },
 "nbformat": 4,
 "nbformat_minor": 2
}
