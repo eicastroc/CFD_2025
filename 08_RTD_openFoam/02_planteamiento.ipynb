{
 "cells": [
  {
   "cell_type": "markdown",
   "metadata": {},
   "source": [
    "# Fluidinámica computacional (Sesión 01)"
   ]
  },
  {
   "cell_type": "markdown",
   "metadata": {},
   "source": [
    "<img src=\"figures/LogoCinvestav.png\" style=\"height:100px\" title=\"Cinvestav\">"
   ]
  },
  {
   "cell_type": "markdown",
   "metadata": {},
   "source": [
    "**CINVESTAV Unidad Saltillo**\n",
    "\n",
    "**Programa de Maestría en Ciencias en Ingeniería Metalúrgica**\n",
    "\n",
    "Dr. Edgar Ivan Castro Cedeño\n",
    "\n",
    "\n",
    "Enero - Junio 2025\n",
    "\n",
    "Contacto:\n",
    "[edgar.castro@cinvestav.mx](mailto:edgar.castro@cinvestav.mx)"
   ]
  },
  {
   "cell_type": "markdown",
   "metadata": {},
   "source": [
    "# 2. Planteamiento del caso de estudio"
   ]
  },
  {
   "cell_type": "markdown",
   "metadata": {},
   "source": [
    "## 2.1 Planteamiento físico del problema"
   ]
  },
  {
   "cell_type": "markdown",
   "metadata": {},
   "source": [
    "Para este caso de estudio se utilizarán los resolvedores **`pimpleFoam`** y **`scalarTransportFoam`**: \n",
    "\n",
    "- Se utilizará **`pimpleFoam`** para simular flujo de metal fundido a través de una geometría simplificada de un distribuidor de colada continua (tundish). \n",
    "\n",
    "- Posteriormente, con **`scalarTransportFoam`** se estimará la distribución de tiempos de residencia mediante la adición continua de un \"trazador\" (un escalar pasivo)."
   ]
  },
  {
   "cell_type": "markdown",
   "metadata": {},
   "source": [
    "### 2.1.2 Geometría"
   ]
  },
  {
   "cell_type": "markdown",
   "metadata": {},
   "source": [
    "La geometría simplificada que se muestra debajo, considera la sección 2D de un distribuidor de colada continua, que está contenida una caja rectangular de $(3.5 \\times 0.8 \\times 0.1)$ $[\\mathrm{m^3}]$."
   ]
  },
  {
   "cell_type": "markdown",
   "metadata": {},
   "source": [
    "<div class=\"alert alert-warning\">\n",
    "\n",
    "En **OpenFOAM** toda malla requiere que exista al menos una celda en cada una de las direcciones cartesianas, $x, y, z$, por lo que es necesario especificar un valor de profundidad en la geometría dada.\n",
    "\n",
    "En el caso de interés se considera una profundidad de $0.1$ $[\\mathrm{m}]$.\n",
    "\n",
    "</div>"
   ]
  },
  {
   "cell_type": "markdown",
   "metadata": {},
   "source": [
    "La entrada (inlet) y salida (outlet) del dominio, marcadas en rojo en la figura, tienen cada una, una sección de $(0.1 \\times 0.1)$ $[\\mathrm{m^2}]$.\n",
    "\n",
    "- La entrada se localiza en la parte superior, y la salida en la parte inferior.\n",
    "\n",
    "- Sus centros se localizan a $0.5$ $[\\mathrm{m}]$ de las orillas más próximas.\n",
    "\n"
   ]
  },
  {
   "cell_type": "markdown",
   "metadata": {},
   "source": [
    "<center>\n",
    "\n",
    "<img src=\"figures/images/tundishGeom2D.png\" style=\"width:600px\" title=\"Simplified tundish geometry\">\n",
    "\n",
    "***Figura 01. Geometría simplificada de un distribuidor.***\n",
    "\n",
    "</center>"
   ]
  },
  {
   "cell_type": "markdown",
   "metadata": {},
   "source": [
    "### 2.1.2 Condiciones de operación"
   ]
  },
  {
   "cell_type": "markdown",
   "metadata": {},
   "source": [
    "**Propiedades termofísicas del fluido**:\n",
    "\n",
    "- Densidad: $\\rho = 7000$ $[\\mathrm{kg.m^{-3}}]$.\n",
    "\n",
    "- Viscosidad cinemática: $\\nu = 10^{-6}$ $[\\mathrm{m^2.s^{-1}}]$.\n",
    "\n",
    "- Difusividad del trazador: $D = 10^{-9}$ $[\\mathrm{m^2.s^{-1}}]$.\n",
    "\n",
    "**Otras**:\n",
    "\n",
    "- Flujo másico a la entrada del reactor: $\\dot{m} = 7$ $[\\mathrm{kg.s^{-1}}]$.\n",
    "\n",
    "- Presión de operación: $10^5$ $[\\mathrm{Pa}]$."
   ]
  },
  {
   "cell_type": "markdown",
   "metadata": {},
   "source": [
    "## 2.2 Estructura de directorios de trabajo en OpenFoam"
   ]
  },
  {
   "cell_type": "markdown",
   "metadata": {},
   "source": [
    "El material del tutorial está contenido en el directorio **`tundishTutorial`**, que a su vez contiene los sub-directorios: "
   ]
  },
  {
   "cell_type": "markdown",
   "metadata": {},
   "source": [
    "- **`tundishFlow2D`**: cálculo del campo de velocidades con la aplicación **`pimpleFoam`**.\n"
   ]
  },
  {
   "cell_type": "markdown",
   "metadata": {},
   "source": [
    "<details>\n",
    "<summary><b>Estructura</b></summary>\n",
    "\n",
    "<div class=\"alert alert-info\">\n",
    "\n",
    "```sh\n",
    "- flow2D\n",
    "  - 0\n",
    "    - epsilon\n",
    "    - k\n",
    "    - nut\n",
    "    - p\n",
    "    - U\n",
    "  - constant\n",
    "    - transportProperties\n",
    "    - turbulenceProperties\n",
    "  - system\n",
    "    - blockMeshDict\n",
    "    - controlDict\n",
    "    - createPatchDict\n",
    "    - fvSchemes\n",
    "    - fvSolution\n",
    "    - topoSetDict\n",
    "```\n",
    "\n",
    "</div>\n",
    "\n",
    "</details>"
   ]
  },
  {
   "cell_type": "markdown",
   "metadata": {},
   "source": [
    "- **`tundishScalar2D`**: cálculo del transporte del trazador con la aplicación **`scalarTransportFoam`**."
   ]
  },
  {
   "cell_type": "markdown",
   "metadata": {},
   "source": [
    "<details>\n",
    "<summary><b>Estructura</b></summary>\n",
    "\n",
    "<div class=\"alert alert-info\">\n",
    "\n",
    "```sh\n",
    "- scalar2D\n",
    "  - 0\n",
    "    - T\n",
    "    - U\n",
    "  - constant\n",
    "    - transportProperties\n",
    "  - system\n",
    "    - blockMeshDict\n",
    "    - controlDict\n",
    "    - createPatchDict\n",
    "    - fvSchemes\n",
    "    - fvSolution\n",
    "    - topoSetDict\n",
    "```\n",
    "\n",
    "</div>\n",
    "\n",
    "</details>"
   ]
  },
  {
   "cell_type": "markdown",
   "metadata": {},
   "source": []
  }
 ],
 "metadata": {
  "language_info": {
   "name": "python"
  }
 },
 "nbformat": 4,
 "nbformat_minor": 2
}
