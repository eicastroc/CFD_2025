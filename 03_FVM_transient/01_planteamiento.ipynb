{
 "cells": [
  {
   "cell_type": "markdown",
   "metadata": {},
   "source": [
    "# Fluidinámica computacional (Sesión 03)"
   ]
  },
  {
   "cell_type": "markdown",
   "metadata": {},
   "source": [
    "\n",
    "<img src=\"figures/LogoCinvestav.png\" style=\"width:330px;height:100px\" title=\"Cinvestav\">\n"
   ]
  },
  {
   "cell_type": "markdown",
   "metadata": {},
   "source": [
    "**CINVESTAV Unidad Saltillo**\n",
    "\n",
    "**Programa de Maestría en Ciencias en Ingeniería Metalúrgica**\n",
    "\n",
    "Dr. Edgar Ivan Castro Cedeño\n",
    "\n",
    "\n",
    "Enero - Junio 2025\n",
    "\n",
    "Contacto:\n",
    "[edgar.castro@cinvestav.mx](mailto:edgar.castro@cinvestav.mx)"
   ]
  },
  {
   "cell_type": "markdown",
   "metadata": {},
   "source": [
    "# Planteamiento del problema"
   ]
  },
  {
   "cell_type": "markdown",
   "metadata": {},
   "source": [
    "## Dominio computacional"
   ]
  },
  {
   "cell_type": "markdown",
   "metadata": {},
   "source": [
    "Se considera un dominio computacional 1D"
   ]
  },
  {
   "cell_type": "markdown",
   "metadata": {},
   "source": [
    "<center>\n",
    "\n",
    "<img src=\"figures/images/simplification1DGeometry.png\" style=\"width:400px\" title=\"Geometría 1D\">\n",
    "\n",
    "***Figura 01. Dominio computacional 1D del ejemplo planteado.***\n",
    "\n",
    "</center>"
   ]
  },
  {
   "cell_type": "markdown",
   "metadata": {},
   "source": [
    "## Ecuación diferencial gobernadora"
   ]
  },
  {
   "cell_type": "markdown",
   "metadata": {},
   "source": [
    "**Notación vectorial**:\n",
    "\n",
    "$$\\rho c \\frac{\\partial T}{\\partial t} = -\\mathbf{\\nabla \\cdot q} + S$$\n",
    "\n",
    "donde el vector de flujo de calor esta dado por:\n",
    "\n",
    "$$\\mathbf{q} = -\\lambda \\mathbf{\\nabla} T$$\n",
    "\n",
    "Que al sustituirse, da:\n",
    "\n",
    "$$\\rho c \\frac{\\partial T}{\\partial t} = \\mathbf{\\nabla \\cdot} \\left( \\lambda \\mathbf{\\nabla} T \\right) + S$$"
   ]
  },
  {
   "cell_type": "markdown",
   "metadata": {},
   "source": [
    "**Notación tensorial**:\n",
    "\n",
    "$$\\rho c \\frac{\\partial T}{\\partial t} = \\frac{d}{dx_i} \\left( \\lambda \\frac{dT}{dx_i}\\right) + S$$"
   ]
  },
  {
   "cell_type": "markdown",
   "metadata": {},
   "source": [
    "<div class=\"alert alert-warning\">\n",
    "\n",
    "**Notación vectorial vs notación tensorial**\n",
    "\n",
    "Por motivos de claridad, durante una buena parte del proceso de discretización de la ecuación, se va a utilizar la ecuación en notación vectorial (y no en notación tensorial).\n",
    "\n",
    "</div>"
   ]
  },
  {
   "cell_type": "markdown",
   "metadata": {},
   "source": [
    "## Condiciones iniciales y a la frontera"
   ]
  },
  {
   "cell_type": "markdown",
   "metadata": {},
   "source": [
    "A definir."
   ]
  },
  {
   "cell_type": "markdown",
   "metadata": {},
   "source": [
    "## Propiedades termofísicas"
   ]
  },
  {
   "cell_type": "markdown",
   "metadata": {},
   "source": [
    "- Densidad.\n",
    "\n",
    "- Capacidad calorífica. \n",
    "\n",
    "- Conductividad térmica."
   ]
  },
  {
   "cell_type": "markdown",
   "metadata": {},
   "source": [
    "## Solución de la ecuación"
   ]
  },
  {
   "cell_type": "markdown",
   "metadata": {},
   "source": [
    "Se va a utilizar el método del volumen finito para obtener una solución numérica de la ecuación planteada."
   ]
  },
  {
   "cell_type": "markdown",
   "metadata": {},
   "source": []
  }
 ],
 "metadata": {
  "language_info": {
   "name": "python"
  }
 },
 "nbformat": 4,
 "nbformat_minor": 2
}
