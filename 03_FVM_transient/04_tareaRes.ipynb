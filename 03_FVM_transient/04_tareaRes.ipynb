{
 "cells": [
  {
   "cell_type": "markdown",
   "metadata": {},
   "source": [
    "# Fluidinámica computacional (Sesión 03)"
   ]
  },
  {
   "cell_type": "markdown",
   "metadata": {},
   "source": [
    "\n",
    "<img src=\"figures/LogoCinvestav.png\" style=\"width:330px;height:100px\" title=\"Cinvestav\">\n"
   ]
  },
  {
   "cell_type": "markdown",
   "metadata": {},
   "source": [
    "**CINVESTAV Unidad Saltillo**\n",
    "\n",
    "**Programa de Maestría en Ciencias en Ingeniería Metalúrgica**\n",
    "\n",
    "Dr. Edgar Ivan Castro Cedeño\n",
    "\n",
    "\n",
    "Enero - Junio 2025\n",
    "\n",
    "Contacto:\n",
    "[edgar.castro@cinvestav.mx](mailto:edgar.castro@cinvestav.mx)"
   ]
  },
  {
   "cell_type": "markdown",
   "metadata": {},
   "source": [
    "# Tarea"
   ]
  },
  {
   "cell_type": "markdown",
   "metadata": {},
   "source": [
    "## Problema 1"
   ]
  },
  {
   "cell_type": "markdown",
   "metadata": {},
   "source": [
    "La ecuación de transferencia de calor por conducción en régimen transitorio en 1D, utilizando el método del volumen de control formulado con un esquema  explícito, se escribe de forma general:"
   ]
  },
  {
   "cell_type": "markdown",
   "metadata": {},
   "source": [
    "$$\n",
    "a_P T_P = a_E T_E^0 + a_W T_W^0 + b\n",
    "$$"
   ]
  },
  {
   "cell_type": "markdown",
   "metadata": {},
   "source": [
    "<details>\n",
    "<summary><b>Nomenclatura</b></summary>\n",
    "\n",
    "<div class=\"alert alert-info\">\n",
    "\n",
    "$$a_P^0 =  \\frac{\\rho c V}{\\Delta t}$$\n",
    "\n",
    "$$a_E = \\frac{\\lambda_e A_e}{(dx)_e}$$\n",
    "\n",
    "$$a_W = \\frac{\\lambda_w A_w}{(dx)_w}$$\n",
    "\n",
    "$$a_P = a_P^0$$\n",
    "\n",
    "$$b = \\left( a_P^0 - a_E - a_W + S_P^0 V \\right) T_P^0 +  S_C^0  V$$\n",
    "\n",
    "</div>\n",
    "\n",
    "</details>"
   ]
  },
  {
   "cell_type": "markdown",
   "metadata": {},
   "source": [
    "Para que el esquema explícito sea estable numéricamente, existe una restricción sobre el tamaño del volumen de control y el tamaño de paso de tiempo que pueden utilizarse.\n",
    "\n",
    "Muestre cuál es la condición que se requiere para que el esquema explícito sea estable."
   ]
  },
  {
   "cell_type": "markdown",
   "metadata": {},
   "source": [
    "<details>\n",
    "<summary><b>Tip</b></summary>\n",
    "\n",
    "<div class=\"alert alert-info\">\n",
    "\n",
    "La regla de coeficientes positivos impone una restricción sobre el tamaño del volumen de control y el tamaño de paso de tiempo que pueden utilizarse, de tal forma que:\n",
    "\n",
    "$$\n",
    "a_P^0 \\ge \\sum_N a_N\n",
    "$$\n",
    "\n",
    "</div>\n",
    "\n",
    "</details>"
   ]
  },
  {
   "cell_type": "markdown",
   "metadata": {},
   "source": [
    "### Respuesta 1"
   ]
  },
  {
   "cell_type": "markdown",
   "metadata": {},
   "source": [
    "Si se considera la regla de coeficientes positivos para el caso específico planteado, se tiene:\n",
    "\n",
    "$$a_P^0 \\ge a_E + a_W$$\n",
    "\n",
    "$$\\frac{\\rho c V}{\\Delta t} \\ge \\frac{\\lambda_e A_e}{(\\delta x)_e} + \\frac{\\lambda_w A_w}{(\\delta x)_w}$$"
   ]
  },
  {
   "cell_type": "markdown",
   "metadata": {},
   "source": [
    "<div class=\"alert alert-success\">\n",
    "\n",
    "Para cumplir con esta condición en una geometría 1D se requiere de forma general que:\n",
    "\n",
    "$$\\Delta t < \\frac{\\rho c V}{\\frac{\\lambda_e A_e}{(\\delta x)_e} + \\frac{\\lambda_w A_w}{(\\delta x)_w}}$$\n",
    "\n",
    "</div>"
   ]
  },
  {
   "cell_type": "markdown",
   "metadata": {},
   "source": [
    "<details>\n",
    "<summary><b>Desigualdad simplificada</b></summary>\n",
    "\n",
    "<div class=\"alert alert-warning\">\n",
    "\n",
    "En el caso limite expuesto en la literatura [[Patankar, 1980]](https://www.taylorfrancis.com/books/mono/10.1201/9781482234213/numerical-heat-transfer-fluid-flow-suhas-patankar):\n",
    "\n",
    "- se considera una celda con ejes ortogonales: \n",
    "\n",
    "$$\n",
    "V = \\Delta x \\Delta y \\Delta z\n",
    "$$\n",
    "\n",
    "- geometría 1D cartesiana:\n",
    "\n",
    "$$\n",
    "A_E = A_W = \\Delta y \\Delta z\n",
    "$$\n",
    "\n",
    "- tamaño de celda constante: \n",
    "\n",
    "$$\n",
    "(\\delta x)_w = (\\delta x)_e = \\Delta x\n",
    "$$\n",
    "\n",
    "- conductividad termica constante: \n",
    "\n",
    "$$\n",
    "\\lambda_e = \\lambda_w = \\lambda\n",
    "$$\n",
    "\n",
    "\n",
    "\n",
    "\n",
    "Con estas consideraciones, se reescribe la desigualdad inicial como:\n",
    "\n",
    "$$ \\frac{\\rho c \\Delta x \\Delta y \\Delta z}{\\Delta t} \\ge \\frac{\\lambda \\Delta y \\Delta z}{\\Delta x} + \\frac{\\lambda \\Delta y \\Delta z}{\\Delta x}$$\n",
    "\n",
    "y despejando se obtiene:\n",
    "\n",
    "$$\\Delta t < \\frac{\\rho c (\\Delta x)^2}{2 \\lambda}$$\n",
    "\n",
    "</div>\n",
    "</summary>"
   ]
  },
  {
   "cell_type": "markdown",
   "metadata": {},
   "source": [
    "## Problema 2"
   ]
  },
  {
   "cell_type": "markdown",
   "metadata": {},
   "source": [
    "La ecuación de transferencia de calor por conducción en 2D en régimen transitorio, utilizando el método del volumen de control formulado con un esquema  implícito, se escribe de forma general:"
   ]
  },
  {
   "cell_type": "markdown",
   "metadata": {},
   "source": [
    "$$\n",
    "a_P T_P = a_E T_E + a_W T_W + a_N T_N + a_S T_S + b\n",
    "$$"
   ]
  },
  {
   "cell_type": "markdown",
   "metadata": {},
   "source": [
    "<details>\n",
    "<summary><b>Nomenclatura</b></summary>\n",
    "\n",
    "<div class=\"alert alert-info\">\n",
    "\n",
    "$$a_P^0 =  \\frac{\\rho c V}{\\Delta t}$$\n",
    "\n",
    "$$a_E = \\frac{\\lambda_e A_e}{(dx)_e}$$\n",
    "\n",
    "$$a_W = \\frac{\\lambda_w A_w}{(dx)_w}$$\n",
    "\n",
    "$$a_P = a_P^0 + a_E + a_W - S_P  V$$\n",
    "\n",
    "$$b = a_P^0 T_P^0 +  S_C  V $$\n",
    "\n",
    "</div>\n",
    "\n",
    "</details>"
   ]
  },
  {
   "cell_type": "markdown",
   "metadata": {},
   "source": [
    "Construya el sistema de ecuaciones discretizadas en forma matricial, para un dominio 2D con nueve celdas, considerando las numeraciones de celdas que se proveen de manera esquemática debajo.\n",
    "\n",
    "**Explique por qué es importante poner atención en la numeración de las celdas.**"
   ]
  },
  {
   "cell_type": "markdown",
   "metadata": {},
   "source": [
    "<details>\n",
    "<summary><b>Importancia de numeración de celdas</b></summary>\n",
    "\n",
    "<div class=\"alert alert-success\">\n",
    "\n",
    "En este documento se muestra con ejemplos simples, que la forma de la matriz que representa el sistema de ecuaciones discretizadas es una matriz dispersa, cuya forma es resultado de la secuencia de numeración de las celdas de volumen de control, y la conectividad que exista entre ellas.\n",
    "\n",
    "El ancho de banda de la matriz dispersa resultante es de importancia, pues una matriz con un ancho de banda reducida conlleva a una reducción del tiempo de cálculo necesario para descomponer la matriz y resolver el sistema de ecuaciones que describe el fenómeno.\n",
    "\n",
    "</div>\n",
    "\n",
    "</details>"
   ]
  },
  {
   "cell_type": "markdown",
   "metadata": {},
   "source": [
    "### Caso 2.1:"
   ]
  },
  {
   "cell_type": "markdown",
   "metadata": {},
   "source": [
    "Numeración en fila o en columna."
   ]
  },
  {
   "cell_type": "markdown",
   "metadata": {},
   "source": [
    "<center>\n",
    "\n",
    "<img src=\"figures/images/grid1.png\" style=\"width:200px\" title=\"Discretización 1D\">\n",
    "\n",
    "***Figura P2.1. Esquema de discretización espacial en coordenadas cartesianas 2D.***\n",
    "\n",
    "</center>"
   ]
  },
  {
   "cell_type": "markdown",
   "metadata": {},
   "source": [
    "#### Respuesta 2.1"
   ]
  },
  {
   "cell_type": "markdown",
   "metadata": {},
   "source": [
    "Se debe considerar la conectividad de cada una de las nueve celdas:\n",
    "\n",
    "<center>\n",
    "\n",
    "| Celda   | Vecinos |\n",
    "|---------|---------|\n",
    "| Celda 1 | Celda 2, Celda 4 |\n",
    "| Celda 2 | Celda 1, Celda 3, Celda 5 |\n",
    "| Celda 3 | Celda 2, Celda 6 |\n",
    "| Celda 4 | Celda 1, Celda 5, Celda 7 |\n",
    "| Celda 5 | Celda 2, Celda 4, Celda 6, Celda 8 |\n",
    "| Celda 6 | Celda 3, Celda 5, Celda 9 |\n",
    "| Celda 7 | Celda 4, Celda 8 |\n",
    "| Celda 8 | Celda 5, Celda 7, Celda 9 |\n",
    "| Celda 9 | Celda 6, Celda 8 |\n",
    "\n",
    "</center>"
   ]
  },
  {
   "cell_type": "markdown",
   "metadata": {},
   "source": [
    "<div class=\"alert alert-success\">\n",
    "\n",
    "$$\n",
    "\\begin{bmatrix}\n",
    "\\mathbf{a_{11}} & -a_{12} & 0 & -a_{14} & 0 & 0 & 0 & 0 & 0\\\\\n",
    "a_{21} & \\mathbf{a_{22}} & -a_{23} & 0 & -a_{25} & 0 & 0 & 0 & 0\\\\\n",
    "0 & -a_{32} & \\mathbf{a_{33}} & 0 & 0 & -a_{36} & 0 & 0 & 0\\\\\n",
    "-a_{41} & 0 & 0 & \\mathbf{a_{44}} & -a_{45} & 0 & -a_{47} & 0 & 0\\\\\n",
    "0 & -a_{52} & 0 & -a_{54} & \\mathbf{a_{55}} & -a_{56} & 0 & -a_{58} & 0 \\\\\n",
    "0 & 0 & -a_{63} & 0 & -a_{65} & \\mathbf{a_{66}} & 0 & 0 & -a_{69} \\\\\n",
    "0 & 0 & 0 & -a_{74} & 0 & 0 & \\mathbf{a_{77}} & -a_{78} & 0 \\\\\n",
    "0 & 0 & 0 & 0 & -a_{85} & 0 & -a_{87} & \\mathbf{a_{88}} & -a_{89} \\\\\n",
    "0 & 0 & 0 & 0 & 0 & -a_{96} & 0 & -a_{98} & \\mathbf{a_{99}} \\\\\n",
    "\\end{bmatrix}\n",
    "\\begin{bmatrix}\n",
    "T_1 \\\\ T_2 \\\\ T_3 \\\\ T_4 \\\\ T_5 \\\\ T_6 \\\\ T_7 \\\\ T_8 \\\\ T_9\n",
    "\\end{bmatrix}\n",
    "=\n",
    "\\begin{bmatrix}\n",
    "b_1 \\\\ b_2 \\\\ b_3 \\\\\n",
    "b_4 \\\\ b_5 \\\\ b_6 \\\\\n",
    "b_7 \\\\ b_8 \\\\ b_9 \\\\\n",
    "\\end{bmatrix}\n",
    "$$\n",
    "\n",
    "</div>"
   ]
  },
  {
   "cell_type": "markdown",
   "metadata": {},
   "source": [
    "### Caso 2.2"
   ]
  },
  {
   "cell_type": "markdown",
   "metadata": {},
   "source": [
    "Numeración en diagonal"
   ]
  },
  {
   "cell_type": "markdown",
   "metadata": {},
   "source": [
    "<center>\n",
    "\n",
    "<img src=\"figures/images/grid2.png\" style=\"width:200px\" title=\"Discretización 1D\">\n",
    "\n",
    "***Figura P2.2. Esquema de discretización espacial en coordenadas cartesianas 2D.***\n",
    "\n",
    "</center>"
   ]
  },
  {
   "cell_type": "markdown",
   "metadata": {},
   "source": [
    "#### Respuesta 2.2"
   ]
  },
  {
   "cell_type": "markdown",
   "metadata": {},
   "source": [
    "Se debe considerar la conectividad de cada una de las nueve celdas:\n",
    "\n",
    "<center>\n",
    "\n",
    "| Celda   | Vecinos |\n",
    "|---------|---------|\n",
    "| Celda 1 | Celda 2, Celda 3 |\n",
    "| Celda 2 | Celda 1, Celda 4, Celda 5 |\n",
    "| Celda 3 | Celda 1, Celda 5, Celda 6 |\n",
    "| Celda 4 | Celda 2, Celda 7 |\n",
    "| Celda 5 | Celda 2, Celda 3, Celda 7, Celda 8 |\n",
    "| Celda 6 | Celda 3, Celda 8 |\n",
    "| Celda 7 | Celda 4, Celda 5, Celda 9 |\n",
    "| Celda 8 | Celda 5, Celda 6, Celda 9 |\n",
    "| Celda 9 | Celda 7, Celda 8 |\n",
    "\n",
    "</center>"
   ]
  },
  {
   "cell_type": "markdown",
   "metadata": {},
   "source": [
    "<div class=\"alert alert-success\">\n",
    "\n",
    "$$\n",
    "\\begin{bmatrix}\n",
    "\\mathbf{a_{11}} & -a_{12} & -a_{13} & 0 & 0 & 0 & 0 & 0 & 0\\\\\n",
    "-a_{21} & \\mathbf{a_{22}} & 0 & -a_{24} & -a_{25} & 0 & 0 & 0 & 0\\\\\n",
    "-a_{31} & 0 & \\mathbf{a_{33}} & 0 & -a_{35} & -a_{36} & 0 & 0 & 0\\\\\n",
    "0 & -a_{42} & 0 & \\mathbf{a_{44}} & 0 & 0 & -a_{47} & 0 & 0\\\\\n",
    "0 & -a_{52} & -a_{53} & 0 & \\mathbf{a_{55}} & 0 & -a_{57} & -a_{58} & 0\\\\\n",
    "0 & 0 & -a_{63} & 0 & 0 & \\mathbf{a_{66}} & 0 & -a_{68} & 0\\\\\n",
    "0 & 0 & 0 & a_{74} & -a_{75} & 0 & \\mathbf{a_{77}} & 0 & -a_{79} \\\\\n",
    "0 & 0 & 0 & 0 & -a_{85} & -a_{86} & 0 & \\mathbf{a_{88}} & -a_{89} \\\\\n",
    "0 & 0 & 0 & 0 & 0 & 0 & -a_{97} & -a_{98} & \\mathbf{a_{99}} \\\\\n",
    "\\end{bmatrix}\n",
    "\\begin{bmatrix}\n",
    "T_1 \\\\ T_2 \\\\ T_3 \\\\ T_4 \\\\ T_5 \\\\ T_6 \\\\ T_7 \\\\ T_8 \\\\ T_9\n",
    "\\end{bmatrix}\n",
    "=\n",
    "\\begin{bmatrix}\n",
    "b_1 \\\\ b_2 \\\\ b_3 \\\\\n",
    "b_4 \\\\ b_5 \\\\ b_6 \\\\\n",
    "b_7 \\\\ b_8 \\\\ b_9 \\\\\n",
    "\\end{bmatrix}\n",
    "$$\n",
    "\n",
    "</div>"
   ]
  },
  {
   "cell_type": "markdown",
   "metadata": {},
   "source": [
    "### Caso 2.3"
   ]
  },
  {
   "cell_type": "markdown",
   "metadata": {},
   "source": [
    "Numeración en espiral"
   ]
  },
  {
   "cell_type": "markdown",
   "metadata": {},
   "source": [
    "<center>\n",
    "\n",
    "<img src=\"figures/images/grid3.png\" style=\"width:200px\" title=\"Discretización 1D\">\n",
    "\n",
    "***Figura P2.3. Esquema de discretización espacial en coordenadas cartesianas 2D.***\n",
    "\n",
    "</center>"
   ]
  },
  {
   "cell_type": "markdown",
   "metadata": {},
   "source": [
    "#### Respuesta 2.3"
   ]
  },
  {
   "cell_type": "markdown",
   "metadata": {},
   "source": [
    "Se debe considerar la conectividad de cada una de las nueve celdas:\n",
    "\n",
    "<center>\n",
    "\n",
    "| Celda   | Vecinos |\n",
    "|---------|---------|\n",
    "| Celda 1 | Celda 2, Celda 4, Celda 6, Celda 8 |\n",
    "| Celda 2 | Celda 1, Celda 3, Celda 9 |\n",
    "| Celda 3 | Celda 2, Celda 4 |\n",
    "| Celda 4 | Celda 1, Celda 3, Celda 5 |\n",
    "| Celda 5 | Celda 4, Celda 6 |\n",
    "| Celda 6 | Celda 1, Celda 5, Celda 7 |\n",
    "| Celda 7 | Celda 6, Celda 8 |\n",
    "| Celda 8 | Celda 1, Celda 7, Celda 9 |\n",
    "| Celda 9 | Celda 2, Celda 8 |\n",
    "\n",
    "</center>"
   ]
  },
  {
   "cell_type": "markdown",
   "metadata": {},
   "source": [
    "<div class=\"alert alert-success\">\n",
    "\n",
    "$$\n",
    "\\begin{bmatrix}\n",
    "\\mathbf{a_{11}} & -a_{12} & 0 & -a_{14} & 0 & -a_{16} & 0 & -a_{18} & 0\\\\\n",
    "-a_{21} & \\mathbf{a_{22}} & -a_{23} & 0 & 0 & 0 & 0 & 0 & -a_{29}\\\\\n",
    "0 & -a_{32} & \\mathbf{a_{33}} & -a_{34} & 0 & 0 & 0 & 0 & 0\\\\\n",
    "-a_{41} & 0 & -a_{43} & \\mathbf{a_{44}} & -a_{45} & 0 & 0 & 0 & 0\\\\\n",
    "& 0 & 0 & -a_{54} & \\mathbf{a_{55}} & -a_{56} & 0 & 0 & 0\\\\\n",
    "-a_{61} & 0 & 0 & 0 & -a_{65} & \\mathbf{a_{66}} & -a_{67} & 0 & 0\\\\\n",
    "& 0 & 0 & 0 & 0 & -a_{76} & \\mathbf{a_{77}} & -a_{78}  & 0 \\\\\n",
    "-a_{81} & 0 & 0 & 0 & 0 & 0 & -a_{87} & \\mathbf{a_{88}} & -a_{89} \\\\\n",
    "& -a_{92} & 0 & 0 & 0 & 0 & 0 & -a_{98} & \\mathbf{a_{99}} \\\\\n",
    "\\end{bmatrix}\n",
    "\\begin{bmatrix}\n",
    "T_1 \\\\ T_2 \\\\ T_3 \\\\ T_4 \\\\ T_5 \\\\ T_6 \\\\ T_7 \\\\ T_8 \\\\ T_9\n",
    "\\end{bmatrix}\n",
    "=\n",
    "\\begin{bmatrix}\n",
    "b_1 \\\\ b_2 \\\\ b_3 \\\\\n",
    "b_4 \\\\ b_5 \\\\ b_6 \\\\\n",
    "b_7 \\\\ b_8 \\\\ b_9 \\\\\n",
    "\\end{bmatrix}\n",
    "$$\n",
    "\n",
    "</div>"
   ]
  },
  {
   "cell_type": "markdown",
   "metadata": {},
   "source": []
  }
 ],
 "metadata": {
  "kernelspec": {
   "display_name": "Julia 1.10.6",
   "language": "julia",
   "name": "julia-1.10"
  },
  "language_info": {
   "file_extension": ".jl",
   "mimetype": "application/julia",
   "name": "julia",
   "version": "1.10.6"
  }
 },
 "nbformat": 4,
 "nbformat_minor": 2
}
