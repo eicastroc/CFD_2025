{
 "cells": [
  {
   "cell_type": "markdown",
   "metadata": {},
   "source": [
    "# Fluidinámica computacional (Sesión 03)"
   ]
  },
  {
   "cell_type": "markdown",
   "metadata": {},
   "source": [
    "\n",
    "<img src=\"figures/LogoCinvestav.png\" style=\"width:330px;height:100px\" title=\"Cinvestav\">\n"
   ]
  },
  {
   "cell_type": "markdown",
   "metadata": {},
   "source": [
    "**CINVESTAV Unidad Saltillo**\n",
    "\n",
    "**Programa de Maestría en Ciencias en Ingeniería Metalúrgica**\n",
    "\n",
    "Dr. Edgar Ivan Castro Cedeño\n",
    "\n",
    "\n",
    "Enero - Junio 2025\n",
    "\n",
    "Contacto:\n",
    "[edgar.castro@cinvestav.mx](mailto:edgar.castro@cinvestav.mx)"
   ]
  },
  {
   "cell_type": "markdown",
   "metadata": {},
   "source": [
    "# Tarea"
   ]
  },
  {
   "cell_type": "markdown",
   "metadata": {},
   "source": [
    "## Problema 1"
   ]
  },
  {
   "cell_type": "markdown",
   "metadata": {},
   "source": [
    "La ecuación de transferencia de calor por conducción en régimen transitorio en 1D, utilizando el método del volumen de control formulado con un esquema  explícito, se escribe de forma general:"
   ]
  },
  {
   "cell_type": "markdown",
   "metadata": {},
   "source": [
    "$$\n",
    "a_P T_P = a_E T_E^0 + a_W T_W^0 + b\n",
    "$$"
   ]
  },
  {
   "cell_type": "markdown",
   "metadata": {},
   "source": [
    "<details>\n",
    "<summary><b>Nomenclatura</b></summary>\n",
    "\n",
    "<div class=\"alert alert-info\">\n",
    "\n",
    "$$a_P^0 =  \\frac{\\rho c V}{\\Delta t}$$\n",
    "\n",
    "$$a_E = \\frac{\\lambda_e A_e}{(dx)_e}$$\n",
    "\n",
    "$$a_W = \\frac{\\lambda_w A_w}{(dx)_w}$$\n",
    "\n",
    "$$a_P = a_P^0$$\n",
    "\n",
    "$$b = \\left( a_P^0 - a_E - a_W + S_P^0 V \\right) T_P^0 +  S_C^0  V$$\n",
    "\n",
    "</div>\n",
    "\n",
    "</details>"
   ]
  },
  {
   "cell_type": "markdown",
   "metadata": {},
   "source": [
    "Para que el esquema explícito sea estable numéricamente, existe una restricción sobre el tamaño del volumen de control y el tamaño de paso de tiempo que pueden utilizarse.\n",
    "\n",
    "Muestre cuál es la condición que se requiere para que el esquema explícito sea estable."
   ]
  },
  {
   "cell_type": "markdown",
   "metadata": {},
   "source": [
    "<details>\n",
    "<summary><b>Tip</b></summary>\n",
    "\n",
    "<div class=\"alert alert-info\">\n",
    "\n",
    "La regla de coeficientes positivos impone una restricción sobre el tamaño del volumen de control y el tamaño de paso de tiempo que pueden utilizarse, de tal forma que:\n",
    "\n",
    "$$\n",
    "a_P^0 \\ge \\sum_N a_N\n",
    "$$\n",
    "\n",
    "</div>\n",
    "\n",
    "</details>"
   ]
  },
  {
   "cell_type": "markdown",
   "metadata": {},
   "source": [
    "## Problema 2"
   ]
  },
  {
   "cell_type": "markdown",
   "metadata": {},
   "source": [
    "La ecuación de transferencia de calor por conducción en 2D en régimen transitorio, utilizando el método del volumen de control formulado con un esquema  implícito, se escribe de forma general:"
   ]
  },
  {
   "cell_type": "markdown",
   "metadata": {},
   "source": [
    "$$\n",
    "a_P T_P = a_E T_E + a_W T_W + a_N T_N + a_S T_S + b\n",
    "$$"
   ]
  },
  {
   "cell_type": "markdown",
   "metadata": {},
   "source": [
    "<details>\n",
    "<summary><b>Nomenclatura</b></summary>\n",
    "\n",
    "<div class=\"alert alert-info\">\n",
    "\n",
    "$$a_P^0 =  \\frac{\\rho c V}{\\Delta t}$$\n",
    "\n",
    "$$a_E = \\frac{\\lambda_e A_e}{(dx)_e}$$\n",
    "\n",
    "$$a_W = \\frac{\\lambda_w A_w}{(dx)_w}$$\n",
    "\n",
    "$$a_P = a_P^0 + a_E + a_W - S_P  V$$\n",
    "\n",
    "$$b = a_P^0 T_P^0 +  S_C  V $$\n",
    "\n",
    "</div>\n",
    "\n",
    "</details>"
   ]
  },
  {
   "cell_type": "markdown",
   "metadata": {},
   "source": [
    "Construya el sistema de ecuaciones discretizadas en forma matricial, para un dominio 2D con nueve celdas, considerando las numeraciones de celdas que se proveen de manera esquemática debajo.\n",
    "\n",
    "**Explique por qué es importante poner atención en la numeración de las celdas.**"
   ]
  },
  {
   "cell_type": "markdown",
   "metadata": {},
   "source": [
    "### Caso 2.1:"
   ]
  },
  {
   "cell_type": "markdown",
   "metadata": {},
   "source": [
    "Numeración en fila o en columna."
   ]
  },
  {
   "cell_type": "markdown",
   "metadata": {},
   "source": [
    "<center>\n",
    "\n",
    "<img src=\"figures/images/grid1.png\" style=\"width:200px\" title=\"Discretización 1D\">\n",
    "\n",
    "***Figura P2.1. Esquema de discretización espacial en coordenadas cartesianas 2D.***\n",
    "\n",
    "</center>"
   ]
  },
  {
   "cell_type": "markdown",
   "metadata": {},
   "source": [
    "### Caso 2.2"
   ]
  },
  {
   "cell_type": "markdown",
   "metadata": {},
   "source": [
    "Numeración en diagonal"
   ]
  },
  {
   "cell_type": "markdown",
   "metadata": {},
   "source": [
    "<center>\n",
    "\n",
    "<img src=\"figures/images/grid2.png\" style=\"width:200px\" title=\"Discretización 1D\">\n",
    "\n",
    "***Figura P2.2. Esquema de discretización espacial en coordenadas cartesianas 2D.***\n",
    "\n",
    "</center>"
   ]
  },
  {
   "cell_type": "markdown",
   "metadata": {},
   "source": [
    "### Caso 2.3"
   ]
  },
  {
   "cell_type": "markdown",
   "metadata": {},
   "source": [
    "Numeración en espiral"
   ]
  },
  {
   "cell_type": "markdown",
   "metadata": {},
   "source": [
    "<center>\n",
    "\n",
    "<img src=\"figures/images/grid3.png\" style=\"width:200px\" title=\"Discretización 1D\">\n",
    "\n",
    "***Figura P2.3. Esquema de discretización espacial en coordenadas cartesianas 2D.***\n",
    "\n",
    "</center>"
   ]
  },
  {
   "cell_type": "markdown",
   "metadata": {},
   "source": []
  }
 ],
 "metadata": {
  "kernelspec": {
   "display_name": "Julia 1.10.6",
   "language": "julia",
   "name": "julia-1.10"
  },
  "language_info": {
   "file_extension": ".jl",
   "mimetype": "application/julia",
   "name": "julia",
   "version": "1.10.6"
  }
 },
 "nbformat": 4,
 "nbformat_minor": 2
}
