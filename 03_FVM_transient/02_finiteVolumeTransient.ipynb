{
 "cells": [
  {
   "cell_type": "markdown",
   "metadata": {},
   "source": [
    "# Fluidinámica computacional (Sesión 03)"
   ]
  },
  {
   "cell_type": "markdown",
   "metadata": {},
   "source": [
    "\n",
    "<img src=\"figures/LogoCinvestav.png\" style=\"height:100px\" title=\"Cinvestav\">\n"
   ]
  },
  {
   "cell_type": "markdown",
   "metadata": {},
   "source": [
    "**CINVESTAV Unidad Saltillo**\n",
    "\n",
    "**Programa de Maestría en Ciencias en Ingeniería Metalúrgica**\n",
    "\n",
    "Dr. Edgar Ivan Castro Cedeño\n",
    "\n",
    "\n",
    "Enero - Junio 2025\n",
    "\n",
    "Contacto:\n",
    "[edgar.castro@cinvestav.mx](mailto:edgar.castro@cinvestav.mx)"
   ]
  },
  {
   "cell_type": "markdown",
   "metadata": {},
   "source": [
    "# Método del Volumen de Control"
   ]
  },
  {
   "cell_type": "markdown",
   "metadata": {},
   "source": [
    "**También llamado, Método del Volumen Finito.**"
   ]
  },
  {
   "cell_type": "markdown",
   "metadata": {},
   "source": [
    "## Discretización Espacial"
   ]
  },
  {
   "cell_type": "markdown",
   "metadata": {},
   "source": [
    "La ecuación planteada es en estado estacionario, por lo que unicamente se requiere plantear la discretización espacial.\n",
    "\n",
    "Debajo se muestra un esquema de la discretización espacial en coordenadas cartesianas en 1D.\n"
   ]
  },
  {
   "cell_type": "markdown",
   "metadata": {},
   "source": [
    "<center>\n",
    "\n",
    "<img src=\"figures/images/discretization1DStencil_py.png\" style=\"width:400px\" title=\"Discretización 1D\">\n",
    "\n",
    "***Figura 01. Esquema de discretización espacial en coordenadas cartesianas 1D.***\n",
    "\n",
    "</center>"
   ]
  },
  {
   "cell_type": "markdown",
   "metadata": {},
   "source": [
    "<details>\n",
    "<summary><b>Pie de Figura</b></summary>\n",
    "\n",
    "<div class=\"alert alert-info\">\n",
    "\n",
    "El esquema presenta tres nodos de celda posicionados sobre el eje x, $W$, $P$, y $E$. Cada uno representa una posición geométrica dentro de un volumen de control individual; esto es, en el esquema se muestran los nodos de tres volúmenes de control.\n",
    "\t\n",
    "La distancia entre los nodos $P$ y $W$, y los nodos $P$ y $E$, esta dada por  $(\\delta x)_w$, y $(\\delta x)_e$, respectivamente.\n",
    "\n",
    "Los nodos de superficie, $w$ y $e$, indican las posiciones de las interfaces entre el volumen de control $P$, y sus volúmenes de control vecinos.\n",
    "\t\n",
    "El área de las superficies de las interfaces esta dada por $A_w$, y $A_e$, respectivamente. Las flechas rojas representan vectores normales a la superficie de las caras entre celdas adyacentes.\n",
    "\t\n",
    "- La distancia entre los nodos de superficie $w$ y $e$, esta data por $\\Delta x$.\n",
    "\t\n",
    "- La posición de los nodos de superficie $w$ y $e$, no necesariamente es a media distancia entre los nodos de celda correspondientes.\n",
    "\t\n",
    "Para el caso de celdas ortogonales, el volumen de la celda $P$ esta dado por, $V_p = \\Delta x \\Delta y \\Delta z$.\n",
    "\t\n",
    "- En el caso de geometría 1D, el área de la interfaces entre dos volúmenes de control se puede considerar de superficie unitaria, i.e., $A_e = A_w = \\Delta y$ $\\Delta z = 1$.\n",
    "\n",
    "</div>\n",
    "\n",
    "</details>"
   ]
  },
  {
   "cell_type": "markdown",
   "metadata": {},
   "source": [
    "## Selección de funciones de interpolación"
   ]
  },
  {
   "cell_type": "markdown",
   "metadata": {},
   "source": [
    "Se deben seleccionar funciones de interpolación, por ejemplo:\n",
    "\n",
    "- Constante por segmentos.\n",
    "\n",
    "- Lineal por segmentos."
   ]
  },
  {
   "cell_type": "markdown",
   "metadata": {},
   "source": [
    "<center>\n",
    "\n",
    "<img src=\"figures/images/interpolationFunctions_py.png\" style=\"width:400px\" title=\"Funciones de interpolación\">\n",
    "\n",
    "***Figura 02. Ejemplos de funciones de interpolación.***\n",
    "\n",
    "</center>"
   ]
  },
  {
   "cell_type": "markdown",
   "metadata": {},
   "source": [
    "<details>\n",
    "<summary><b>Pie de Figura</b></summary>\n",
    "\n",
    "<div class=\"alert alert-info\">\n",
    "\n",
    "Sobre el eje horizontal, se muestran:\n",
    "\n",
    "- Tres nodos de celda $W$, $P$ y $E$.\n",
    "\t\n",
    "- Dos nodos de superficie, $w$ y $e$, indicando la posicion de las caras entre celdas adyacentes a la celda $P$.\n",
    "\t\n",
    "Sobre el eje vertical, se muestran:\n",
    "\t\n",
    "- La superficies de las caras adyacentes entre nodos, $A_w$ y $A_e$.\n",
    "\t\n",
    "- Los valores discretos de temperatura,  $T_W$, $T_P$ y $T_E$, en la posicion de los nodos de celda respectivos, $W$, $P$ y $N$.\n",
    "\t\n",
    "- Los perfiles de temperatura interpolados de dos maneras: constante por segmentos, y lineal por segmentos.\n",
    "\n",
    "</div>\n",
    "\n",
    "</details>"
   ]
  },
  {
   "cell_type": "markdown",
   "metadata": {},
   "source": [
    "## Integración exacta de la ecuación diferencial"
   ]
  },
  {
   "cell_type": "markdown",
   "metadata": {},
   "source": [
    "**Se asumen los perfiles de distintos campos utilizando las funciones de interpolación seleccionadas**"
   ]
  },
  {
   "cell_type": "markdown",
   "metadata": {},
   "source": [
    "### Integración de la ecuación"
   ]
  },
  {
   "cell_type": "markdown",
   "metadata": {},
   "source": [
    "La ecuación que describe el fenómeno es:\n",
    "\n",
    "$$\\rho c \\frac{\\partial T}{\\partial t} = -\\mathbf{\\nabla \\cdot q} + S$$"
   ]
  },
  {
   "cell_type": "markdown",
   "metadata": {},
   "source": [
    "Se inicia el proceso de discretización de la ecuación, considerando la integración de la ecuación en el volumen de control $P$:\n",
    "\n",
    "$$\n",
    "\\rho c \\int_{\\Delta t} \\iiint_{V} \\frac{\\partial T}{\\partial t}dV dt\n",
    "=\n",
    "- \\int_{\\Delta t} \\iiint_{V} \\mathbf{\\nabla \\cdot q}\\, dV dt + \\int_{\\Delta t} \\iiint_{V} S dV dt\n",
    "$$"
   ]
  },
  {
   "cell_type": "markdown",
   "metadata": {},
   "source": [
    "Aplicando el [teorema de divergencia de Gauss](https://doc.cfd.direct/notes/cfd-general-principles/conservation-of-mass#x17-220004), se obtiene:\n",
    "\n",
    "$$\n",
    "\\rho c \\int_{\\Delta t} \\iiint_{V} \\frac{\\partial T}{\\partial t}dV dt\n",
    "=\n",
    "- \\int_{\\Delta t} \\iint_{A}  \\mathbf{q \\cdot} d\\mathbf{A} dt + \\int_{\\Delta t} \\iiint_{V} S dV dt\n",
    "$$"
   ]
  },
  {
   "cell_type": "markdown",
   "metadata": {},
   "source": [
    "<div class=\"alert alert-success\">\n",
    "\n",
    "**¡La ecuación integral es exacta!**\n",
    "\n",
    "Es importante notar que la ecuacion integral es exacta. Representa un balance de energía en donde: \n",
    "\n",
    "- El término del lado derecho corresponde a la acumulación de calor.\n",
    "\n",
    "- El primer término del lado derecho corresponde a las entradas y salidas de calor.\n",
    "\n",
    "- El segundo término de lado derecho corresponde a la generación de calor.\n",
    "\n",
    "\n",
    "\n",
    "</div>"
   ]
  },
  {
   "cell_type": "markdown",
   "metadata": {},
   "source": [
    "#### Tratamiento del término transitorio"
   ]
  },
  {
   "cell_type": "markdown",
   "metadata": {},
   "source": [
    "$$\n",
    "\\rho c \\int_{\\Delta t} \\iiint_{V} \\frac{\\partial T}{\\partial t}dV dt\n",
    "=\n",
    "\\rho c V \\left(T_P - T_P^0 \\right)\n",
    "$$"
   ]
  },
  {
   "cell_type": "markdown",
   "metadata": {},
   "source": [
    "Las variables, ${T_P}^0$ y ${T_P}$, denotan los valores de $T_P$ en los pasos de tiempo previo y actual, respectivamente. "
   ]
  },
  {
   "cell_type": "markdown",
   "metadata": {},
   "source": [
    "#### Tratamiento del término difusivo"
   ]
  },
  {
   "cell_type": "markdown",
   "metadata": {},
   "source": [
    "La integración espacial se realiza de la misma forma que el caso de la ecuación en régimen estacionario.\n",
    "\n",
    "$$-\\int_{\\Delta t} \\iint_{A}  \\mathbf{q \\cdot} d\\mathbf{A} \\,dt = -\\int_{\\Delta t} \\sum_{f=e, w}  \\mathbf{q_f \\cdot A_f} \\,dt$$\n",
    "\n",
    "$$-\\int_{\\Delta t} \\iint_{A}  \\mathbf{q \\cdot} d\\mathbf{A} \\,dt = -\\int_{\\Delta t} \\mathbf{q_e \\cdot A_e} \\,dt -\\int_{\\Delta t} \\mathbf{q_w \\cdot A_w} \\,dt$$"
   ]
  },
  {
   "cell_type": "markdown",
   "metadata": {},
   "source": [
    "La integración temporal se realiza asumiendo que valor del flujo de calor, $\\mathbf{q}$ puede ser interpolado entre los pasos de tiempo previo y actual, utilizando un factor $f$, de tal forma que $0 \\le f \\le 1$.\n",
    "\n",
    "$$\n",
    "-\\int_{\\Delta t} \\iint_{A}  \\mathbf{q \\cdot} d\\mathbf{A} \\,dt\n",
    "=\n",
    "- \\left[ f \\left( \\mathbf{q_e \\cdot A_e}\\right) + \\left( 1 - f \\right) \\left( \\mathbf{q_e^0 \\cdot A_e}\\right) \\right] \\Delta t - \\left[ f \\left( \\mathbf{q_w \\cdot A_w}\\right) + \\left( 1 - f \\right) \\left( \\mathbf{q_w^0 \\cdot A_w}\\right) \\right] \\Delta t\n",
    "$$"
   ]
  },
  {
   "cell_type": "markdown",
   "metadata": {},
   "source": [
    "<div class=\"alert alert-info\">\n",
    "\n",
    "**Integración temporal del término difusivo:**\n",
    "\n",
    "De forma general, esta integración es de la forma:\n",
    "\n",
    "$$\n",
    "- \\int_{\\Delta t} \\mathbf{q \\cdot A} dt \n",
    "=\n",
    "- \\left[ f \\left( \\mathbf{q \\cdot A}\\right) + \\left( 1 - f \\right) \\left( \\mathbf{q^0 \\cdot A}\\right) \\right] \\Delta t\n",
    "$$\n",
    "\t\n",
    "Las variables, $\\mathbf{q}^0$ y $\\mathbf{q}$, denotan los valores del flujo difusivo de calor, $\\mathbf{q}$ en los pasos de tiempo previo y actual, respectivamente."
   ]
  },
  {
   "cell_type": "markdown",
   "metadata": {},
   "source": [
    "#### Tratamiento del término fuente"
   ]
  },
  {
   "cell_type": "markdown",
   "metadata": {},
   "source": [
    "La integración espacial se realiza de la misma forma que el caso de la ecuación en estado estable.\n",
    "\n",
    "$$\\int_{\\Delta t} \\iiint_{V} S \\,dV\\,dt = \\int_{\\Delta t}  \\bar{S}  V \\,dt$$"
   ]
  },
  {
   "cell_type": "markdown",
   "metadata": {},
   "source": [
    "Considerando la linealización del termino fuente, se obtiene:\n",
    "\n",
    "$$\\int_{\\Delta t} \\iiint_{V} S \\,dV\\,dt = \\int_{\\Delta t}  \\left( S_C + S_P T_P \\right) V \\,dt$$"
   ]
  },
  {
   "cell_type": "markdown",
   "metadata": {},
   "source": [
    "La integración temporal se realiza asumiendo que el termino fuente puede ser interpolado entre los pasos de tiempo previo y actual, utilizando un factor $f$, de tal forma que $0 \\le f \\le 1$.\n",
    "\n",
    "$$\n",
    "\\int_{\\Delta t} \\iiint_{V} S \\,dV\\,dt =  \\left[ f \\left( S_C + S_P T_P \\right) V + (1 - f) \\left( S_C^0 + S_P^0 T_P^0 \\right) V \\right] \\Delta t\n",
    "$$"
   ]
  },
  {
   "cell_type": "markdown",
   "metadata": {},
   "source": [
    "#### Escritura de la ecuación completa"
   ]
  },
  {
   "cell_type": "markdown",
   "metadata": {},
   "source": [
    "Ecuación diferencial:\n",
    "\n",
    "$$\\rho c \\frac{\\partial T}{\\partial t} = -\\mathbf{\\nabla \\cdot q} + S$$\n"
   ]
  },
  {
   "cell_type": "markdown",
   "metadata": {},
   "source": [
    "Ecuación integral:\n",
    "\n",
    "$$\n",
    "\\rho c \\int_{\\Delta t} \\iiint_{V} \\frac{\\partial T}{\\partial t}dV dt\n",
    "=\n",
    "- \\int_{\\Delta t} \\iint_{A}  \\mathbf{q \\cdot} d\\mathbf{A} dt + \\int_{\\Delta t} \\iiint_{V} S dV dt\n",
    "$$"
   ]
  },
  {
   "cell_type": "markdown",
   "metadata": {},
   "source": [
    "Ecuación discretizada\n",
    "\n",
    "$$\n",
    "\\rho c V \\left(T_P - T_P^0 \\right)\n",
    "=\n",
    "$$\n",
    "\n",
    "$$\n",
    "- \\left[ f \\left( \\mathbf{q_e \\cdot A_e}\\right) + \\left( 1 - f \\right) \\left( \\mathbf{q_e^0 \\cdot A_e}\\right) \\right] \\Delta t\n",
    "- \\left[ f \\left( \\mathbf{q_w \\cdot A_w}\\right) + \\left( 1 - f \\right) \\left( \\mathbf{q_w^0 \\cdot A_w}\\right) \\right] \\Delta t\n",
    "$$\n",
    "\n",
    "$$\n",
    "+ \\left[ f \\left( S_C + S_P T_P \\right) V + (1 - f) \\left( S_C^0 + S_P^0 T_P^0 \\right) V \\right] \\Delta t\n",
    "$$"
   ]
  },
  {
   "cell_type": "markdown",
   "metadata": {},
   "source": [
    "### Integración utilizando funciones de interpolación seleccionadas"
   ]
  },
  {
   "cell_type": "markdown",
   "metadata": {},
   "source": [
    "Se efectúa la integración espacial, asumiendo que el perfil de temperatura entre los nodos es lineal, y que el perfil del termino fuente es constante en el volumen de control.\n",
    "\n",
    "Sustituyendo en la ecuación integrada el vector de flujo de calor, se obtiene:\n",
    "\n",
    "$$\n",
    "\\rho c V \\left(T_P - T_P^0 \\right)\n",
    "=\n",
    "$$\n",
    "\n",
    "$$\n",
    "\\left[ f \\left( \\mathbf{\\left( \\lambda \\mathbf{\\nabla} T \\right)_e \\cdot A_e}\\right) + \\left( 1 - f \\right) \\left( \\mathbf{\\left( \\lambda \\mathbf{\\nabla} T \\right)_e^0 \\cdot A_e}\\right) \\right] \\Delta t\n",
    "+ \\left[ f \\left( \\mathbf{\\left( \\lambda \\mathbf{\\nabla} T \\right)_w \\cdot A_w}\\right) + \\left( 1 - f \\right) \\left( \\mathbf{\\left( \\lambda \\mathbf{\\nabla} T \\right)_w^0 \\cdot A_w}\\right) \\right] \\Delta t\n",
    "$$\n",
    "\n",
    "$$\n",
    "+ \\left[ f \\left( S_C + S_P T_P \\right) V + (1 - f) \\left( S_C^0 + S_P^0 T_P^0 \\right) V \\right] \\Delta t\n",
    "$$"
   ]
  },
  {
   "cell_type": "markdown",
   "metadata": {},
   "source": [
    "Escribiendo los gradientes y vectores de área en coordenadas cartesianas, se tiene:\n",
    "\n",
    "$$\n",
    "\\rho c V \\left(T_P - T_P^0 \\right)\n",
    "=\n",
    "$$\n",
    "\n",
    "$$\n",
    "\\left[ f \\lambda_e (A_e) \\left( \\frac{dT}{dx}\\right)_e + \\left( 1 - f \\right) \\lambda_e (A_e) \\left( \\frac{dT}{dx}\\right)_e^0 \\right] \\Delta t\n",
    "+ \\left[ f \\lambda_w (-A_w) \\left( \\frac{dT}{dx}\\right)_w + \\left( 1 - f \\right) \\lambda_w (-A_w) \\left( \\frac{dT}{dx}\\right)_w^0 \\right] \\Delta t\n",
    "$$\n",
    "\n",
    "$$\n",
    "+ \\left[ f \\left( S_C + S_P T_P \\right) V + (1 - f) \\left( S_C^0 + S_P^0 T_P^0 \\right) V \\right] \\Delta t\n",
    "$$"
   ]
  },
  {
   "cell_type": "markdown",
   "metadata": {
    "vscode": {
     "languageId": "julia"
    }
   },
   "source": [
    "<details>\n",
    "<summary><b>Operador Nabla</b></summary>\n",
    "\n",
    "<div class=\"alert alert-info\">\n",
    "\n",
    "**Operador Nabla, $\\nabla$:**\n",
    "\n",
    "En coordenadas cartesianas, el operador $\\nabla$ (gradiente) para el eje x esta dado por:\n",
    "\t\n",
    "$$\\mathbf{\\nabla} = \\frac{\\partial}{\\partial x} \\mathbf{i}$$\n",
    "\t\n",
    "donde $i$ es un vector unitario en la dirección del eje x.\n",
    "\n",
    "</div>\n",
    "\n",
    "</details>"
   ]
  },
  {
   "cell_type": "markdown",
   "metadata": {},
   "source": [
    "<details>\n",
    "<summary><b>Vectores de Area</b></summary>\n",
    "\n",
    "<div class=\"alert alert-info\">\n",
    "\n",
    "**Vectores de area de caras entre celdas adyacentes, $\\mathbf{A_f}$:**\n",
    "\n",
    "Los vectores del área de las caras entre celdas adyacentes están dados por:\n",
    "\t\n",
    "$$\\mathbf{A_e} = A_e \\, (\\mathbf{i})$$\n",
    "\n",
    "$$\\mathbf{A_w} = A_w \\, (-\\mathbf{i})$$\n",
    "\n",
    "donde $\\mathbf{i}$ es un vector unitario en la dirección del eje x.\n",
    "\n",
    "</div>\n",
    "</details>"
   ]
  },
  {
   "cell_type": "markdown",
   "metadata": {},
   "source": [
    "<details>\n",
    "<summary><b>Gradientes de temperatura</b></summary>\n",
    "\n",
    "<div class=\"alert alert-info\">\n",
    "\n",
    "**Escritura de los gradientes de temperatura:**\n",
    "\n",
    "De forma general, al considerar perfiles lineales de temperatura, los gradientes se aproximan como:\n",
    "\n",
    "$$\n",
    "\\left(\\frac{dT}{dx}\\right)_f \\approx \\left. \\frac{\\Delta T}{\\Delta x}\\right|_f\n",
    "$$\n",
    "\n",
    "Tomando como referencia la Figura 01 (reproducida debajo), se tiene que los vectores de área apuntan en dirección hacia afuera del volumen de control.\n",
    "\n",
    "<center>\n",
    "<img src=\"figures/images/discretization1DStencil_py.png\" style=\"width:400px\" title=\"Discretización 1D\">\n",
    "</center>\n",
    "\n",
    "**Se utiliza la misma convención para especificar la dirección de los gradientes, entonces:**\n",
    "\n",
    "El gradiente en la cara oeste se escribe:\n",
    "\n",
    "$$\n",
    "\\left(\\frac{dT}{dx}\\right)_w \\approx \\frac{T_W - T_P}{\\overline{PW}} = \\frac{T_W - T_P}{-(d_x)_w}\n",
    "$$\n",
    "\n",
    "$$\n",
    "\\overline{PW} < 0\n",
    "$$\n",
    "\n",
    "El gradiente en la cara este se escribe:\n",
    "\n",
    "$$\n",
    "\\left(\\frac{dT}{dx}\\right)_e \\approx \\frac{T_E - T_P}{\\overline{PE}} = \\frac{T_E - T_P}{+(d_x)_e}\n",
    "$$\n",
    "\n",
    "$$\n",
    "\\overline{PE} > 0\n",
    "$$\n",
    "\n",
    "</div>\n",
    "</details>"
   ]
  },
  {
   "cell_type": "markdown",
   "metadata": {},
   "source": [
    "### Rescritura de la ecuación asumiendo un perfil de temperatura lineal"
   ]
  },
  {
   "cell_type": "markdown",
   "metadata": {},
   "source": [
    "Efectuando una aproximación de los gradientes de temperatura mediante un perfil lineal de temperatura, y dividiendo la ecuación entre $\\Delta t$, se obtiene:\n",
    "\n",
    "$$\n",
    " \\frac{\\rho c V}{\\Delta t} \\left(T_P - T_P^0 \\right)\n",
    "=\n",
    "$$\n",
    "\n",
    "$$\n",
    "f \\lambda_e A_e  \\frac{(T_E - T_P)}{(\\delta x)_e} + \\left( 1 - f \\right) \\lambda_e A_e \\frac{(T_E^0 - T_P^0)}{(\\delta x)_e}\n",
    "+ f \\lambda_w A_w \\frac{(T_W - T_P)}{(\\delta x)_w} - \\left( 1 - f \\right) \\lambda_w A_w \\frac{(T_W^0 - T_P^0)}{(\\delta x)_w} \n",
    "$$\n",
    "\n",
    "$$\n",
    "+ f \\left( S_C + S_P T_P \\right) V + (1 - f) \\left( S_C^0 + S_P^0 T_P^0 \\right) V\n",
    "$$"
   ]
  },
  {
   "cell_type": "markdown",
   "metadata": {},
   "source": [
    "<div class=\"alert alert-danger\">\n",
    "\n",
    "**¡La ecuación discretizada no es exacta!**\n",
    "\n",
    "Es importante notar que la ecuacion discretizada no es exacta debido a la aproximación hecha al asumir que $T$ varia de forma lineal entre los nodos.\n",
    "\n",
    "</div>"
   ]
  },
  {
   "cell_type": "markdown",
   "metadata": {},
   "source": [
    "## Obtención de ecuaciones algebraicas para cada volumen de control"
   ]
  },
  {
   "cell_type": "markdown",
   "metadata": {},
   "source": [
    "### Ecuación básica (con término fuente linealizado)"
   ]
  },
  {
   "cell_type": "markdown",
   "metadata": {},
   "source": [
    "La ecuación discretizada se reescribe agrupando términos:\n",
    "\n",
    "$$\n",
    " \\frac{\\rho c V}{\\Delta t} \\left(T_P - T_P^0 \\right)\n",
    "=\n",
    "$$\n",
    "\n",
    "$$\n",
    "f \\lambda_e A_e  \\frac{(T_E - T_P)}{(\\delta x)_e} + \\left( 1 - f \\right) \\lambda_e A_e \\frac{(T_E^0 - T_P^0)}{(\\delta x)_e}\n",
    "+ f \\lambda_w A_w \\frac{(T_W - T_P)}{(\\delta x)_w} + \\left( 1 - f \\right) \\lambda_w A_w \\frac{(T_W^0 - T_P^0)}{(\\delta x)_w} \n",
    "$$\n",
    "\n",
    "$$\n",
    "+ f \\left( S_C + S_P T_P \\right) V + (1 - f) \\left( S_C^0 + S_P^0 T_P^0 \\right) V\n",
    "$$"
   ]
  },
  {
   "cell_type": "markdown",
   "metadata": {},
   "source": [
    "Que con notación reducida se escribe:"
   ]
  },
  {
   "cell_type": "markdown",
   "metadata": {},
   "source": [
    "$$a_P T_P = a_E \\left( f T_E + (1-f) T_E^0\\right) + a_W \\left( f T_W + (1-f) T_W^0\\right) + b$$"
   ]
  },
  {
   "cell_type": "markdown",
   "metadata": {},
   "source": [
    "<details>\n",
    "<summary><b>Derivación</b></summary>\n",
    "\n",
    "<div class=\"alert alert-success\">\n",
    "\n",
    "**Demostración de la obtención de la ecuación algebraica**\n",
    "\n",
    "La ecuación discretizada inicial es de la forma:\n",
    "\n",
    "$$\n",
    "\\frac{\\rho c V}{\\Delta t} \\left(T_P - T_P^0 \\right)\n",
    "=\n",
    "$$\n",
    "\n",
    "$$\n",
    "f \\lambda_e A_e  \\frac{(T_E - T_P)}{(\\delta x)_e} + \\left( 1 - f \\right) \\lambda_e A_e \\frac{(T_E^0 - T_P^0)}{(\\delta x)_e}\n",
    "+ f \\lambda_w A_w \\frac{(T_W - T_P)}{(\\delta x)_w} - \\left( 1 - f \\right) \\lambda_w A_w \\frac{(T_W^0 - T_P^0)}{(\\delta x)_w} \n",
    "$$\n",
    "\n",
    "$$\n",
    "+ f \\left( S_C + S_P T_P \\right) V + (1 - f) \\left( S_C^0 + S_P^0 T_P^0 \\right) V\n",
    "$$\n",
    " \n",
    "Expandiendo la ecuación discretizada:\n",
    "\n",
    "$$\n",
    "\\frac{\\rho c V}{\\Delta t} T_P - \\frac{\\rho c V}{\\Delta t} T_P^0 = \n",
    "$$\n",
    "\n",
    "$$\n",
    "f \\lambda_e A_e  \\frac{T_E}{(\\delta x)_e} - f \\lambda_e A_e  \\frac{T_P}{(\\delta x)_e}\n",
    "+ f \\lambda_w A_w  \\frac{T_W}{(\\delta x)_w} - f \\lambda_w A_w  \\frac{T_P}{(\\delta x)_w}\n",
    "$$\n",
    "\n",
    "$$\n",
    "+ (1-f) \\lambda_e A_e  \\frac{T_E^0}{(\\delta x)_e} - (1-f) \\lambda_e A_e  \\frac{T_P^0}{(\\delta x)_e}\n",
    "+ (1-f) \\lambda_w A_w  \\frac{T_W^0}{(\\delta x)_w} - (1-f) \\lambda_w A_w  \\frac{T_P^0}{(\\delta x)_w}\n",
    "$$\n",
    "\n",
    "$$\n",
    "+ f S_C V + f S_P T_P V + (1-f) S_C^0 V + (1-f) S_P^0 T_P^0 V\n",
    "$$\n",
    "\n",
    "Agrupando términos:\n",
    "\n",
    "$$\n",
    "\\left( \\frac{\\rho c V}{\\Delta t} + f\\frac{\\lambda_e A_e}{(dx)_e} + f\\frac{\\lambda_w A_w}{(dx)_w} - f S_P V  \\right) T_P = \n",
    "$$\n",
    "\n",
    "$$\n",
    "\\frac{\\lambda_e A_e}{(dx)_e} \\left(f T_E + (1-f) T_E^0 \\right)\n",
    "+ \\frac{\\lambda_w A_w}{(dx)_w} \\left(f T_W + (1-f) T_W^0 \\right)\n",
    "$$\n",
    "\n",
    "$$\n",
    "\\left( \\frac{\\rho c V}{\\Delta t}\n",
    "- (1-f) \\frac{\\lambda_e A_e}{(\\delta x)_e}\n",
    "- (1-f) \\frac{\\lambda_w A_w}{(\\delta x)_w}\n",
    "+ (1-f) S_P^0 V \\right) T_P^0\n",
    "+ f S_C V + (1-f) S_C^0 V\n",
    "$$\n",
    "\n",
    "Realizando cambio de notación en los coeficientes:\n",
    "\n",
    "$$\n",
    "\\left(a_P^0 + f a_E + f a_W - f S_P V \\right) T_P =\n",
    "$$\n",
    "\n",
    "$$\n",
    "a_E \\left(f T_E + (1-f) T_E^0 \\right) + a_W \\left(f T_W + (1-f) T_W^0 \\right)\n",
    "$$\n",
    "\n",
    "$$\n",
    "\\left( a_P^0 - (1-f) a_E - (1-f) a_W + (1-f) S_P^0 V \\right) T_P^0\n",
    "+ f S_C V + (1-f) S_C^0 V\n",
    "$$\n",
    "\n",
    "Quedando finalmente: \n",
    "\n",
    "$$a_P T_P = a_E \\left( f T_E + (1-f) T_E^0\\right) + a_W \\left( f T_W + (1-f) T_W^0\\right) + b$$\n",
    "\n",
    "</div>\n",
    "</details>"
   ]
  },
  {
   "cell_type": "markdown",
   "metadata": {},
   "source": [
    "<details>\n",
    "<summary><b>Nomenclatura</b></summary>\n",
    "\n",
    "<div class=\"alert alert-info\">\n",
    "\n",
    "$$a_P^0 =  \\frac{\\rho c V}{\\Delta t}$$\n",
    "\n",
    "$$a_E = \\frac{\\lambda_e A_e}{(dx)_e}$$\n",
    "\n",
    "$$a_W = \\frac{\\lambda_w A_w}{(dx)_w}$$\n",
    "\n",
    "$$a_P = a_P^0 + f a_E + f a_W - f S_P V$$\n",
    "\n",
    "$$b = \\left( a_P^0 - (1-f) a_E - (1-f) a_W + (1-f) S_P^0 V \\right) T_P^0 + f S_C  V + (1-f) S_C^0  V$$\n",
    "\n",
    "</div>\n",
    "\n",
    "</details>"
   ]
  },
  {
   "cell_type": "markdown",
   "metadata": {},
   "source": [
    "#### Observaciones"
   ]
  },
  {
   "cell_type": "markdown",
   "metadata": {},
   "source": [
    "1. Forma estándar de la ecuación algebraica: \n",
    "\n",
    "$$a_P T_P = \\sum_N a_{N} \\left( f T_{N} + (1-f) T_{N}^0 \\right) + b$$\n",
    "\n",
    "2. La integración se efectúa asumiendo que el valor del flujo de calor $\\mathbf{q}$ puede ser interpolado entre el tiempo actual y el tiempo previo utilizando un factor $f$, de tal forma que $0 \\le f \\le 1$.\n",
    "\n",
    "3. El gradiente de temperatura se evaluó empleando un perfil lineal de $T(x)$ entre los centroides de los volúmenes de control, pero se pueden seleccionar otras funciones.\n",
    "\n",
    "$$\\frac{dT}{dx} = \\frac{T_N - T_P}{(\\delta_x)}$$\n",
    "\n",
    "4. El termino fuente $S$ se evaluó usando un perfil constante sobre cada volumen de control, y efectuando una linealización del mismo. \n",
    "\n",
    "$$\\int_{V} S dV = \\left(S_C + S_P T_P \\right) V$$\n",
    "\n",
    "4. Asimismo, es necesario interpolar la conductividad térmica en las caras de los volúmenes de control, $\\lambda_w$ y $\\lambda_e$.  No se utiliza un perfil líneal de $\\lambda_x$.\n",
    "\n",
    "$$\\lambda_e = f\\left(\\lambda_P, \\lambda_E, (\\delta x)_e \\right)$$\n",
    "\n",
    "$$\\lambda_w = f\\left(\\lambda_P, \\lambda_W, (\\delta x)_w \\right)$$\n",
    "\n",
    "5. Se enfatiza la posibilidad de usar distintos perfiles para cada termino de una ecuación diferencial.\n",
    "\n",
    "6. Los criterios de selección de perfiles son:\n",
    "\n",
    "    - Obtener un comportamiento físicamente realista\n",
    "    - la conservación del balance global."
   ]
  },
  {
   "cell_type": "markdown",
   "metadata": {},
   "source": [
    "### Ecuaciones para el esquema explicito,  **$f = 0$**:"
   ]
  },
  {
   "cell_type": "markdown",
   "metadata": {},
   "source": [
    "$$\n",
    "a_P T_P = a_E T_E^0 + a_W T_W^0 + b\n",
    "$$"
   ]
  },
  {
   "cell_type": "markdown",
   "metadata": {},
   "source": [
    "<details>\n",
    "<summary><b>Nomenclatura</b></summary>\n",
    "\n",
    "<div class=\"alert alert-info\">\n",
    "\n",
    "$$a_P^0 =  \\frac{\\rho c V}{\\Delta t}$$\n",
    "\n",
    "$$a_E = \\frac{\\lambda_e A_e}{(dx)_e}$$\n",
    "\n",
    "$$a_W = \\frac{\\lambda_w A_w}{(dx)_w}$$\n",
    "\n",
    "$$a_P = a_P^0$$\n",
    "\n",
    "$$b = \\left( a_P^0 - a_E - a_W + S_P^0 V \\right) T_P^0 +  S_C^0  V$$\n",
    "\n",
    "</div>\n",
    "\n",
    "</details>"
   ]
  },
  {
   "cell_type": "markdown",
   "metadata": {},
   "source": [
    "### Ecuaciones para el esquema implícito, **$f=1$**:"
   ]
  },
  {
   "cell_type": "markdown",
   "metadata": {},
   "source": [
    "$$\n",
    "a_P T_P = a_E T_E + A_W T_W + b\n",
    "$$"
   ]
  },
  {
   "cell_type": "markdown",
   "metadata": {},
   "source": [
    "<details>\n",
    "<summary><b>Nomenclatura</b></summary>\n",
    "\n",
    "<div class=\"alert alert-info\">\n",
    "\n",
    "$$a_P^0 =  \\frac{\\rho c V}{\\Delta t}$$\n",
    "\n",
    "$$a_E = \\frac{\\lambda_e A_e}{(dx)_e}$$\n",
    "\n",
    "$$a_W = \\frac{\\lambda_w A_w}{(dx)_w}$$\n",
    "\n",
    "$$a_P = a_P^0 + a_E + a_W - S_P  V$$\n",
    "\n",
    "$$b = a_P^0 T_P^0 +  S_C  V $$\n",
    "\n",
    "</div>\n",
    "\n",
    "</details>"
   ]
  },
  {
   "cell_type": "markdown",
   "metadata": {},
   "source": [
    "### Ecuaciones para el esquema Crank-Nicolson, **$f=\\frac{1}{2}$**"
   ]
  },
  {
   "cell_type": "markdown",
   "metadata": {},
   "source": [
    "$$\n",
    "a_P T_P = \n",
    "a_E \\left(\\frac{1}{2} T_E + \\frac{1}{2} T_E^0 \\right)\n",
    "+ a_W \\left(\\frac{1}{2} T_W + \\frac{1}{2} T_W^0 \\right)\n",
    "+ b\n",
    "$$"
   ]
  },
  {
   "cell_type": "markdown",
   "metadata": {},
   "source": [
    "<details>\n",
    "<summary><b>Nomenclatura</b></summary>\n",
    "\n",
    "<div class=\"alert alert-info\">\n",
    "\n",
    "$$a_P^0 =  \\frac{\\rho c V}{\\Delta t}$$\n",
    "\n",
    "$$a_E = \\frac{\\lambda_e A_e}{(dx)_e}$$\n",
    "\n",
    "$$a_W = \\frac{\\lambda_w A_w}{(dx)_w}$$\n",
    "\n",
    "$$a_P = a_P^0 + \\frac{1}{2} a_E + \\frac{1}{2} a_W - \\frac{1}{2} S_P V$$\n",
    "\n",
    "$$b = \\left( a_P^0 - \\frac{1}{2} a_E - \\frac{1}{2} a_W + \\frac{1}{2} S_P^0 V \\right) T_P^0 + \\frac{1}{2} S_C  V + \\frac{1}{2} S_C^0  V$$\n",
    "\n",
    "</div>\n",
    "\n",
    "</details>"
   ]
  },
  {
   "cell_type": "markdown",
   "metadata": {},
   "source": [
    "## Condiciones a la frontera"
   ]
  },
  {
   "cell_type": "markdown",
   "metadata": {},
   "source": [
    "Considerando el volumen de control en la frontera que se muestra en la Figura debajo:"
   ]
  },
  {
   "cell_type": "markdown",
   "metadata": {},
   "source": [
    "<center>\n",
    "\n",
    "<img src=\"figures/images/discretization1DStencil_Boundary_py.png\" style=\"width:400px\" title=\"Discretización frontera\">\n",
    "\n",
    "***Figura 03. Discretización espacial del volumen de control en la frontera, en coordenadas cartesianas 1D.***\n",
    "\n",
    "</center>"
   ]
  },
  {
   "cell_type": "markdown",
   "metadata": {},
   "source": [
    "<details>\n",
    "<summary><b>Pie de Figura</b></summary>\n",
    "\n",
    "<div class=\"alert alert-info\">\n",
    "\n",
    "El esquema presenta dos nodos de celda posicionados sobre el eje x, $P$ y $E$. Cada uno representa una posicion geometrica dentro de un volumen de control individual; i.e., en el esquema se muestan los nodos de dos volumenes de control.\n",
    "\t\n",
    "El nodo $P$ corresponde a la celda del volumen de control en la frontera del dominio computacional.\n",
    "\t\n",
    "Los nodos de superficie, $b$ y $e$, indican a las posiciones de la frontera del dominio de calculo, y de la cara adyacente entre los volumenes de control $P$ y $E$, respectivamente.\n",
    "\t\n",
    "La distancia entre los nodos $b$ y $P$, y los nodos $P$ y $E$, esta dada por  $(\\delta x)_b$, y $(\\delta x)_e$, respectivamente.\n",
    "\t\n",
    "\t\n",
    "Las superficies estan dadas por $A_b$, y $A_e$, respectivamente. Las flechas rojas representan vectores normales a la superficie de las caras.\n",
    "\t\n",
    "- La distancia entre los nodos de superficie $b$ y $e$, esta data por $\\Delta x$.\n",
    "\t\n",
    "- La posicion del nodo de superficie $e$, no necesariamente esta a media distancia entre los nodos de celda correspondientes.\n",
    "\n",
    "</div>\n",
    "\n",
    "</details>"
   ]
  },
  {
   "cell_type": "markdown",
   "metadata": {},
   "source": [
    "La ecuación integrada sobre el volúmen de control en la frontera se escribe:\n",
    "\n",
    "$$\n",
    "\\frac{\\rho c V}{\\Delta t} (T_P - T_P^0) = \n",
    "- \\sum_{\\mathbf{f=e, b}} \\left[ f (\\mathbf{q_f \\cdot A_f}) + (1-f)(\\mathbf{q_f^0 \\cdot A_f})\\right]\n",
    "$$\n",
    "\n",
    "$$\n",
    "+ f \\left( S_C + S_P T_P \\right) V + (1 - f) \\left( S_C^0 + S_P^0 T_P^0 \\right) V\n",
    "$$"
   ]
  },
  {
   "cell_type": "markdown",
   "metadata": {},
   "source": [
    "Desarrolando los flujos de calor en las caras:\n",
    "\n",
    "\n",
    "$$\n",
    "\\frac{\\rho c V}{\\Delta t} (T_P - T_P^0) = \n",
    "- \\left[ f (\\mathbf{q_b \\cdot A_b}) + (1-f) (\\mathbf{q_b^0 \\cdot A_b})\\right]\n",
    "- \\left[ f (\\mathbf{q_e \\cdot A_e}) + (1-f) (\\mathbf{q_e^0 \\cdot A_e})\\right]\n",
    "$$\n",
    "\n",
    "$$\n",
    "+ f \\left( S_C + S_P T_P \\right) V + (1 - f) \\left( S_C^0 + S_P^0 T_P^0 \\right) V\n",
    "$$"
   ]
  },
  {
   "cell_type": "markdown",
   "metadata": {},
   "source": [
    "Sustituyendo en el flujo de calor en frontera, $\\mathbf{q_b \\cdot A_b}$, el vector de flujo de calor, y asumiendo que el perfil de temperatura entre $b$ y $P$ es lineal, se obtiene:"
   ]
  },
  {
   "cell_type": "markdown",
   "metadata": {},
   "source": [
    "$$-\\mathbf{q_b \\cdot A_b} = \n",
    "\\left( \\lambda_b \\mathbf{\\nabla} T_b \\right) \\mathbf{\\cdot A_b}$$\n",
    "\n",
    "$$-\\mathbf{q_b \\cdot A_b} = \n",
    "\\left(\\lambda_b \\frac{(T_P - T_b)}{(\\delta x)_b}\\right) (-A_b)$$\n",
    "\n",
    "$$\\mathbf{q_b \\cdot A_b} = \n",
    "\\lambda_b A_b \\frac{(T_P - T_b)}{(\\delta x)_b}$$"
   ]
  },
  {
   "cell_type": "markdown",
   "metadata": {},
   "source": [
    "Se le da el mismo tratamiento al flujo de calor en la frontera para el paso tiempo de previo, $\\mathbf{q_f^0 \\cdot A_f}$."
   ]
  },
  {
   "cell_type": "markdown",
   "metadata": {},
   "source": [
    "$$\\mathbf{q_b^0 \\cdot A_b} = \n",
    "\\lambda_b A_b \\frac{(T_P^0 - T_b^0)}{(\\delta x)_b}$$"
   ]
  },
  {
   "cell_type": "markdown",
   "metadata": {},
   "source": [
    "Dependiendo del tipo de condición a la frontera, se especifica: \n",
    "\n",
    "- El valor de temperatura en la frontera, $T_b$.\n",
    "\n",
    "- El flujo de calor en la frontera, $\\mathbf{q_b \\cdot A_b}$."
   ]
  },
  {
   "cell_type": "markdown",
   "metadata": {},
   "source": [
    "<details>\n",
    "<summary><b>Operador Nabla</b></summary>\n",
    "\n",
    "<div class=\"alert alert-info\">\n",
    "\n",
    "**Operador Nabla, $\\nabla$:**\n",
    "\n",
    "En coordenadas cartesianas, el operador $\\nabla$ (gradiente) para el eje x esta dado por:\n",
    "\t\n",
    "$$\\mathbf{\\nabla} = \\frac{\\partial}{\\partial x} \\mathbf{i}$$\n",
    "\t\n",
    "donde $i$ es un vector unitario en la dirección del eje x.\n",
    "\n",
    "</div>\n",
    "\n",
    "</details>"
   ]
  },
  {
   "cell_type": "markdown",
   "metadata": {},
   "source": [
    "<details>\n",
    "<summary><b>Vectores de Area</b></summary>\n",
    "\n",
    "<div class=\"alert alert-info\">\n",
    "\n",
    "**Vectores de area de caras entre celdas adyacentes, $\\mathbf{A_f}$:**\n",
    "\n",
    "Los vectores del área de las caras entre celdas adyacentes están dados por:\n",
    "\t\n",
    "$$\\mathbf{A_e} = A_e \\, (\\mathbf{i})$$\n",
    "\n",
    "$$\\mathbf{A_w} = A_w \\, (-\\mathbf{i})$$\n",
    "\n",
    "donde $\\mathbf{i}$ es un vector unitario en la dirección del eje x.\n",
    "\n",
    "</div>\n",
    "</details>"
   ]
  },
  {
   "cell_type": "markdown",
   "metadata": {},
   "source": [
    "<details>\n",
    "<summary><b>Gradientes de temperatura</b></summary>\n",
    "\n",
    "<div class=\"alert alert-info\">\n",
    "\n",
    "**Escritura de los gradientes de temperatura:**\n",
    "\n",
    "De forma general, al considerar perfiles lineales de temperatura, los gradientes se aproximan como:\n",
    "\n",
    "$$\n",
    "\\left(\\frac{dT}{dx}\\right)_f \\approx \\left. \\frac{\\Delta T}{\\Delta x}\\right|_f\n",
    "$$\n",
    "\n",
    "Tomando como referencia la Figura 03 (reproducida debajo), se tiene que los vectores de área apuntan en dirección hacia afuera del volumen de control.\n",
    "\n",
    "<center>\n",
    "<img src=\"figures/images/discretization1DStencil_Boundary_py.png\" style=\"width:400px\" title=\"Discretización frontera\">\n",
    "</center>\n",
    "\n",
    "**Se utiliza la misma convención para especificar la dirección de los gradientes, entonces:**\n",
    "\n",
    "El gradiente en la cara de la frontera se escribe:\n",
    "\n",
    "$$\n",
    "\\left(\\frac{dT}{dx}\\right)_v \\approx \\frac{T_b - T_P}{\\overline{Pb}} = \\frac{T_b - T_P}{-(d_x)_b}\n",
    "$$\n",
    "\n",
    "$$\n",
    "\\overline{Pb} < 0\n",
    "$$\n",
    "\n",
    "El gradiente en la cara este se escribe:\n",
    "\n",
    "$$\n",
    "\\left(\\frac{dT}{dx}\\right)_e \\approx \\frac{T_E - T_P}{\\overline{PE}} = \\frac{T_E - T_P}{+(d_x)_e}\n",
    "$$\n",
    "\n",
    "$$\n",
    "\\overline{PE} > 0\n",
    "$$\n",
    "\n",
    "</div>\n",
    "</details>"
   ]
  },
  {
   "cell_type": "markdown",
   "metadata": {},
   "source": [
    "### Condición tipo Dirichlet"
   ]
  },
  {
   "cell_type": "markdown",
   "metadata": {},
   "source": [
    "En la condición de frontera de tipo Dirichlet se impone la temperatura en la frontera; i.e., la condición a la frontera esta dada por:\n",
    "\n",
    "$$T_b = T_{bound}$$\n",
    "\n",
    "donde $T_{bound}$ es una temperatura constante."
   ]
  },
  {
   "cell_type": "markdown",
   "metadata": {},
   "source": [
    "De tal forma que el flujo de calor en la frontera esta dado por:\n",
    "\n",
    "$$-\\mathbf{q_b \\cdot} \\mathbf{A}_b = \n",
    "\\lambda_b A_b \\frac{(T_{b} - T_P)}{(\\delta x)_b}$$"
   ]
  },
  {
   "cell_type": "markdown",
   "metadata": {},
   "source": [
    "Y la ecuacion discretizada en la frontera esta dada por:\n",
    "\n",
    "$$\n",
    " \\frac{\\rho c V}{\\Delta t} \\left(T_P - T_P^0 \\right)\n",
    "=\n",
    "$$\n",
    "\n",
    "$$\n",
    "f \\lambda_e A_e  \\frac{(T_E - T_P)}{(\\delta x)_e} + \\left( 1 - f \\right) \\lambda_e A_e \\frac{(T_E^0 - T_P^0)}{(\\delta x)_e}\n",
    "$$\n",
    "\n",
    "$$\n",
    "+ f \\lambda_b A_b \\frac{(T_b - T_P)}{(\\delta x)_b} + \\left( 1 - f \\right) \\lambda_b A_b \\frac{(T_b^0 - T_P^0)}{(\\delta x)_b} \n",
    "$$\n",
    "\n",
    "$$\n",
    "+ f \\left( S_C + S_P T_P \\right) V + (1 - f) \\left( S_C^0 + S_P^0 T_P^0 \\right) V\n",
    "$$"
   ]
  },
  {
   "cell_type": "markdown",
   "metadata": {},
   "source": [
    "Que con notación reducida se escribe:"
   ]
  },
  {
   "cell_type": "markdown",
   "metadata": {},
   "source": [
    "$$\n",
    "a_P T_P = a_E \\left( f T_E + (1-f) T_E^0\\right) + b\n",
    "$$"
   ]
  },
  {
   "cell_type": "markdown",
   "metadata": {},
   "source": [
    "<details>\n",
    "<summary><b>Derivación</b></summary>\n",
    "\n",
    "<div class=\"alert alert-success\">\n",
    "\n",
    "**Demostración de obtención de ecuación para condición a la frontera tipo Dirichlet**\n",
    "\n",
    " Considerando la ecuacion discretizada en el volumen de control en la frontera:\n",
    "\n",
    "$$\n",
    " \\frac{\\rho c V}{\\Delta t} \\left(T_P - T_P^0 \\right)\n",
    "=\n",
    "$$\n",
    "\n",
    "$$\n",
    "f \\lambda_e A_e  \\frac{(T_E - T_P)}{(\\delta x)_e} + \\left( 1 - f \\right) \\lambda_e A_e \\frac{(T_E^0 - T_P^0)}{(\\delta x)_e}\n",
    "+ f \\lambda_b A_b \\frac{(T_b - T_P)}{(\\delta x)_b} + \\left( 1 - f \\right) \\lambda_b A_b \\frac{(T_b^0 - T_P^0)}{(\\delta x)_b} \n",
    "$$\n",
    "\n",
    "$$\n",
    "+ f \\left( S_C + S_P T_P \\right) V + (1 - f) \\left( S_C^0 + S_P^0 T_P^0 \\right) V\n",
    "$$\n",
    "\n",
    " Expandiendo: \n",
    "\n",
    "$$\n",
    " \\frac{\\rho c V}{\\Delta t} T_P - \\frac{\\rho c V}{\\Delta t} T_P^0\n",
    "=\n",
    "$$\n",
    "\n",
    "$$\n",
    "f   \\frac{\\lambda_e A_e}{(\\delta x)_e} T_E - f   \\frac{\\lambda_e A_e}{(\\delta x)_e} T_P\n",
    "+ (1-f) \\frac{\\lambda_e A_e}{(\\delta x)_e} T_E^0 - (1-f)  \\frac{\\lambda_e A_e}{(\\delta x)_e} T_P^0\n",
    "$$\n",
    "\n",
    "$$\n",
    "+ f \\frac{\\lambda_b A_b}{(\\delta x)_b} T_b - f \\frac{\\lambda_b A_b}{(\\delta x)_b} T_P\n",
    "+ (1-f) \\frac{\\lambda_b A_b}{(\\delta x)_b} T_b^0 - (1-f) \\frac{\\lambda_b A_b}{(\\delta x)_b} T_P^0\n",
    "$$\n",
    "\n",
    "$$\n",
    "+ f S_C V + f S_P V T_P + (1-f) S_C^0 V + (1-f) S_P^0 V T_P^0\n",
    "$$\n",
    "\n",
    "Agrupando términos:\n",
    "\n",
    "$$\n",
    "\\left(\\frac{\\rho c V}{\\Delta t}\n",
    "+ f \\frac{\\lambda_e A_e}{(\\delta x)_e}\n",
    "+ f \\frac{\\lambda_b A_b}{(\\delta x)_b}\n",
    "- f S_P V \\right) T_P =\n",
    "$$\n",
    "\n",
    "$$\n",
    "\\frac{\\lambda_e A_e}{(dx)_e} \\left(f T_E + (1-f) T_E^0 \\right)\n",
    "+ \\frac{\\lambda_b A_b}{(dx)_b} \\left(f T_b + (1-f) T_b^0 \\right)\n",
    "$$\n",
    "\n",
    "$$\n",
    "\\left( \\frac{\\rho c V}{\\Delta t}\n",
    "- (1-f) \\frac{\\lambda_e A_e}{(\\delta x)_e}\n",
    "- (1-f) \\frac{\\lambda_b A_b}{(\\delta x)_b}\n",
    "+ (1-f) S_P^0 V \\right) T_P^0\n",
    "+ f S_C V + (1-f) S_C^0 V\n",
    "$$\n",
    "\n",
    " Realizando un cambio de notación en los coeficientes:\n",
    "\n",
    "$$\n",
    " \\left( a_P^0 + f a_E + f a_B - f S_P V \\right) T_P = a_E \\left(f T_E + (1-f) T_E^0 \\right) \n",
    "$$\n",
    "\n",
    " $$\n",
    "+ \\left( a_P^0\n",
    "- (1-f) a_E\n",
    "- (1-f) a_B\n",
    "+ (1-f) S_P^0 V \\right) T_P^0\n",
    "+ a_B \\left(f T_b + (1-f) T_b^0 \\right)\n",
    "+ f S_C V + (1-f) S_C^0 V\n",
    "$$\n",
    "\n",
    "Finalmente: \n",
    "\n",
    "$$a_P T_P = a_E \\left(f T_E + (1-f) T_E^0 \\right)  + b$$\n",
    "\n",
    "</div>\n",
    "</details>"
   ]
  },
  {
   "cell_type": "markdown",
   "metadata": {},
   "source": [
    "<details>\n",
    "<summary><b>Nomenclatura</b></summary>\n",
    "\n",
    "<div class=\"alert alert-info\">\n",
    "\n",
    "$$a_P^0 =  \\frac{\\rho c V}{\\Delta t}$$\n",
    "\n",
    "$$a_E = \\frac{\\lambda_e A_e}{(dx)_e}$$\n",
    "\n",
    "$$a_B = \\frac{\\lambda_b A_b}{(dx)_b}$$\n",
    "\n",
    "$$a_P = a_P^0 + f a_E + f a_B - f S_P V$$\n",
    "\n",
    "$$\n",
    "b = \\left( a_P^0\n",
    "- (1-f) a_E\n",
    "- (1-f) a_B\n",
    "+ (1-f) S_P^0 V \\right) T_P^0\n",
    "+ a_B \\left(f T_b + (1-f) T_b^0 \\right)\n",
    "+ f S_C V + (1-f) S_C^0 V\n",
    "$$\n",
    "\n",
    "</div>\n",
    "\n",
    "</details>"
   ]
  },
  {
   "cell_type": "markdown",
   "metadata": {},
   "source": [
    "#### Ecuaciones para el esquema explícito, **$f=0$**"
   ]
  },
  {
   "cell_type": "markdown",
   "metadata": {},
   "source": [
    "$$\n",
    "a_P T_P = a_E T_E^0 + b\n",
    "$$"
   ]
  },
  {
   "cell_type": "markdown",
   "metadata": {},
   "source": [
    "<details>\n",
    "<summary><b>Nomenclatura</b></summary>\n",
    "\n",
    "<div class=\"alert alert-info\">\n",
    "\n",
    "$$a_P^0 =  \\frac{\\rho c V}{\\Delta t}$$\n",
    "\n",
    "$$a_E = \\frac{\\lambda_e A_e}{(dx)_e}$$\n",
    "\n",
    "$$a_B = \\frac{\\lambda_b A_b}{(dx)_b}$$\n",
    "\n",
    "$$a_P = a_P^0$$\n",
    "\n",
    "$$\n",
    "b = \\left( a_P^0\n",
    "- a_E\n",
    "- a_B\n",
    "+ S_P^0 V \\right) T_P^0\n",
    "+ a_B  T_b^0\n",
    "+ S_C^0 V\n",
    "$$\n",
    "\n",
    "</div>\n",
    "\n",
    "</details>"
   ]
  },
  {
   "cell_type": "markdown",
   "metadata": {},
   "source": [
    "#### Ecuaciones para el esquema implícito, **$f=1$**"
   ]
  },
  {
   "cell_type": "markdown",
   "metadata": {},
   "source": [
    "$$\n",
    "a_P T_P = a_E T_E + b\n",
    "$$"
   ]
  },
  {
   "cell_type": "markdown",
   "metadata": {},
   "source": [
    "<details>\n",
    "<summary><b>Nomenclatura</b></summary>\n",
    "\n",
    "<div class=\"alert alert-info\">\n",
    "\n",
    "$$a_P^0 =  \\frac{\\rho c V}{\\Delta t}$$\n",
    "\n",
    "$$a_E = \\frac{\\lambda_e A_e}{(dx)_e}$$\n",
    "\n",
    "$$a_B = \\frac{\\lambda_b A_b}{(dx)_b}$$\n",
    "\n",
    "$$a_P = a_P^0 + a_E + a_B - S_P V$$\n",
    "\n",
    "$$\n",
    "b = a_P^0 T_P^0\n",
    "+ a_B  T_b\n",
    "+ S_C V\n",
    "$$\n",
    "\n",
    "</div>\n",
    "\n",
    "</details>"
   ]
  },
  {
   "cell_type": "markdown",
   "metadata": {},
   "source": [
    "#### Ecuaciones para el esquema Crank-Nicolson, **$f=\\frac{1}{2}$**"
   ]
  },
  {
   "cell_type": "markdown",
   "metadata": {},
   "source": [
    "$$\n",
    "a_P T_P = a_E \\left(\\frac{1}{2} T_E + \\frac{1}{2} T_E^0\\right) + b\n",
    "$$"
   ]
  },
  {
   "cell_type": "markdown",
   "metadata": {},
   "source": [
    "<details>\n",
    "<summary><b>Nomenclatura</b></summary>\n",
    "\n",
    "<div class=\"alert alert-info\">\n",
    "\n",
    "$$a_P^0 =  \\frac{\\rho c V}{\\Delta t}$$\n",
    "\n",
    "$$a_E = \\frac{\\lambda_e A_e}{(dx)_e}$$\n",
    "\n",
    "$$a_B = \\frac{\\lambda_b A_b}{(dx)_b}$$\n",
    "\n",
    "$$a_P = a_P^0 + \\frac{1}{2} a_E + \\frac{1}{2} a_B - \\frac{1}{2} S_P V$$\n",
    "\n",
    "$$\n",
    "b = \\left( a_P^0\n",
    "- \\frac{1}{2} a_E\n",
    "- \\frac{1}{2} a_B\n",
    "+ \\frac{1}{2} S_P^0 V \\right) T_P^0\n",
    "+ a_B \\left(\\frac{1}{2} T_b + \\frac{1}{2} T_b^0 \\right)\n",
    "+ \\frac{1}{2} S_C V + \\frac{1}{2} S_C^0 V\n",
    "$$\n",
    "\n",
    "</div>\n",
    "\n",
    "</details>"
   ]
  },
  {
   "cell_type": "markdown",
   "metadata": {},
   "source": [
    "### Condición tipo Neumann"
   ]
  },
  {
   "cell_type": "markdown",
   "metadata": {},
   "source": [
    "En la condición de frontera de tipo Neumann se da el gradiente de $T$ en la dirección normal a la frontera:\n",
    "\n",
    "$$-\\left( \\lambda \\mathbf{\\nabla} T\\right)_b \\mathbf{\\cdot i} = q_{bound}$$"
   ]
  },
  {
   "cell_type": "markdown",
   "metadata": {},
   "source": [
    "Que es equivalente a especificar el flujo de calor en la frontera:\n",
    "\n",
    "$$-\\mathbf{q_b \\cdot A_b} = q_{b} A_b$$"
   ]
  },
  {
   "cell_type": "markdown",
   "metadata": {},
   "source": [
    "Este termino se puede incluir directamente en la ecuación discretizada. De tal forma que la ecuación discretizada en la frontera esta dada por:\n",
    "\n",
    "$$\n",
    " \\frac{\\rho c V}{\\Delta t} \\left(T_P - T_P^0 \\right)\n",
    "=\n",
    "$$\n",
    "\n",
    "$$\n",
    "f \\lambda_e A_e  \\frac{(T_E - T_P)}{(\\delta x)_e} + \\left( 1 - f \\right) \\lambda_e A_e \\frac{(T_E^0 - T_P^0)}{(\\delta x)_e}\n",
    "+ f q_b A_b + \\left( 1 - f \\right) q_b^0 A_b\n",
    "$$\n",
    "\n",
    "$$\n",
    "+ f \\left( S_C + S_P T_P \\right) V + (1 - f) \\left( S_C^0 + S_P^0 T_P^0 \\right) V\n",
    "$$"
   ]
  },
  {
   "cell_type": "markdown",
   "metadata": {},
   "source": [
    "Con notación reducida se escribe:\n",
    "\n",
    "$$\n",
    "a_P T_P = a_E \\left( f T_E + (1-f) T_E^0\\right) + b\n",
    "$$"
   ]
  },
  {
   "cell_type": "markdown",
   "metadata": {},
   "source": [
    "<details>\n",
    "<summary><b>Derivación</b></summary>\n",
    "\n",
    "<div class=\"alert alert-success\">\n",
    "\n",
    "**Demostración de obtención de ecuación para condición a la frontera tipo Dirichlet**\n",
    "\n",
    " Considerando la ecuacion discretizada en el volumen de control en la frontera:\n",
    "\n",
    "$$\n",
    " \\frac{\\rho c V}{\\Delta t} \\left(T_P - T_P^0 \\right)\n",
    "=\n",
    "$$\n",
    "\n",
    "$$\n",
    "f \\lambda_e A_e  \\frac{(T_E - T_P)}{(\\delta x)_e} + \\left( 1 - f \\right) \\lambda_e A_e \\frac{(T_E^0 - T_P^0)}{(\\delta x)_e}\n",
    "+ f q_b A_b + \\left( 1 - f \\right) q_b^0 A_b\n",
    "$$\n",
    "\n",
    "$$\n",
    "+ f \\left( S_C + S_P T_P \\right) V + (1 - f) \\left( S_C^0 + S_P^0 T_P^0 \\right) V\n",
    "$$\n",
    "\n",
    " Expandiendo: \n",
    "\n",
    "$$\n",
    " \\frac{\\rho c V}{\\Delta t} T_P - \\frac{\\rho c V}{\\Delta t} T_P^0\n",
    "=\n",
    "$$\n",
    "\n",
    "$$\n",
    "f   \\frac{\\lambda_e A_e}{(\\delta x)_e} T_E - f   \\frac{\\lambda_e A_e}{(\\delta x)_e} T_P\n",
    "+ (1-f) \\frac{\\lambda_e A_e}{(\\delta x)_e} T_E^0 - (1-f)  \\frac{\\lambda_e A_e}{(\\delta x)_e} T_P^0\n",
    "$$\n",
    "\n",
    "$$\n",
    "+ f q_b A_b + \\left( 1 - f \\right) q_b^0 A_b\n",
    "$$\n",
    "\n",
    "$$\n",
    "+ f S_C V + f S_P V T_P + (1-f) S_C^0 V + (1-f) S_P^0 V T_P^0\n",
    "$$\n",
    "\n",
    "Agrupando términos:\n",
    "\n",
    "$$\n",
    "\\left(\\frac{\\rho c V}{\\Delta t}\n",
    "+ f \\frac{\\lambda_e A_e}{(\\delta x)_e}\n",
    "- f S_P V \\right) T_P =\n",
    "\\frac{\\lambda_e A_e}{(dx)_e} \\left(f T_E + (1-f) T_E^0 \\right)\n",
    "$$\n",
    "\n",
    "$$\n",
    "\\left( \\frac{\\rho c V}{\\Delta t}\n",
    "- (1-f) \\frac{\\lambda_e A_e}{(\\delta x)_e}\n",
    "+ (1-f) S_P^0 V \\right) T_P^0\n",
    "\\underbrace{+ f q_b A_b + \\left( 1 - f \\right) q_b^0 A_b}_{a_B}\n",
    "+ f S_C V + (1-f) S_C^0 V\n",
    "$$\n",
    "\n",
    " Realizando un cambio de notación en los coeficientes:\n",
    "\n",
    "$$\n",
    " \\left( a_P^0 + f a_E - f S_P V \\right) T_P = a_E \\left(f T_E + (1-f) T_E^0 \\right) \n",
    "$$\n",
    "\n",
    "$$\n",
    "+ \\left( a_P^0\n",
    "- (1-f) a_E\n",
    "+ (1-f) S_P^0 V \\right) T_P^0\n",
    "+ a_B\n",
    "+ f S_C V + (1-f) S_C^0 V\n",
    "$$\n",
    "\n",
    "Finalmente: \n",
    "\n",
    " $$a_P T_P = a_E \\left(f T_E + (1-f) T_E^0 \\right) + b$$\n",
    "\n",
    "</div>\n",
    "</details>"
   ]
  },
  {
   "cell_type": "markdown",
   "metadata": {},
   "source": [
    "<details>\n",
    "<summary><b>Nomenclatura</b></summary>\n",
    "\n",
    "<div class=\"alert alert-info\">\n",
    "\n",
    "$$a_P^0 = \\frac{\\rho c V}{\\Delta t}$$\n",
    "\n",
    "$$a_E = \\frac{\\lambda_e A_e}{(\\delta x)_e}$$\n",
    "\n",
    "$$a_B = f q_{b} A_b + (1-f) q_b^0 A_b$$\n",
    "\n",
    "$$a_P = a_P^0 + f a_E - f S_P V$$\n",
    "\n",
    "$$\n",
    "b = \\left( a_P^0\n",
    "- (1-f) a_E\n",
    "+ (1-f) S_P^0 V \\right) T_P^0\n",
    "+ a_B\n",
    "+ f S_C V + (1-f) S_C^0 V\n",
    "$$\n",
    "\n",
    "\n",
    "</div>\n",
    "\n",
    "</details>"
   ]
  },
  {
   "cell_type": "markdown",
   "metadata": {},
   "source": [
    "<details>\n",
    "<summary><b>Temperatura en la frontera</b></summary>\n",
    "\n",
    "<div class=\"alert alert-info\">\n",
    "\n",
    "**Cálculo de temperatura en la frontera**\n",
    "\n",
    "Una vez que se ha calculado $T_P$, la temperatura en la frontera, $T_b$, se calcula mediante la siguiente ecuación:\n",
    "\t\n",
    "$$T_b = \\frac{q_{bound} + \\left( \\frac{\\lambda_b}{ (\\delta x)_b}\\right) T_P} \n",
    "{\\left( \\frac{\\lambda_b}{(\\delta x)_b}\\right)}$$\n",
    "\n",
    "</div>\n",
    "</summary>"
   ]
  },
  {
   "cell_type": "markdown",
   "metadata": {},
   "source": [
    "#### Ecuaciones para el esquema explícito, **$f=0$**"
   ]
  },
  {
   "cell_type": "markdown",
   "metadata": {},
   "source": [
    "$$\n",
    "a_P T_P = a_E T_E^0 + b\n",
    "$$"
   ]
  },
  {
   "cell_type": "markdown",
   "metadata": {},
   "source": [
    "<details>\n",
    "<summary><b>Nomenclatura</b></summary>\n",
    "\n",
    "<div class=\"alert alert-info\">\n",
    "\n",
    "$$a_P^0 = \\frac{\\rho c V}{\\Delta t}$$\n",
    "\n",
    "$$a_E = \\frac{\\lambda_e A_e}{(\\delta x)_e}$$\n",
    "\n",
    "$$a_B =  q_b^0 A_b$$\n",
    "\n",
    "$$a_P = a_P^0 $$\n",
    "\n",
    "$$\n",
    "b = \\left( a_P^0\n",
    "- a_E\n",
    "+ S_P^0 V \\right) T_P^0\n",
    "+ a_B\n",
    "+ S_C^0 V\n",
    "$$\n",
    "\n",
    "\n",
    "</div>\n",
    "\n",
    "</details>"
   ]
  },
  {
   "cell_type": "markdown",
   "metadata": {},
   "source": [
    "#### Ecuaciones para el esquema implícito, **$f=1$**"
   ]
  },
  {
   "cell_type": "markdown",
   "metadata": {},
   "source": [
    "$$\n",
    "a_P T_P = a_E T_E + b\n",
    "$$"
   ]
  },
  {
   "cell_type": "markdown",
   "metadata": {},
   "source": [
    "<details>\n",
    "<summary><b>Nomenclatura</b></summary>\n",
    "\n",
    "<div class=\"alert alert-info\">\n",
    "\n",
    "$$a_P^0 = \\frac{\\rho c V}{\\Delta t}$$\n",
    "\n",
    "$$a_E = \\frac{\\lambda_e A_e}{(\\delta x)_e}$$\n",
    "\n",
    "$$a_B =  q_{b} A_b $$\n",
    "\n",
    "$$a_P = a_P^0 +  a_E -  S_P V$$\n",
    "\n",
    "$$\n",
    "b =  a_P^0 T_P^0\n",
    "+ a_B\n",
    "+ S_C V\n",
    "$$\n",
    "\n",
    "\n",
    "</div>\n",
    "\n",
    "</details>"
   ]
  },
  {
   "cell_type": "markdown",
   "metadata": {},
   "source": [
    "#### Ecuaciones para el esquema Crank-Nicolson, **$f=\\frac{1}{2}$**"
   ]
  },
  {
   "cell_type": "markdown",
   "metadata": {},
   "source": [
    "$$\n",
    "a_P T_P = a_E \\left(\\frac{1}{2} T_E + \\frac{1}{2} T_E^0\\right) + b\n",
    "$$"
   ]
  },
  {
   "cell_type": "markdown",
   "metadata": {},
   "source": [
    "<details>\n",
    "<summary><b>Nomenclatura</b></summary>\n",
    "\n",
    "<div class=\"alert alert-info\">\n",
    "\n",
    "$$a_P^0 = \\frac{\\rho c V}{\\Delta t}$$\n",
    "\n",
    "$$a_E = \\frac{\\lambda_e A_e}{(\\delta x)_e}$$\n",
    "\n",
    "$$a_B = \\frac{1}{2} q_{b} A_b + \\frac{1}{2} q_b^0 A_b$$\n",
    "\n",
    "$$a_P = a_P^0 + \\frac{1}{2} a_E - \\frac{1}{2} S_P V$$\n",
    "\n",
    "$$\n",
    "b = \\left( a_P^0\n",
    "- \\frac{1}{2} a_E\n",
    "+ \\frac{1}{2} S_P^0 V \\right) T_P^0\n",
    "+ a_B\n",
    "+ \\frac{1}{2} S_C V + \\frac{1}{2} S_C^0 V\n",
    "$$\n",
    "\n",
    "\n",
    "</div>\n",
    "\n",
    "</details>"
   ]
  },
  {
   "cell_type": "markdown",
   "metadata": {},
   "source": [
    "### Condición tipo Cauchy"
   ]
  },
  {
   "cell_type": "markdown",
   "metadata": {},
   "source": [
    "En la condición de frontera de tipo Cauchy el gradiente de temperatura en la dirección normal a la frontera es una función de la temperatura.\n",
    "\n",
    "$$-\\left( \\lambda \\mathbf{\\nabla} T\\right)_b \\mathbf{\\cdot i} = \n",
    "h_b \\left( T_{\\infty} - T \\right)$$"
   ]
  },
  {
   "cell_type": "markdown",
   "metadata": {},
   "source": [
    "Que es equivalente a especificar el flujo de calor en la frontera como una función de la temperatura:\n",
    "\n",
    "$$-\\mathbf{q_b \\cdot A_b} = h_b A_b \\left( T_{\\infty} - T_b \\right)$$\n",
    "\n",
    "$$-\\mathbf{q_b \\cdot A_b} = \n",
    " \\lambda_b A_b \\frac{(T_b - T_P)}{(\\delta x)_b}$$"
   ]
  },
  {
   "cell_type": "markdown",
   "metadata": {},
   "source": [
    "Combinando ambas ecuaciones, se puede eliminar $T_b$ de le ecuación de flujo de calor por convección en la frontera.\n",
    "\n",
    "Se obtiene una ecuación que expresa el flujo de calor en función de la temperatura lejos de la frontera, $T_{\\infty}$, la temperatura de la celda en la frontera, $T_P$, y una resistencia térmica equivalente, $R_{eq}$:\n",
    "\n",
    "$$-\\mathbf{q_b \\cdot A_b} = R_{eq} A_b \\left(T_{\\infty} - T_P \\right)$$"
   ]
  },
  {
   "cell_type": "markdown",
   "metadata": {},
   "source": [
    "De igual forma:"
   ]
  },
  {
   "cell_type": "markdown",
   "metadata": {},
   "source": [
    "$$-\\mathbf{q_b^0 \\cdot A_b} = R_{eq}^0 A_b \\left(T_{\\infty}^0 - T_P^0 \\right)$$"
   ]
  },
  {
   "cell_type": "markdown",
   "metadata": {},
   "source": [
    "Este termino se puede incluir directamente en la ecuación discretizada. De tal forma que la ecuación discretizada en la frontera esta dada por:\n",
    "\n",
    "$$\n",
    " \\frac{\\rho c V}{\\Delta t} \\left(T_P - T_P^0 \\right)\n",
    "=\n",
    "$$\n",
    "\n",
    "$$\n",
    "f \\lambda_e A_e  \\frac{(T_E - T_P)}{(\\delta x)_e} + \\left( 1 - f \\right) \\lambda_e A_e \\frac{(T_E^0 - T_P^0)}{(\\delta x)_e}\n",
    "+ R_{eq} A_b \\left(T_{\\infty} - T_P \\right) + R_{eq}^0 A_b \\left(T_{\\infty}^0 - T_P^0 \\right)\n",
    "$$\n",
    "\n",
    "$$\n",
    "+ f \\left( S_C + S_P T_P \\right) V + (1 - f) \\left( S_C^0 + S_P^0 T_P^0 \\right) V\n",
    "$$"
   ]
  },
  {
   "cell_type": "markdown",
   "metadata": {},
   "source": [
    "Con notación reducida se escribe:\n",
    "\n",
    "$$\n",
    "a_P T_P = a_E \\left( f T_E + (1-f) T_E^0\\right) + b\n",
    "$$"
   ]
  },
  {
   "cell_type": "markdown",
   "metadata": {},
   "source": [
    "<details>\n",
    "<summary><b>Derivación</b></summary>\n",
    "\n",
    "<div class=\"alert alert-success\">\n",
    "\n",
    "**Demostración de obtención de ecuación para condición a la frontera tipo Dirichlet**\n",
    "\n",
    " Considerando la ecuacion discretizada en el volumen de control en la frontera:\n",
    "\n",
    "$$\n",
    " \\frac{\\rho c V}{\\Delta t} \\left(T_P - T_P^0 \\right)\n",
    "=\n",
    "$$\n",
    "\n",
    "$$\n",
    "f \\lambda_e A_e  \\frac{(T_E - T_P)}{(\\delta x)_e} + \\left( 1 - f \\right) \\lambda_e A_e \\frac{(T_E^0 - T_P^0)}{(\\delta x)_e}\n",
    "$$\n",
    "\n",
    "$$\n",
    "+ f R_{eq} A_b \\left(T_{\\infty} - T_P \\right) + (1-f) R_{eq}^0 A_b \\left(T_{\\infty}^0 - T_P^0 \\right)\n",
    "$$\n",
    "\n",
    "$$\n",
    "+ f \\left( S_C + S_P T_P \\right) V + (1 - f) \\left( S_C^0 + S_P^0 T_P^0 \\right) V\n",
    "$$\n",
    "\n",
    " Expandiendo: \n",
    "\n",
    "$$\n",
    " \\frac{\\rho c V}{\\Delta t} T_P - \\frac{\\rho c V}{\\Delta t} T_P^0\n",
    "=\n",
    "$$\n",
    "\n",
    "$$\n",
    "f   \\frac{\\lambda_e A_e}{(\\delta x)_e} T_E - f   \\frac{\\lambda_e A_e}{(\\delta x)_e} T_P\n",
    "+ (1-f) \\frac{\\lambda_e A_e}{(\\delta x)_e} T_E^0 - (1-f)  \\frac{\\lambda_e A_e}{(\\delta x)_e} T_P^0\n",
    "$$\n",
    "\n",
    "$$\n",
    "+ f R_{eq} A_b T_{\\infty} - f R_{eq} A_b T_P  + (1-f) R_{eq}^0 A_b T_{\\infty}^0 - (1-f) R_{eq}^0 A_b T_P^0\n",
    "$$\n",
    "\n",
    "$$\n",
    "+ f S_C V + f S_P V T_P + (1-f) S_C^0 V + (1-f) S_P^0 V T_P^0\n",
    "$$\n",
    "\n",
    "Agrupando términos:\n",
    "\n",
    "$$\n",
    "\\left(\\frac{\\rho c V}{\\Delta t}\n",
    "+ f \\frac{\\lambda_e A_e}{(\\delta x)_e}\n",
    "+ f R_{eq} A_b\n",
    "- f S_P V \\right) T_P =\n",
    "\\frac{\\lambda_e A_e}{(dx)_e} \\left(f T_E + (1-f) T_E^0 \\right)\n",
    "$$\n",
    "\n",
    "$$\n",
    "+\\left( \\frac{\\rho c V}{\\Delta t}\n",
    "- (1-f) \\frac{\\lambda_e A_e}{(\\delta x)_e}\n",
    "- (1-f) R_{eq}^0 A_b\n",
    "+ (1-f) S_P^0 V \\right) T_P^0\n",
    "$$\n",
    "\n",
    "$$\n",
    "+\\underbrace{f R_{eq} A_b T_{\\infty} + (1-f) R_{eq}^0 A_b T_{\\infty}^0}_{a_B}\n",
    "+ f S_C V + (1-f) S_C^0 V\n",
    "$$\n",
    "\n",
    " Realizando un cambio de notación en los coeficientes:\n",
    "\n",
    "$$\n",
    "\\left( a_P^0 + f a_E + f R_{eq} A_b - f S_P V \\right) T_P = a_E \\left(f T_E + (1-f) T_E^0 \\right)\n",
    "$$\n",
    "\n",
    "$$\n",
    " \\underbrace{+ \\left( a_P^0\n",
    "- (1-f) a_E\n",
    "- (1-f) R_{eq}^0 A_b\n",
    "+ (1-f) S_P^0 V \\right) T_P^0\n",
    "+ a_B\n",
    "+ f S_C V + (1-f) S_C^0 V}_{b} \n",
    "$$\n",
    "\n",
    "Finalmente: \n",
    "\n",
    " $$a_P T_P = a_E \\left(f T_E + (1-f) T_E^0 \\right) + b$$\n",
    "\n",
    "</div>\n",
    "</details>"
   ]
  },
  {
   "cell_type": "markdown",
   "metadata": {},
   "source": [
    "<details>\n",
    "<summary><b>Nomenclatura</b></summary>\n",
    "\n",
    "<div class=\"alert alert-info\">\n",
    "\n",
    "$$a_P^0 = \\frac{\\rho c V}{\\Delta t}$$\n",
    "\n",
    "$$a_E = \\frac{\\lambda_e A_e}{(\\delta x)_e}$$\n",
    "\n",
    "$$a_B = f R_{eq} A_b T_{\\infty} + (1-f) R_{eq}^0 A_b T_{\\infty}^0$$\n",
    "\n",
    "$$a_P = a_P^0 + f a_E + f R_{eq} A_b - f S_P V$$\n",
    "\n",
    "$$\n",
    "b = \\left( a_P^0\n",
    "- (1-f) a_E\n",
    "- (1-f) R_{eq}^0 A_b\n",
    "+ (1-f) S_P^0 V \\right) T_P^0\n",
    "+ a_B\n",
    "+ f S_C V + (1-f) S_C^0 V\n",
    "$$\n",
    "\n",
    "$$R_{eq} = \\frac{h_b \\left( \\lambda_b / (\\delta x)_b \\right)} {h_b + \\left( \\lambda_b / (\\delta x)_b \\right)}$$\n",
    "\n",
    "</div>\n",
    "\n",
    "</details>"
   ]
  },
  {
   "cell_type": "markdown",
   "metadata": {},
   "source": [
    "<details>\n",
    "<summary><b>Temperatura en la frontera</b></summary>\n",
    "\n",
    "<div class=\"alert alert-info\">\n",
    "\n",
    "**Cálculo de temperatura en la frontera**\n",
    "\n",
    "Igualando las dos ecuaciones de flujo de calor en la frontera, se tiene:\n",
    "\t\n",
    "$$\\lambda_b A_b \\frac{(T_b - T_P)}{(\\delta x)_b} = \n",
    "\th_b A_b \\left( T_{\\infty} - T_b \\right)$$\n",
    "\t\n",
    "Que permite expresar $T_b$, como:\n",
    "\t\n",
    "$$T_b = \\frac{h_b T_{\\infty} + \\left( \\frac{\\lambda_b}{(\\delta x)_b}\\right) T_P}\n",
    "\t{h_b + \\left( \\frac{\\lambda_b}{(\\delta x)_b} \\right)}$$\n",
    "\n",
    "</div>\n",
    "</details>"
   ]
  },
  {
   "cell_type": "markdown",
   "metadata": {},
   "source": [
    "#### Ecuaciones para el esquema explícito, **$f=0$**"
   ]
  },
  {
   "cell_type": "markdown",
   "metadata": {},
   "source": [
    "$$\n",
    "a_P T_P = a_E T_E^0 + b\n",
    "$$"
   ]
  },
  {
   "cell_type": "markdown",
   "metadata": {},
   "source": [
    "<details>\n",
    "<summary><b>Nomenclatura</b></summary>\n",
    "\n",
    "<div class=\"alert alert-info\">\n",
    "\n",
    "$$a_P^0 = \\frac{\\rho c V}{\\Delta t}$$\n",
    "\n",
    "$$a_E = \\frac{\\lambda_e A_e}{(\\delta x)_e}$$\n",
    "\n",
    "$$a_B =  R_{eq}^0 A_b T_{\\infty}^0$$\n",
    "\n",
    "$$a_P = a_P^0 $$\n",
    "\n",
    "$$\n",
    "b = \\left( a_P^0\n",
    "- a_E\n",
    "- R_{eq}^0 A_b\n",
    "+  S_P^0 V \\right) T_P^0\n",
    "+ a_B\n",
    "+  S_C^0 V\n",
    "$$\n",
    "\n",
    "$$R_{eq}^0 = \\frac{h_b \\left( \\lambda_b / (\\delta x)_b \\right)} {h_b + \\left( \\lambda_b / (\\delta x)_b \\right)}$$\n",
    "\n",
    "</div>\n",
    "\n",
    "</details>"
   ]
  },
  {
   "cell_type": "markdown",
   "metadata": {},
   "source": [
    "#### Ecuaciones para el esquema implícito, **$f=1$**"
   ]
  },
  {
   "cell_type": "markdown",
   "metadata": {},
   "source": [
    "$$\n",
    "a_P T_P = a_E T_E + b\n",
    "$$"
   ]
  },
  {
   "cell_type": "markdown",
   "metadata": {},
   "source": [
    "<details>\n",
    "<summary><b>Nomenclatura</b></summary>\n",
    "\n",
    "<div class=\"alert alert-info\">\n",
    "\n",
    "$$a_P^0 = \\frac{\\rho c V}{\\Delta t}$$\n",
    "\n",
    "$$a_E = \\frac{\\lambda_e A_e}{(\\delta x)_e}$$\n",
    "\n",
    "$$a_B =  R_{eq} A_b T_{\\infty} $$\n",
    "\n",
    "$$a_P = a_P^0 +  a_E +  R_{eq} A_b -  S_P V$$\n",
    "\n",
    "$$\n",
    "b = a_P^0 T_P^0\n",
    "+ a_B\n",
    "+  S_C V\n",
    "$$\n",
    "\n",
    "$$R_{eq} = \\frac{h_b \\left( \\lambda_b / (\\delta x)_b \\right)} {h_b + \\left( \\lambda_b / (\\delta x)_b \\right)}$$\n",
    "\n",
    "</div>\n",
    "\n",
    "</details>"
   ]
  },
  {
   "cell_type": "markdown",
   "metadata": {},
   "source": [
    "#### Ecuaciones para el esquema Crank-Nicolson, **$f=\\frac{1}{2}$**"
   ]
  },
  {
   "cell_type": "markdown",
   "metadata": {},
   "source": [
    "$$\n",
    "a_P T_P = a_E \\left(\\frac{1}{2} T_E + \\frac{1}{2} T_E^0\\right) + b\n",
    "$$"
   ]
  },
  {
   "cell_type": "markdown",
   "metadata": {},
   "source": [
    "<details>\n",
    "<summary><b>Nomenclatura</b></summary>\n",
    "\n",
    "<div class=\"alert alert-info\">\n",
    "\n",
    "$$a_P^0 = \\frac{\\rho c V}{\\Delta t}$$\n",
    "\n",
    "$$a_E = \\frac{\\lambda_e A_e}{(\\delta x)_e}$$\n",
    "\n",
    "$$a_B = \\frac{1}{2} R_{eq} A_b T_{\\infty} + \\frac{1}{2} R_{eq}^0 A_b T_{\\infty}^0$$\n",
    "\n",
    "$$a_P = a_P^0 + \\frac{1}{2} a_E + \\frac{1}{2} R_{eq} A_b - \\frac{1}{2} S_P V$$\n",
    "\n",
    "$$\n",
    "b = \\left( a_P^0\n",
    "- \\frac{1}{2} a_E\n",
    "- \\frac{1}{2} R_{eq}^0 A_b\n",
    "+ \\frac{1}{2} S_P^0 V \\right) T_P^0\n",
    "+ a_B\n",
    "+ \\frac{1}{2} S_C V + \\frac{1}{2} S_C^0 V\n",
    "$$\n",
    "\n",
    "$$R_{eq} = \\frac{h_b \\left( \\lambda_b / (\\delta x)_b \\right)} {h_b + \\left( \\lambda_b / (\\delta x)_b \\right)}$$\n",
    "\n",
    "</div>\n",
    "\n",
    "</details>"
   ]
  },
  {
   "cell_type": "markdown",
   "metadata": {},
   "source": [
    "# Utilización de un método numérico para resolver el sistema de ecuaciones discretizadas"
   ]
  },
  {
   "cell_type": "markdown",
   "metadata": {},
   "source": [
    "Para ilustrar la obtencion de un sistema de ecuaciones lineales a partir de las ecuaciones discretizadas se considera un dominio 1D en coordenadas cartesianas, con una discretización espacial de cinco (5) celdas."
   ]
  },
  {
   "cell_type": "markdown",
   "metadata": {},
   "source": [
    "<center>\n",
    "\n",
    "<img src=\"figures/images/fvDiscretizationFiveCells_py.png\" style=\"width:400px\" title=\"Discretización de cinco celdas\">\n",
    "\n",
    "***Figura 04. Discretización espacial de cinco volúmenes de control, en coordenadas cartesianas 1D.***\n",
    "\n",
    "</center>"
   ]
  },
  {
   "cell_type": "markdown",
   "metadata": {},
   "source": [
    "## Escritura de ecuaciones algebraicas"
   ]
  },
  {
   "cell_type": "markdown",
   "metadata": {},
   "source": [
    "De forma general, la ecuacion discretizada para las celdas internas (celdas 2, 3 y 4), se escribe:\n",
    "\n",
    "$$a_P T_P = a_E \\left( f T_E + (1-f) T_E^0\\right) + a_W \\left( f T_W + (1-f) T_W^0\\right) + b$$"
   ]
  },
  {
   "cell_type": "markdown",
   "metadata": {},
   "source": [
    "<details>\n",
    "<summary><b>Ecuaciones de cada celda</b></summary>\n",
    "\n",
    "<div class=\"alert alert-success\">\n",
    "\n",
    "$$\\left. a_{P}\\right|_2 T_{2} = \\left. a_{E}\\right|_2 \\left( f T_3 + (1-f) T_3^0\\right) + \\left. a_{W}\\right|_2 \\left( f T_1 + (1-f) T_1^0\\right) + b_{2}$$\n",
    "\n",
    "$$\\left. a_{P}\\right|_3 T_{3} = \\left. a_{E}\\right|_3 \\left( f T_4 + (1-f) T_4^0\\right) + \\left. a_{W}\\right|_3 \\left( f T_2 + (1-f) T_2^0\\right) + b_{3}$$\n",
    "\n",
    "$$\\left. a_{P}\\right|_4 T_{4} = \\left. a_{E}\\right|_5 \\left( f T_5 + (1-f) T_5^0\\right) + \\left. a_{W}\\right|_4 \\left( f T_3 + (1-f) T_3^0\\right) + b_{4}$$\n",
    "\n",
    "</div>\n",
    "</details>"
   ]
  },
  {
   "cell_type": "markdown",
   "metadata": {},
   "source": [
    "Para la celda en la frontera \"oeste\" (celda 1), la ecuacion se escribe:\n",
    "\n",
    "$$a_P T_P = a_E \\left( f T_E + (1-f) T_E^0\\right) + b$$"
   ]
  },
  {
   "cell_type": "markdown",
   "metadata": {},
   "source": [
    "<details>\n",
    "<summary><b>Ecuación de frontera oeste</b></summary>\n",
    "\n",
    "<div class=\"alert alert-success\">\n",
    "\n",
    "$$\\left. a_{P}\\right|_1 T_{1} = \\left. a_{E}\\right|_1 \\left( f T_2 + (1-f) T_2^0\\right) + b_{1}$$\n",
    "\n",
    "</div>\n",
    "</details>"
   ]
  },
  {
   "cell_type": "markdown",
   "metadata": {},
   "source": [
    "y para la celda en la frontera \"este' (celda 5), se escribe:\n",
    "\n",
    "$$a_P T_P = a_W \\left( f T_W + (1-f) T_W^0\\right) + b$$"
   ]
  },
  {
   "cell_type": "markdown",
   "metadata": {},
   "source": [
    "<details>\n",
    "<summary><b>Ecuación de frontera este</b></summary>\n",
    "<div class=\"alert alert-success\">\n",
    "\n",
    "$$\\left. a_{P}\\right|_5 T_{5} = \\left. a_{W}\\right|_5 \\left( f T_4 + (1-f) T_4^0\\right) + b_{5}$$\n",
    "\n",
    "</div>\n",
    "</details>"
   ]
  },
  {
   "cell_type": "markdown",
   "metadata": {},
   "source": [
    "## Escritura de la matriz"
   ]
  },
  {
   "cell_type": "markdown",
   "metadata": {},
   "source": [
    "Reordenando las ecuaciones algebraicas de forma que la variable dependiente $T$ quede del lado izquierdo de la igualdad se obtienen ecuaciones que se pueden expresar en forma de sistema de ecuaciones lineales:"
   ]
  },
  {
   "cell_type": "markdown",
   "metadata": {},
   "source": [
    "- En las celdas internas:\n",
    "\n",
    "$$-f a_W T_W + a_P T_P - f a_E T_E = \\underbrace{(1-f) T_E^0 + (1-f) T_W^0 + b}_{b}$$"
   ]
  },
  {
   "cell_type": "markdown",
   "metadata": {},
   "source": [
    "- En las celdas en las fronteras:\n",
    "\n",
    "$$a_P T_P - f a_E T_E = \\underbrace{(1-f) T_E^0 + b}_{b}$$\n",
    "\n",
    "$$-f a_W T_W + a_P T_P = \\underbrace{(1-f) T_W^0 + b}_{b}$$"
   ]
  },
  {
   "cell_type": "markdown",
   "metadata": {},
   "source": [
    "El sistema de ecuaciones lineales resultante, expresado en forma matricial tiene forma de una matriz tri-diagonal."
   ]
  },
  {
   "cell_type": "markdown",
   "metadata": {},
   "source": [
    "$$\\begin{bmatrix}\n",
    "\\left. a_{P}\\right|_1 & -f \\left.a_{E}\\right|_1 & 0 & 0 & 0\\\\\n",
    "-f \\left.a_{W}\\right|_2 & \\left. a_{P}\\right|_2 & -f \\left.a_{E}\\right|_2 & 0 & 0\\\\\n",
    "0 & -f \\left.a_{W}\\right|_3 & \\left. a_{P}\\right|_3 & -f \\left.a_{E}\\right|_3 & 0 \\\\\n",
    "0 & 0 & -f \\left.a_{W}\\right|_4 & \\left. a_{P}\\right|_4 & -f \\left.a_{E}\\right|_4\\\\\n",
    "0 & 0 & 0 & -f \\left.a_{W}\\right|_5 & \\left. a_{P}\\right|_5 \\\\\n",
    "\\end{bmatrix}\n",
    "\\begin{bmatrix}\n",
    "T_1 \\\\ T_2 \\\\ T_3 \\\\ T_4 \\\\ T_5\n",
    "\\end{bmatrix}\n",
    "=\n",
    "\\begin{bmatrix}\n",
    "b_1 \\\\ b_2 \\\\ b_3 \\\\ b_4 \\\\ b_5\n",
    "\\end{bmatrix}$$"
   ]
  },
  {
   "cell_type": "markdown",
   "metadata": {},
   "source": [
    "**El sistema de ecuaciones lineales se resuelve utilizando el método numérico de su preferencia.**"
   ]
  },
  {
   "cell_type": "markdown",
   "metadata": {},
   "source": [
    "### Observaciones"
   ]
  },
  {
   "cell_type": "markdown",
   "metadata": {},
   "source": [
    "1. Se hace énfasis en que para las celdas a la frontera la construcción de los coeficientes $\\left.a_{P}\\right|_i$ y $b_i$ es diferente al de las celdas internas. \n",
    "\t\n",
    "\t\n",
    "2. También se hace énfasis en carácter conservativo del método de volumen finito y en el significado físico de los coeficientes $a_E$ y $a_W$. Estos se pueden tratar como resistencias al flujo de calor en las cara entre dos celdas, y debe ser la misma al aproximarse por la derecha o la izquierda de la interface.\n",
    "\n",
    "3. El sistema de ecuaciones para esquemas del tipo semi-implícito ($0<f<1$) o totalmente implícito ($f=1$) se escribe de forma general como:\n",
    "\t\n",
    "$$\n",
    "\\begin{bmatrix}\n",
    "a_{1,1} & a_{1,2} & 0 & 0 & 0\\\\\n",
    "a_{2,1} & a_{2,2} & a_{2,3} & 0 & 0\\\\\n",
    "0 & a_{3,2} & a_{3,3} & a_{3,4} & 0 \\\\ \n",
    "0 & 0 & a_{3,4} & a_{4,4} & a_{4,5} \\\\ \n",
    "0 & 0 & 0 & a_{5,4} & a_{5,5} \\\\ \n",
    "\\end{bmatrix} \n",
    "\\begin{bmatrix} T_1 \\\\ T_2 \\\\ T_3 \\\\ T_4 \\\\ T_5 \\end{bmatrix} \n",
    "= \n",
    "\\begin{bmatrix} b_1 \\\\ b_2 \\\\ b_3 \\\\ b_4 \\\\ b_5 \\end{bmatrix}\n",
    "$$\n",
    "\t\n",
    "4. El sistema de ecuaciones para el esquema explícito ($f=0$) se escribe como:\n",
    "\n",
    "$$\n",
    "\\begin{bmatrix}\n",
    "a_{1,1} & 0 & 0 & 0 & 0\\\\\n",
    "0 & a_{2,2} & 0 & 0 & 0\\\\\n",
    "0 & 0 & a_{3,3} & 0 & 0 \\\\ \n",
    "0 & 0 & 0 & a_{4,4} & 0 \\\\ \n",
    "0 & 0 & 0 & 0 & a_{5,5} \\\\ \n",
    "\\end{bmatrix} \n",
    "\\begin{bmatrix} T_1 \\\\ T_2 \\\\ T_3 \\\\ T_4 \\\\ T_5 \\end{bmatrix} \n",
    "= \n",
    "\\begin{bmatrix} b_1 \\\\ b_2 \\\\ b_3 \\\\ b_4 \\\\ b_5 \\end{bmatrix}\n",
    "$$\n",
    "\n",
    "5. En una sección posterior se discute acerca de la interpolación de la conductividad térmica en las caras entre celdas adyacentes.\n",
    "\n",
    "    Esto permite, por ejemplo, considerar que la conductividad térmica del material es dependiente de la temperatura, $\\lambda=\\lambda(T)$.\n",
    "\n",
    "\n",
    "6. El esquema numérico tiende a ser más estable para el régimen transitorio que para el régimen estacionario.\n",
    "\n",
    "    Esto es porque en régimen transitorio: $a_P = a_P^0 + \\sum f a_N - S_P V$.\n",
    "\n",
    "    Y en régimen estacionario: $a_P = \\sum a_N - S_P V$\n"
   ]
  },
  {
   "cell_type": "markdown",
   "metadata": {},
   "source": []
  }
 ],
 "metadata": {
  "kernelspec": {
   "display_name": "Julia 1.10.6",
   "language": "julia",
   "name": "julia-1.10"
  },
  "language_info": {
   "file_extension": ".jl",
   "mimetype": "application/julia",
   "name": "julia",
   "version": "1.10.6"
  }
 },
 "nbformat": 4,
 "nbformat_minor": 2
}
