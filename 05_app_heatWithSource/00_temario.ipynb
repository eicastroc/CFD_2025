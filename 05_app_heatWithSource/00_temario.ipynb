{
 "cells": [
  {
   "cell_type": "markdown",
   "metadata": {},
   "source": [
    "# Fluidinámica computacional (Sesión 05)"
   ]
  },
  {
   "cell_type": "markdown",
   "metadata": {},
   "source": [
    "<img src=\"figures/LogoCinvestav.png\" style=\"height:100px\" title=\"Cinvestav\">"
   ]
  },
  {
   "cell_type": "markdown",
   "metadata": {},
   "source": [
    "**CINVESTAV Unidad Saltillo**\n",
    "\n",
    "**Programa de Maestría en Ciencias en Ingeniería Metalúrgica**\n",
    "\n",
    "Dr. Edgar Ivan Castro Cedeño\n",
    "\n",
    "\n",
    "Enero - Junio 2025\n",
    "\n",
    "Contacto:\n",
    "[edgar.castro@cinvestav.mx](mailto:edgar.castro@cinvestav.mx)"
   ]
  },
  {
   "cell_type": "markdown",
   "metadata": {},
   "source": [
    "# Transferencia de calor en régimen estacionario y transitorio (aplicación)"
   ]
  },
  {
   "cell_type": "markdown",
   "metadata": {},
   "source": [
    "Considere el enfriamiento de una placa plana horizontal muy grande de espesor igual a $5 \\, \\mathrm{[cm]}$:\n",
    "\n",
    "$$\n",
    "L = 5 \\, \\mathrm{[cm]}\n",
    "$$\n",
    "\n",
    "Su temperatura inicial es $500 \\, \\mathrm{^\\circ C}$:\n",
    "\n",
    "$$\n",
    "T_{0} = 500 \\, [\\mathrm{^\\circ C}]\n",
    "$$\n",
    "\n",
    "y se enfría por medio de impacto de jets de nitrógeno que se encuentran a $20\\, \\mathrm{^\\circ C}$ y $60\\, \\mathrm{^\\circ C}$ para cada cara.\n",
    "\n",
    "$$\n",
    "T_{\\infty, L} = 20\\, [\\mathrm{^\\circ C}]\n",
    "$$\n",
    "\n",
    "$$\n",
    "T_{\\infty, R} = 60\\, [\\mathrm{^\\circ C}]\n",
    "$$\n",
    "\n",
    "El coeficiente combinado (convección y radiación) de transferencia de calor en las caras principales es:\n",
    "\n",
    "$$\n",
    "h = 500\\,[\\mathrm{W.m^{-2}.K^{-1}}]\n",
    "$$\n",
    "\n",
    "El material tiene las propiedades termofísicas siguientes:\n",
    "\n",
    "$$\n",
    "\\rho=2500\\,[\\mathrm{kg.m^{-3}}]\n",
    "$$\n",
    "\n",
    "$$\n",
    "c=800\\,[\\mathrm{J.kg^{-1}.K^{-1}}]\n",
    "$$\n",
    "\n",
    "$$\n",
    "\\lambda=1\\,[\\mathrm{W.m^{-1}.K^{-1}}]\n",
    "$$\n",
    "\n",
    "Esta pieza es parte de un circuito eléctrico, y por efecto del calentamiento de Joule se  genera calor a una tasa:\n",
    "\n",
    "$$\n",
    "S[\\mathrm{W.m^{-3}}] = 4 \\times 10^7 - 150 T^2\\, , \\quad T[^\\circ C]\n",
    "$$"
   ]
  },
  {
   "cell_type": "markdown",
   "metadata": {},
   "source": [
    "## Problema"
   ]
  },
  {
   "cell_type": "markdown",
   "metadata": {},
   "source": [
    "- a) Homogeneice el tratamiento dimensional del problema de tal forma que el tratamiento sea consistente con las unidades del Sistema Internacional (SI)."
   ]
  },
  {
   "cell_type": "markdown",
   "metadata": {},
   "source": [
    "- b) Represente esquemáticamente el dominio computacional."
   ]
  },
  {
   "cell_type": "markdown",
   "metadata": {},
   "source": [
    "- c) Escriba la ecuación diferencial gobernadora de la distribución de temperatura."
   ]
  },
  {
   "cell_type": "markdown",
   "metadata": {},
   "source": [
    "- d) Escriba las condiciones iniciales y a la frontera."
   ]
  },
  {
   "cell_type": "markdown",
   "metadata": {},
   "source": [
    "- e) Usando la practica de discretización en la que los nodos de celda se localizan en el centroide de la celda, y considerando un tamaño uniforme de volumen de control, $\\Delta x = 0.5 cm$, dibuje la malla correspondiente."
   ]
  },
  {
   "cell_type": "markdown",
   "metadata": {},
   "source": [
    "- f) Haga el planteamiento del sistema de ecuaciones algebraicas simultaneas que resultan del método implícito."
   ]
  },
  {
   "cell_type": "markdown",
   "metadata": {},
   "source": [
    "- g) Utilice una estrategia para la linealización del termino fuente, considerando inicialmente la expresión que es función de la temperatura dada en grados Celcius, y posteriormente el caso para que la temperatura esta dada en Kelvin."
   ]
  },
  {
   "cell_type": "markdown",
   "metadata": {},
   "source": [
    "- h) Resuelva este sistema de ecuaciones con los datos especificados. Considere el régimen estacionario.\n",
    "\n",
    "    - Escriba, en forma matricial, el sistema de ecuaciones resultante para una discretización con 10 volúmenes de control  $( \\Delta x = 0.5 \\, cm)$.\n",
    "\n",
    "    - Presente en un grafico el perfil de temperatura obtenido, y la tasa de convergencia del metodo iterativo.\n",
    "\n",
    "    - Efectúe un balance de energía para evaluar la convergencia del mismo. Evalúe si para el caso de estudio, la discretización en 10 volúmenes de control es suficiente para garantizar la convergencia del balance de energía."
   ]
  },
  {
   "cell_type": "markdown",
   "metadata": {},
   "source": [
    "- i) Resuelva este sistema de ecuaciones considerando el régimen transitorio. Considere un tamaño de paso $\\Delta t = 1\\,s$.\n",
    "\n",
    "    - Escriba, en forma matricial, el sistema de ecuaciones resultante para una discretización con 10 volúmenes de control  $( \\Delta x = 0.5 \\, cm)$.\n",
    "\n",
    "    - Presente en un grafico el perfil de temperatura obtenido, y la tasa de convergencia del método iterativo."
   ]
  },
  {
   "cell_type": "markdown",
   "metadata": {},
   "source": []
  }
 ],
 "metadata": {
  "language_info": {
   "name": "python"
  }
 },
 "nbformat": 4,
 "nbformat_minor": 2
}
